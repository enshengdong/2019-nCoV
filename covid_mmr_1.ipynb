{
 "cells": [
  {
   "cell_type": "code",
   "execution_count": 8,
   "metadata": {},
   "outputs": [],
   "source": [
    "import pandas as pd\n",
    "import numpy as np\n",
    "import datetime\n",
    "t = datetime.datetime.now()\n",
    "import plotly.express as px\n",
    "import plotly.graph_objects as go\n",
    "import plotly.express as px\n",
    "folder = r'C:\\Users\\Ensheng\\Desktop\\Coronavirus\\COVID_MMR\\data\\\\'\n",
    "output_folder = folder + r'output\\\\'"
   ]
  },
  {
   "cell_type": "markdown",
   "metadata": {},
   "source": [
    "### Policy time vs. MMR"
   ]
  },
  {
   "cell_type": "code",
   "execution_count": 9,
   "metadata": {},
   "outputs": [
    {
     "name": "stdout",
     "output_type": "stream",
     "text": [
      "45\n"
     ]
    },
    {
     "data": {
      "text/html": [
       "<div>\n",
       "<style scoped>\n",
       "    .dataframe tbody tr th:only-of-type {\n",
       "        vertical-align: middle;\n",
       "    }\n",
       "\n",
       "    .dataframe tbody tr th {\n",
       "        vertical-align: top;\n",
       "    }\n",
       "\n",
       "    .dataframe thead th {\n",
       "        text-align: right;\n",
       "    }\n",
       "</style>\n",
       "<table border=\"1\" class=\"dataframe\">\n",
       "  <thead>\n",
       "    <tr style=\"text-align: right;\">\n",
       "      <th></th>\n",
       "      <th>FIPS</th>\n",
       "      <th>State</th>\n",
       "      <th>StayHomeDate</th>\n",
       "    </tr>\n",
       "  </thead>\n",
       "  <tbody>\n",
       "    <tr>\n",
       "      <td>0</td>\n",
       "      <td>1</td>\n",
       "      <td>Alabama</td>\n",
       "      <td>2020-04-04</td>\n",
       "    </tr>\n",
       "    <tr>\n",
       "      <td>1</td>\n",
       "      <td>2</td>\n",
       "      <td>Alaska</td>\n",
       "      <td>2020-03-28</td>\n",
       "    </tr>\n",
       "    <tr>\n",
       "      <td>2</td>\n",
       "      <td>4</td>\n",
       "      <td>Arizona</td>\n",
       "      <td>2020-03-31</td>\n",
       "    </tr>\n",
       "  </tbody>\n",
       "</table>\n",
       "</div>"
      ],
      "text/plain": [
       "   FIPS    State StayHomeDate\n",
       "0     1  Alabama   2020-04-04\n",
       "1     2   Alaska   2020-03-28\n",
       "2     4  Arizona   2020-03-31"
      ]
     },
     "execution_count": 9,
     "metadata": {},
     "output_type": "execute_result"
    }
   ],
   "source": [
    "in_table = folder + r'policy_time_US.xlsx'\n",
    "policy_df = pd.read_excel(in_table)\n",
    "print(len(policy_df))\n",
    "policy_df.head(3)"
   ]
  },
  {
   "cell_type": "code",
   "execution_count": 10,
   "metadata": {},
   "outputs": [
    {
     "name": "stdout",
     "output_type": "stream",
     "text": [
      "52\n"
     ]
    },
    {
     "data": {
      "text/html": [
       "<div>\n",
       "<style scoped>\n",
       "    .dataframe tbody tr th:only-of-type {\n",
       "        vertical-align: middle;\n",
       "    }\n",
       "\n",
       "    .dataframe tbody tr th {\n",
       "        vertical-align: top;\n",
       "    }\n",
       "\n",
       "    .dataframe thead th {\n",
       "        text-align: right;\n",
       "    }\n",
       "</style>\n",
       "<table border=\"1\" class=\"dataframe\">\n",
       "  <thead>\n",
       "    <tr style=\"text-align: right;\">\n",
       "      <th></th>\n",
       "      <th>State</th>\n",
       "      <th>Abbr</th>\n",
       "      <th>VR</th>\n",
       "      <th>UVR</th>\n",
       "    </tr>\n",
       "  </thead>\n",
       "  <tbody>\n",
       "    <tr>\n",
       "      <td>0</td>\n",
       "      <td>Alabama</td>\n",
       "      <td>AL</td>\n",
       "      <td>0.906</td>\n",
       "      <td>0.094</td>\n",
       "    </tr>\n",
       "    <tr>\n",
       "      <td>1</td>\n",
       "      <td>Alaska</td>\n",
       "      <td>AK</td>\n",
       "      <td>NaN</td>\n",
       "      <td>NaN</td>\n",
       "    </tr>\n",
       "    <tr>\n",
       "      <td>2</td>\n",
       "      <td>Arizona</td>\n",
       "      <td>AZ</td>\n",
       "      <td>0.929</td>\n",
       "      <td>0.071</td>\n",
       "    </tr>\n",
       "  </tbody>\n",
       "</table>\n",
       "</div>"
      ],
      "text/plain": [
       "     State Abbr     VR    UVR\n",
       "0  Alabama   AL  0.906  0.094\n",
       "1   Alaska   AK    NaN    NaN\n",
       "2  Arizona   AZ  0.929  0.071"
      ]
     },
     "execution_count": 10,
     "metadata": {},
     "output_type": "execute_result"
    }
   ],
   "source": [
    "in_table = folder + r'US_MMR.xlsx'\n",
    "mmr_df = pd.read_excel(in_table,sheet_name='state')\n",
    "print(len(mmr_df))\n",
    "mmr_df.head(3)"
   ]
  },
  {
   "cell_type": "code",
   "execution_count": 11,
   "metadata": {},
   "outputs": [
    {
     "name": "stdout",
     "output_type": "stream",
     "text": [
      "52\n"
     ]
    },
    {
     "data": {
      "text/html": [
       "<div>\n",
       "<style scoped>\n",
       "    .dataframe tbody tr th:only-of-type {\n",
       "        vertical-align: middle;\n",
       "    }\n",
       "\n",
       "    .dataframe tbody tr th {\n",
       "        vertical-align: top;\n",
       "    }\n",
       "\n",
       "    .dataframe thead th {\n",
       "        text-align: right;\n",
       "    }\n",
       "</style>\n",
       "<table border=\"1\" class=\"dataframe\">\n",
       "  <thead>\n",
       "    <tr style=\"text-align: right;\">\n",
       "      <th></th>\n",
       "      <th>State</th>\n",
       "      <th>Abbr</th>\n",
       "      <th>VR</th>\n",
       "      <th>UVR</th>\n",
       "      <th>FIPS</th>\n",
       "      <th>StayHomeDate</th>\n",
       "    </tr>\n",
       "  </thead>\n",
       "  <tbody>\n",
       "    <tr>\n",
       "      <td>0</td>\n",
       "      <td>Alabama</td>\n",
       "      <td>AL</td>\n",
       "      <td>0.906</td>\n",
       "      <td>0.094</td>\n",
       "      <td>1.0</td>\n",
       "      <td>2020-04-04</td>\n",
       "    </tr>\n",
       "    <tr>\n",
       "      <td>1</td>\n",
       "      <td>Alaska</td>\n",
       "      <td>AK</td>\n",
       "      <td>NaN</td>\n",
       "      <td>NaN</td>\n",
       "      <td>2.0</td>\n",
       "      <td>2020-03-28</td>\n",
       "    </tr>\n",
       "    <tr>\n",
       "      <td>2</td>\n",
       "      <td>Arizona</td>\n",
       "      <td>AZ</td>\n",
       "      <td>0.929</td>\n",
       "      <td>0.071</td>\n",
       "      <td>4.0</td>\n",
       "      <td>2020-03-31</td>\n",
       "    </tr>\n",
       "  </tbody>\n",
       "</table>\n",
       "</div>"
      ],
      "text/plain": [
       "     State Abbr     VR    UVR  FIPS StayHomeDate\n",
       "0  Alabama   AL  0.906  0.094   1.0   2020-04-04\n",
       "1   Alaska   AK    NaN    NaN   2.0   2020-03-28\n",
       "2  Arizona   AZ  0.929  0.071   4.0   2020-03-31"
      ]
     },
     "execution_count": 11,
     "metadata": {},
     "output_type": "execute_result"
    }
   ],
   "source": [
    "mmr_policy = pd.merge(mmr_df, policy_df, how='left', on='State')\n",
    "print(len(mmr_policy))\n",
    "mmr_policy.head(3)"
   ]
  },
  {
   "cell_type": "code",
   "execution_count": 12,
   "metadata": {},
   "outputs": [
    {
     "data": {
      "text/html": [
       "<div>\n",
       "<style scoped>\n",
       "    .dataframe tbody tr th:only-of-type {\n",
       "        vertical-align: middle;\n",
       "    }\n",
       "\n",
       "    .dataframe tbody tr th {\n",
       "        vertical-align: top;\n",
       "    }\n",
       "\n",
       "    .dataframe thead th {\n",
       "        text-align: right;\n",
       "    }\n",
       "</style>\n",
       "<table border=\"1\" class=\"dataframe\">\n",
       "  <thead>\n",
       "    <tr style=\"text-align: right;\">\n",
       "      <th></th>\n",
       "      <th>State</th>\n",
       "      <th>Abbr</th>\n",
       "      <th>VR</th>\n",
       "      <th>UVR</th>\n",
       "      <th>FIPS</th>\n",
       "      <th>StayHomeDate</th>\n",
       "    </tr>\n",
       "  </thead>\n",
       "  <tbody>\n",
       "    <tr>\n",
       "      <td>1</td>\n",
       "      <td>Alaska</td>\n",
       "      <td>AK</td>\n",
       "      <td>NaN</td>\n",
       "      <td>NaN</td>\n",
       "      <td>2.0</td>\n",
       "      <td>2020-03-28</td>\n",
       "    </tr>\n",
       "    <tr>\n",
       "      <td>8</td>\n",
       "      <td>District of Columbia</td>\n",
       "      <td>DC</td>\n",
       "      <td>NaN</td>\n",
       "      <td>NaN</td>\n",
       "      <td>11.0</td>\n",
       "      <td>2020-04-01</td>\n",
       "    </tr>\n",
       "  </tbody>\n",
       "</table>\n",
       "</div>"
      ],
      "text/plain": [
       "                  State Abbr  VR  UVR  FIPS StayHomeDate\n",
       "1                Alaska   AK NaN  NaN   2.0   2020-03-28\n",
       "8  District of Columbia   DC NaN  NaN  11.0   2020-04-01"
      ]
     },
     "execution_count": 12,
     "metadata": {},
     "output_type": "execute_result"
    }
   ],
   "source": [
    "# null exceptions\n",
    "mmr_policy.loc[mmr_policy['VR'].isnull()]"
   ]
  },
  {
   "cell_type": "code",
   "execution_count": 13,
   "metadata": {},
   "outputs": [
    {
     "data": {
      "text/html": [
       "<div>\n",
       "<style scoped>\n",
       "    .dataframe tbody tr th:only-of-type {\n",
       "        vertical-align: middle;\n",
       "    }\n",
       "\n",
       "    .dataframe tbody tr th {\n",
       "        vertical-align: top;\n",
       "    }\n",
       "\n",
       "    .dataframe thead th {\n",
       "        text-align: right;\n",
       "    }\n",
       "</style>\n",
       "<table border=\"1\" class=\"dataframe\">\n",
       "  <thead>\n",
       "    <tr style=\"text-align: right;\">\n",
       "      <th></th>\n",
       "      <th>State</th>\n",
       "      <th>Abbr</th>\n",
       "      <th>VR</th>\n",
       "      <th>UVR</th>\n",
       "      <th>FIPS</th>\n",
       "      <th>StayHomeDate</th>\n",
       "    </tr>\n",
       "  </thead>\n",
       "  <tbody>\n",
       "    <tr>\n",
       "      <td>3</td>\n",
       "      <td>Arkansas</td>\n",
       "      <td>AR</td>\n",
       "      <td>0.942</td>\n",
       "      <td>0.058</td>\n",
       "      <td>NaN</td>\n",
       "      <td>NaT</td>\n",
       "    </tr>\n",
       "    <tr>\n",
       "      <td>15</td>\n",
       "      <td>Iowa</td>\n",
       "      <td>IA</td>\n",
       "      <td>0.933</td>\n",
       "      <td>0.067</td>\n",
       "      <td>NaN</td>\n",
       "      <td>NaT</td>\n",
       "    </tr>\n",
       "    <tr>\n",
       "      <td>27</td>\n",
       "      <td>Nebraska</td>\n",
       "      <td>NE</td>\n",
       "      <td>0.969</td>\n",
       "      <td>0.031</td>\n",
       "      <td>NaN</td>\n",
       "      <td>NaT</td>\n",
       "    </tr>\n",
       "    <tr>\n",
       "      <td>34</td>\n",
       "      <td>North Dakota</td>\n",
       "      <td>ND</td>\n",
       "      <td>0.936</td>\n",
       "      <td>0.064</td>\n",
       "      <td>NaN</td>\n",
       "      <td>NaT</td>\n",
       "    </tr>\n",
       "    <tr>\n",
       "      <td>41</td>\n",
       "      <td>South Dakota</td>\n",
       "      <td>SD</td>\n",
       "      <td>0.962</td>\n",
       "      <td>0.038</td>\n",
       "      <td>NaN</td>\n",
       "      <td>NaT</td>\n",
       "    </tr>\n",
       "    <tr>\n",
       "      <td>44</td>\n",
       "      <td>Utah</td>\n",
       "      <td>UT</td>\n",
       "      <td>0.928</td>\n",
       "      <td>0.072</td>\n",
       "      <td>NaN</td>\n",
       "      <td>NaT</td>\n",
       "    </tr>\n",
       "    <tr>\n",
       "      <td>50</td>\n",
       "      <td>Wyoming</td>\n",
       "      <td>WY</td>\n",
       "      <td>0.951</td>\n",
       "      <td>0.049</td>\n",
       "      <td>NaN</td>\n",
       "      <td>NaT</td>\n",
       "    </tr>\n",
       "    <tr>\n",
       "      <td>51</td>\n",
       "      <td>NYC</td>\n",
       "      <td>NYC</td>\n",
       "      <td>0.990</td>\n",
       "      <td>0.010</td>\n",
       "      <td>NaN</td>\n",
       "      <td>NaT</td>\n",
       "    </tr>\n",
       "  </tbody>\n",
       "</table>\n",
       "</div>"
      ],
      "text/plain": [
       "           State Abbr     VR    UVR  FIPS StayHomeDate\n",
       "3       Arkansas   AR  0.942  0.058   NaN          NaT\n",
       "15          Iowa   IA  0.933  0.067   NaN          NaT\n",
       "27      Nebraska   NE  0.969  0.031   NaN          NaT\n",
       "34  North Dakota   ND  0.936  0.064   NaN          NaT\n",
       "41  South Dakota   SD  0.962  0.038   NaN          NaT\n",
       "44          Utah   UT  0.928  0.072   NaN          NaT\n",
       "50       Wyoming   WY  0.951  0.049   NaN          NaT\n",
       "51           NYC  NYC  0.990  0.010   NaN          NaT"
      ]
     },
     "execution_count": 13,
     "metadata": {},
     "output_type": "execute_result"
    }
   ],
   "source": [
    "# null exceptions\n",
    "mmr_policy.loc[mmr_policy['StayHomeDate'].isnull()]"
   ]
  },
  {
   "cell_type": "code",
   "execution_count": 14,
   "metadata": {},
   "outputs": [],
   "source": [
    "# remove all null exceptions\n",
    "mmr_policy_df = mmr_policy.loc[mmr_policy['StayHomeDate'].notnull()].loc[mmr_policy['VR'].notnull()]\n",
    "mmr_policy_df = mmr_policy_df.sort_values(['StayHomeDate'])"
   ]
  },
  {
   "cell_type": "code",
   "execution_count": 18,
   "metadata": {
    "scrolled": true
   },
   "outputs": [
    {
     "data": {
      "application/vnd.plotly.v1+json": {
       "config": {
        "plotlyServerURL": "https://plot.ly"
       },
       "data": [
        {
         "hoverlabel": {
          "namelength": 0
         },
         "hovertemplate": "StayHomeDate=%{x}<br>VR=%{y}<br>State=%{text}",
         "legendgroup": "",
         "marker": {
          "color": "#636efa",
          "symbol": "circle"
         },
         "mode": "markers+text",
         "name": "",
         "showlegend": false,
         "text": [
          "California",
          "New Jersey",
          "Illinois",
          "New York",
          "Oregon",
          "Ohio",
          "Connecticut",
          "Washington",
          "Louisiana",
          "Massachusetts",
          "Delaware",
          "New Mexico",
          "Indiana",
          "West Virginia",
          "Michigan",
          "Vermont",
          "Wisconsin",
          "Hawaii",
          "Idaho",
          "Kentucky",
          "Colorado",
          "Minnesota",
          "New Hampshire",
          "Rhode Island",
          "Montana",
          "Kansas",
          "Maryland",
          "Virginia",
          "North Carolina",
          "Arizona",
          "Tennessee",
          "Nevada",
          "Pennsylvania",
          "Oklahoma",
          "Maine",
          "Texas",
          "Mississippi",
          "Georgia",
          "Florida",
          "Alabama",
          "Missouri",
          "South Carolina"
         ],
         "textposition": "top center",
         "type": "scatter",
         "x": [
          "2020-03-19T00:00:00",
          "2020-03-21T00:00:00",
          "2020-03-21T00:00:00",
          "2020-03-22T00:00:00",
          "2020-03-23T00:00:00",
          "2020-03-23T00:00:00",
          "2020-03-23T00:00:00",
          "2020-03-23T00:00:00",
          "2020-03-23T00:00:00",
          "2020-03-24T00:00:00",
          "2020-03-24T00:00:00",
          "2020-03-24T00:00:00",
          "2020-03-24T00:00:00",
          "2020-03-24T00:00:00",
          "2020-03-24T00:00:00",
          "2020-03-25T00:00:00",
          "2020-03-25T00:00:00",
          "2020-03-25T00:00:00",
          "2020-03-25T00:00:00",
          "2020-03-26T00:00:00",
          "2020-03-26T00:00:00",
          "2020-03-27T00:00:00",
          "2020-03-27T00:00:00",
          "2020-03-28T00:00:00",
          "2020-03-28T00:00:00",
          "2020-03-30T00:00:00",
          "2020-03-30T00:00:00",
          "2020-03-30T00:00:00",
          "2020-03-30T00:00:00",
          "2020-03-31T00:00:00",
          "2020-03-31T00:00:00",
          "2020-04-01T00:00:00",
          "2020-04-01T00:00:00",
          "2020-04-01T00:00:00",
          "2020-04-02T00:00:00",
          "2020-04-02T00:00:00",
          "2020-04-03T00:00:00",
          "2020-04-03T00:00:00",
          "2020-04-03T00:00:00",
          "2020-04-04T00:00:00",
          "2020-04-06T00:00:00",
          "2020-04-07T00:00:00"
         ],
         "xaxis": "x",
         "y": [
          0.965,
          0.95,
          0.9470000000000001,
          0.972,
          0.93,
          0.9159999999999999,
          0.9590000000000001,
          0.9079999999999999,
          0.955,
          0.9690000000000001,
          0.978,
          0.961,
          0.912,
          0.988,
          0.946,
          0.93,
          0.9259999999999999,
          0.915,
          0.895,
          0.934,
          0.8740000000000001,
          0.9259999999999999,
          0.9179999999999999,
          0.9740000000000001,
          0.9329999999999999,
          0.9079999999999999,
          0.9740000000000001,
          0.95,
          0.932,
          0.929,
          0.965,
          0.951,
          0.9640000000000001,
          0.922,
          0.938,
          0.9690000000000001,
          0.992,
          0.9359999999999999,
          0.938,
          0.9059999999999999,
          0.948,
          0.9420000000000001
         ],
         "yaxis": "y"
        }
       ],
       "layout": {
        "legend": {
         "tracegroupgap": 0
        },
        "margin": {
         "t": 60
        },
        "paper_bgcolor": "rgb(243, 243, 243)",
        "plot_bgcolor": "rgb(243, 243, 243)",
        "template": {
         "data": {
          "bar": [
           {
            "error_x": {
             "color": "#2a3f5f"
            },
            "error_y": {
             "color": "#2a3f5f"
            },
            "marker": {
             "line": {
              "color": "#E5ECF6",
              "width": 0.5
             }
            },
            "type": "bar"
           }
          ],
          "barpolar": [
           {
            "marker": {
             "line": {
              "color": "#E5ECF6",
              "width": 0.5
             }
            },
            "type": "barpolar"
           }
          ],
          "carpet": [
           {
            "aaxis": {
             "endlinecolor": "#2a3f5f",
             "gridcolor": "white",
             "linecolor": "white",
             "minorgridcolor": "white",
             "startlinecolor": "#2a3f5f"
            },
            "baxis": {
             "endlinecolor": "#2a3f5f",
             "gridcolor": "white",
             "linecolor": "white",
             "minorgridcolor": "white",
             "startlinecolor": "#2a3f5f"
            },
            "type": "carpet"
           }
          ],
          "choropleth": [
           {
            "colorbar": {
             "outlinewidth": 0,
             "ticks": ""
            },
            "type": "choropleth"
           }
          ],
          "contour": [
           {
            "colorbar": {
             "outlinewidth": 0,
             "ticks": ""
            },
            "colorscale": [
             [
              0,
              "#0d0887"
             ],
             [
              0.1111111111111111,
              "#46039f"
             ],
             [
              0.2222222222222222,
              "#7201a8"
             ],
             [
              0.3333333333333333,
              "#9c179e"
             ],
             [
              0.4444444444444444,
              "#bd3786"
             ],
             [
              0.5555555555555556,
              "#d8576b"
             ],
             [
              0.6666666666666666,
              "#ed7953"
             ],
             [
              0.7777777777777778,
              "#fb9f3a"
             ],
             [
              0.8888888888888888,
              "#fdca26"
             ],
             [
              1,
              "#f0f921"
             ]
            ],
            "type": "contour"
           }
          ],
          "contourcarpet": [
           {
            "colorbar": {
             "outlinewidth": 0,
             "ticks": ""
            },
            "type": "contourcarpet"
           }
          ],
          "heatmap": [
           {
            "colorbar": {
             "outlinewidth": 0,
             "ticks": ""
            },
            "colorscale": [
             [
              0,
              "#0d0887"
             ],
             [
              0.1111111111111111,
              "#46039f"
             ],
             [
              0.2222222222222222,
              "#7201a8"
             ],
             [
              0.3333333333333333,
              "#9c179e"
             ],
             [
              0.4444444444444444,
              "#bd3786"
             ],
             [
              0.5555555555555556,
              "#d8576b"
             ],
             [
              0.6666666666666666,
              "#ed7953"
             ],
             [
              0.7777777777777778,
              "#fb9f3a"
             ],
             [
              0.8888888888888888,
              "#fdca26"
             ],
             [
              1,
              "#f0f921"
             ]
            ],
            "type": "heatmap"
           }
          ],
          "heatmapgl": [
           {
            "colorbar": {
             "outlinewidth": 0,
             "ticks": ""
            },
            "colorscale": [
             [
              0,
              "#0d0887"
             ],
             [
              0.1111111111111111,
              "#46039f"
             ],
             [
              0.2222222222222222,
              "#7201a8"
             ],
             [
              0.3333333333333333,
              "#9c179e"
             ],
             [
              0.4444444444444444,
              "#bd3786"
             ],
             [
              0.5555555555555556,
              "#d8576b"
             ],
             [
              0.6666666666666666,
              "#ed7953"
             ],
             [
              0.7777777777777778,
              "#fb9f3a"
             ],
             [
              0.8888888888888888,
              "#fdca26"
             ],
             [
              1,
              "#f0f921"
             ]
            ],
            "type": "heatmapgl"
           }
          ],
          "histogram": [
           {
            "marker": {
             "colorbar": {
              "outlinewidth": 0,
              "ticks": ""
             }
            },
            "type": "histogram"
           }
          ],
          "histogram2d": [
           {
            "colorbar": {
             "outlinewidth": 0,
             "ticks": ""
            },
            "colorscale": [
             [
              0,
              "#0d0887"
             ],
             [
              0.1111111111111111,
              "#46039f"
             ],
             [
              0.2222222222222222,
              "#7201a8"
             ],
             [
              0.3333333333333333,
              "#9c179e"
             ],
             [
              0.4444444444444444,
              "#bd3786"
             ],
             [
              0.5555555555555556,
              "#d8576b"
             ],
             [
              0.6666666666666666,
              "#ed7953"
             ],
             [
              0.7777777777777778,
              "#fb9f3a"
             ],
             [
              0.8888888888888888,
              "#fdca26"
             ],
             [
              1,
              "#f0f921"
             ]
            ],
            "type": "histogram2d"
           }
          ],
          "histogram2dcontour": [
           {
            "colorbar": {
             "outlinewidth": 0,
             "ticks": ""
            },
            "colorscale": [
             [
              0,
              "#0d0887"
             ],
             [
              0.1111111111111111,
              "#46039f"
             ],
             [
              0.2222222222222222,
              "#7201a8"
             ],
             [
              0.3333333333333333,
              "#9c179e"
             ],
             [
              0.4444444444444444,
              "#bd3786"
             ],
             [
              0.5555555555555556,
              "#d8576b"
             ],
             [
              0.6666666666666666,
              "#ed7953"
             ],
             [
              0.7777777777777778,
              "#fb9f3a"
             ],
             [
              0.8888888888888888,
              "#fdca26"
             ],
             [
              1,
              "#f0f921"
             ]
            ],
            "type": "histogram2dcontour"
           }
          ],
          "mesh3d": [
           {
            "colorbar": {
             "outlinewidth": 0,
             "ticks": ""
            },
            "type": "mesh3d"
           }
          ],
          "parcoords": [
           {
            "line": {
             "colorbar": {
              "outlinewidth": 0,
              "ticks": ""
             }
            },
            "type": "parcoords"
           }
          ],
          "pie": [
           {
            "automargin": true,
            "type": "pie"
           }
          ],
          "scatter": [
           {
            "marker": {
             "colorbar": {
              "outlinewidth": 0,
              "ticks": ""
             }
            },
            "type": "scatter"
           }
          ],
          "scatter3d": [
           {
            "line": {
             "colorbar": {
              "outlinewidth": 0,
              "ticks": ""
             }
            },
            "marker": {
             "colorbar": {
              "outlinewidth": 0,
              "ticks": ""
             }
            },
            "type": "scatter3d"
           }
          ],
          "scattercarpet": [
           {
            "marker": {
             "colorbar": {
              "outlinewidth": 0,
              "ticks": ""
             }
            },
            "type": "scattercarpet"
           }
          ],
          "scattergeo": [
           {
            "marker": {
             "colorbar": {
              "outlinewidth": 0,
              "ticks": ""
             }
            },
            "type": "scattergeo"
           }
          ],
          "scattergl": [
           {
            "marker": {
             "colorbar": {
              "outlinewidth": 0,
              "ticks": ""
             }
            },
            "type": "scattergl"
           }
          ],
          "scattermapbox": [
           {
            "marker": {
             "colorbar": {
              "outlinewidth": 0,
              "ticks": ""
             }
            },
            "type": "scattermapbox"
           }
          ],
          "scatterpolar": [
           {
            "marker": {
             "colorbar": {
              "outlinewidth": 0,
              "ticks": ""
             }
            },
            "type": "scatterpolar"
           }
          ],
          "scatterpolargl": [
           {
            "marker": {
             "colorbar": {
              "outlinewidth": 0,
              "ticks": ""
             }
            },
            "type": "scatterpolargl"
           }
          ],
          "scatterternary": [
           {
            "marker": {
             "colorbar": {
              "outlinewidth": 0,
              "ticks": ""
             }
            },
            "type": "scatterternary"
           }
          ],
          "surface": [
           {
            "colorbar": {
             "outlinewidth": 0,
             "ticks": ""
            },
            "colorscale": [
             [
              0,
              "#0d0887"
             ],
             [
              0.1111111111111111,
              "#46039f"
             ],
             [
              0.2222222222222222,
              "#7201a8"
             ],
             [
              0.3333333333333333,
              "#9c179e"
             ],
             [
              0.4444444444444444,
              "#bd3786"
             ],
             [
              0.5555555555555556,
              "#d8576b"
             ],
             [
              0.6666666666666666,
              "#ed7953"
             ],
             [
              0.7777777777777778,
              "#fb9f3a"
             ],
             [
              0.8888888888888888,
              "#fdca26"
             ],
             [
              1,
              "#f0f921"
             ]
            ],
            "type": "surface"
           }
          ],
          "table": [
           {
            "cells": {
             "fill": {
              "color": "#EBF0F8"
             },
             "line": {
              "color": "white"
             }
            },
            "header": {
             "fill": {
              "color": "#C8D4E3"
             },
             "line": {
              "color": "white"
             }
            },
            "type": "table"
           }
          ]
         },
         "layout": {
          "annotationdefaults": {
           "arrowcolor": "#2a3f5f",
           "arrowhead": 0,
           "arrowwidth": 1
          },
          "coloraxis": {
           "colorbar": {
            "outlinewidth": 0,
            "ticks": ""
           }
          },
          "colorscale": {
           "diverging": [
            [
             0,
             "#8e0152"
            ],
            [
             0.1,
             "#c51b7d"
            ],
            [
             0.2,
             "#de77ae"
            ],
            [
             0.3,
             "#f1b6da"
            ],
            [
             0.4,
             "#fde0ef"
            ],
            [
             0.5,
             "#f7f7f7"
            ],
            [
             0.6,
             "#e6f5d0"
            ],
            [
             0.7,
             "#b8e186"
            ],
            [
             0.8,
             "#7fbc41"
            ],
            [
             0.9,
             "#4d9221"
            ],
            [
             1,
             "#276419"
            ]
           ],
           "sequential": [
            [
             0,
             "#0d0887"
            ],
            [
             0.1111111111111111,
             "#46039f"
            ],
            [
             0.2222222222222222,
             "#7201a8"
            ],
            [
             0.3333333333333333,
             "#9c179e"
            ],
            [
             0.4444444444444444,
             "#bd3786"
            ],
            [
             0.5555555555555556,
             "#d8576b"
            ],
            [
             0.6666666666666666,
             "#ed7953"
            ],
            [
             0.7777777777777778,
             "#fb9f3a"
            ],
            [
             0.8888888888888888,
             "#fdca26"
            ],
            [
             1,
             "#f0f921"
            ]
           ],
           "sequentialminus": [
            [
             0,
             "#0d0887"
            ],
            [
             0.1111111111111111,
             "#46039f"
            ],
            [
             0.2222222222222222,
             "#7201a8"
            ],
            [
             0.3333333333333333,
             "#9c179e"
            ],
            [
             0.4444444444444444,
             "#bd3786"
            ],
            [
             0.5555555555555556,
             "#d8576b"
            ],
            [
             0.6666666666666666,
             "#ed7953"
            ],
            [
             0.7777777777777778,
             "#fb9f3a"
            ],
            [
             0.8888888888888888,
             "#fdca26"
            ],
            [
             1,
             "#f0f921"
            ]
           ]
          },
          "colorway": [
           "#636efa",
           "#EF553B",
           "#00cc96",
           "#ab63fa",
           "#FFA15A",
           "#19d3f3",
           "#FF6692",
           "#B6E880",
           "#FF97FF",
           "#FECB52"
          ],
          "font": {
           "color": "#2a3f5f"
          },
          "geo": {
           "bgcolor": "white",
           "lakecolor": "white",
           "landcolor": "#E5ECF6",
           "showlakes": true,
           "showland": true,
           "subunitcolor": "white"
          },
          "hoverlabel": {
           "align": "left"
          },
          "hovermode": "closest",
          "mapbox": {
           "style": "light"
          },
          "paper_bgcolor": "white",
          "plot_bgcolor": "#E5ECF6",
          "polar": {
           "angularaxis": {
            "gridcolor": "white",
            "linecolor": "white",
            "ticks": ""
           },
           "bgcolor": "#E5ECF6",
           "radialaxis": {
            "gridcolor": "white",
            "linecolor": "white",
            "ticks": ""
           }
          },
          "scene": {
           "xaxis": {
            "backgroundcolor": "#E5ECF6",
            "gridcolor": "white",
            "gridwidth": 2,
            "linecolor": "white",
            "showbackground": true,
            "ticks": "",
            "zerolinecolor": "white"
           },
           "yaxis": {
            "backgroundcolor": "#E5ECF6",
            "gridcolor": "white",
            "gridwidth": 2,
            "linecolor": "white",
            "showbackground": true,
            "ticks": "",
            "zerolinecolor": "white"
           },
           "zaxis": {
            "backgroundcolor": "#E5ECF6",
            "gridcolor": "white",
            "gridwidth": 2,
            "linecolor": "white",
            "showbackground": true,
            "ticks": "",
            "zerolinecolor": "white"
           }
          },
          "shapedefaults": {
           "line": {
            "color": "#2a3f5f"
           }
          },
          "ternary": {
           "aaxis": {
            "gridcolor": "white",
            "linecolor": "white",
            "ticks": ""
           },
           "baxis": {
            "gridcolor": "white",
            "linecolor": "white",
            "ticks": ""
           },
           "bgcolor": "#E5ECF6",
           "caxis": {
            "gridcolor": "white",
            "linecolor": "white",
            "ticks": ""
           }
          },
          "title": {
           "x": 0.05
          },
          "xaxis": {
           "automargin": true,
           "gridcolor": "white",
           "linecolor": "white",
           "ticks": "",
           "title": {
            "standoff": 15
           },
           "zerolinecolor": "white",
           "zerolinewidth": 2
          },
          "yaxis": {
           "automargin": true,
           "gridcolor": "white",
           "linecolor": "white",
           "ticks": "",
           "title": {
            "standoff": 15
           },
           "zerolinecolor": "white",
           "zerolinewidth": 2
          }
         }
        },
        "title": {
         "text": "Stay At Home Effective Date vs. MMR (State Level)"
        },
        "xaxis": {
         "anchor": "y",
         "domain": [
          0,
          1
         ],
         "gridcolor": "white",
         "gridwidth": 2,
         "title": {
          "text": "Stay At Home Date (State)"
         }
        },
        "yaxis": {
         "anchor": "x",
         "domain": [
          0,
          1
         ],
         "gridcolor": "white",
         "gridwidth": 2,
         "title": {
          "text": "MMR"
         }
        }
       }
      },
      "text/html": [
       "<div>\n",
       "        \n",
       "        \n",
       "            <div id=\"6e14bf0f-8fde-42e8-8cf6-4981cc2331d0\" class=\"plotly-graph-div\" style=\"height:525px; width:100%;\"></div>\n",
       "            <script type=\"text/javascript\">\n",
       "                require([\"plotly\"], function(Plotly) {\n",
       "                    window.PLOTLYENV=window.PLOTLYENV || {};\n",
       "                    \n",
       "                if (document.getElementById(\"6e14bf0f-8fde-42e8-8cf6-4981cc2331d0\")) {\n",
       "                    Plotly.newPlot(\n",
       "                        '6e14bf0f-8fde-42e8-8cf6-4981cc2331d0',\n",
       "                        [{\"hoverlabel\": {\"namelength\": 0}, \"hovertemplate\": \"StayHomeDate=%{x}<br>VR=%{y}<br>State=%{text}\", \"legendgroup\": \"\", \"marker\": {\"color\": \"#636efa\", \"symbol\": \"circle\"}, \"mode\": \"markers+text\", \"name\": \"\", \"showlegend\": false, \"text\": [\"California\", \"New Jersey\", \"Illinois\", \"New York\", \"Oregon\", \"Ohio\", \"Connecticut\", \"Washington\", \"Louisiana\", \"Massachusetts\", \"Delaware\", \"New Mexico\", \"Indiana\", \"West Virginia\", \"Michigan\", \"Vermont\", \"Wisconsin\", \"Hawaii\", \"Idaho\", \"Kentucky\", \"Colorado\", \"Minnesota\", \"New Hampshire\", \"Rhode Island\", \"Montana\", \"Kansas\", \"Maryland\", \"Virginia\", \"North Carolina\", \"Arizona\", \"Tennessee\", \"Nevada\", \"Pennsylvania\", \"Oklahoma\", \"Maine\", \"Texas\", \"Mississippi\", \"Georgia\", \"Florida\", \"Alabama\", \"Missouri\", \"South Carolina\"], \"textposition\": \"top center\", \"type\": \"scatter\", \"x\": [\"2020-03-19T00:00:00\", \"2020-03-21T00:00:00\", \"2020-03-21T00:00:00\", \"2020-03-22T00:00:00\", \"2020-03-23T00:00:00\", \"2020-03-23T00:00:00\", \"2020-03-23T00:00:00\", \"2020-03-23T00:00:00\", \"2020-03-23T00:00:00\", \"2020-03-24T00:00:00\", \"2020-03-24T00:00:00\", \"2020-03-24T00:00:00\", \"2020-03-24T00:00:00\", \"2020-03-24T00:00:00\", \"2020-03-24T00:00:00\", \"2020-03-25T00:00:00\", \"2020-03-25T00:00:00\", \"2020-03-25T00:00:00\", \"2020-03-25T00:00:00\", \"2020-03-26T00:00:00\", \"2020-03-26T00:00:00\", \"2020-03-27T00:00:00\", \"2020-03-27T00:00:00\", \"2020-03-28T00:00:00\", \"2020-03-28T00:00:00\", \"2020-03-30T00:00:00\", \"2020-03-30T00:00:00\", \"2020-03-30T00:00:00\", \"2020-03-30T00:00:00\", \"2020-03-31T00:00:00\", \"2020-03-31T00:00:00\", \"2020-04-01T00:00:00\", \"2020-04-01T00:00:00\", \"2020-04-01T00:00:00\", \"2020-04-02T00:00:00\", \"2020-04-02T00:00:00\", \"2020-04-03T00:00:00\", \"2020-04-03T00:00:00\", \"2020-04-03T00:00:00\", \"2020-04-04T00:00:00\", \"2020-04-06T00:00:00\", \"2020-04-07T00:00:00\"], \"xaxis\": \"x\", \"y\": [0.965, 0.95, 0.9470000000000001, 0.972, 0.93, 0.9159999999999999, 0.9590000000000001, 0.9079999999999999, 0.955, 0.9690000000000001, 0.978, 0.961, 0.912, 0.988, 0.946, 0.93, 0.9259999999999999, 0.915, 0.895, 0.934, 0.8740000000000001, 0.9259999999999999, 0.9179999999999999, 0.9740000000000001, 0.9329999999999999, 0.9079999999999999, 0.9740000000000001, 0.95, 0.932, 0.929, 0.965, 0.951, 0.9640000000000001, 0.922, 0.938, 0.9690000000000001, 0.992, 0.9359999999999999, 0.938, 0.9059999999999999, 0.948, 0.9420000000000001], \"yaxis\": \"y\"}],\n",
       "                        {\"legend\": {\"tracegroupgap\": 0}, \"margin\": {\"t\": 60}, \"paper_bgcolor\": \"rgb(243, 243, 243)\", \"plot_bgcolor\": \"rgb(243, 243, 243)\", \"template\": {\"data\": {\"bar\": [{\"error_x\": {\"color\": \"#2a3f5f\"}, \"error_y\": {\"color\": \"#2a3f5f\"}, \"marker\": {\"line\": {\"color\": \"#E5ECF6\", \"width\": 0.5}}, \"type\": \"bar\"}], \"barpolar\": [{\"marker\": {\"line\": {\"color\": \"#E5ECF6\", \"width\": 0.5}}, \"type\": \"barpolar\"}], \"carpet\": [{\"aaxis\": {\"endlinecolor\": \"#2a3f5f\", \"gridcolor\": \"white\", \"linecolor\": \"white\", \"minorgridcolor\": \"white\", \"startlinecolor\": \"#2a3f5f\"}, \"baxis\": {\"endlinecolor\": \"#2a3f5f\", \"gridcolor\": \"white\", \"linecolor\": \"white\", \"minorgridcolor\": \"white\", \"startlinecolor\": \"#2a3f5f\"}, \"type\": \"carpet\"}], \"choropleth\": [{\"colorbar\": {\"outlinewidth\": 0, \"ticks\": \"\"}, \"type\": \"choropleth\"}], \"contour\": [{\"colorbar\": {\"outlinewidth\": 0, \"ticks\": \"\"}, \"colorscale\": [[0.0, \"#0d0887\"], [0.1111111111111111, \"#46039f\"], [0.2222222222222222, \"#7201a8\"], [0.3333333333333333, \"#9c179e\"], [0.4444444444444444, \"#bd3786\"], [0.5555555555555556, \"#d8576b\"], [0.6666666666666666, \"#ed7953\"], [0.7777777777777778, \"#fb9f3a\"], [0.8888888888888888, \"#fdca26\"], [1.0, \"#f0f921\"]], \"type\": \"contour\"}], \"contourcarpet\": [{\"colorbar\": {\"outlinewidth\": 0, \"ticks\": \"\"}, \"type\": \"contourcarpet\"}], \"heatmap\": [{\"colorbar\": {\"outlinewidth\": 0, \"ticks\": \"\"}, \"colorscale\": [[0.0, \"#0d0887\"], [0.1111111111111111, \"#46039f\"], [0.2222222222222222, \"#7201a8\"], [0.3333333333333333, \"#9c179e\"], [0.4444444444444444, \"#bd3786\"], [0.5555555555555556, \"#d8576b\"], [0.6666666666666666, \"#ed7953\"], [0.7777777777777778, \"#fb9f3a\"], [0.8888888888888888, \"#fdca26\"], [1.0, \"#f0f921\"]], \"type\": \"heatmap\"}], \"heatmapgl\": [{\"colorbar\": {\"outlinewidth\": 0, \"ticks\": \"\"}, \"colorscale\": [[0.0, \"#0d0887\"], [0.1111111111111111, \"#46039f\"], [0.2222222222222222, \"#7201a8\"], [0.3333333333333333, \"#9c179e\"], [0.4444444444444444, \"#bd3786\"], [0.5555555555555556, \"#d8576b\"], [0.6666666666666666, \"#ed7953\"], [0.7777777777777778, \"#fb9f3a\"], [0.8888888888888888, \"#fdca26\"], [1.0, \"#f0f921\"]], \"type\": \"heatmapgl\"}], \"histogram\": [{\"marker\": {\"colorbar\": {\"outlinewidth\": 0, \"ticks\": \"\"}}, \"type\": \"histogram\"}], \"histogram2d\": [{\"colorbar\": {\"outlinewidth\": 0, \"ticks\": \"\"}, \"colorscale\": [[0.0, \"#0d0887\"], [0.1111111111111111, \"#46039f\"], [0.2222222222222222, \"#7201a8\"], [0.3333333333333333, \"#9c179e\"], [0.4444444444444444, \"#bd3786\"], [0.5555555555555556, \"#d8576b\"], [0.6666666666666666, \"#ed7953\"], [0.7777777777777778, \"#fb9f3a\"], [0.8888888888888888, \"#fdca26\"], [1.0, \"#f0f921\"]], \"type\": \"histogram2d\"}], \"histogram2dcontour\": [{\"colorbar\": {\"outlinewidth\": 0, \"ticks\": \"\"}, \"colorscale\": [[0.0, \"#0d0887\"], [0.1111111111111111, \"#46039f\"], [0.2222222222222222, \"#7201a8\"], [0.3333333333333333, \"#9c179e\"], [0.4444444444444444, \"#bd3786\"], [0.5555555555555556, \"#d8576b\"], [0.6666666666666666, \"#ed7953\"], [0.7777777777777778, \"#fb9f3a\"], [0.8888888888888888, \"#fdca26\"], [1.0, \"#f0f921\"]], \"type\": \"histogram2dcontour\"}], \"mesh3d\": [{\"colorbar\": {\"outlinewidth\": 0, \"ticks\": \"\"}, \"type\": \"mesh3d\"}], \"parcoords\": [{\"line\": {\"colorbar\": {\"outlinewidth\": 0, \"ticks\": \"\"}}, \"type\": \"parcoords\"}], \"pie\": [{\"automargin\": true, \"type\": \"pie\"}], \"scatter\": [{\"marker\": {\"colorbar\": {\"outlinewidth\": 0, \"ticks\": \"\"}}, \"type\": \"scatter\"}], \"scatter3d\": [{\"line\": {\"colorbar\": {\"outlinewidth\": 0, \"ticks\": \"\"}}, \"marker\": {\"colorbar\": {\"outlinewidth\": 0, \"ticks\": \"\"}}, \"type\": \"scatter3d\"}], \"scattercarpet\": [{\"marker\": {\"colorbar\": {\"outlinewidth\": 0, \"ticks\": \"\"}}, \"type\": \"scattercarpet\"}], \"scattergeo\": [{\"marker\": {\"colorbar\": {\"outlinewidth\": 0, \"ticks\": \"\"}}, \"type\": \"scattergeo\"}], \"scattergl\": [{\"marker\": {\"colorbar\": {\"outlinewidth\": 0, \"ticks\": \"\"}}, \"type\": \"scattergl\"}], \"scattermapbox\": [{\"marker\": {\"colorbar\": {\"outlinewidth\": 0, \"ticks\": \"\"}}, \"type\": \"scattermapbox\"}], \"scatterpolar\": [{\"marker\": {\"colorbar\": {\"outlinewidth\": 0, \"ticks\": \"\"}}, \"type\": \"scatterpolar\"}], \"scatterpolargl\": [{\"marker\": {\"colorbar\": {\"outlinewidth\": 0, \"ticks\": \"\"}}, \"type\": \"scatterpolargl\"}], \"scatterternary\": [{\"marker\": {\"colorbar\": {\"outlinewidth\": 0, \"ticks\": \"\"}}, \"type\": \"scatterternary\"}], \"surface\": [{\"colorbar\": {\"outlinewidth\": 0, \"ticks\": \"\"}, \"colorscale\": [[0.0, \"#0d0887\"], [0.1111111111111111, \"#46039f\"], [0.2222222222222222, \"#7201a8\"], [0.3333333333333333, \"#9c179e\"], [0.4444444444444444, \"#bd3786\"], [0.5555555555555556, \"#d8576b\"], [0.6666666666666666, \"#ed7953\"], [0.7777777777777778, \"#fb9f3a\"], [0.8888888888888888, \"#fdca26\"], [1.0, \"#f0f921\"]], \"type\": \"surface\"}], \"table\": [{\"cells\": {\"fill\": {\"color\": \"#EBF0F8\"}, \"line\": {\"color\": \"white\"}}, \"header\": {\"fill\": {\"color\": \"#C8D4E3\"}, \"line\": {\"color\": \"white\"}}, \"type\": \"table\"}]}, \"layout\": {\"annotationdefaults\": {\"arrowcolor\": \"#2a3f5f\", \"arrowhead\": 0, \"arrowwidth\": 1}, \"coloraxis\": {\"colorbar\": {\"outlinewidth\": 0, \"ticks\": \"\"}}, \"colorscale\": {\"diverging\": [[0, \"#8e0152\"], [0.1, \"#c51b7d\"], [0.2, \"#de77ae\"], [0.3, \"#f1b6da\"], [0.4, \"#fde0ef\"], [0.5, \"#f7f7f7\"], [0.6, \"#e6f5d0\"], [0.7, \"#b8e186\"], [0.8, \"#7fbc41\"], [0.9, \"#4d9221\"], [1, \"#276419\"]], \"sequential\": [[0.0, \"#0d0887\"], [0.1111111111111111, \"#46039f\"], [0.2222222222222222, \"#7201a8\"], [0.3333333333333333, \"#9c179e\"], [0.4444444444444444, \"#bd3786\"], [0.5555555555555556, \"#d8576b\"], [0.6666666666666666, \"#ed7953\"], [0.7777777777777778, \"#fb9f3a\"], [0.8888888888888888, \"#fdca26\"], [1.0, \"#f0f921\"]], \"sequentialminus\": [[0.0, \"#0d0887\"], [0.1111111111111111, \"#46039f\"], [0.2222222222222222, \"#7201a8\"], [0.3333333333333333, \"#9c179e\"], [0.4444444444444444, \"#bd3786\"], [0.5555555555555556, \"#d8576b\"], [0.6666666666666666, \"#ed7953\"], [0.7777777777777778, \"#fb9f3a\"], [0.8888888888888888, \"#fdca26\"], [1.0, \"#f0f921\"]]}, \"colorway\": [\"#636efa\", \"#EF553B\", \"#00cc96\", \"#ab63fa\", \"#FFA15A\", \"#19d3f3\", \"#FF6692\", \"#B6E880\", \"#FF97FF\", \"#FECB52\"], \"font\": {\"color\": \"#2a3f5f\"}, \"geo\": {\"bgcolor\": \"white\", \"lakecolor\": \"white\", \"landcolor\": \"#E5ECF6\", \"showlakes\": true, \"showland\": true, \"subunitcolor\": \"white\"}, \"hoverlabel\": {\"align\": \"left\"}, \"hovermode\": \"closest\", \"mapbox\": {\"style\": \"light\"}, \"paper_bgcolor\": \"white\", \"plot_bgcolor\": \"#E5ECF6\", \"polar\": {\"angularaxis\": {\"gridcolor\": \"white\", \"linecolor\": \"white\", \"ticks\": \"\"}, \"bgcolor\": \"#E5ECF6\", \"radialaxis\": {\"gridcolor\": \"white\", \"linecolor\": \"white\", \"ticks\": \"\"}}, \"scene\": {\"xaxis\": {\"backgroundcolor\": \"#E5ECF6\", \"gridcolor\": \"white\", \"gridwidth\": 2, \"linecolor\": \"white\", \"showbackground\": true, \"ticks\": \"\", \"zerolinecolor\": \"white\"}, \"yaxis\": {\"backgroundcolor\": \"#E5ECF6\", \"gridcolor\": \"white\", \"gridwidth\": 2, \"linecolor\": \"white\", \"showbackground\": true, \"ticks\": \"\", \"zerolinecolor\": \"white\"}, \"zaxis\": {\"backgroundcolor\": \"#E5ECF6\", \"gridcolor\": \"white\", \"gridwidth\": 2, \"linecolor\": \"white\", \"showbackground\": true, \"ticks\": \"\", \"zerolinecolor\": \"white\"}}, \"shapedefaults\": {\"line\": {\"color\": \"#2a3f5f\"}}, \"ternary\": {\"aaxis\": {\"gridcolor\": \"white\", \"linecolor\": \"white\", \"ticks\": \"\"}, \"baxis\": {\"gridcolor\": \"white\", \"linecolor\": \"white\", \"ticks\": \"\"}, \"bgcolor\": \"#E5ECF6\", \"caxis\": {\"gridcolor\": \"white\", \"linecolor\": \"white\", \"ticks\": \"\"}}, \"title\": {\"x\": 0.05}, \"xaxis\": {\"automargin\": true, \"gridcolor\": \"white\", \"linecolor\": \"white\", \"ticks\": \"\", \"title\": {\"standoff\": 15}, \"zerolinecolor\": \"white\", \"zerolinewidth\": 2}, \"yaxis\": {\"automargin\": true, \"gridcolor\": \"white\", \"linecolor\": \"white\", \"ticks\": \"\", \"title\": {\"standoff\": 15}, \"zerolinecolor\": \"white\", \"zerolinewidth\": 2}}}, \"title\": {\"text\": \"Stay At Home Effective Date vs. MMR (State Level)\"}, \"xaxis\": {\"anchor\": \"y\", \"domain\": [0.0, 1.0], \"gridcolor\": \"white\", \"gridwidth\": 2, \"title\": {\"text\": \"Stay At Home Date (State)\"}}, \"yaxis\": {\"anchor\": \"x\", \"domain\": [0.0, 1.0], \"gridcolor\": \"white\", \"gridwidth\": 2, \"title\": {\"text\": \"MMR\"}}},\n",
       "                        {\"responsive\": true}\n",
       "                    ).then(function(){\n",
       "                            \n",
       "var gd = document.getElementById('6e14bf0f-8fde-42e8-8cf6-4981cc2331d0');\n",
       "var x = new MutationObserver(function (mutations, observer) {{\n",
       "        var display = window.getComputedStyle(gd).display;\n",
       "        if (!display || display === 'none') {{\n",
       "            console.log([gd, 'removed!']);\n",
       "            Plotly.purge(gd);\n",
       "            observer.disconnect();\n",
       "        }}\n",
       "}});\n",
       "\n",
       "// Listen for the removal of the full notebook cells\n",
       "var notebookContainer = gd.closest('#notebook-container');\n",
       "if (notebookContainer) {{\n",
       "    x.observe(notebookContainer, {childList: true});\n",
       "}}\n",
       "\n",
       "// Listen for the clearing of the current output cell\n",
       "var outputEl = gd.closest('.output');\n",
       "if (outputEl) {{\n",
       "    x.observe(outputEl, {childList: true});\n",
       "}}\n",
       "\n",
       "                        })\n",
       "                };\n",
       "                });\n",
       "            </script>\n",
       "        </div>"
      ]
     },
     "metadata": {},
     "output_type": "display_data"
    }
   ],
   "source": [
    "# plot it\n",
    "#import plotly.express as px\n",
    "df = mmr_policy_df\n",
    "fig1 = px.scatter(df, x=\"StayHomeDate\", y=\"VR\", text=\"State\")\n",
    "fig1.update_traces(textposition='top center')\n",
    "fig1.update_layout(\n",
    "        title= 'Stay At Home Effective Date vs. MMR (State Level)',\n",
    "        xaxis=dict(\n",
    "            title='Stay At Home Date (State)',\n",
    "            gridcolor='white',\n",
    "            gridwidth=2,\n",
    "        ),\n",
    "        yaxis=dict(\n",
    "            title='MMR',\n",
    "            gridcolor='white',\n",
    "            gridwidth=2,\n",
    "        ),\n",
    "        paper_bgcolor='rgb(243, 243, 243)',\n",
    "        plot_bgcolor='rgb(243, 243, 243)',\n",
    "    )\n",
    "fig1.show()"
   ]
  },
  {
   "cell_type": "code",
   "execution_count": 66,
   "metadata": {},
   "outputs": [],
   "source": [
    "# output_csv = output_folder + 'mmr_policy_' + t.strftime('%m%d%y%H%M') + '.csv'\n",
    "# mmr_policy.to_csv(output_csv, index=False, encoding='utf-8')"
   ]
  },
  {
   "cell_type": "markdown",
   "metadata": {},
   "source": [
    "### Mortality vs. MMR"
   ]
  },
  {
   "cell_type": "code",
   "execution_count": 19,
   "metadata": {},
   "outputs": [
    {
     "name": "stdout",
     "output_type": "stream",
     "text": [
      "3102\n"
     ]
    },
    {
     "data": {
      "text/html": [
       "<div>\n",
       "<style scoped>\n",
       "    .dataframe tbody tr th:only-of-type {\n",
       "        vertical-align: middle;\n",
       "    }\n",
       "\n",
       "    .dataframe tbody tr th {\n",
       "        vertical-align: top;\n",
       "    }\n",
       "\n",
       "    .dataframe thead th {\n",
       "        text-align: right;\n",
       "    }\n",
       "</style>\n",
       "<table border=\"1\" class=\"dataframe\">\n",
       "  <thead>\n",
       "    <tr style=\"text-align: right;\">\n",
       "      <th></th>\n",
       "      <th>FIPS</th>\n",
       "      <th>County</th>\n",
       "      <th>State</th>\n",
       "      <th>VR</th>\n",
       "      <th>County Population</th>\n",
       "    </tr>\n",
       "  </thead>\n",
       "  <tbody>\n",
       "    <tr>\n",
       "      <td>0</td>\n",
       "      <td>1001</td>\n",
       "      <td>Autauga</td>\n",
       "      <td>AL</td>\n",
       "      <td>0.9536</td>\n",
       "      <td>55504</td>\n",
       "    </tr>\n",
       "    <tr>\n",
       "      <td>1</td>\n",
       "      <td>1003</td>\n",
       "      <td>Baldwin</td>\n",
       "      <td>AL</td>\n",
       "      <td>0.9700</td>\n",
       "      <td>212628</td>\n",
       "    </tr>\n",
       "    <tr>\n",
       "      <td>2</td>\n",
       "      <td>1005</td>\n",
       "      <td>Barbour</td>\n",
       "      <td>AL</td>\n",
       "      <td>0.9283</td>\n",
       "      <td>25270</td>\n",
       "    </tr>\n",
       "  </tbody>\n",
       "</table>\n",
       "</div>"
      ],
      "text/plain": [
       "   FIPS   County State      VR  County Population\n",
       "0  1001  Autauga    AL  0.9536              55504\n",
       "1  1003  Baldwin    AL  0.9700             212628\n",
       "2  1005  Barbour    AL  0.9283              25270"
      ]
     },
     "execution_count": 19,
     "metadata": {},
     "output_type": "execute_result"
    }
   ],
   "source": [
    "# data: MMR at the county level\n",
    "in_table = folder + r'US_MMR.xlsx'\n",
    "mmr_cnty_df = pd.read_excel(in_table,sheet_name='county')\n",
    "print(len(mmr_cnty_df))\n",
    "mmr_cnty_df.head(3)"
   ]
  },
  {
   "cell_type": "code",
   "execution_count": 20,
   "metadata": {
    "scrolled": true
   },
   "outputs": [
    {
     "name": "stdout",
     "output_type": "stream",
     "text": [
      "3225\n"
     ]
    },
    {
     "data": {
      "text/html": [
       "<div>\n",
       "<style scoped>\n",
       "    .dataframe tbody tr th:only-of-type {\n",
       "        vertical-align: middle;\n",
       "    }\n",
       "\n",
       "    .dataframe tbody tr th {\n",
       "        vertical-align: top;\n",
       "    }\n",
       "\n",
       "    .dataframe thead th {\n",
       "        text-align: right;\n",
       "    }\n",
       "</style>\n",
       "<table border=\"1\" class=\"dataframe\">\n",
       "  <thead>\n",
       "    <tr style=\"text-align: right;\">\n",
       "      <th></th>\n",
       "      <th>UID</th>\n",
       "      <th>iso2</th>\n",
       "      <th>iso3</th>\n",
       "      <th>code3</th>\n",
       "      <th>FIPS</th>\n",
       "      <th>Admin2</th>\n",
       "      <th>Province_State</th>\n",
       "      <th>Country_Region</th>\n",
       "      <th>Lat</th>\n",
       "      <th>Long_</th>\n",
       "      <th>...</th>\n",
       "      <th>7/11/20</th>\n",
       "      <th>7/12/20</th>\n",
       "      <th>7/13/20</th>\n",
       "      <th>7/14/20</th>\n",
       "      <th>7/15/20</th>\n",
       "      <th>7/16/20</th>\n",
       "      <th>7/17/20</th>\n",
       "      <th>7/18/20</th>\n",
       "      <th>7/19/20</th>\n",
       "      <th>7/20/20</th>\n",
       "    </tr>\n",
       "  </thead>\n",
       "  <tbody>\n",
       "    <tr>\n",
       "      <td>0</td>\n",
       "      <td>16</td>\n",
       "      <td>AS</td>\n",
       "      <td>ASM</td>\n",
       "      <td>16</td>\n",
       "      <td>60.0</td>\n",
       "      <td>NaN</td>\n",
       "      <td>American Samoa</td>\n",
       "      <td>US</td>\n",
       "      <td>-14.2710</td>\n",
       "      <td>-170.1320</td>\n",
       "      <td>...</td>\n",
       "      <td>0</td>\n",
       "      <td>0</td>\n",
       "      <td>0</td>\n",
       "      <td>0</td>\n",
       "      <td>0</td>\n",
       "      <td>0</td>\n",
       "      <td>0</td>\n",
       "      <td>0</td>\n",
       "      <td>0</td>\n",
       "      <td>0</td>\n",
       "    </tr>\n",
       "    <tr>\n",
       "      <td>1</td>\n",
       "      <td>316</td>\n",
       "      <td>GU</td>\n",
       "      <td>GUM</td>\n",
       "      <td>316</td>\n",
       "      <td>66.0</td>\n",
       "      <td>NaN</td>\n",
       "      <td>Guam</td>\n",
       "      <td>US</td>\n",
       "      <td>13.4443</td>\n",
       "      <td>144.7937</td>\n",
       "      <td>...</td>\n",
       "      <td>5</td>\n",
       "      <td>5</td>\n",
       "      <td>5</td>\n",
       "      <td>5</td>\n",
       "      <td>5</td>\n",
       "      <td>5</td>\n",
       "      <td>5</td>\n",
       "      <td>5</td>\n",
       "      <td>5</td>\n",
       "      <td>5</td>\n",
       "    </tr>\n",
       "    <tr>\n",
       "      <td>2</td>\n",
       "      <td>580</td>\n",
       "      <td>MP</td>\n",
       "      <td>MNP</td>\n",
       "      <td>580</td>\n",
       "      <td>69.0</td>\n",
       "      <td>NaN</td>\n",
       "      <td>Northern Mariana Islands</td>\n",
       "      <td>US</td>\n",
       "      <td>15.0979</td>\n",
       "      <td>145.6739</td>\n",
       "      <td>...</td>\n",
       "      <td>2</td>\n",
       "      <td>2</td>\n",
       "      <td>2</td>\n",
       "      <td>2</td>\n",
       "      <td>2</td>\n",
       "      <td>2</td>\n",
       "      <td>2</td>\n",
       "      <td>2</td>\n",
       "      <td>2</td>\n",
       "      <td>2</td>\n",
       "    </tr>\n",
       "  </tbody>\n",
       "</table>\n",
       "<p>3 rows × 193 columns</p>\n",
       "</div>"
      ],
      "text/plain": [
       "   UID iso2 iso3  code3  FIPS Admin2            Province_State Country_Region  \\\n",
       "0   16   AS  ASM     16  60.0    NaN            American Samoa             US   \n",
       "1  316   GU  GUM    316  66.0    NaN                      Guam             US   \n",
       "2  580   MP  MNP    580  69.0    NaN  Northern Mariana Islands             US   \n",
       "\n",
       "       Lat     Long_  ... 7/11/20  7/12/20  7/13/20  7/14/20  7/15/20  \\\n",
       "0 -14.2710 -170.1320  ...       0        0        0        0        0   \n",
       "1  13.4443  144.7937  ...       5        5        5        5        5   \n",
       "2  15.0979  145.6739  ...       2        2        2        2        2   \n",
       "\n",
       "   7/16/20  7/17/20  7/18/20  7/19/20  7/20/20  \n",
       "0        0        0        0        0        0  \n",
       "1        5        5        5        5        5  \n",
       "2        2        2        2        2        2  \n",
       "\n",
       "[3 rows x 193 columns]"
      ]
     },
     "execution_count": 20,
     "metadata": {},
     "output_type": "execute_result"
    }
   ],
   "source": [
    "# data: deaths at the county level\n",
    "in_table = r'time_series_covid19_deaths_US.csv'\n",
    "deaths_df = pd.read_csv(in_table)\n",
    "deaths_df = deaths_df[deaths_df['Population'] != 0]\n",
    "print(len(deaths_df))\n",
    "deaths_df.head(3)"
   ]
  },
  {
   "cell_type": "code",
   "execution_count": 21,
   "metadata": {},
   "outputs": [
    {
     "name": "stdout",
     "output_type": "stream",
     "text": [
      "3225\n"
     ]
    },
    {
     "data": {
      "text/html": [
       "<div>\n",
       "<style scoped>\n",
       "    .dataframe tbody tr th:only-of-type {\n",
       "        vertical-align: middle;\n",
       "    }\n",
       "\n",
       "    .dataframe tbody tr th {\n",
       "        vertical-align: top;\n",
       "    }\n",
       "\n",
       "    .dataframe thead th {\n",
       "        text-align: right;\n",
       "    }\n",
       "</style>\n",
       "<table border=\"1\" class=\"dataframe\">\n",
       "  <thead>\n",
       "    <tr style=\"text-align: right;\">\n",
       "      <th></th>\n",
       "      <th>FIPS</th>\n",
       "      <th>1/22/20</th>\n",
       "      <th>1/23/20</th>\n",
       "      <th>1/24/20</th>\n",
       "      <th>1/25/20</th>\n",
       "      <th>1/26/20</th>\n",
       "      <th>1/27/20</th>\n",
       "      <th>1/28/20</th>\n",
       "      <th>1/29/20</th>\n",
       "      <th>1/30/20</th>\n",
       "      <th>...</th>\n",
       "      <th>7/11/20</th>\n",
       "      <th>7/12/20</th>\n",
       "      <th>7/13/20</th>\n",
       "      <th>7/14/20</th>\n",
       "      <th>7/15/20</th>\n",
       "      <th>7/16/20</th>\n",
       "      <th>7/17/20</th>\n",
       "      <th>7/18/20</th>\n",
       "      <th>7/19/20</th>\n",
       "      <th>7/20/20</th>\n",
       "    </tr>\n",
       "  </thead>\n",
       "  <tbody>\n",
       "    <tr>\n",
       "      <td>3222</td>\n",
       "      <td>56043.0</td>\n",
       "      <td>0.0</td>\n",
       "      <td>0.0</td>\n",
       "      <td>0.0</td>\n",
       "      <td>0.0</td>\n",
       "      <td>0.0</td>\n",
       "      <td>0.0</td>\n",
       "      <td>0.0</td>\n",
       "      <td>0.0</td>\n",
       "      <td>0.0</td>\n",
       "      <td>...</td>\n",
       "      <td>0.000000</td>\n",
       "      <td>0.000000</td>\n",
       "      <td>0.000000</td>\n",
       "      <td>0.000000</td>\n",
       "      <td>0.000000</td>\n",
       "      <td>0.000000</td>\n",
       "      <td>0.000000</td>\n",
       "      <td>0.000000</td>\n",
       "      <td>0.000000</td>\n",
       "      <td>0.000000</td>\n",
       "    </tr>\n",
       "    <tr>\n",
       "      <td>3223</td>\n",
       "      <td>56045.0</td>\n",
       "      <td>0.0</td>\n",
       "      <td>0.0</td>\n",
       "      <td>0.0</td>\n",
       "      <td>0.0</td>\n",
       "      <td>0.0</td>\n",
       "      <td>0.0</td>\n",
       "      <td>0.0</td>\n",
       "      <td>0.0</td>\n",
       "      <td>0.0</td>\n",
       "      <td>...</td>\n",
       "      <td>0.000000</td>\n",
       "      <td>0.000000</td>\n",
       "      <td>0.000000</td>\n",
       "      <td>0.000000</td>\n",
       "      <td>0.000000</td>\n",
       "      <td>0.000000</td>\n",
       "      <td>0.000000</td>\n",
       "      <td>0.000000</td>\n",
       "      <td>0.000000</td>\n",
       "      <td>0.000000</td>\n",
       "    </tr>\n",
       "    <tr>\n",
       "      <td>3225</td>\n",
       "      <td>NaN</td>\n",
       "      <td>0.0</td>\n",
       "      <td>0.0</td>\n",
       "      <td>0.0</td>\n",
       "      <td>0.0</td>\n",
       "      <td>0.0</td>\n",
       "      <td>0.0</td>\n",
       "      <td>0.0</td>\n",
       "      <td>0.0</td>\n",
       "      <td>0.0</td>\n",
       "      <td>...</td>\n",
       "      <td>0.695378</td>\n",
       "      <td>0.695378</td>\n",
       "      <td>0.695378</td>\n",
       "      <td>0.736282</td>\n",
       "      <td>0.736282</td>\n",
       "      <td>0.756734</td>\n",
       "      <td>0.756734</td>\n",
       "      <td>0.777187</td>\n",
       "      <td>0.777187</td>\n",
       "      <td>0.777187</td>\n",
       "    </tr>\n",
       "  </tbody>\n",
       "</table>\n",
       "<p>3 rows × 182 columns</p>\n",
       "</div>"
      ],
      "text/plain": [
       "         FIPS  1/22/20  1/23/20  1/24/20  1/25/20  1/26/20  1/27/20  1/28/20  \\\n",
       "3222  56043.0      0.0      0.0      0.0      0.0      0.0      0.0      0.0   \n",
       "3223  56045.0      0.0      0.0      0.0      0.0      0.0      0.0      0.0   \n",
       "3225      NaN      0.0      0.0      0.0      0.0      0.0      0.0      0.0   \n",
       "\n",
       "      1/29/20  1/30/20  ...   7/11/20   7/12/20   7/13/20   7/14/20   7/15/20  \\\n",
       "3222      0.0      0.0  ...  0.000000  0.000000  0.000000  0.000000  0.000000   \n",
       "3223      0.0      0.0  ...  0.000000  0.000000  0.000000  0.000000  0.000000   \n",
       "3225      0.0      0.0  ...  0.695378  0.695378  0.695378  0.736282  0.736282   \n",
       "\n",
       "       7/16/20   7/17/20   7/18/20   7/19/20   7/20/20  \n",
       "3222  0.000000  0.000000  0.000000  0.000000  0.000000  \n",
       "3223  0.000000  0.000000  0.000000  0.000000  0.000000  \n",
       "3225  0.756734  0.756734  0.777187  0.777187  0.777187  \n",
       "\n",
       "[3 rows x 182 columns]"
      ]
     },
     "execution_count": 21,
     "metadata": {},
     "output_type": "execute_result"
    }
   ],
   "source": [
    "# calculate mortality\n",
    "# ref: https://pandas.pydata.org/pandas-docs/stable/reference/api/pandas.DataFrame.div.html#pandas.DataFrame.div\n",
    "df = deaths_df.iloc[:,12:]\n",
    "mortality_df = df.div(deaths_df['Population'], axis='rows')*10000\n",
    "#mortality_df\n",
    "# ref: https://discuss.codecademy.com/t/can-we-add-a-new-column-at-a-specific-position-in-a-pandas-dataframe/355842\n",
    "mortality_df.insert(0, 'FIPS', deaths_df['FIPS'])\n",
    "print(len(mortality_df))\n",
    "mortality_df.tail(3)"
   ]
  },
  {
   "cell_type": "code",
   "execution_count": 1,
   "metadata": {},
   "outputs": [
    {
     "ename": "NameError",
     "evalue": "name 'pd' is not defined",
     "output_type": "error",
     "traceback": [
      "\u001b[1;31m---------------------------------------------------------------------------\u001b[0m",
      "\u001b[1;31mNameError\u001b[0m                                 Traceback (most recent call last)",
      "\u001b[1;32m<ipython-input-1-060c3f964ab1>\u001b[0m in \u001b[0;36m<module>\u001b[1;34m\u001b[0m\n\u001b[0;32m      1\u001b[0m \u001b[1;31m# merge\u001b[0m\u001b[1;33m\u001b[0m\u001b[1;33m\u001b[0m\u001b[1;33m\u001b[0m\u001b[0m\n\u001b[1;32m----> 2\u001b[1;33m \u001b[0mdf_mortality\u001b[0m \u001b[1;33m=\u001b[0m \u001b[0mpd\u001b[0m\u001b[1;33m.\u001b[0m\u001b[0mmerge\u001b[0m\u001b[1;33m(\u001b[0m\u001b[0mmmr_cnty_df\u001b[0m\u001b[1;33m,\u001b[0m \u001b[0mmortality_df\u001b[0m\u001b[1;33m,\u001b[0m \u001b[0mhow\u001b[0m\u001b[1;33m=\u001b[0m\u001b[1;34m'left'\u001b[0m\u001b[1;33m,\u001b[0m \u001b[0mon\u001b[0m\u001b[1;33m=\u001b[0m\u001b[1;34m'FIPS'\u001b[0m\u001b[1;33m)\u001b[0m\u001b[1;33m\u001b[0m\u001b[1;33m\u001b[0m\u001b[0m\n\u001b[0m\u001b[0;32m      3\u001b[0m \u001b[0mprint\u001b[0m\u001b[1;33m(\u001b[0m\u001b[0mlen\u001b[0m\u001b[1;33m(\u001b[0m\u001b[0mdf_mortality\u001b[0m\u001b[1;33m)\u001b[0m\u001b[1;33m)\u001b[0m\u001b[1;33m\u001b[0m\u001b[1;33m\u001b[0m\u001b[0m\n\u001b[0;32m      4\u001b[0m \u001b[0mdf_mortality\u001b[0m\u001b[1;33m.\u001b[0m\u001b[0mhead\u001b[0m\u001b[1;33m(\u001b[0m\u001b[1;36m3\u001b[0m\u001b[1;33m)\u001b[0m\u001b[1;33m\u001b[0m\u001b[1;33m\u001b[0m\u001b[0m\n\u001b[0;32m      5\u001b[0m \u001b[1;31m#len(mortality_mmr_df.loc[mortality_mmr_df['VR'].isnull()])\u001b[0m\u001b[1;33m\u001b[0m\u001b[1;33m\u001b[0m\u001b[1;33m\u001b[0m\u001b[0m\n",
      "\u001b[1;31mNameError\u001b[0m: name 'pd' is not defined"
     ]
    }
   ],
   "source": [
    "# merge\n",
    "df_mortality = pd.merge(mmr_cnty_df, mortality_df, how='left', on='FIPS')\n",
    "print(len(df_mortality))\n",
    "df_mortality.head(3)\n",
    "#len(mortality_mmr_df.loc[mortality_mmr_df['VR'].isnull()])"
   ]
  },
  {
   "cell_type": "markdown",
   "metadata": {},
   "source": [
    "### Incidence vs. MMR"
   ]
  },
  {
   "cell_type": "code",
   "execution_count": 23,
   "metadata": {},
   "outputs": [
    {
     "name": "stdout",
     "output_type": "stream",
     "text": [
      "3461\n"
     ]
    },
    {
     "data": {
      "text/html": [
       "<div>\n",
       "<style scoped>\n",
       "    .dataframe tbody tr th:only-of-type {\n",
       "        vertical-align: middle;\n",
       "    }\n",
       "\n",
       "    .dataframe tbody tr th {\n",
       "        vertical-align: top;\n",
       "    }\n",
       "\n",
       "    .dataframe thead th {\n",
       "        text-align: right;\n",
       "    }\n",
       "</style>\n",
       "<table border=\"1\" class=\"dataframe\">\n",
       "  <thead>\n",
       "    <tr style=\"text-align: right;\">\n",
       "      <th></th>\n",
       "      <th>UID</th>\n",
       "      <th>iso2</th>\n",
       "      <th>iso3</th>\n",
       "      <th>code3</th>\n",
       "      <th>FIPS</th>\n",
       "      <th>Admin2</th>\n",
       "      <th>Province_State</th>\n",
       "      <th>Country_Region</th>\n",
       "      <th>Lat</th>\n",
       "      <th>Long_</th>\n",
       "      <th>...</th>\n",
       "      <th>6/30/20</th>\n",
       "      <th>7/1/20</th>\n",
       "      <th>7/2/20</th>\n",
       "      <th>7/3/20</th>\n",
       "      <th>7/4/20</th>\n",
       "      <th>7/5/20</th>\n",
       "      <th>7/6/20</th>\n",
       "      <th>7/7/20</th>\n",
       "      <th>7/8/20</th>\n",
       "      <th>7/9/20</th>\n",
       "    </tr>\n",
       "  </thead>\n",
       "  <tbody>\n",
       "    <tr>\n",
       "      <td>0</td>\n",
       "      <td>16</td>\n",
       "      <td>AS</td>\n",
       "      <td>ASM</td>\n",
       "      <td>16</td>\n",
       "      <td>60.0</td>\n",
       "      <td>NaN</td>\n",
       "      <td>American Samoa</td>\n",
       "      <td>US</td>\n",
       "      <td>-14.2710</td>\n",
       "      <td>-170.1320</td>\n",
       "      <td>...</td>\n",
       "      <td>0</td>\n",
       "      <td>0</td>\n",
       "      <td>0</td>\n",
       "      <td>0</td>\n",
       "      <td>0</td>\n",
       "      <td>0</td>\n",
       "      <td>0</td>\n",
       "      <td>0</td>\n",
       "      <td>0</td>\n",
       "      <td>0</td>\n",
       "    </tr>\n",
       "    <tr>\n",
       "      <td>1</td>\n",
       "      <td>316</td>\n",
       "      <td>GU</td>\n",
       "      <td>GUM</td>\n",
       "      <td>316</td>\n",
       "      <td>66.0</td>\n",
       "      <td>NaN</td>\n",
       "      <td>Guam</td>\n",
       "      <td>US</td>\n",
       "      <td>13.4443</td>\n",
       "      <td>144.7937</td>\n",
       "      <td>...</td>\n",
       "      <td>257</td>\n",
       "      <td>267</td>\n",
       "      <td>280</td>\n",
       "      <td>280</td>\n",
       "      <td>280</td>\n",
       "      <td>280</td>\n",
       "      <td>301</td>\n",
       "      <td>303</td>\n",
       "      <td>307</td>\n",
       "      <td>309</td>\n",
       "    </tr>\n",
       "    <tr>\n",
       "      <td>2</td>\n",
       "      <td>580</td>\n",
       "      <td>MP</td>\n",
       "      <td>MNP</td>\n",
       "      <td>580</td>\n",
       "      <td>69.0</td>\n",
       "      <td>NaN</td>\n",
       "      <td>Northern Mariana Islands</td>\n",
       "      <td>US</td>\n",
       "      <td>15.0979</td>\n",
       "      <td>145.6739</td>\n",
       "      <td>...</td>\n",
       "      <td>30</td>\n",
       "      <td>30</td>\n",
       "      <td>31</td>\n",
       "      <td>31</td>\n",
       "      <td>31</td>\n",
       "      <td>31</td>\n",
       "      <td>31</td>\n",
       "      <td>31</td>\n",
       "      <td>31</td>\n",
       "      <td>31</td>\n",
       "    </tr>\n",
       "  </tbody>\n",
       "</table>\n",
       "<p>3 rows × 182 columns</p>\n",
       "</div>"
      ],
      "text/plain": [
       "   UID iso2 iso3  code3  FIPS Admin2            Province_State Country_Region  \\\n",
       "0   16   AS  ASM     16  60.0    NaN            American Samoa             US   \n",
       "1  316   GU  GUM    316  66.0    NaN                      Guam             US   \n",
       "2  580   MP  MNP    580  69.0    NaN  Northern Mariana Islands             US   \n",
       "\n",
       "       Lat     Long_  ... 6/30/20  7/1/20  7/2/20  7/3/20  7/4/20  7/5/20  \\\n",
       "0 -14.2710 -170.1320  ...       0       0       0       0       0       0   \n",
       "1  13.4443  144.7937  ...     257     267     280     280     280     280   \n",
       "2  15.0979  145.6739  ...      30      30      31      31      31      31   \n",
       "\n",
       "   7/6/20  7/7/20  7/8/20  7/9/20  \n",
       "0       0       0       0       0  \n",
       "1     301     303     307     309  \n",
       "2      31      31      31      31  \n",
       "\n",
       "[3 rows x 182 columns]"
      ]
     },
     "execution_count": 23,
     "metadata": {},
     "output_type": "execute_result"
    }
   ],
   "source": [
    "# data: cases at the county level\n",
    "in_table = r'confirmed0709202134.csv' #r'time_series_covid19_confirmed_US.csv'\n",
    "cases_df = pd.read_csv(in_table)\n",
    "print(len(cases_df))\n",
    "cases_df.head(3)"
   ]
  },
  {
   "cell_type": "code",
   "execution_count": 72,
   "metadata": {},
   "outputs": [],
   "source": [
    "# # data: population\n",
    "# in_table = r'us_pop.xlsx'\n",
    "# pop_df = pd.read_excel(in_table)\n",
    "# print(len(pop_df))\n",
    "# pop_df.head(3)"
   ]
  },
  {
   "cell_type": "code",
   "execution_count": 73,
   "metadata": {},
   "outputs": [],
   "source": [
    "# cases_df = pd.merge(cases_df, pop_df, how='left', on='FIPS')\n",
    "# print(len(cases_df))\n",
    "# cases_df.head(3)"
   ]
  },
  {
   "cell_type": "code",
   "execution_count": 74,
   "metadata": {},
   "outputs": [],
   "source": [
    "# output_csv = output_folder + 'confirmed' + t.strftime('%m%d%y%H%M') + '.csv'\n",
    "# cases_df.to_csv(output_csv, index=False, encoding='utf-8')"
   ]
  },
  {
   "cell_type": "code",
   "execution_count": 26,
   "metadata": {},
   "outputs": [
    {
     "name": "stdout",
     "output_type": "stream",
     "text": [
      "3461\n"
     ]
    },
    {
     "data": {
      "text/html": [
       "<div>\n",
       "<style scoped>\n",
       "    .dataframe tbody tr th:only-of-type {\n",
       "        vertical-align: middle;\n",
       "    }\n",
       "\n",
       "    .dataframe tbody tr th {\n",
       "        vertical-align: top;\n",
       "    }\n",
       "\n",
       "    .dataframe thead th {\n",
       "        text-align: right;\n",
       "    }\n",
       "</style>\n",
       "<table border=\"1\" class=\"dataframe\">\n",
       "  <thead>\n",
       "    <tr style=\"text-align: right;\">\n",
       "      <th></th>\n",
       "      <th>FIPS</th>\n",
       "      <th>1/22/20</th>\n",
       "      <th>1/23/20</th>\n",
       "      <th>1/24/20</th>\n",
       "      <th>1/25/20</th>\n",
       "      <th>1/26/20</th>\n",
       "      <th>1/27/20</th>\n",
       "      <th>1/28/20</th>\n",
       "      <th>1/29/20</th>\n",
       "      <th>1/30/20</th>\n",
       "      <th>...</th>\n",
       "      <th>6/30/20</th>\n",
       "      <th>7/1/20</th>\n",
       "      <th>7/2/20</th>\n",
       "      <th>7/3/20</th>\n",
       "      <th>7/4/20</th>\n",
       "      <th>7/5/20</th>\n",
       "      <th>7/6/20</th>\n",
       "      <th>7/7/20</th>\n",
       "      <th>7/8/20</th>\n",
       "      <th>7/9/20</th>\n",
       "    </tr>\n",
       "  </thead>\n",
       "  <tbody>\n",
       "    <tr>\n",
       "      <td>3458</td>\n",
       "      <td>NaN</td>\n",
       "      <td>0.0</td>\n",
       "      <td>0.0</td>\n",
       "      <td>0.0</td>\n",
       "      <td>0.0</td>\n",
       "      <td>0.0</td>\n",
       "      <td>0.0</td>\n",
       "      <td>0.0</td>\n",
       "      <td>0.0</td>\n",
       "      <td>0.0</td>\n",
       "      <td>...</td>\n",
       "      <td>168.485748</td>\n",
       "      <td>177.316238</td>\n",
       "      <td>184.027410</td>\n",
       "      <td>192.504680</td>\n",
       "      <td>206.986684</td>\n",
       "      <td>211.048709</td>\n",
       "      <td>221.645297</td>\n",
       "      <td>228.356469</td>\n",
       "      <td>241.602204</td>\n",
       "      <td>246.547278</td>\n",
       "    </tr>\n",
       "    <tr>\n",
       "      <td>3459</td>\n",
       "      <td>NaN</td>\n",
       "      <td>0.0</td>\n",
       "      <td>0.0</td>\n",
       "      <td>0.0</td>\n",
       "      <td>0.0</td>\n",
       "      <td>0.0</td>\n",
       "      <td>0.0</td>\n",
       "      <td>0.0</td>\n",
       "      <td>0.0</td>\n",
       "      <td>0.0</td>\n",
       "      <td>...</td>\n",
       "      <td>35.030128</td>\n",
       "      <td>36.866089</td>\n",
       "      <td>38.261419</td>\n",
       "      <td>40.023941</td>\n",
       "      <td>43.034916</td>\n",
       "      <td>43.879458</td>\n",
       "      <td>46.082611</td>\n",
       "      <td>47.477941</td>\n",
       "      <td>50.231882</td>\n",
       "      <td>51.260020</td>\n",
       "    </tr>\n",
       "    <tr>\n",
       "      <td>3460</td>\n",
       "      <td>NaN</td>\n",
       "      <td>NaN</td>\n",
       "      <td>NaN</td>\n",
       "      <td>NaN</td>\n",
       "      <td>NaN</td>\n",
       "      <td>NaN</td>\n",
       "      <td>NaN</td>\n",
       "      <td>NaN</td>\n",
       "      <td>NaN</td>\n",
       "      <td>NaN</td>\n",
       "      <td>...</td>\n",
       "      <td>NaN</td>\n",
       "      <td>NaN</td>\n",
       "      <td>NaN</td>\n",
       "      <td>NaN</td>\n",
       "      <td>NaN</td>\n",
       "      <td>NaN</td>\n",
       "      <td>NaN</td>\n",
       "      <td>NaN</td>\n",
       "      <td>NaN</td>\n",
       "      <td>NaN</td>\n",
       "    </tr>\n",
       "  </tbody>\n",
       "</table>\n",
       "<p>3 rows × 171 columns</p>\n",
       "</div>"
      ],
      "text/plain": [
       "      FIPS  1/22/20  1/23/20  1/24/20  1/25/20  1/26/20  1/27/20  1/28/20  \\\n",
       "3458   NaN      0.0      0.0      0.0      0.0      0.0      0.0      0.0   \n",
       "3459   NaN      0.0      0.0      0.0      0.0      0.0      0.0      0.0   \n",
       "3460   NaN      NaN      NaN      NaN      NaN      NaN      NaN      NaN   \n",
       "\n",
       "      1/29/20  1/30/20  ...     6/30/20      7/1/20      7/2/20      7/3/20  \\\n",
       "3458      0.0      0.0  ...  168.485748  177.316238  184.027410  192.504680   \n",
       "3459      0.0      0.0  ...   35.030128   36.866089   38.261419   40.023941   \n",
       "3460      NaN      NaN  ...         NaN         NaN         NaN         NaN   \n",
       "\n",
       "          7/4/20      7/5/20      7/6/20      7/7/20      7/8/20      7/9/20  \n",
       "3458  206.986684  211.048709  221.645297  228.356469  241.602204  246.547278  \n",
       "3459   43.034916   43.879458   46.082611   47.477941   50.231882   51.260020  \n",
       "3460         NaN         NaN         NaN         NaN         NaN         NaN  \n",
       "\n",
       "[3 rows x 171 columns]"
      ]
     },
     "execution_count": 26,
     "metadata": {},
     "output_type": "execute_result"
    }
   ],
   "source": [
    "# calculate incidence rate\n",
    "# ref: https://pandas.pydata.org/pandas-docs/stable/reference/api/pandas.DataFrame.div.html#pandas.DataFrame.div\n",
    "df = cases_df.iloc[:,12:]\n",
    "incidence_df = df.div(cases_df['Population'], axis='rows')*10000\n",
    "#mortality_df\n",
    "# ref: https://discuss.codecademy.com/t/can-we-add-a-new-column-at-a-specific-position-in-a-pandas-dataframe/355842\n",
    "incidence_df.insert(0, 'FIPS', cases_df['FIPS'])\n",
    "print(len(incidence_df))\n",
    "incidence_df.tail(3)"
   ]
  },
  {
   "cell_type": "code",
   "execution_count": 27,
   "metadata": {},
   "outputs": [
    {
     "name": "stdout",
     "output_type": "stream",
     "text": [
      "3102\n"
     ]
    },
    {
     "data": {
      "text/html": [
       "<div>\n",
       "<style scoped>\n",
       "    .dataframe tbody tr th:only-of-type {\n",
       "        vertical-align: middle;\n",
       "    }\n",
       "\n",
       "    .dataframe tbody tr th {\n",
       "        vertical-align: top;\n",
       "    }\n",
       "\n",
       "    .dataframe thead th {\n",
       "        text-align: right;\n",
       "    }\n",
       "</style>\n",
       "<table border=\"1\" class=\"dataframe\">\n",
       "  <thead>\n",
       "    <tr style=\"text-align: right;\">\n",
       "      <th></th>\n",
       "      <th>FIPS</th>\n",
       "      <th>County</th>\n",
       "      <th>State</th>\n",
       "      <th>VR</th>\n",
       "      <th>County Population</th>\n",
       "      <th>1/22/20</th>\n",
       "      <th>1/23/20</th>\n",
       "      <th>1/24/20</th>\n",
       "      <th>1/25/20</th>\n",
       "      <th>1/26/20</th>\n",
       "      <th>...</th>\n",
       "      <th>6/30/20</th>\n",
       "      <th>7/1/20</th>\n",
       "      <th>7/2/20</th>\n",
       "      <th>7/3/20</th>\n",
       "      <th>7/4/20</th>\n",
       "      <th>7/5/20</th>\n",
       "      <th>7/6/20</th>\n",
       "      <th>7/7/20</th>\n",
       "      <th>7/8/20</th>\n",
       "      <th>7/9/20</th>\n",
       "    </tr>\n",
       "  </thead>\n",
       "  <tbody>\n",
       "    <tr>\n",
       "      <td>0</td>\n",
       "      <td>1001</td>\n",
       "      <td>Autauga</td>\n",
       "      <td>AL</td>\n",
       "      <td>0.9536</td>\n",
       "      <td>55504</td>\n",
       "      <td>0.0</td>\n",
       "      <td>0.0</td>\n",
       "      <td>0.0</td>\n",
       "      <td>0.0</td>\n",
       "      <td>0.0</td>\n",
       "      <td>...</td>\n",
       "      <td>94.864773</td>\n",
       "      <td>97.549625</td>\n",
       "      <td>98.981546</td>\n",
       "      <td>100.234477</td>\n",
       "      <td>104.351250</td>\n",
       "      <td>108.647014</td>\n",
       "      <td>109.183984</td>\n",
       "      <td>113.837728</td>\n",
       "      <td>115.090659</td>\n",
       "      <td>116.880560</td>\n",
       "    </tr>\n",
       "    <tr>\n",
       "      <td>1</td>\n",
       "      <td>1003</td>\n",
       "      <td>Baldwin</td>\n",
       "      <td>AL</td>\n",
       "      <td>0.9700</td>\n",
       "      <td>212628</td>\n",
       "      <td>0.0</td>\n",
       "      <td>0.0</td>\n",
       "      <td>0.0</td>\n",
       "      <td>0.0</td>\n",
       "      <td>0.0</td>\n",
       "      <td>...</td>\n",
       "      <td>29.699777</td>\n",
       "      <td>30.730086</td>\n",
       "      <td>32.925092</td>\n",
       "      <td>37.091124</td>\n",
       "      <td>37.897453</td>\n",
       "      <td>38.703782</td>\n",
       "      <td>40.047663</td>\n",
       "      <td>43.900123</td>\n",
       "      <td>46.543089</td>\n",
       "      <td>49.902793</td>\n",
       "    </tr>\n",
       "    <tr>\n",
       "      <td>2</td>\n",
       "      <td>1005</td>\n",
       "      <td>Barbour</td>\n",
       "      <td>AL</td>\n",
       "      <td>0.9283</td>\n",
       "      <td>25270</td>\n",
       "      <td>0.0</td>\n",
       "      <td>0.0</td>\n",
       "      <td>0.0</td>\n",
       "      <td>0.0</td>\n",
       "      <td>0.0</td>\n",
       "      <td>...</td>\n",
       "      <td>130.438305</td>\n",
       "      <td>130.843393</td>\n",
       "      <td>134.894272</td>\n",
       "      <td>139.755327</td>\n",
       "      <td>140.565503</td>\n",
       "      <td>141.375679</td>\n",
       "      <td>142.996030</td>\n",
       "      <td>144.616382</td>\n",
       "      <td>146.641821</td>\n",
       "      <td>148.667261</td>\n",
       "    </tr>\n",
       "  </tbody>\n",
       "</table>\n",
       "<p>3 rows × 175 columns</p>\n",
       "</div>"
      ],
      "text/plain": [
       "   FIPS   County State      VR  County Population  1/22/20  1/23/20  1/24/20  \\\n",
       "0  1001  Autauga    AL  0.9536              55504      0.0      0.0      0.0   \n",
       "1  1003  Baldwin    AL  0.9700             212628      0.0      0.0      0.0   \n",
       "2  1005  Barbour    AL  0.9283              25270      0.0      0.0      0.0   \n",
       "\n",
       "   1/25/20  1/26/20  ...     6/30/20      7/1/20      7/2/20      7/3/20  \\\n",
       "0      0.0      0.0  ...   94.864773   97.549625   98.981546  100.234477   \n",
       "1      0.0      0.0  ...   29.699777   30.730086   32.925092   37.091124   \n",
       "2      0.0      0.0  ...  130.438305  130.843393  134.894272  139.755327   \n",
       "\n",
       "       7/4/20      7/5/20      7/6/20      7/7/20      7/8/20      7/9/20  \n",
       "0  104.351250  108.647014  109.183984  113.837728  115.090659  116.880560  \n",
       "1   37.897453   38.703782   40.047663   43.900123   46.543089   49.902793  \n",
       "2  140.565503  141.375679  142.996030  144.616382  146.641821  148.667261  \n",
       "\n",
       "[3 rows x 175 columns]"
      ]
     },
     "execution_count": 27,
     "metadata": {},
     "output_type": "execute_result"
    }
   ],
   "source": [
    "# merge\n",
    "df_incidence = pd.merge(mmr_cnty_df, incidence_df, how='left', on='FIPS')\n",
    "print(len(df_incidence))\n",
    "df_incidence.head(3)\n",
    "#len(mortality_mmr_df.loc[mortality_mmr_df['VR'].isnull()])"
   ]
  },
  {
   "cell_type": "code",
   "execution_count": 28,
   "metadata": {},
   "outputs": [
    {
     "data": {
      "text/html": [
       "<div>\n",
       "<style scoped>\n",
       "    .dataframe tbody tr th:only-of-type {\n",
       "        vertical-align: middle;\n",
       "    }\n",
       "\n",
       "    .dataframe tbody tr th {\n",
       "        vertical-align: top;\n",
       "    }\n",
       "\n",
       "    .dataframe thead th {\n",
       "        text-align: right;\n",
       "    }\n",
       "</style>\n",
       "<table border=\"1\" class=\"dataframe\">\n",
       "  <thead>\n",
       "    <tr style=\"text-align: right;\">\n",
       "      <th></th>\n",
       "      <th>FIPS</th>\n",
       "      <th>County</th>\n",
       "      <th>State</th>\n",
       "      <th>VR</th>\n",
       "      <th>County Population</th>\n",
       "      <th>1/22/20</th>\n",
       "      <th>1/23/20</th>\n",
       "      <th>1/24/20</th>\n",
       "      <th>1/25/20</th>\n",
       "      <th>1/26/20</th>\n",
       "      <th>...</th>\n",
       "      <th>6/30/20</th>\n",
       "      <th>7/1/20</th>\n",
       "      <th>7/2/20</th>\n",
       "      <th>7/3/20</th>\n",
       "      <th>7/4/20</th>\n",
       "      <th>7/5/20</th>\n",
       "      <th>7/6/20</th>\n",
       "      <th>7/7/20</th>\n",
       "      <th>7/8/20</th>\n",
       "      <th>7/9/20</th>\n",
       "    </tr>\n",
       "  </thead>\n",
       "  <tbody>\n",
       "    <tr>\n",
       "      <td>1</td>\n",
       "      <td>1003</td>\n",
       "      <td>Baldwin</td>\n",
       "      <td>AL</td>\n",
       "      <td>0.9700</td>\n",
       "      <td>212628</td>\n",
       "      <td>0.0</td>\n",
       "      <td>0.0</td>\n",
       "      <td>0.0</td>\n",
       "      <td>0.0</td>\n",
       "      <td>0.0</td>\n",
       "      <td>...</td>\n",
       "      <td>29.699777</td>\n",
       "      <td>30.730086</td>\n",
       "      <td>32.925092</td>\n",
       "      <td>37.091124</td>\n",
       "      <td>37.897453</td>\n",
       "      <td>38.703782</td>\n",
       "      <td>40.047663</td>\n",
       "      <td>43.900123</td>\n",
       "      <td>46.543089</td>\n",
       "      <td>49.902793</td>\n",
       "    </tr>\n",
       "    <tr>\n",
       "      <td>7</td>\n",
       "      <td>1015</td>\n",
       "      <td>Calhoun</td>\n",
       "      <td>AL</td>\n",
       "      <td>0.9640</td>\n",
       "      <td>114728</td>\n",
       "      <td>0.0</td>\n",
       "      <td>0.0</td>\n",
       "      <td>0.0</td>\n",
       "      <td>0.0</td>\n",
       "      <td>0.0</td>\n",
       "      <td>...</td>\n",
       "      <td>23.590511</td>\n",
       "      <td>23.766560</td>\n",
       "      <td>24.646803</td>\n",
       "      <td>28.343823</td>\n",
       "      <td>29.224066</td>\n",
       "      <td>31.160600</td>\n",
       "      <td>33.097135</td>\n",
       "      <td>34.065402</td>\n",
       "      <td>35.473791</td>\n",
       "      <td>38.378592</td>\n",
       "    </tr>\n",
       "    <tr>\n",
       "      <td>27</td>\n",
       "      <td>1055</td>\n",
       "      <td>Etowah</td>\n",
       "      <td>AL</td>\n",
       "      <td>0.9412</td>\n",
       "      <td>102755</td>\n",
       "      <td>0.0</td>\n",
       "      <td>0.0</td>\n",
       "      <td>0.0</td>\n",
       "      <td>0.0</td>\n",
       "      <td>0.0</td>\n",
       "      <td>...</td>\n",
       "      <td>59.256072</td>\n",
       "      <td>61.113936</td>\n",
       "      <td>62.971800</td>\n",
       "      <td>69.132084</td>\n",
       "      <td>71.087730</td>\n",
       "      <td>72.261118</td>\n",
       "      <td>73.336723</td>\n",
       "      <td>77.248015</td>\n",
       "      <td>81.550436</td>\n",
       "      <td>86.243986</td>\n",
       "    </tr>\n",
       "    <tr>\n",
       "      <td>34</td>\n",
       "      <td>1069</td>\n",
       "      <td>Houston</td>\n",
       "      <td>AL</td>\n",
       "      <td>0.9229</td>\n",
       "      <td>104346</td>\n",
       "      <td>0.0</td>\n",
       "      <td>0.0</td>\n",
       "      <td>0.0</td>\n",
       "      <td>0.0</td>\n",
       "      <td>0.0</td>\n",
       "      <td>...</td>\n",
       "      <td>40.044578</td>\n",
       "      <td>40.989026</td>\n",
       "      <td>42.122363</td>\n",
       "      <td>43.539034</td>\n",
       "      <td>45.239040</td>\n",
       "      <td>46.844601</td>\n",
       "      <td>47.883493</td>\n",
       "      <td>48.166827</td>\n",
       "      <td>50.622391</td>\n",
       "      <td>52.133507</td>\n",
       "    </tr>\n",
       "    <tr>\n",
       "      <td>36</td>\n",
       "      <td>1073</td>\n",
       "      <td>Jefferson</td>\n",
       "      <td>AL</td>\n",
       "      <td>0.9370</td>\n",
       "      <td>659197</td>\n",
       "      <td>0.0</td>\n",
       "      <td>0.0</td>\n",
       "      <td>0.0</td>\n",
       "      <td>0.0</td>\n",
       "      <td>0.0</td>\n",
       "      <td>...</td>\n",
       "      <td>63.926095</td>\n",
       "      <td>66.613724</td>\n",
       "      <td>68.815454</td>\n",
       "      <td>72.915227</td>\n",
       "      <td>75.071404</td>\n",
       "      <td>79.277468</td>\n",
       "      <td>82.147309</td>\n",
       "      <td>83.301320</td>\n",
       "      <td>86.353373</td>\n",
       "      <td>91.561604</td>\n",
       "    </tr>\n",
       "    <tr>\n",
       "      <td>...</td>\n",
       "      <td>...</td>\n",
       "      <td>...</td>\n",
       "      <td>...</td>\n",
       "      <td>...</td>\n",
       "      <td>...</td>\n",
       "      <td>...</td>\n",
       "      <td>...</td>\n",
       "      <td>...</td>\n",
       "      <td>...</td>\n",
       "      <td>...</td>\n",
       "      <td>...</td>\n",
       "      <td>...</td>\n",
       "      <td>...</td>\n",
       "      <td>...</td>\n",
       "      <td>...</td>\n",
       "      <td>...</td>\n",
       "      <td>...</td>\n",
       "      <td>...</td>\n",
       "      <td>...</td>\n",
       "      <td>...</td>\n",
       "      <td>...</td>\n",
       "    </tr>\n",
       "    <tr>\n",
       "      <td>3070</td>\n",
       "      <td>55127</td>\n",
       "      <td>Walworth</td>\n",
       "      <td>WI</td>\n",
       "      <td>0.8100</td>\n",
       "      <td>103082</td>\n",
       "      <td>0.0</td>\n",
       "      <td>0.0</td>\n",
       "      <td>0.0</td>\n",
       "      <td>0.0</td>\n",
       "      <td>0.0</td>\n",
       "      <td>...</td>\n",
       "      <td>58.439558</td>\n",
       "      <td>58.920938</td>\n",
       "      <td>59.883699</td>\n",
       "      <td>62.579428</td>\n",
       "      <td>65.178881</td>\n",
       "      <td>66.334193</td>\n",
       "      <td>66.526745</td>\n",
       "      <td>67.489506</td>\n",
       "      <td>68.644818</td>\n",
       "      <td>69.607579</td>\n",
       "    </tr>\n",
       "    <tr>\n",
       "      <td>3072</td>\n",
       "      <td>55131</td>\n",
       "      <td>Washington</td>\n",
       "      <td>WI</td>\n",
       "      <td>0.8700</td>\n",
       "      <td>135101</td>\n",
       "      <td>0.0</td>\n",
       "      <td>0.0</td>\n",
       "      <td>0.0</td>\n",
       "      <td>0.0</td>\n",
       "      <td>0.0</td>\n",
       "      <td>...</td>\n",
       "      <td>27.052061</td>\n",
       "      <td>27.934193</td>\n",
       "      <td>29.036858</td>\n",
       "      <td>30.213035</td>\n",
       "      <td>31.021656</td>\n",
       "      <td>31.609745</td>\n",
       "      <td>32.050811</td>\n",
       "      <td>32.565388</td>\n",
       "      <td>33.153476</td>\n",
       "      <td>33.888587</td>\n",
       "    </tr>\n",
       "    <tr>\n",
       "      <td>3073</td>\n",
       "      <td>55133</td>\n",
       "      <td>Waukesha</td>\n",
       "      <td>WI</td>\n",
       "      <td>0.8300</td>\n",
       "      <td>400621</td>\n",
       "      <td>0.0</td>\n",
       "      <td>0.0</td>\n",
       "      <td>0.0</td>\n",
       "      <td>0.0</td>\n",
       "      <td>0.0</td>\n",
       "      <td>...</td>\n",
       "      <td>29.069911</td>\n",
       "      <td>29.935824</td>\n",
       "      <td>30.925438</td>\n",
       "      <td>31.469725</td>\n",
       "      <td>32.583041</td>\n",
       "      <td>34.116943</td>\n",
       "      <td>34.933374</td>\n",
       "      <td>35.353960</td>\n",
       "      <td>36.689939</td>\n",
       "      <td>37.753774</td>\n",
       "    </tr>\n",
       "    <tr>\n",
       "      <td>3076</td>\n",
       "      <td>55139</td>\n",
       "      <td>Winnebago</td>\n",
       "      <td>WI</td>\n",
       "      <td>0.8700</td>\n",
       "      <td>170414</td>\n",
       "      <td>0.0</td>\n",
       "      <td>0.0</td>\n",
       "      <td>0.0</td>\n",
       "      <td>0.0</td>\n",
       "      <td>0.0</td>\n",
       "      <td>...</td>\n",
       "      <td>38.916391</td>\n",
       "      <td>39.730785</td>\n",
       "      <td>40.254324</td>\n",
       "      <td>40.254324</td>\n",
       "      <td>40.777862</td>\n",
       "      <td>41.359572</td>\n",
       "      <td>41.592256</td>\n",
       "      <td>42.057624</td>\n",
       "      <td>42.232137</td>\n",
       "      <td>43.453728</td>\n",
       "    </tr>\n",
       "    <tr>\n",
       "      <td>3101</td>\n",
       "      <td>36061</td>\n",
       "      <td>NYC</td>\n",
       "      <td>NY</td>\n",
       "      <td>0.9900</td>\n",
       "      <td>8622698</td>\n",
       "      <td>0.0</td>\n",
       "      <td>0.0</td>\n",
       "      <td>0.0</td>\n",
       "      <td>0.0</td>\n",
       "      <td>0.0</td>\n",
       "      <td>...</td>\n",
       "      <td>258.106901</td>\n",
       "      <td>258.461953</td>\n",
       "      <td>258.974138</td>\n",
       "      <td>259.525908</td>\n",
       "      <td>259.967323</td>\n",
       "      <td>260.254003</td>\n",
       "      <td>260.550280</td>\n",
       "      <td>260.876543</td>\n",
       "      <td>261.223198</td>\n",
       "      <td>261.553060</td>\n",
       "    </tr>\n",
       "  </tbody>\n",
       "</table>\n",
       "<p>593 rows × 175 columns</p>\n",
       "</div>"
      ],
      "text/plain": [
       "       FIPS      County State      VR  County Population  1/22/20  1/23/20  \\\n",
       "1      1003     Baldwin    AL  0.9700             212628      0.0      0.0   \n",
       "7      1015     Calhoun    AL  0.9640             114728      0.0      0.0   \n",
       "27     1055      Etowah    AL  0.9412             102755      0.0      0.0   \n",
       "34     1069     Houston    AL  0.9229             104346      0.0      0.0   \n",
       "36     1073   Jefferson    AL  0.9370             659197      0.0      0.0   \n",
       "...     ...         ...   ...     ...                ...      ...      ...   \n",
       "3070  55127    Walworth    WI  0.8100             103082      0.0      0.0   \n",
       "3072  55131  Washington    WI  0.8700             135101      0.0      0.0   \n",
       "3073  55133    Waukesha    WI  0.8300             400621      0.0      0.0   \n",
       "3076  55139   Winnebago    WI  0.8700             170414      0.0      0.0   \n",
       "3101  36061         NYC    NY  0.9900            8622698      0.0      0.0   \n",
       "\n",
       "      1/24/20  1/25/20  1/26/20  ...     6/30/20      7/1/20      7/2/20  \\\n",
       "1         0.0      0.0      0.0  ...   29.699777   30.730086   32.925092   \n",
       "7         0.0      0.0      0.0  ...   23.590511   23.766560   24.646803   \n",
       "27        0.0      0.0      0.0  ...   59.256072   61.113936   62.971800   \n",
       "34        0.0      0.0      0.0  ...   40.044578   40.989026   42.122363   \n",
       "36        0.0      0.0      0.0  ...   63.926095   66.613724   68.815454   \n",
       "...       ...      ...      ...  ...         ...         ...         ...   \n",
       "3070      0.0      0.0      0.0  ...   58.439558   58.920938   59.883699   \n",
       "3072      0.0      0.0      0.0  ...   27.052061   27.934193   29.036858   \n",
       "3073      0.0      0.0      0.0  ...   29.069911   29.935824   30.925438   \n",
       "3076      0.0      0.0      0.0  ...   38.916391   39.730785   40.254324   \n",
       "3101      0.0      0.0      0.0  ...  258.106901  258.461953  258.974138   \n",
       "\n",
       "          7/3/20      7/4/20      7/5/20      7/6/20      7/7/20      7/8/20  \\\n",
       "1      37.091124   37.897453   38.703782   40.047663   43.900123   46.543089   \n",
       "7      28.343823   29.224066   31.160600   33.097135   34.065402   35.473791   \n",
       "27     69.132084   71.087730   72.261118   73.336723   77.248015   81.550436   \n",
       "34     43.539034   45.239040   46.844601   47.883493   48.166827   50.622391   \n",
       "36     72.915227   75.071404   79.277468   82.147309   83.301320   86.353373   \n",
       "...          ...         ...         ...         ...         ...         ...   \n",
       "3070   62.579428   65.178881   66.334193   66.526745   67.489506   68.644818   \n",
       "3072   30.213035   31.021656   31.609745   32.050811   32.565388   33.153476   \n",
       "3073   31.469725   32.583041   34.116943   34.933374   35.353960   36.689939   \n",
       "3076   40.254324   40.777862   41.359572   41.592256   42.057624   42.232137   \n",
       "3101  259.525908  259.967323  260.254003  260.550280  260.876543  261.223198   \n",
       "\n",
       "          7/9/20  \n",
       "1      49.902793  \n",
       "7      38.378592  \n",
       "27     86.243986  \n",
       "34     52.133507  \n",
       "36     91.561604  \n",
       "...          ...  \n",
       "3070   69.607579  \n",
       "3072   33.888587  \n",
       "3073   37.753774  \n",
       "3076   43.453728  \n",
       "3101  261.553060  \n",
       "\n",
       "[593 rows x 175 columns]"
      ]
     },
     "execution_count": 28,
     "metadata": {},
     "output_type": "execute_result"
    }
   ],
   "source": [
    "df = df_incidence\n",
    "df[df['County Population'] > 100000]"
   ]
  },
  {
   "cell_type": "code",
   "execution_count": 29,
   "metadata": {},
   "outputs": [
    {
     "data": {
      "text/plain": [
       "count    3.102000e+03\n",
       "mean     1.072425e+05\n",
       "std      3.681227e+05\n",
       "min      8.800000e+01\n",
       "25%      1.125575e+04\n",
       "50%      2.616900e+04\n",
       "75%      6.828925e+04\n",
       "max      1.016351e+07\n",
       "Name: County Population, dtype: float64"
      ]
     },
     "execution_count": 29,
     "metadata": {},
     "output_type": "execute_result"
    }
   ],
   "source": [
    "df['County Population'].describe()"
   ]
  },
  {
   "cell_type": "code",
   "execution_count": 30,
   "metadata": {},
   "outputs": [],
   "source": [
    "import seaborn as sns\n",
    "import matplotlib.pyplot as plt\n",
    "from scipy import stats"
   ]
  },
  {
   "cell_type": "code",
   "execution_count": 31,
   "metadata": {},
   "outputs": [
    {
     "data": {
      "text/plain": [
       "<matplotlib.axes._subplots.AxesSubplot at 0x1f5601b7e88>"
      ]
     },
     "execution_count": 31,
     "metadata": {},
     "output_type": "execute_result"
    },
    {
     "data": {
      "image/png": "[encoded data removed]",
      "text/plain": [
       "<Figure size 432x288 with 1 Axes>"
      ]
     },
     "metadata": {
      "needs_background": "light"
     },
     "output_type": "display_data"
    }
   ],
   "source": [
    "sns.distplot(df['County Population'])"
   ]
  },
  {
   "cell_type": "code",
   "execution_count": 54,
   "metadata": {
    "scrolled": true
   },
   "outputs": [
    {
     "data": {
      "application/vnd.plotly.v1+json": {
       "config": {
        "plotlyServerURL": "https://plot.ly"
       },
       "data": [
        {
         "mode": "markers",
         "text": [
          "(MMR,Incidence)<br>Baldwin,AL",
          "(MMR,Incidence)<br>Jefferson,AL",
          "(MMR,Incidence)<br>Madison,AL",
          "(MMR,Incidence)<br>Mobile,AL",
          "(MMR,Incidence)<br>Montgomery,AL",
          "(MMR,Incidence)<br>Shelby,AL",
          "(MMR,Incidence)<br>Tuscaloosa,AL",
          "(MMR,Incidence)<br>Maricopa,AZ",
          "(MMR,Incidence)<br>Mohave,AZ",
          "(MMR,Incidence)<br>Pima,AZ",
          "(MMR,Incidence)<br>Pinal,AZ",
          "(MMR,Incidence)<br>Yavapai,AZ",
          "(MMR,Incidence)<br>Yuma,AZ",
          "(MMR,Incidence)<br>Benton,AR",
          "(MMR,Incidence)<br>Pulaski,AR",
          "(MMR,Incidence)<br>Washington,AR",
          "(MMR,Incidence)<br>Alameda,CA",
          "(MMR,Incidence)<br>Butte,CA",
          "(MMR,Incidence)<br>Contra Costa,CA",
          "(MMR,Incidence)<br>Fresno,CA",
          "(MMR,Incidence)<br>Kern,CA",
          "(MMR,Incidence)<br>Los Angeles,CA",
          "(MMR,Incidence)<br>Marin,CA",
          "(MMR,Incidence)<br>Merced,CA",
          "(MMR,Incidence)<br>Monterey,CA",
          "(MMR,Incidence)<br>Orange,CA",
          "(MMR,Incidence)<br>Placer,CA",
          "(MMR,Incidence)<br>Riverside,CA",
          "(MMR,Incidence)<br>Sacramento,CA",
          "(MMR,Incidence)<br>San Bernardino,CA",
          "(MMR,Incidence)<br>San Diego,CA",
          "(MMR,Incidence)<br>San Francisco,CA",
          "(MMR,Incidence)<br>San Joaquin,CA",
          "(MMR,Incidence)<br>San Luis Obispo,CA",
          "(MMR,Incidence)<br>San Mateo,CA",
          "(MMR,Incidence)<br>Santa Barbara,CA",
          "(MMR,Incidence)<br>Santa Clara,CA",
          "(MMR,Incidence)<br>Santa Cruz,CA",
          "(MMR,Incidence)<br>Solano,CA",
          "(MMR,Incidence)<br>Sonoma,CA",
          "(MMR,Incidence)<br>Stanislaus,CA",
          "(MMR,Incidence)<br>Tulare,CA",
          "(MMR,Incidence)<br>Ventura,CA",
          "(MMR,Incidence)<br>Yolo,CA",
          "(MMR,Incidence)<br>Adams,CO",
          "(MMR,Incidence)<br>Arapahoe,CO",
          "(MMR,Incidence)<br>Boulder,CO",
          "(MMR,Incidence)<br>Denver,CO",
          "(MMR,Incidence)<br>Douglas,CO",
          "(MMR,Incidence)<br>El Paso,CO",
          "(MMR,Incidence)<br>Jefferson,CO",
          "(MMR,Incidence)<br>Larimer,CO",
          "(MMR,Incidence)<br>Weld,CO",
          "(MMR,Incidence)<br>Fairfield,CT",
          "(MMR,Incidence)<br>Hartford,CT",
          "(MMR,Incidence)<br>New Haven,CT",
          "(MMR,Incidence)<br>New London,CT",
          "(MMR,Incidence)<br>New Castle,DE",
          "(MMR,Incidence)<br>Sussex,DE",
          "(MMR,Incidence)<br>Alachua,FL",
          "(MMR,Incidence)<br>Brevard,FL",
          "(MMR,Incidence)<br>Broward,FL",
          "(MMR,Incidence)<br>Clay,FL",
          "(MMR,Incidence)<br>Collier,FL",
          "(MMR,Incidence)<br>Duval,FL",
          "(MMR,Incidence)<br>Escambia,FL",
          "(MMR,Incidence)<br>Hillsborough,FL",
          "(MMR,Incidence)<br>Lake,FL",
          "(MMR,Incidence)<br>Lee,FL",
          "(MMR,Incidence)<br>Leon,FL",
          "(MMR,Incidence)<br>Manatee,FL",
          "(MMR,Incidence)<br>Marion,FL",
          "(MMR,Incidence)<br>Miami-Dade,FL",
          "(MMR,Incidence)<br>Okaloosa,FL",
          "(MMR,Incidence)<br>Orange,FL",
          "(MMR,Incidence)<br>Osceola,FL",
          "(MMR,Incidence)<br>Palm Beach,FL",
          "(MMR,Incidence)<br>Pasco,FL",
          "(MMR,Incidence)<br>Pinellas,FL",
          "(MMR,Incidence)<br>Polk,FL",
          "(MMR,Incidence)<br>St Johns,FL",
          "(MMR,Incidence)<br>St Lucie,FL",
          "(MMR,Incidence)<br>Sarasota,FL",
          "(MMR,Incidence)<br>Seminole,FL",
          "(MMR,Incidence)<br>Volusia,FL",
          "(MMR,Incidence)<br>Chatham,GA",
          "(MMR,Incidence)<br>Cherokee,GA",
          "(MMR,Incidence)<br>Clayton,GA",
          "(MMR,Incidence)<br>Cobb,GA",
          "(MMR,Incidence)<br>DeKalb,GA",
          "(MMR,Incidence)<br>Forsyth,GA",
          "(MMR,Incidence)<br>Fulton,GA",
          "(MMR,Incidence)<br>Gwinnett,GA",
          "(MMR,Incidence)<br>Henry,GA",
          "(MMR,Incidence)<br>Richmond,GA",
          "(MMR,Incidence)<br>Hawaii,HI",
          "(MMR,Incidence)<br>Honolulu,HI",
          "(MMR,Incidence)<br>Ada,ID",
          "(MMR,Incidence)<br>Canyon,ID",
          "(MMR,Incidence)<br>Champaign,IL",
          "(MMR,Incidence)<br>Cook,IL",
          "(MMR,Incidence)<br>DuPage,IL",
          "(MMR,Incidence)<br>Kane,IL",
          "(MMR,Incidence)<br>Lake,IL",
          "(MMR,Incidence)<br>McHenry,IL",
          "(MMR,Incidence)<br>Madison,IL",
          "(MMR,Incidence)<br>St Clair,IL",
          "(MMR,Incidence)<br>Will,IL",
          "(MMR,Incidence)<br>Winnebago,IL",
          "(MMR,Incidence)<br>Allen,IN",
          "(MMR,Incidence)<br>Elkhart,IN",
          "(MMR,Incidence)<br>Hamilton,IN",
          "(MMR,Incidence)<br>Lake,IN",
          "(MMR,Incidence)<br>Marion,IN",
          "(MMR,Incidence)<br>St Joseph,IN",
          "(MMR,Incidence)<br>Linn,IA",
          "(MMR,Incidence)<br>Polk,IA",
          "(MMR,Incidence)<br>Johnson,KS",
          "(MMR,Incidence)<br>Sedgwick,KS",
          "(MMR,Incidence)<br>Fayette,KY",
          "(MMR,Incidence)<br>Jefferson,KY",
          "(MMR,Incidence)<br>Caddo,LA",
          "(MMR,Incidence)<br>Calcasieu,LA",
          "(MMR,Incidence)<br>East Baton Rouge,LA",
          "(MMR,Incidence)<br>Jefferson,LA",
          "(MMR,Incidence)<br>Lafayette,LA",
          "(MMR,Incidence)<br>Orleans,LA",
          "(MMR,Incidence)<br>St Tammany,LA",
          "(MMR,Incidence)<br>Cumberland,ME",
          "(MMR,Incidence)<br>York,ME",
          "(MMR,Incidence)<br>Anne Arundel,MD",
          "(MMR,Incidence)<br>Baltimore,MD",
          "(MMR,Incidence)<br>Frederick,MD",
          "(MMR,Incidence)<br>Harford,MD",
          "(MMR,Incidence)<br>Howard,MD",
          "(MMR,Incidence)<br>Montgomery,MD",
          "(MMR,Incidence)<br>Prince Georges,MD",
          "(MMR,Incidence)<br>Baltimore City,MD",
          "(MMR,Incidence)<br>Barnstable,MA",
          "(MMR,Incidence)<br>Bristol,MA",
          "(MMR,Incidence)<br>Essex,MA",
          "(MMR,Incidence)<br>Hampden,MA",
          "(MMR,Incidence)<br>Middlesex,MA",
          "(MMR,Incidence)<br>Norfolk,MA",
          "(MMR,Incidence)<br>Plymouth,MA",
          "(MMR,Incidence)<br>Suffolk,MA",
          "(MMR,Incidence)<br>Worcester,MA",
          "(MMR,Incidence)<br>Genesee,MI",
          "(MMR,Incidence)<br>Ingham,MI",
          "(MMR,Incidence)<br>Kalamazoo,MI",
          "(MMR,Incidence)<br>Kent,MI",
          "(MMR,Incidence)<br>Macomb,MI",
          "(MMR,Incidence)<br>Oakland,MI",
          "(MMR,Incidence)<br>Ottawa,MI",
          "(MMR,Incidence)<br>Washtenaw,MI",
          "(MMR,Incidence)<br>Wayne,MI",
          "(MMR,Incidence)<br>Anoka,MN",
          "(MMR,Incidence)<br>Dakota,MN",
          "(MMR,Incidence)<br>Hennepin,MN",
          "(MMR,Incidence)<br>Ramsey,MN",
          "(MMR,Incidence)<br>Washington,MN",
          "(MMR,Incidence)<br>Harrison,MS",
          "(MMR,Incidence)<br>Hinds,MS",
          "(MMR,Incidence)<br>Clay,MO",
          "(MMR,Incidence)<br>Greene,MO",
          "(MMR,Incidence)<br>Jackson,MO",
          "(MMR,Incidence)<br>Jefferson,MO",
          "(MMR,Incidence)<br>St Charles,MO",
          "(MMR,Incidence)<br>St Louis County,MO",
          "(MMR,Incidence)<br>St Louis City,MO",
          "(MMR,Incidence)<br>Douglas,NE",
          "(MMR,Incidence)<br>Lancaster,NE",
          "(MMR,Incidence)<br>Clark,NV",
          "(MMR,Incidence)<br>Washoe,NV",
          "(MMR,Incidence)<br>Hillsborough,NH",
          "(MMR,Incidence)<br>Rockingham,NH",
          "(MMR,Incidence)<br>Atlantic,NJ",
          "(MMR,Incidence)<br>Bergen,NJ",
          "(MMR,Incidence)<br>Burlington,NJ",
          "(MMR,Incidence)<br>Camden,NJ",
          "(MMR,Incidence)<br>Essex,NJ",
          "(MMR,Incidence)<br>Gloucester,NJ",
          "(MMR,Incidence)<br>Hudson,NJ",
          "(MMR,Incidence)<br>Mercer,NJ",
          "(MMR,Incidence)<br>Middlesex,NJ",
          "(MMR,Incidence)<br>Monmouth,NJ",
          "(MMR,Incidence)<br>Morris,NJ",
          "(MMR,Incidence)<br>Ocean,NJ",
          "(MMR,Incidence)<br>Passaic,NJ",
          "(MMR,Incidence)<br>Somerset,NJ",
          "(MMR,Incidence)<br>Union,NJ",
          "(MMR,Incidence)<br>Bernalillo,NM",
          "(MMR,Incidence)<br>Dona Ana,NM",
          "(MMR,Incidence)<br>Albany,NY",
          "(MMR,Incidence)<br>Bronx,NY",
          "(MMR,Incidence)<br>Dutchess,NY",
          "(MMR,Incidence)<br>Erie,NY",
          "(MMR,Incidence)<br>Kings,NY",
          "(MMR,Incidence)<br>Monroe,NY",
          "(MMR,Incidence)<br>Nassau,NY",
          "(MMR,Incidence)<br>Niagara,NY",
          "(MMR,Incidence)<br>Oneida,NY",
          "(MMR,Incidence)<br>Onondaga,NY",
          "(MMR,Incidence)<br>Orange,NY",
          "(MMR,Incidence)<br>Queens,NY",
          "(MMR,Incidence)<br>Richmond,NY",
          "(MMR,Incidence)<br>Rockland,NY",
          "(MMR,Incidence)<br>Saratoga,NY",
          "(MMR,Incidence)<br>Suffolk,NY",
          "(MMR,Incidence)<br>Westchester,NY",
          "(MMR,Incidence)<br>Buncombe,NC",
          "(MMR,Incidence)<br>Cabarrus,NC",
          "(MMR,Incidence)<br>Cumberland,NC",
          "(MMR,Incidence)<br>Durham,NC",
          "(MMR,Incidence)<br>Forsyth,NC",
          "(MMR,Incidence)<br>Gaston,NC",
          "(MMR,Incidence)<br>Guilford,NC",
          "(MMR,Incidence)<br>Mecklenburg,NC",
          "(MMR,Incidence)<br>New Hanover,NC",
          "(MMR,Incidence)<br>Union,NC",
          "(MMR,Incidence)<br>Wake,NC",
          "(MMR,Incidence)<br>Butler,OH",
          "(MMR,Incidence)<br>Clermont,OH",
          "(MMR,Incidence)<br>Cuyahoga,OH",
          "(MMR,Incidence)<br>Delaware,OH",
          "(MMR,Incidence)<br>Franklin,OH",
          "(MMR,Incidence)<br>Hamilton,OH",
          "(MMR,Incidence)<br>Lake,OH",
          "(MMR,Incidence)<br>Lorain,OH",
          "(MMR,Incidence)<br>Lucas,OH",
          "(MMR,Incidence)<br>Mahoning,OH",
          "(MMR,Incidence)<br>Montgomery,OH",
          "(MMR,Incidence)<br>Stark,OH",
          "(MMR,Incidence)<br>Summit,OH",
          "(MMR,Incidence)<br>Trumbull,OH",
          "(MMR,Incidence)<br>Warren,OH",
          "(MMR,Incidence)<br>Cleveland,OK",
          "(MMR,Incidence)<br>Oklahoma,OK",
          "(MMR,Incidence)<br>Tulsa,OK",
          "(MMR,Incidence)<br>Clackamas,OR",
          "(MMR,Incidence)<br>Jackson,OR",
          "(MMR,Incidence)<br>Lane,OR",
          "(MMR,Incidence)<br>Marion,OR",
          "(MMR,Incidence)<br>Multnomah,OR",
          "(MMR,Incidence)<br>Washington,OR",
          "(MMR,Incidence)<br>Allegheny,PA",
          "(MMR,Incidence)<br>Berks,PA",
          "(MMR,Incidence)<br>Bucks,PA",
          "(MMR,Incidence)<br>Chester,PA",
          "(MMR,Incidence)<br>Cumberland,PA",
          "(MMR,Incidence)<br>Dauphin,PA",
          "(MMR,Incidence)<br>Delaware,PA",
          "(MMR,Incidence)<br>Erie,PA",
          "(MMR,Incidence)<br>Lackawanna,PA",
          "(MMR,Incidence)<br>Lancaster,PA",
          "(MMR,Incidence)<br>Lehigh,PA",
          "(MMR,Incidence)<br>Luzerne,PA",
          "(MMR,Incidence)<br>Montgomery,PA",
          "(MMR,Incidence)<br>Northampton,PA",
          "(MMR,Incidence)<br>Philadelphia,PA",
          "(MMR,Incidence)<br>Washington,PA",
          "(MMR,Incidence)<br>Westmoreland,PA",
          "(MMR,Incidence)<br>York,PA",
          "(MMR,Incidence)<br>Providence,RI",
          "(MMR,Incidence)<br>Berkeley,SC",
          "(MMR,Incidence)<br>Charleston,SC",
          "(MMR,Incidence)<br>Greenville,SC",
          "(MMR,Incidence)<br>Horry,SC",
          "(MMR,Incidence)<br>Lexington,SC",
          "(MMR,Incidence)<br>Richland,SC",
          "(MMR,Incidence)<br>Spartanburg,SC",
          "(MMR,Incidence)<br>York,SC",
          "(MMR,Incidence)<br>Davidson,TN",
          "(MMR,Incidence)<br>Hamilton,TN",
          "(MMR,Incidence)<br>Knox,TN",
          "(MMR,Incidence)<br>Montgomery,TN",
          "(MMR,Incidence)<br>Rutherford,TN",
          "(MMR,Incidence)<br>Shelby,TN",
          "(MMR,Incidence)<br>Williamson,TN",
          "(MMR,Incidence)<br>Bell,TX",
          "(MMR,Incidence)<br>Bexar,TX",
          "(MMR,Incidence)<br>Brazoria,TX",
          "(MMR,Incidence)<br>Brazos,TX",
          "(MMR,Incidence)<br>Cameron,TX",
          "(MMR,Incidence)<br>Collin,TX",
          "(MMR,Incidence)<br>Dallas,TX",
          "(MMR,Incidence)<br>Denton,TX",
          "(MMR,Incidence)<br>El Paso,TX",
          "(MMR,Incidence)<br>Fort Bend,TX",
          "(MMR,Incidence)<br>Galveston,TX",
          "(MMR,Incidence)<br>Harris,TX",
          "(MMR,Incidence)<br>Hays,TX",
          "(MMR,Incidence)<br>Hidalgo,TX",
          "(MMR,Incidence)<br>Jefferson,TX",
          "(MMR,Incidence)<br>Lubbock,TX",
          "(MMR,Incidence)<br>McLennan,TX",
          "(MMR,Incidence)<br>Montgomery,TX",
          "(MMR,Incidence)<br>Nueces,TX",
          "(MMR,Incidence)<br>Smith,TX",
          "(MMR,Incidence)<br>Tarrant,TX",
          "(MMR,Incidence)<br>Travis,TX",
          "(MMR,Incidence)<br>Webb,TX",
          "(MMR,Incidence)<br>Williamson,TX",
          "(MMR,Incidence)<br>Davis,UT",
          "(MMR,Incidence)<br>Salt Lake,UT",
          "(MMR,Incidence)<br>Utah,UT",
          "(MMR,Incidence)<br>Weber,UT",
          "(MMR,Incidence)<br>Arlington,VA",
          "(MMR,Incidence)<br>Chesterfield,VA",
          "(MMR,Incidence)<br>Fairfax County,VA",
          "(MMR,Incidence)<br>Henrico,VA",
          "(MMR,Incidence)<br>Loudoun,VA",
          "(MMR,Incidence)<br>Prince William,VA",
          "(MMR,Incidence)<br>Chesapeake,VA",
          "(MMR,Incidence)<br>Norfolk,VA",
          "(MMR,Incidence)<br>Richmond City,VA",
          "(MMR,Incidence)<br>Virginia Beach,VA",
          "(MMR,Incidence)<br>Clark,WA",
          "(MMR,Incidence)<br>King,WA",
          "(MMR,Incidence)<br>Kitsap,WA",
          "(MMR,Incidence)<br>Pierce,WA",
          "(MMR,Incidence)<br>Snohomish,WA",
          "(MMR,Incidence)<br>Spokane,WA",
          "(MMR,Incidence)<br>Thurston,WA",
          "(MMR,Incidence)<br>Whatcom,WA",
          "(MMR,Incidence)<br>Yakima,WA",
          "(MMR,Incidence)<br>Brown,WI",
          "(MMR,Incidence)<br>Dane,WI",
          "(MMR,Incidence)<br>Milwaukee,WI",
          "(MMR,Incidence)<br>Waukesha,WI",
          "(MMR,Incidence)<br>NYC,NY"
         ],
         "type": "scatter",
         "x": [
          0.97,
          0.937,
          0.9486,
          0.8947,
          0.8643,
          0.9644,
          0.9224,
          0.927,
          0.884,
          0.959,
          0.922,
          0.833,
          0.973,
          0.942,
          0.942,
          0.942,
          0.966,
          0.942,
          0.964,
          0.966,
          0.911,
          0.945,
          0.943,
          0.975,
          0.975,
          0.957,
          0.917,
          0.963,
          0.934,
          0.951,
          0.925,
          0.957,
          0.967,
          0.947,
          0.966,
          0.967,
          0.973,
          0.909,
          0.975,
          0.913,
          0.959,
          0.981,
          0.961,
          0.956,
          0.974122696,
          0.953626295,
          0.901632047,
          0.939261108,
          0.947053857,
          0.928410324,
          0.95257722,
          0.940003681,
          0.953247933,
          0.956,
          0.96,
          0.969,
          0.962,
          0.978,
          0.978,
          0.973673552,
          0.972616137,
          0.963475911,
          0.973517906,
          0.957244075,
          0.969316717,
          0.962343096,
          0.975863069,
          0.972579051,
          0.964398734,
          0.968636032,
          0.97130762,
          0.972761597,
          0.948372298,
          0.97134123,
          0.948399739,
          0.969346049,
          0.958587876,
          0.964556962,
          0.9655483,
          0.971347019,
          0.970240522,
          0.947436561,
          0.967217708,
          0.97348378,
          0.946076608,
          0.953,
          0.895,
          0.962,
          0.931,
          0.915,
          0.946,
          0.935,
          0.932,
          0.883,
          0.946,
          0.915,
          0.915,
          0.920710937,
          0.908147541,
          0.985941343,
          0.979524882,
          0.979451049,
          0.980589532,
          0.984031837,
          0.979576651,
          0.987267211,
          0.972926578,
          0.983017761,
          0.976995462,
          0.58,
          0.63,
          0.66,
          0.58,
          0.67,
          0.59,
          0.937536294,
          0.971392374,
          0.88,
          0.9,
          0.956,
          0.907,
          0.9406,
          0.9313,
          0.9214,
          0.9132,
          0.9598,
          0.9198,
          0.9178,
          0.935879467,
          0.94028169,
          0.993,
          0.995,
          0.98,
          0.994,
          0.994,
          0.971,
          0.992,
          0.992,
          0.937,
          0.972,
          0.963,
          0.939,
          0.973,
          0.976,
          0.952,
          0.86,
          0.964,
          0.923370187,
          0.930110658,
          0.93676815,
          0.954602119,
          0.919247558,
          0.912431812,
          0.956317616,
          0.927277501,
          0.925784309,
          0.932,
          0.9299,
          0.914,
          0.9137,
          0.9491,
          0.992,
          0.992,
          0.9527,
          0.9484,
          0.9515,
          0.9682,
          0.9638,
          0.9576,
          0.8114,
          0.969,
          0.969,
          0.951,
          0.951,
          0.918,
          0.918,
          0.978,
          0.959,
          0.979,
          0.97,
          0.961,
          0.98,
          0.961,
          0.947,
          0.974,
          0.96,
          0.974,
          0.958,
          0.967,
          0.945,
          0.961,
          0.94,
          0.885,
          0.99,
          0.99,
          0.98,
          0.99,
          0.99,
          0.99,
          0.99,
          0.99,
          0.99,
          0.99,
          0.95,
          0.99,
          0.99,
          0.96,
          0.99,
          0.99,
          0.99,
          0.973,
          0.993,
          0.949,
          0.95,
          0.994,
          0.974,
          0.945,
          0.942,
          0.973,
          0.986,
          0.957,
          0.916,
          0.916,
          0.916,
          0.916,
          0.916,
          0.916,
          0.916,
          0.916,
          0.916,
          0.916,
          0.916,
          0.916,
          0.916,
          0.916,
          0.916,
          0.934,
          0.901,
          0.915,
          0.949,
          0.927,
          0.955,
          0.965,
          0.95,
          0.973,
          0.979,
          0.979,
          0.975,
          0.97,
          0.977,
          0.951,
          0.983,
          0.978,
          0.985,
          0.922,
          0.98,
          0.98,
          0.977,
          0.981,
          0.962,
          0.981,
          0.962,
          0.978,
          0.95960124,
          0.9829,
          0.978,
          0.9811,
          0.9643,
          0.9818,
          0.9725,
          0.9793,
          0.9862,
          0.942787662,
          0.93326541,
          0.947379679,
          0.944559229,
          0.953217709,
          0.924990253,
          0.943951868,
          0.970139567,
          0.976191106,
          0.981338155,
          0.960194175,
          0.990407674,
          0.958482682,
          0.968322871,
          0.955108682,
          0.982961644,
          0.96052011,
          0.949122562,
          0.974768052,
          0.962013295,
          0.990638863,
          0.973920893,
          0.962708243,
          0.975715955,
          0.974343302,
          0.985621942,
          0.974720456,
          0.955869534,
          0.95545259,
          0.996803977,
          0.955840541,
          0.875,
          0.909,
          0.866,
          0.901,
          0.976,
          0.904,
          0.877,
          0.96,
          0.954,
          0.958,
          0.898,
          0.903,
          0.924,
          0.946,
          0.59,
          0.71,
          0.584,
          0.621,
          0.694,
          0.605,
          0.636,
          0.641,
          0.76,
          0.84,
          0.81,
          0.82,
          0.83,
          0.99
         ],
         "y": [
          49.90279258535887,
          91.56160364910193,
          51.13848150621197,
          106.91900002420077,
          191.57917045645206,
          69.31493509476256,
          121.51608511857849,
          163.11760742709592,
          75.17166947087628,
          103.45858171509217,
          111.411463971702,
          44.109077452477464,
          369.479902894002,
          117.14509871355337,
          69.22490055140071,
          180.1519313340608,
          44.31802475754325,
          14.553849242196126,
          37.771146900893434,
          76.33862842695584,
          66.41842608658945,
          124.50509791358934,
          124.67835534297173,
          64.5707288965716,
          53.97858826294,
          67.75531128333604,
          24.929141488568494,
          94.4487574811398,
          31.77716296684789,
          79.87761945061774,
          55.12337006826767,
          47.01950770745585,
          79.57771981294971,
          30.97724920614176,
          49.40168777141903,
          86.62953332482269,
          29.45246834300558,
          18.52034859249011,
          44.3433718387197,
          30.728087778353185,
          79.25035412050993,
          118.16943553663167,
          48.380271534717245,
          36.3718820861678,
          88.67054101012522,
          83.91842702447494,
          45.555432929894906,
          105.21017971400322,
          30.698781731092343,
          38.92265856749625,
          50.13030103914865,
          24.348625241314767,
          90.51070596501609,
          179.0037865777902,
          133.0686762660925,
          146.3456865518504,
          49.734923040956836,
          100.68849742193778,
          213.8115060305262,
          69.54278684076523,
          49.58949533343744,
          128.54507783270807,
          57.194461167971106,
          144.89402497259044,
          115.14426967230659,
          104.67585669586197,
          113.22257005587078,
          59.40869148339226,
          108.23058565205035,
          69.72498313929329,
          105.78966554495564,
          31.785195539131074,
          205.97068761179858,
          48.16407102658277,
          111.91630569262522,
          92.24193681453943,
          124.64172852208422,
          60.11405423262514,
          100.77990063548978,
          85.62633748035603,
          61.66122597025753,
          75.63273499300938,
          56.04714323261294,
          80.66533001572614,
          58.45099442600907,
          73.14376533185917,
          62.641774837405755,
          88.27876929814956,
          83.78708686940975,
          98.40681577827912,
          43.27497830109887,
          90.0993197905515,
          111.24165554072096,
          68.68149436607109,
          71.4998173001906,
          4.813585227752056,
          8.63976982503953,
          74.66978967455516,
          72.43886203551027,
          48.16657049249126,
          182.52572262264638,
          102.95572427109146,
          149.7174133128476,
          146.08024004536742,
          71.7409527770377,
          41.64036415354076,
          81.94511833522022,
          103.07741084600205,
          111.22828871933525,
          75.58680618720324,
          166.32661468152233,
          48.193697838236034,
          109.92949434904314,
          122.45718870972088,
          74.49618505956016,
          59.15150018085097,
          142.60620490002265,
          43.70842677884001,
          34.725855647408544,
          53.72084963113334,
          57.319333243778665,
          168.81484071872242,
          137.48795690045026,
          146.98029127912395,
          243.79585334329113,
          134.74364744874995,
          213.86975065616798,
          111.66619947085275,
          62.50783890333319,
          26.825145322937185,
          93.0711940252126,
          102.69891342446549,
          98.90308884325383,
          47.9562795322599,
          84.46682428075779,
          147.55093805201923,
          213.9604344751668,
          137.40753845894622,
          73.52457861871449,
          148.59779518308898,
          207.5829431938294,
          148.63671060869862,
          151.0703921762066,
          132.7720986169573,
          168.39920031005252,
          250.9245472424049,
          151.4888842337429,
          70.72222920409153,
          39.055286143239194,
          44.21540295624486,
          84.86121576059243,
          87.98908889529642,
          99.30151783101566,
          41.256896138162624,
          50.299101471432344,
          135.48515071086686,
          65.22451747025252,
          58.83161896503901,
          101.64767668660332,
          92.05536405116287,
          45.34369760707209,
          49.98077662437524,
          116.33022774327121,
          21.564485412965897,
          13.886709020560518,
          21.194547453738277,
          23.946934659078288,
          30.595340553502048,
          75.12535141142924,
          93.5204407537528,
          136.05168318668643,
          62.364850042307815,
          90.97747180391006,
          70.58040078978789,
          81.21815238894551,
          48.58459045288586,
          112.86835817499147,
          212.08922529666316,
          119.36705819480902,
          150.0579500109582,
          236.90353265120936,
          92.47829486071679,
          283.1239561505136,
          211.3327708679204,
          205.46334699695294,
          151.43949126932182,
          139.5561609856764,
          160.9556215064247,
          338.7628381152033,
          150.54691822675673,
          295.8976598884497,
          41.465364787718244,
          59.85471711084122,
          71.45522510196199,
          0,
          144.62065543236648,
          82.98664855415576,
          0,
          54.92268492929075,
          310.7322149213957,
          62.83417988255026,
          78.32213092171723,
          66.22832922211028,
          280.8229854003221,
          0,
          0,
          419.99576412954394,
          25.449941921927408,
          283.4144091735005,
          363.64632364037016,
          29.748345080802935,
          67.1739361431812,
          44.410135048538194,
          133.0376250435475,
          92.20628049019736,
          68.89978577377532,
          62.56818088738472,
          123.89720053748528,
          58.471551095435295,
          68.49857624687837,
          60.30073010296278,
          44.919010059143794,
          21.12116573333075,
          68.96763913358897,
          30.835130057319876,
          84.46515527554081,
          78.24111622035224,
          23.94101212692647,
          34.63155958209745,
          66.74479628713102,
          82.42851458132,
          42.93879669805731,
          31.59689805345839,
          41.939842480679765,
          51.21884691929243,
          39.1301011926582,
          42.533114564774976,
          52.593694274385086,
          72.02801925249251,
          21.856250911673484,
          7.422695343616482,
          7.092996778052017,
          50.11241511365139,
          33.142442379022086,
          28.590805728799587,
          35.91149998560908,
          110.33706584608372,
          95.54809238066437,
          74.63013510759272,
          36.38946994513952,
          80.74049852856102,
          131.39901931549704,
          25.914995847668763,
          83.41520646336694,
          86.32568844324237,
          118.32621209905827,
          93.85130601070516,
          105.29356191668221,
          115.07280082545817,
          171.88699446487013,
          17.69269813646581,
          26.282677795006578,
          38.16878888695892,
          205.71861437307004,
          83.71835880424909,
          162.83184980287115,
          123.0655802208801,
          147.00026265176612,
          89.60669456066945,
          107.51420895278274,
          67.48284003314727,
          59.968894472540654,
          180.78381430942284,
          83.95776011136367,
          31.277043160618565,
          31.484308086873725,
          100.09479814015077,
          137.03015260903618,
          66.73321812660437,
          51.0299677067375,
          88.23820071732531,
          84.05831177992006,
          117.96990545828952,
          76.70802976630755,
          38.15488098344496,
          115.19945240324854,
          40.37389245125433,
          99.91206308579926,
          54.36818087738146,
          147.9807914327218,
          86.81344910440082,
          148.09440855637274,
          84.42432258517545,
          128.59499532923897,
          104.03485215845754,
          88.96318724354403,
          47.35005951685158,
          145.18595394900274,
          50.01052627056382,
          76.95545572802097,
          103.3082827166444,
          78.1848676315371,
          61.247885449351536,
          46.24719745921723,
          117.5936306753404,
          78.3987048810581,
          0,
          108.38449261533005,
          88.09473869195753,
          124.47583161079605,
          82.37157591183067,
          104.44022072941301,
          163.43669937385056,
          45.62256213368187,
          53.10164701617355,
          101.2428613584683,
          34.37976416415171,
          20.563615099919918,
          50.68843767395159,
          9.9089043845981,
          33.094654025503324,
          46.455163286432146,
          35.42477209170655,
          10.669934190599443,
          30.054918930236816,
          313.62482212115293,
          118.05308797846844,
          48.50968090068503,
          137.50282851481296,
          37.75377414039654,
          261.55306035864766
         ]
        }
       ],
       "layout": {
        "paper_bgcolor": "rgb(243, 243, 243)",
        "plot_bgcolor": "rgb(243, 243, 243)",
        "template": {
         "data": {
          "bar": [
           {
            "error_x": {
             "color": "#2a3f5f"
            },
            "error_y": {
             "color": "#2a3f5f"
            },
            "marker": {
             "line": {
              "color": "#E5ECF6",
              "width": 0.5
             }
            },
            "type": "bar"
           }
          ],
          "barpolar": [
           {
            "marker": {
             "line": {
              "color": "#E5ECF6",
              "width": 0.5
             }
            },
            "type": "barpolar"
           }
          ],
          "carpet": [
           {
            "aaxis": {
             "endlinecolor": "#2a3f5f",
             "gridcolor": "white",
             "linecolor": "white",
             "minorgridcolor": "white",
             "startlinecolor": "#2a3f5f"
            },
            "baxis": {
             "endlinecolor": "#2a3f5f",
             "gridcolor": "white",
             "linecolor": "white",
             "minorgridcolor": "white",
             "startlinecolor": "#2a3f5f"
            },
            "type": "carpet"
           }
          ],
          "choropleth": [
           {
            "colorbar": {
             "outlinewidth": 0,
             "ticks": ""
            },
            "type": "choropleth"
           }
          ],
          "contour": [
           {
            "colorbar": {
             "outlinewidth": 0,
             "ticks": ""
            },
            "colorscale": [
             [
              0,
              "#0d0887"
             ],
             [
              0.1111111111111111,
              "#46039f"
             ],
             [
              0.2222222222222222,
              "#7201a8"
             ],
             [
              0.3333333333333333,
              "#9c179e"
             ],
             [
              0.4444444444444444,
              "#bd3786"
             ],
             [
              0.5555555555555556,
              "#d8576b"
             ],
             [
              0.6666666666666666,
              "#ed7953"
             ],
             [
              0.7777777777777778,
              "#fb9f3a"
             ],
             [
              0.8888888888888888,
              "#fdca26"
             ],
             [
              1,
              "#f0f921"
             ]
            ],
            "type": "contour"
           }
          ],
          "contourcarpet": [
           {
            "colorbar": {
             "outlinewidth": 0,
             "ticks": ""
            },
            "type": "contourcarpet"
           }
          ],
          "heatmap": [
           {
            "colorbar": {
             "outlinewidth": 0,
             "ticks": ""
            },
            "colorscale": [
             [
              0,
              "#0d0887"
             ],
             [
              0.1111111111111111,
              "#46039f"
             ],
             [
              0.2222222222222222,
              "#7201a8"
             ],
             [
              0.3333333333333333,
              "#9c179e"
             ],
             [
              0.4444444444444444,
              "#bd3786"
             ],
             [
              0.5555555555555556,
              "#d8576b"
             ],
             [
              0.6666666666666666,
              "#ed7953"
             ],
             [
              0.7777777777777778,
              "#fb9f3a"
             ],
             [
              0.8888888888888888,
              "#fdca26"
             ],
             [
              1,
              "#f0f921"
             ]
            ],
            "type": "heatmap"
           }
          ],
          "heatmapgl": [
           {
            "colorbar": {
             "outlinewidth": 0,
             "ticks": ""
            },
            "colorscale": [
             [
              0,
              "#0d0887"
             ],
             [
              0.1111111111111111,
              "#46039f"
             ],
             [
              0.2222222222222222,
              "#7201a8"
             ],
             [
              0.3333333333333333,
              "#9c179e"
             ],
             [
              0.4444444444444444,
              "#bd3786"
             ],
             [
              0.5555555555555556,
              "#d8576b"
             ],
             [
              0.6666666666666666,
              "#ed7953"
             ],
             [
              0.7777777777777778,
              "#fb9f3a"
             ],
             [
              0.8888888888888888,
              "#fdca26"
             ],
             [
              1,
              "#f0f921"
             ]
            ],
            "type": "heatmapgl"
           }
          ],
          "histogram": [
           {
            "marker": {
             "colorbar": {
              "outlinewidth": 0,
              "ticks": ""
             }
            },
            "type": "histogram"
           }
          ],
          "histogram2d": [
           {
            "colorbar": {
             "outlinewidth": 0,
             "ticks": ""
            },
            "colorscale": [
             [
              0,
              "#0d0887"
             ],
             [
              0.1111111111111111,
              "#46039f"
             ],
             [
              0.2222222222222222,
              "#7201a8"
             ],
             [
              0.3333333333333333,
              "#9c179e"
             ],
             [
              0.4444444444444444,
              "#bd3786"
             ],
             [
              0.5555555555555556,
              "#d8576b"
             ],
             [
              0.6666666666666666,
              "#ed7953"
             ],
             [
              0.7777777777777778,
              "#fb9f3a"
             ],
             [
              0.8888888888888888,
              "#fdca26"
             ],
             [
              1,
              "#f0f921"
             ]
            ],
            "type": "histogram2d"
           }
          ],
          "histogram2dcontour": [
           {
            "colorbar": {
             "outlinewidth": 0,
             "ticks": ""
            },
            "colorscale": [
             [
              0,
              "#0d0887"
             ],
             [
              0.1111111111111111,
              "#46039f"
             ],
             [
              0.2222222222222222,
              "#7201a8"
             ],
             [
              0.3333333333333333,
              "#9c179e"
             ],
             [
              0.4444444444444444,
              "#bd3786"
             ],
             [
              0.5555555555555556,
              "#d8576b"
             ],
             [
              0.6666666666666666,
              "#ed7953"
             ],
             [
              0.7777777777777778,
              "#fb9f3a"
             ],
             [
              0.8888888888888888,
              "#fdca26"
             ],
             [
              1,
              "#f0f921"
             ]
            ],
            "type": "histogram2dcontour"
           }
          ],
          "mesh3d": [
           {
            "colorbar": {
             "outlinewidth": 0,
             "ticks": ""
            },
            "type": "mesh3d"
           }
          ],
          "parcoords": [
           {
            "line": {
             "colorbar": {
              "outlinewidth": 0,
              "ticks": ""
             }
            },
            "type": "parcoords"
           }
          ],
          "pie": [
           {
            "automargin": true,
            "type": "pie"
           }
          ],
          "scatter": [
           {
            "marker": {
             "colorbar": {
              "outlinewidth": 0,
              "ticks": ""
             }
            },
            "type": "scatter"
           }
          ],
          "scatter3d": [
           {
            "line": {
             "colorbar": {
              "outlinewidth": 0,
              "ticks": ""
             }
            },
            "marker": {
             "colorbar": {
              "outlinewidth": 0,
              "ticks": ""
             }
            },
            "type": "scatter3d"
           }
          ],
          "scattercarpet": [
           {
            "marker": {
             "colorbar": {
              "outlinewidth": 0,
              "ticks": ""
             }
            },
            "type": "scattercarpet"
           }
          ],
          "scattergeo": [
           {
            "marker": {
             "colorbar": {
              "outlinewidth": 0,
              "ticks": ""
             }
            },
            "type": "scattergeo"
           }
          ],
          "scattergl": [
           {
            "marker": {
             "colorbar": {
              "outlinewidth": 0,
              "ticks": ""
             }
            },
            "type": "scattergl"
           }
          ],
          "scattermapbox": [
           {
            "marker": {
             "colorbar": {
              "outlinewidth": 0,
              "ticks": ""
             }
            },
            "type": "scattermapbox"
           }
          ],
          "scatterpolar": [
           {
            "marker": {
             "colorbar": {
              "outlinewidth": 0,
              "ticks": ""
             }
            },
            "type": "scatterpolar"
           }
          ],
          "scatterpolargl": [
           {
            "marker": {
             "colorbar": {
              "outlinewidth": 0,
              "ticks": ""
             }
            },
            "type": "scatterpolargl"
           }
          ],
          "scatterternary": [
           {
            "marker": {
             "colorbar": {
              "outlinewidth": 0,
              "ticks": ""
             }
            },
            "type": "scatterternary"
           }
          ],
          "surface": [
           {
            "colorbar": {
             "outlinewidth": 0,
             "ticks": ""
            },
            "colorscale": [
             [
              0,
              "#0d0887"
             ],
             [
              0.1111111111111111,
              "#46039f"
             ],
             [
              0.2222222222222222,
              "#7201a8"
             ],
             [
              0.3333333333333333,
              "#9c179e"
             ],
             [
              0.4444444444444444,
              "#bd3786"
             ],
             [
              0.5555555555555556,
              "#d8576b"
             ],
             [
              0.6666666666666666,
              "#ed7953"
             ],
             [
              0.7777777777777778,
              "#fb9f3a"
             ],
             [
              0.8888888888888888,
              "#fdca26"
             ],
             [
              1,
              "#f0f921"
             ]
            ],
            "type": "surface"
           }
          ],
          "table": [
           {
            "cells": {
             "fill": {
              "color": "#EBF0F8"
             },
             "line": {
              "color": "white"
             }
            },
            "header": {
             "fill": {
              "color": "#C8D4E3"
             },
             "line": {
              "color": "white"
             }
            },
            "type": "table"
           }
          ]
         },
         "layout": {
          "annotationdefaults": {
           "arrowcolor": "#2a3f5f",
           "arrowhead": 0,
           "arrowwidth": 1
          },
          "coloraxis": {
           "colorbar": {
            "outlinewidth": 0,
            "ticks": ""
           }
          },
          "colorscale": {
           "diverging": [
            [
             0,
             "#8e0152"
            ],
            [
             0.1,
             "#c51b7d"
            ],
            [
             0.2,
             "#de77ae"
            ],
            [
             0.3,
             "#f1b6da"
            ],
            [
             0.4,
             "#fde0ef"
            ],
            [
             0.5,
             "#f7f7f7"
            ],
            [
             0.6,
             "#e6f5d0"
            ],
            [
             0.7,
             "#b8e186"
            ],
            [
             0.8,
             "#7fbc41"
            ],
            [
             0.9,
             "#4d9221"
            ],
            [
             1,
             "#276419"
            ]
           ],
           "sequential": [
            [
             0,
             "#0d0887"
            ],
            [
             0.1111111111111111,
             "#46039f"
            ],
            [
             0.2222222222222222,
             "#7201a8"
            ],
            [
             0.3333333333333333,
             "#9c179e"
            ],
            [
             0.4444444444444444,
             "#bd3786"
            ],
            [
             0.5555555555555556,
             "#d8576b"
            ],
            [
             0.6666666666666666,
             "#ed7953"
            ],
            [
             0.7777777777777778,
             "#fb9f3a"
            ],
            [
             0.8888888888888888,
             "#fdca26"
            ],
            [
             1,
             "#f0f921"
            ]
           ],
           "sequentialminus": [
            [
             0,
             "#0d0887"
            ],
            [
             0.1111111111111111,
             "#46039f"
            ],
            [
             0.2222222222222222,
             "#7201a8"
            ],
            [
             0.3333333333333333,
             "#9c179e"
            ],
            [
             0.4444444444444444,
             "#bd3786"
            ],
            [
             0.5555555555555556,
             "#d8576b"
            ],
            [
             0.6666666666666666,
             "#ed7953"
            ],
            [
             0.7777777777777778,
             "#fb9f3a"
            ],
            [
             0.8888888888888888,
             "#fdca26"
            ],
            [
             1,
             "#f0f921"
            ]
           ]
          },
          "colorway": [
           "#636efa",
           "#EF553B",
           "#00cc96",
           "#ab63fa",
           "#FFA15A",
           "#19d3f3",
           "#FF6692",
           "#B6E880",
           "#FF97FF",
           "#FECB52"
          ],
          "font": {
           "color": "#2a3f5f"
          },
          "geo": {
           "bgcolor": "white",
           "lakecolor": "white",
           "landcolor": "#E5ECF6",
           "showlakes": true,
           "showland": true,
           "subunitcolor": "white"
          },
          "hoverlabel": {
           "align": "left"
          },
          "hovermode": "closest",
          "mapbox": {
           "style": "light"
          },
          "paper_bgcolor": "white",
          "plot_bgcolor": "#E5ECF6",
          "polar": {
           "angularaxis": {
            "gridcolor": "white",
            "linecolor": "white",
            "ticks": ""
           },
           "bgcolor": "#E5ECF6",
           "radialaxis": {
            "gridcolor": "white",
            "linecolor": "white",
            "ticks": ""
           }
          },
          "scene": {
           "xaxis": {
            "backgroundcolor": "#E5ECF6",
            "gridcolor": "white",
            "gridwidth": 2,
            "linecolor": "white",
            "showbackground": true,
            "ticks": "",
            "zerolinecolor": "white"
           },
           "yaxis": {
            "backgroundcolor": "#E5ECF6",
            "gridcolor": "white",
            "gridwidth": 2,
            "linecolor": "white",
            "showbackground": true,
            "ticks": "",
            "zerolinecolor": "white"
           },
           "zaxis": {
            "backgroundcolor": "#E5ECF6",
            "gridcolor": "white",
            "gridwidth": 2,
            "linecolor": "white",
            "showbackground": true,
            "ticks": "",
            "zerolinecolor": "white"
           }
          },
          "shapedefaults": {
           "line": {
            "color": "#2a3f5f"
           }
          },
          "ternary": {
           "aaxis": {
            "gridcolor": "white",
            "linecolor": "white",
            "ticks": ""
           },
           "baxis": {
            "gridcolor": "white",
            "linecolor": "white",
            "ticks": ""
           },
           "bgcolor": "#E5ECF6",
           "caxis": {
            "gridcolor": "white",
            "linecolor": "white",
            "ticks": ""
           }
          },
          "title": {
           "x": 0.05
          },
          "xaxis": {
           "automargin": true,
           "gridcolor": "white",
           "linecolor": "white",
           "ticks": "",
           "title": {
            "standoff": 15
           },
           "zerolinecolor": "white",
           "zerolinewidth": 2
          },
          "yaxis": {
           "automargin": true,
           "gridcolor": "white",
           "linecolor": "white",
           "ticks": "",
           "title": {
            "standoff": 15
           },
           "zerolinecolor": "white",
           "zerolinewidth": 2
          }
         }
        },
        "title": {
         "text": "Incidencevs. MMR (7/9/20, pop >200000)"
        },
        "xaxis": {
         "gridcolor": "white",
         "gridwidth": 2,
         "title": {
          "text": "MMR"
         }
        },
        "yaxis": {
         "gridcolor": "white",
         "gridwidth": 2,
         "title": {
          "text": "Incidence"
         }
        }
       }
      },
      "text/html": [
       "<div>\n",
       "        \n",
       "        \n",
       "            <div id=\"57289a12-1aa1-46fe-82d0-f948bf28cb75\" class=\"plotly-graph-div\" style=\"height:525px; width:100%;\"></div>\n",
       "            <script type=\"text/javascript\">\n",
       "                require([\"plotly\"], function(Plotly) {\n",
       "                    window.PLOTLYENV=window.PLOTLYENV || {};\n",
       "                    \n",
       "                if (document.getElementById(\"57289a12-1aa1-46fe-82d0-f948bf28cb75\")) {\n",
       "                    Plotly.newPlot(\n",
       "                        '57289a12-1aa1-46fe-82d0-f948bf28cb75',\n",
       "                        [{\"mode\": \"markers\", \"text\": [\"(MMR,Incidence)<br>Baldwin,AL\", \"(MMR,Incidence)<br>Jefferson,AL\", \"(MMR,Incidence)<br>Madison,AL\", \"(MMR,Incidence)<br>Mobile,AL\", \"(MMR,Incidence)<br>Montgomery,AL\", \"(MMR,Incidence)<br>Shelby,AL\", \"(MMR,Incidence)<br>Tuscaloosa,AL\", \"(MMR,Incidence)<br>Maricopa,AZ\", \"(MMR,Incidence)<br>Mohave,AZ\", \"(MMR,Incidence)<br>Pima,AZ\", \"(MMR,Incidence)<br>Pinal,AZ\", \"(MMR,Incidence)<br>Yavapai,AZ\", \"(MMR,Incidence)<br>Yuma,AZ\", \"(MMR,Incidence)<br>Benton,AR\", \"(MMR,Incidence)<br>Pulaski,AR\", \"(MMR,Incidence)<br>Washington,AR\", \"(MMR,Incidence)<br>Alameda,CA\", \"(MMR,Incidence)<br>Butte,CA\", \"(MMR,Incidence)<br>Contra Costa,CA\", \"(MMR,Incidence)<br>Fresno,CA\", \"(MMR,Incidence)<br>Kern,CA\", \"(MMR,Incidence)<br>Los Angeles,CA\", \"(MMR,Incidence)<br>Marin,CA\", \"(MMR,Incidence)<br>Merced,CA\", \"(MMR,Incidence)<br>Monterey,CA\", \"(MMR,Incidence)<br>Orange,CA\", \"(MMR,Incidence)<br>Placer,CA\", \"(MMR,Incidence)<br>Riverside,CA\", \"(MMR,Incidence)<br>Sacramento,CA\", \"(MMR,Incidence)<br>San Bernardino,CA\", \"(MMR,Incidence)<br>San Diego,CA\", \"(MMR,Incidence)<br>San Francisco,CA\", \"(MMR,Incidence)<br>San Joaquin,CA\", \"(MMR,Incidence)<br>San Luis Obispo,CA\", \"(MMR,Incidence)<br>San Mateo,CA\", \"(MMR,Incidence)<br>Santa Barbara,CA\", \"(MMR,Incidence)<br>Santa Clara,CA\", \"(MMR,Incidence)<br>Santa Cruz,CA\", \"(MMR,Incidence)<br>Solano,CA\", \"(MMR,Incidence)<br>Sonoma,CA\", \"(MMR,Incidence)<br>Stanislaus,CA\", \"(MMR,Incidence)<br>Tulare,CA\", \"(MMR,Incidence)<br>Ventura,CA\", \"(MMR,Incidence)<br>Yolo,CA\", \"(MMR,Incidence)<br>Adams,CO\", \"(MMR,Incidence)<br>Arapahoe,CO\", \"(MMR,Incidence)<br>Boulder,CO\", \"(MMR,Incidence)<br>Denver,CO\", \"(MMR,Incidence)<br>Douglas,CO\", \"(MMR,Incidence)<br>El Paso,CO\", \"(MMR,Incidence)<br>Jefferson,CO\", \"(MMR,Incidence)<br>Larimer,CO\", \"(MMR,Incidence)<br>Weld,CO\", \"(MMR,Incidence)<br>Fairfield,CT\", \"(MMR,Incidence)<br>Hartford,CT\", \"(MMR,Incidence)<br>New Haven,CT\", \"(MMR,Incidence)<br>New London,CT\", \"(MMR,Incidence)<br>New Castle,DE\", \"(MMR,Incidence)<br>Sussex,DE\", \"(MMR,Incidence)<br>Alachua,FL\", \"(MMR,Incidence)<br>Brevard,FL\", \"(MMR,Incidence)<br>Broward,FL\", \"(MMR,Incidence)<br>Clay,FL\", \"(MMR,Incidence)<br>Collier,FL\", \"(MMR,Incidence)<br>Duval,FL\", \"(MMR,Incidence)<br>Escambia,FL\", \"(MMR,Incidence)<br>Hillsborough,FL\", \"(MMR,Incidence)<br>Lake,FL\", \"(MMR,Incidence)<br>Lee,FL\", \"(MMR,Incidence)<br>Leon,FL\", \"(MMR,Incidence)<br>Manatee,FL\", \"(MMR,Incidence)<br>Marion,FL\", \"(MMR,Incidence)<br>Miami-Dade,FL\", \"(MMR,Incidence)<br>Okaloosa,FL\", \"(MMR,Incidence)<br>Orange,FL\", \"(MMR,Incidence)<br>Osceola,FL\", \"(MMR,Incidence)<br>Palm Beach,FL\", \"(MMR,Incidence)<br>Pasco,FL\", \"(MMR,Incidence)<br>Pinellas,FL\", \"(MMR,Incidence)<br>Polk,FL\", \"(MMR,Incidence)<br>St Johns,FL\", \"(MMR,Incidence)<br>St Lucie,FL\", \"(MMR,Incidence)<br>Sarasota,FL\", \"(MMR,Incidence)<br>Seminole,FL\", \"(MMR,Incidence)<br>Volusia,FL\", \"(MMR,Incidence)<br>Chatham,GA\", \"(MMR,Incidence)<br>Cherokee,GA\", \"(MMR,Incidence)<br>Clayton,GA\", \"(MMR,Incidence)<br>Cobb,GA\", \"(MMR,Incidence)<br>DeKalb,GA\", \"(MMR,Incidence)<br>Forsyth,GA\", \"(MMR,Incidence)<br>Fulton,GA\", \"(MMR,Incidence)<br>Gwinnett,GA\", \"(MMR,Incidence)<br>Henry,GA\", \"(MMR,Incidence)<br>Richmond,GA\", \"(MMR,Incidence)<br>Hawaii,HI\", \"(MMR,Incidence)<br>Honolulu,HI\", \"(MMR,Incidence)<br>Ada,ID\", \"(MMR,Incidence)<br>Canyon,ID\", \"(MMR,Incidence)<br>Champaign,IL\", \"(MMR,Incidence)<br>Cook,IL\", \"(MMR,Incidence)<br>DuPage,IL\", \"(MMR,Incidence)<br>Kane,IL\", \"(MMR,Incidence)<br>Lake,IL\", \"(MMR,Incidence)<br>McHenry,IL\", \"(MMR,Incidence)<br>Madison,IL\", \"(MMR,Incidence)<br>St Clair,IL\", \"(MMR,Incidence)<br>Will,IL\", \"(MMR,Incidence)<br>Winnebago,IL\", \"(MMR,Incidence)<br>Allen,IN\", \"(MMR,Incidence)<br>Elkhart,IN\", \"(MMR,Incidence)<br>Hamilton,IN\", \"(MMR,Incidence)<br>Lake,IN\", \"(MMR,Incidence)<br>Marion,IN\", \"(MMR,Incidence)<br>St Joseph,IN\", \"(MMR,Incidence)<br>Linn,IA\", \"(MMR,Incidence)<br>Polk,IA\", \"(MMR,Incidence)<br>Johnson,KS\", \"(MMR,Incidence)<br>Sedgwick,KS\", \"(MMR,Incidence)<br>Fayette,KY\", \"(MMR,Incidence)<br>Jefferson,KY\", \"(MMR,Incidence)<br>Caddo,LA\", \"(MMR,Incidence)<br>Calcasieu,LA\", \"(MMR,Incidence)<br>East Baton Rouge,LA\", \"(MMR,Incidence)<br>Jefferson,LA\", \"(MMR,Incidence)<br>Lafayette,LA\", \"(MMR,Incidence)<br>Orleans,LA\", \"(MMR,Incidence)<br>St Tammany,LA\", \"(MMR,Incidence)<br>Cumberland,ME\", \"(MMR,Incidence)<br>York,ME\", \"(MMR,Incidence)<br>Anne Arundel,MD\", \"(MMR,Incidence)<br>Baltimore,MD\", \"(MMR,Incidence)<br>Frederick,MD\", \"(MMR,Incidence)<br>Harford,MD\", \"(MMR,Incidence)<br>Howard,MD\", \"(MMR,Incidence)<br>Montgomery,MD\", \"(MMR,Incidence)<br>Prince Georges,MD\", \"(MMR,Incidence)<br>Baltimore City,MD\", \"(MMR,Incidence)<br>Barnstable,MA\", \"(MMR,Incidence)<br>Bristol,MA\", \"(MMR,Incidence)<br>Essex,MA\", \"(MMR,Incidence)<br>Hampden,MA\", \"(MMR,Incidence)<br>Middlesex,MA\", \"(MMR,Incidence)<br>Norfolk,MA\", \"(MMR,Incidence)<br>Plymouth,MA\", \"(MMR,Incidence)<br>Suffolk,MA\", \"(MMR,Incidence)<br>Worcester,MA\", \"(MMR,Incidence)<br>Genesee,MI\", \"(MMR,Incidence)<br>Ingham,MI\", \"(MMR,Incidence)<br>Kalamazoo,MI\", \"(MMR,Incidence)<br>Kent,MI\", \"(MMR,Incidence)<br>Macomb,MI\", \"(MMR,Incidence)<br>Oakland,MI\", \"(MMR,Incidence)<br>Ottawa,MI\", \"(MMR,Incidence)<br>Washtenaw,MI\", \"(MMR,Incidence)<br>Wayne,MI\", \"(MMR,Incidence)<br>Anoka,MN\", \"(MMR,Incidence)<br>Dakota,MN\", \"(MMR,Incidence)<br>Hennepin,MN\", \"(MMR,Incidence)<br>Ramsey,MN\", \"(MMR,Incidence)<br>Washington,MN\", \"(MMR,Incidence)<br>Harrison,MS\", \"(MMR,Incidence)<br>Hinds,MS\", \"(MMR,Incidence)<br>Clay,MO\", \"(MMR,Incidence)<br>Greene,MO\", \"(MMR,Incidence)<br>Jackson,MO\", \"(MMR,Incidence)<br>Jefferson,MO\", \"(MMR,Incidence)<br>St Charles,MO\", \"(MMR,Incidence)<br>St Louis County,MO\", \"(MMR,Incidence)<br>St Louis City,MO\", \"(MMR,Incidence)<br>Douglas,NE\", \"(MMR,Incidence)<br>Lancaster,NE\", \"(MMR,Incidence)<br>Clark,NV\", \"(MMR,Incidence)<br>Washoe,NV\", \"(MMR,Incidence)<br>Hillsborough,NH\", \"(MMR,Incidence)<br>Rockingham,NH\", \"(MMR,Incidence)<br>Atlantic,NJ\", \"(MMR,Incidence)<br>Bergen,NJ\", \"(MMR,Incidence)<br>Burlington,NJ\", \"(MMR,Incidence)<br>Camden,NJ\", \"(MMR,Incidence)<br>Essex,NJ\", \"(MMR,Incidence)<br>Gloucester,NJ\", \"(MMR,Incidence)<br>Hudson,NJ\", \"(MMR,Incidence)<br>Mercer,NJ\", \"(MMR,Incidence)<br>Middlesex,NJ\", \"(MMR,Incidence)<br>Monmouth,NJ\", \"(MMR,Incidence)<br>Morris,NJ\", \"(MMR,Incidence)<br>Ocean,NJ\", \"(MMR,Incidence)<br>Passaic,NJ\", \"(MMR,Incidence)<br>Somerset,NJ\", \"(MMR,Incidence)<br>Union,NJ\", \"(MMR,Incidence)<br>Bernalillo,NM\", \"(MMR,Incidence)<br>Dona Ana,NM\", \"(MMR,Incidence)<br>Albany,NY\", \"(MMR,Incidence)<br>Bronx,NY\", \"(MMR,Incidence)<br>Dutchess,NY\", \"(MMR,Incidence)<br>Erie,NY\", \"(MMR,Incidence)<br>Kings,NY\", \"(MMR,Incidence)<br>Monroe,NY\", \"(MMR,Incidence)<br>Nassau,NY\", \"(MMR,Incidence)<br>Niagara,NY\", \"(MMR,Incidence)<br>Oneida,NY\", \"(MMR,Incidence)<br>Onondaga,NY\", \"(MMR,Incidence)<br>Orange,NY\", \"(MMR,Incidence)<br>Queens,NY\", \"(MMR,Incidence)<br>Richmond,NY\", \"(MMR,Incidence)<br>Rockland,NY\", \"(MMR,Incidence)<br>Saratoga,NY\", \"(MMR,Incidence)<br>Suffolk,NY\", \"(MMR,Incidence)<br>Westchester,NY\", \"(MMR,Incidence)<br>Buncombe,NC\", \"(MMR,Incidence)<br>Cabarrus,NC\", \"(MMR,Incidence)<br>Cumberland,NC\", \"(MMR,Incidence)<br>Durham,NC\", \"(MMR,Incidence)<br>Forsyth,NC\", \"(MMR,Incidence)<br>Gaston,NC\", \"(MMR,Incidence)<br>Guilford,NC\", \"(MMR,Incidence)<br>Mecklenburg,NC\", \"(MMR,Incidence)<br>New Hanover,NC\", \"(MMR,Incidence)<br>Union,NC\", \"(MMR,Incidence)<br>Wake,NC\", \"(MMR,Incidence)<br>Butler,OH\", \"(MMR,Incidence)<br>Clermont,OH\", \"(MMR,Incidence)<br>Cuyahoga,OH\", \"(MMR,Incidence)<br>Delaware,OH\", \"(MMR,Incidence)<br>Franklin,OH\", \"(MMR,Incidence)<br>Hamilton,OH\", \"(MMR,Incidence)<br>Lake,OH\", \"(MMR,Incidence)<br>Lorain,OH\", \"(MMR,Incidence)<br>Lucas,OH\", \"(MMR,Incidence)<br>Mahoning,OH\", \"(MMR,Incidence)<br>Montgomery,OH\", \"(MMR,Incidence)<br>Stark,OH\", \"(MMR,Incidence)<br>Summit,OH\", \"(MMR,Incidence)<br>Trumbull,OH\", \"(MMR,Incidence)<br>Warren,OH\", \"(MMR,Incidence)<br>Cleveland,OK\", \"(MMR,Incidence)<br>Oklahoma,OK\", \"(MMR,Incidence)<br>Tulsa,OK\", \"(MMR,Incidence)<br>Clackamas,OR\", \"(MMR,Incidence)<br>Jackson,OR\", \"(MMR,Incidence)<br>Lane,OR\", \"(MMR,Incidence)<br>Marion,OR\", \"(MMR,Incidence)<br>Multnomah,OR\", \"(MMR,Incidence)<br>Washington,OR\", \"(MMR,Incidence)<br>Allegheny,PA\", \"(MMR,Incidence)<br>Berks,PA\", \"(MMR,Incidence)<br>Bucks,PA\", \"(MMR,Incidence)<br>Chester,PA\", \"(MMR,Incidence)<br>Cumberland,PA\", \"(MMR,Incidence)<br>Dauphin,PA\", \"(MMR,Incidence)<br>Delaware,PA\", \"(MMR,Incidence)<br>Erie,PA\", \"(MMR,Incidence)<br>Lackawanna,PA\", \"(MMR,Incidence)<br>Lancaster,PA\", \"(MMR,Incidence)<br>Lehigh,PA\", \"(MMR,Incidence)<br>Luzerne,PA\", \"(MMR,Incidence)<br>Montgomery,PA\", \"(MMR,Incidence)<br>Northampton,PA\", \"(MMR,Incidence)<br>Philadelphia,PA\", \"(MMR,Incidence)<br>Washington,PA\", \"(MMR,Incidence)<br>Westmoreland,PA\", \"(MMR,Incidence)<br>York,PA\", \"(MMR,Incidence)<br>Providence,RI\", \"(MMR,Incidence)<br>Berkeley,SC\", \"(MMR,Incidence)<br>Charleston,SC\", \"(MMR,Incidence)<br>Greenville,SC\", \"(MMR,Incidence)<br>Horry,SC\", \"(MMR,Incidence)<br>Lexington,SC\", \"(MMR,Incidence)<br>Richland,SC\", \"(MMR,Incidence)<br>Spartanburg,SC\", \"(MMR,Incidence)<br>York,SC\", \"(MMR,Incidence)<br>Davidson,TN\", \"(MMR,Incidence)<br>Hamilton,TN\", \"(MMR,Incidence)<br>Knox,TN\", \"(MMR,Incidence)<br>Montgomery,TN\", \"(MMR,Incidence)<br>Rutherford,TN\", \"(MMR,Incidence)<br>Shelby,TN\", \"(MMR,Incidence)<br>Williamson,TN\", \"(MMR,Incidence)<br>Bell,TX\", \"(MMR,Incidence)<br>Bexar,TX\", \"(MMR,Incidence)<br>Brazoria,TX\", \"(MMR,Incidence)<br>Brazos,TX\", \"(MMR,Incidence)<br>Cameron,TX\", \"(MMR,Incidence)<br>Collin,TX\", \"(MMR,Incidence)<br>Dallas,TX\", \"(MMR,Incidence)<br>Denton,TX\", \"(MMR,Incidence)<br>El Paso,TX\", \"(MMR,Incidence)<br>Fort Bend,TX\", \"(MMR,Incidence)<br>Galveston,TX\", \"(MMR,Incidence)<br>Harris,TX\", \"(MMR,Incidence)<br>Hays,TX\", \"(MMR,Incidence)<br>Hidalgo,TX\", \"(MMR,Incidence)<br>Jefferson,TX\", \"(MMR,Incidence)<br>Lubbock,TX\", \"(MMR,Incidence)<br>McLennan,TX\", \"(MMR,Incidence)<br>Montgomery,TX\", \"(MMR,Incidence)<br>Nueces,TX\", \"(MMR,Incidence)<br>Smith,TX\", \"(MMR,Incidence)<br>Tarrant,TX\", \"(MMR,Incidence)<br>Travis,TX\", \"(MMR,Incidence)<br>Webb,TX\", \"(MMR,Incidence)<br>Williamson,TX\", \"(MMR,Incidence)<br>Davis,UT\", \"(MMR,Incidence)<br>Salt Lake,UT\", \"(MMR,Incidence)<br>Utah,UT\", \"(MMR,Incidence)<br>Weber,UT\", \"(MMR,Incidence)<br>Arlington,VA\", \"(MMR,Incidence)<br>Chesterfield,VA\", \"(MMR,Incidence)<br>Fairfax County,VA\", \"(MMR,Incidence)<br>Henrico,VA\", \"(MMR,Incidence)<br>Loudoun,VA\", \"(MMR,Incidence)<br>Prince William,VA\", \"(MMR,Incidence)<br>Chesapeake,VA\", \"(MMR,Incidence)<br>Norfolk,VA\", \"(MMR,Incidence)<br>Richmond City,VA\", \"(MMR,Incidence)<br>Virginia Beach,VA\", \"(MMR,Incidence)<br>Clark,WA\", \"(MMR,Incidence)<br>King,WA\", \"(MMR,Incidence)<br>Kitsap,WA\", \"(MMR,Incidence)<br>Pierce,WA\", \"(MMR,Incidence)<br>Snohomish,WA\", \"(MMR,Incidence)<br>Spokane,WA\", \"(MMR,Incidence)<br>Thurston,WA\", \"(MMR,Incidence)<br>Whatcom,WA\", \"(MMR,Incidence)<br>Yakima,WA\", \"(MMR,Incidence)<br>Brown,WI\", \"(MMR,Incidence)<br>Dane,WI\", \"(MMR,Incidence)<br>Milwaukee,WI\", \"(MMR,Incidence)<br>Waukesha,WI\", \"(MMR,Incidence)<br>NYC,NY\"], \"type\": \"scatter\", \"x\": [0.97, 0.937, 0.9486, 0.8947, 0.8643, 0.9644, 0.9224, 0.927, 0.884, 0.959, 0.922, 0.833, 0.973, 0.942, 0.942, 0.942, 0.966, 0.942, 0.964, 0.966, 0.911, 0.945, 0.943, 0.975, 0.975, 0.957, 0.917, 0.963, 0.934, 0.951, 0.925, 0.957, 0.967, 0.947, 0.966, 0.967, 0.973, 0.909, 0.975, 0.913, 0.959, 0.981, 0.961, 0.956, 0.974122696, 0.953626295, 0.901632047, 0.939261108, 0.947053857, 0.928410324, 0.95257722, 0.940003681, 0.953247933, 0.956, 0.96, 0.969, 0.962, 0.978, 0.978, 0.973673552, 0.972616137, 0.963475911, 0.973517906, 0.957244075, 0.969316717, 0.962343096, 0.975863069, 0.972579051, 0.964398734, 0.968636032, 0.97130762, 0.972761597, 0.948372298, 0.97134123, 0.948399739, 0.969346049, 0.958587876, 0.964556962, 0.9655483, 0.971347019, 0.970240522, 0.947436561, 0.967217708, 0.97348378, 0.946076608, 0.953, 0.895, 0.962, 0.931, 0.915, 0.946, 0.935, 0.932, 0.883, 0.946, 0.915, 0.915, 0.920710937, 0.908147541, 0.985941343, 0.979524882, 0.979451049, 0.980589532, 0.984031837, 0.979576651, 0.987267211, 0.972926578, 0.983017761, 0.976995462, 0.58, 0.63, 0.66, 0.58, 0.67, 0.59, 0.937536294, 0.971392374, 0.88, 0.9, 0.956, 0.907, 0.9406, 0.9313, 0.9214, 0.9132, 0.9598, 0.9198, 0.9178, 0.935879467, 0.94028169, 0.993, 0.995, 0.98, 0.994, 0.994, 0.971, 0.992, 0.992, 0.937, 0.972, 0.963, 0.939, 0.973, 0.976, 0.952, 0.86, 0.964, 0.923370187, 0.930110658, 0.93676815, 0.954602119, 0.919247558, 0.912431812, 0.956317616, 0.927277501, 0.925784309, 0.932, 0.9299, 0.914, 0.9137, 0.9491, 0.992, 0.992, 0.9527, 0.9484, 0.9515, 0.9682, 0.9638, 0.9576, 0.8114, 0.969, 0.969, 0.951, 0.951, 0.918, 0.918, 0.978, 0.959, 0.979, 0.97, 0.961, 0.98, 0.961, 0.947, 0.974, 0.96, 0.974, 0.958, 0.967, 0.945, 0.961, 0.94, 0.885, 0.99, 0.99, 0.98, 0.99, 0.99, 0.99, 0.99, 0.99, 0.99, 0.99, 0.95, 0.99, 0.99, 0.96, 0.99, 0.99, 0.99, 0.973, 0.993, 0.949, 0.95, 0.994, 0.974, 0.945, 0.942, 0.973, 0.986, 0.957, 0.916, 0.916, 0.916, 0.916, 0.916, 0.916, 0.916, 0.916, 0.916, 0.916, 0.916, 0.916, 0.916, 0.916, 0.916, 0.934, 0.901, 0.915, 0.949, 0.927, 0.955, 0.965, 0.95, 0.973, 0.979, 0.979, 0.975, 0.97, 0.977, 0.951, 0.983, 0.978, 0.985, 0.922, 0.98, 0.98, 0.977, 0.981, 0.962, 0.981, 0.962, 0.978, 0.95960124, 0.9829, 0.978, 0.9811, 0.9643, 0.9818, 0.9725, 0.9793, 0.9862, 0.942787662, 0.93326541, 0.947379679, 0.944559229, 0.953217709, 0.924990253, 0.943951868, 0.970139567, 0.976191106, 0.981338155, 0.960194175, 0.990407674, 0.958482682, 0.968322871, 0.955108682, 0.982961644, 0.96052011, 0.949122562, 0.974768052, 0.962013295, 0.990638863, 0.973920893, 0.962708243, 0.975715955, 0.974343302, 0.985621942, 0.974720456, 0.955869534, 0.95545259, 0.996803977, 0.955840541, 0.875, 0.909, 0.866, 0.901, 0.976, 0.904, 0.877, 0.96, 0.954, 0.958, 0.898, 0.903, 0.924, 0.946, 0.59, 0.71, 0.584, 0.621, 0.694, 0.605, 0.636, 0.641, 0.76, 0.84, 0.81, 0.82, 0.83, 0.99], \"y\": [49.90279258535887, 91.56160364910193, 51.13848150621197, 106.91900002420077, 191.57917045645206, 69.31493509476256, 121.51608511857849, 163.11760742709592, 75.17166947087628, 103.45858171509217, 111.411463971702, 44.109077452477464, 369.479902894002, 117.14509871355337, 69.22490055140071, 180.1519313340608, 44.31802475754325, 14.553849242196126, 37.771146900893434, 76.33862842695584, 66.41842608658945, 124.50509791358934, 124.67835534297173, 64.5707288965716, 53.97858826294, 67.75531128333604, 24.929141488568494, 94.4487574811398, 31.77716296684789, 79.87761945061774, 55.12337006826767, 47.01950770745585, 79.57771981294971, 30.97724920614176, 49.40168777141903, 86.62953332482269, 29.45246834300558, 18.52034859249011, 44.3433718387197, 30.728087778353185, 79.25035412050993, 118.16943553663167, 48.380271534717245, 36.3718820861678, 88.67054101012522, 83.91842702447494, 45.555432929894906, 105.21017971400322, 30.698781731092343, 38.92265856749625, 50.13030103914865, 24.348625241314767, 90.51070596501609, 179.0037865777902, 133.0686762660925, 146.3456865518504, 49.734923040956836, 100.68849742193778, 213.8115060305262, 69.54278684076523, 49.58949533343744, 128.54507783270807, 57.194461167971106, 144.89402497259044, 115.14426967230659, 104.67585669586197, 113.22257005587078, 59.40869148339226, 108.23058565205035, 69.72498313929329, 105.78966554495564, 31.785195539131074, 205.97068761179858, 48.16407102658277, 111.91630569262522, 92.24193681453943, 124.64172852208422, 60.11405423262514, 100.77990063548978, 85.62633748035603, 61.66122597025753, 75.63273499300938, 56.04714323261294, 80.66533001572614, 58.45099442600907, 73.14376533185917, 62.641774837405755, 88.27876929814956, 83.78708686940975, 98.40681577827912, 43.27497830109887, 90.0993197905515, 111.24165554072096, 68.68149436607109, 71.4998173001906, 4.813585227752056, 8.63976982503953, 74.66978967455516, 72.43886203551027, 48.16657049249126, 182.52572262264638, 102.95572427109146, 149.7174133128476, 146.08024004536742, 71.7409527770377, 41.64036415354076, 81.94511833522022, 103.07741084600205, 111.22828871933525, 75.58680618720324, 166.32661468152233, 48.193697838236034, 109.92949434904314, 122.45718870972088, 74.49618505956016, 59.15150018085097, 142.60620490002265, 43.70842677884001, 34.725855647408544, 53.72084963113334, 57.319333243778665, 168.81484071872242, 137.48795690045026, 146.98029127912395, 243.79585334329113, 134.74364744874995, 213.86975065616798, 111.66619947085275, 62.50783890333319, 26.825145322937185, 93.0711940252126, 102.69891342446549, 98.90308884325383, 47.9562795322599, 84.46682428075779, 147.55093805201923, 213.9604344751668, 137.40753845894622, 73.52457861871449, 148.59779518308898, 207.5829431938294, 148.63671060869862, 151.0703921762066, 132.7720986169573, 168.39920031005252, 250.9245472424049, 151.4888842337429, 70.72222920409153, 39.055286143239194, 44.21540295624486, 84.86121576059243, 87.98908889529642, 99.30151783101566, 41.256896138162624, 50.299101471432344, 135.48515071086686, 65.22451747025252, 58.83161896503901, 101.64767668660332, 92.05536405116287, 45.34369760707209, 49.98077662437524, 116.33022774327121, 21.564485412965897, 13.886709020560518, 21.194547453738277, 23.946934659078288, 30.595340553502048, 75.12535141142924, 93.5204407537528, 136.05168318668643, 62.364850042307815, 90.97747180391006, 70.58040078978789, 81.21815238894551, 48.58459045288586, 112.86835817499147, 212.08922529666316, 119.36705819480902, 150.0579500109582, 236.90353265120936, 92.47829486071679, 283.1239561505136, 211.3327708679204, 205.46334699695294, 151.43949126932182, 139.5561609856764, 160.9556215064247, 338.7628381152033, 150.54691822675673, 295.8976598884497, 41.465364787718244, 59.85471711084122, 71.45522510196199, 0.0, 144.62065543236648, 82.98664855415576, 0.0, 54.92268492929075, 310.7322149213957, 62.83417988255026, 78.32213092171723, 66.22832922211028, 280.8229854003221, 0.0, 0.0, 419.99576412954394, 25.449941921927408, 283.4144091735005, 363.64632364037016, 29.748345080802935, 67.1739361431812, 44.410135048538194, 133.0376250435475, 92.20628049019736, 68.89978577377532, 62.56818088738472, 123.89720053748528, 58.471551095435295, 68.49857624687837, 60.30073010296278, 44.919010059143794, 21.12116573333075, 68.96763913358897, 30.835130057319876, 84.46515527554081, 78.24111622035224, 23.94101212692647, 34.63155958209745, 66.74479628713102, 82.42851458132, 42.93879669805731, 31.59689805345839, 41.939842480679765, 51.21884691929243, 39.1301011926582, 42.533114564774976, 52.593694274385086, 72.02801925249251, 21.856250911673484, 7.422695343616482, 7.092996778052017, 50.11241511365139, 33.142442379022086, 28.590805728799587, 35.91149998560908, 110.33706584608372, 95.54809238066437, 74.63013510759272, 36.38946994513952, 80.74049852856102, 131.39901931549704, 25.914995847668763, 83.41520646336694, 86.32568844324237, 118.32621209905827, 93.85130601070516, 105.29356191668221, 115.07280082545817, 171.88699446487013, 17.69269813646581, 26.282677795006578, 38.16878888695892, 205.71861437307004, 83.71835880424909, 162.83184980287115, 123.0655802208801, 147.00026265176612, 89.60669456066945, 107.51420895278274, 67.48284003314727, 59.968894472540654, 180.78381430942284, 83.95776011136367, 31.277043160618565, 31.484308086873725, 100.09479814015077, 137.03015260903618, 66.73321812660437, 51.0299677067375, 88.23820071732531, 84.05831177992006, 117.96990545828952, 76.70802976630755, 38.15488098344496, 115.19945240324854, 40.37389245125433, 99.91206308579926, 54.36818087738146, 147.9807914327218, 86.81344910440082, 148.09440855637274, 84.42432258517545, 128.59499532923897, 104.03485215845754, 88.96318724354403, 47.35005951685158, 145.18595394900274, 50.01052627056382, 76.95545572802097, 103.3082827166444, 78.1848676315371, 61.247885449351536, 46.24719745921723, 117.5936306753404, 78.3987048810581, 0.0, 108.38449261533005, 88.09473869195753, 124.47583161079605, 82.37157591183067, 104.44022072941301, 163.43669937385056, 45.62256213368187, 53.10164701617355, 101.2428613584683, 34.37976416415171, 20.563615099919918, 50.68843767395159, 9.9089043845981, 33.094654025503324, 46.455163286432146, 35.42477209170655, 10.669934190599443, 30.054918930236816, 313.62482212115293, 118.05308797846844, 48.50968090068503, 137.50282851481296, 37.75377414039654, 261.55306035864766]}],\n",
       "                        {\"paper_bgcolor\": \"rgb(243, 243, 243)\", \"plot_bgcolor\": \"rgb(243, 243, 243)\", \"template\": {\"data\": {\"bar\": [{\"error_x\": {\"color\": \"#2a3f5f\"}, \"error_y\": {\"color\": \"#2a3f5f\"}, \"marker\": {\"line\": {\"color\": \"#E5ECF6\", \"width\": 0.5}}, \"type\": \"bar\"}], \"barpolar\": [{\"marker\": {\"line\": {\"color\": \"#E5ECF6\", \"width\": 0.5}}, \"type\": \"barpolar\"}], \"carpet\": [{\"aaxis\": {\"endlinecolor\": \"#2a3f5f\", \"gridcolor\": \"white\", \"linecolor\": \"white\", \"minorgridcolor\": \"white\", \"startlinecolor\": \"#2a3f5f\"}, \"baxis\": {\"endlinecolor\": \"#2a3f5f\", \"gridcolor\": \"white\", \"linecolor\": \"white\", \"minorgridcolor\": \"white\", \"startlinecolor\": \"#2a3f5f\"}, \"type\": \"carpet\"}], \"choropleth\": [{\"colorbar\": {\"outlinewidth\": 0, \"ticks\": \"\"}, \"type\": \"choropleth\"}], \"contour\": [{\"colorbar\": {\"outlinewidth\": 0, \"ticks\": \"\"}, \"colorscale\": [[0.0, \"#0d0887\"], [0.1111111111111111, \"#46039f\"], [0.2222222222222222, \"#7201a8\"], [0.3333333333333333, \"#9c179e\"], [0.4444444444444444, \"#bd3786\"], [0.5555555555555556, \"#d8576b\"], [0.6666666666666666, \"#ed7953\"], [0.7777777777777778, \"#fb9f3a\"], [0.8888888888888888, \"#fdca26\"], [1.0, \"#f0f921\"]], \"type\": \"contour\"}], \"contourcarpet\": [{\"colorbar\": {\"outlinewidth\": 0, \"ticks\": \"\"}, \"type\": \"contourcarpet\"}], \"heatmap\": [{\"colorbar\": {\"outlinewidth\": 0, \"ticks\": \"\"}, \"colorscale\": [[0.0, \"#0d0887\"], [0.1111111111111111, \"#46039f\"], [0.2222222222222222, \"#7201a8\"], [0.3333333333333333, \"#9c179e\"], [0.4444444444444444, \"#bd3786\"], [0.5555555555555556, \"#d8576b\"], [0.6666666666666666, \"#ed7953\"], [0.7777777777777778, \"#fb9f3a\"], [0.8888888888888888, \"#fdca26\"], [1.0, \"#f0f921\"]], \"type\": \"heatmap\"}], \"heatmapgl\": [{\"colorbar\": {\"outlinewidth\": 0, \"ticks\": \"\"}, \"colorscale\": [[0.0, \"#0d0887\"], [0.1111111111111111, \"#46039f\"], [0.2222222222222222, \"#7201a8\"], [0.3333333333333333, \"#9c179e\"], [0.4444444444444444, \"#bd3786\"], [0.5555555555555556, \"#d8576b\"], [0.6666666666666666, \"#ed7953\"], [0.7777777777777778, \"#fb9f3a\"], [0.8888888888888888, \"#fdca26\"], [1.0, \"#f0f921\"]], \"type\": \"heatmapgl\"}], \"histogram\": [{\"marker\": {\"colorbar\": {\"outlinewidth\": 0, \"ticks\": \"\"}}, \"type\": \"histogram\"}], \"histogram2d\": [{\"colorbar\": {\"outlinewidth\": 0, \"ticks\": \"\"}, \"colorscale\": [[0.0, \"#0d0887\"], [0.1111111111111111, \"#46039f\"], [0.2222222222222222, \"#7201a8\"], [0.3333333333333333, \"#9c179e\"], [0.4444444444444444, \"#bd3786\"], [0.5555555555555556, \"#d8576b\"], [0.6666666666666666, \"#ed7953\"], [0.7777777777777778, \"#fb9f3a\"], [0.8888888888888888, \"#fdca26\"], [1.0, \"#f0f921\"]], \"type\": \"histogram2d\"}], \"histogram2dcontour\": [{\"colorbar\": {\"outlinewidth\": 0, \"ticks\": \"\"}, \"colorscale\": [[0.0, \"#0d0887\"], [0.1111111111111111, \"#46039f\"], [0.2222222222222222, \"#7201a8\"], [0.3333333333333333, \"#9c179e\"], [0.4444444444444444, \"#bd3786\"], [0.5555555555555556, \"#d8576b\"], [0.6666666666666666, \"#ed7953\"], [0.7777777777777778, \"#fb9f3a\"], [0.8888888888888888, \"#fdca26\"], [1.0, \"#f0f921\"]], \"type\": \"histogram2dcontour\"}], \"mesh3d\": [{\"colorbar\": {\"outlinewidth\": 0, \"ticks\": \"\"}, \"type\": \"mesh3d\"}], \"parcoords\": [{\"line\": {\"colorbar\": {\"outlinewidth\": 0, \"ticks\": \"\"}}, \"type\": \"parcoords\"}], \"pie\": [{\"automargin\": true, \"type\": \"pie\"}], \"scatter\": [{\"marker\": {\"colorbar\": {\"outlinewidth\": 0, \"ticks\": \"\"}}, \"type\": \"scatter\"}], \"scatter3d\": [{\"line\": {\"colorbar\": {\"outlinewidth\": 0, \"ticks\": \"\"}}, \"marker\": {\"colorbar\": {\"outlinewidth\": 0, \"ticks\": \"\"}}, \"type\": \"scatter3d\"}], \"scattercarpet\": [{\"marker\": {\"colorbar\": {\"outlinewidth\": 0, \"ticks\": \"\"}}, \"type\": \"scattercarpet\"}], \"scattergeo\": [{\"marker\": {\"colorbar\": {\"outlinewidth\": 0, \"ticks\": \"\"}}, \"type\": \"scattergeo\"}], \"scattergl\": [{\"marker\": {\"colorbar\": {\"outlinewidth\": 0, \"ticks\": \"\"}}, \"type\": \"scattergl\"}], \"scattermapbox\": [{\"marker\": {\"colorbar\": {\"outlinewidth\": 0, \"ticks\": \"\"}}, \"type\": \"scattermapbox\"}], \"scatterpolar\": [{\"marker\": {\"colorbar\": {\"outlinewidth\": 0, \"ticks\": \"\"}}, \"type\": \"scatterpolar\"}], \"scatterpolargl\": [{\"marker\": {\"colorbar\": {\"outlinewidth\": 0, \"ticks\": \"\"}}, \"type\": \"scatterpolargl\"}], \"scatterternary\": [{\"marker\": {\"colorbar\": {\"outlinewidth\": 0, \"ticks\": \"\"}}, \"type\": \"scatterternary\"}], \"surface\": [{\"colorbar\": {\"outlinewidth\": 0, \"ticks\": \"\"}, \"colorscale\": [[0.0, \"#0d0887\"], [0.1111111111111111, \"#46039f\"], [0.2222222222222222, \"#7201a8\"], [0.3333333333333333, \"#9c179e\"], [0.4444444444444444, \"#bd3786\"], [0.5555555555555556, \"#d8576b\"], [0.6666666666666666, \"#ed7953\"], [0.7777777777777778, \"#fb9f3a\"], [0.8888888888888888, \"#fdca26\"], [1.0, \"#f0f921\"]], \"type\": \"surface\"}], \"table\": [{\"cells\": {\"fill\": {\"color\": \"#EBF0F8\"}, \"line\": {\"color\": \"white\"}}, \"header\": {\"fill\": {\"color\": \"#C8D4E3\"}, \"line\": {\"color\": \"white\"}}, \"type\": \"table\"}]}, \"layout\": {\"annotationdefaults\": {\"arrowcolor\": \"#2a3f5f\", \"arrowhead\": 0, \"arrowwidth\": 1}, \"coloraxis\": {\"colorbar\": {\"outlinewidth\": 0, \"ticks\": \"\"}}, \"colorscale\": {\"diverging\": [[0, \"#8e0152\"], [0.1, \"#c51b7d\"], [0.2, \"#de77ae\"], [0.3, \"#f1b6da\"], [0.4, \"#fde0ef\"], [0.5, \"#f7f7f7\"], [0.6, \"#e6f5d0\"], [0.7, \"#b8e186\"], [0.8, \"#7fbc41\"], [0.9, \"#4d9221\"], [1, \"#276419\"]], \"sequential\": [[0.0, \"#0d0887\"], [0.1111111111111111, \"#46039f\"], [0.2222222222222222, \"#7201a8\"], [0.3333333333333333, \"#9c179e\"], [0.4444444444444444, \"#bd3786\"], [0.5555555555555556, \"#d8576b\"], [0.6666666666666666, \"#ed7953\"], [0.7777777777777778, \"#fb9f3a\"], [0.8888888888888888, \"#fdca26\"], [1.0, \"#f0f921\"]], \"sequentialminus\": [[0.0, \"#0d0887\"], [0.1111111111111111, \"#46039f\"], [0.2222222222222222, \"#7201a8\"], [0.3333333333333333, \"#9c179e\"], [0.4444444444444444, \"#bd3786\"], [0.5555555555555556, \"#d8576b\"], [0.6666666666666666, \"#ed7953\"], [0.7777777777777778, \"#fb9f3a\"], [0.8888888888888888, \"#fdca26\"], [1.0, \"#f0f921\"]]}, \"colorway\": [\"#636efa\", \"#EF553B\", \"#00cc96\", \"#ab63fa\", \"#FFA15A\", \"#19d3f3\", \"#FF6692\", \"#B6E880\", \"#FF97FF\", \"#FECB52\"], \"font\": {\"color\": \"#2a3f5f\"}, \"geo\": {\"bgcolor\": \"white\", \"lakecolor\": \"white\", \"landcolor\": \"#E5ECF6\", \"showlakes\": true, \"showland\": true, \"subunitcolor\": \"white\"}, \"hoverlabel\": {\"align\": \"left\"}, \"hovermode\": \"closest\", \"mapbox\": {\"style\": \"light\"}, \"paper_bgcolor\": \"white\", \"plot_bgcolor\": \"#E5ECF6\", \"polar\": {\"angularaxis\": {\"gridcolor\": \"white\", \"linecolor\": \"white\", \"ticks\": \"\"}, \"bgcolor\": \"#E5ECF6\", \"radialaxis\": {\"gridcolor\": \"white\", \"linecolor\": \"white\", \"ticks\": \"\"}}, \"scene\": {\"xaxis\": {\"backgroundcolor\": \"#E5ECF6\", \"gridcolor\": \"white\", \"gridwidth\": 2, \"linecolor\": \"white\", \"showbackground\": true, \"ticks\": \"\", \"zerolinecolor\": \"white\"}, \"yaxis\": {\"backgroundcolor\": \"#E5ECF6\", \"gridcolor\": \"white\", \"gridwidth\": 2, \"linecolor\": \"white\", \"showbackground\": true, \"ticks\": \"\", \"zerolinecolor\": \"white\"}, \"zaxis\": {\"backgroundcolor\": \"#E5ECF6\", \"gridcolor\": \"white\", \"gridwidth\": 2, \"linecolor\": \"white\", \"showbackground\": true, \"ticks\": \"\", \"zerolinecolor\": \"white\"}}, \"shapedefaults\": {\"line\": {\"color\": \"#2a3f5f\"}}, \"ternary\": {\"aaxis\": {\"gridcolor\": \"white\", \"linecolor\": \"white\", \"ticks\": \"\"}, \"baxis\": {\"gridcolor\": \"white\", \"linecolor\": \"white\", \"ticks\": \"\"}, \"bgcolor\": \"#E5ECF6\", \"caxis\": {\"gridcolor\": \"white\", \"linecolor\": \"white\", \"ticks\": \"\"}}, \"title\": {\"x\": 0.05}, \"xaxis\": {\"automargin\": true, \"gridcolor\": \"white\", \"linecolor\": \"white\", \"ticks\": \"\", \"title\": {\"standoff\": 15}, \"zerolinecolor\": \"white\", \"zerolinewidth\": 2}, \"yaxis\": {\"automargin\": true, \"gridcolor\": \"white\", \"linecolor\": \"white\", \"ticks\": \"\", \"title\": {\"standoff\": 15}, \"zerolinecolor\": \"white\", \"zerolinewidth\": 2}}}, \"title\": {\"text\": \"Incidencevs. MMR (7/9/20, pop >200000)\"}, \"xaxis\": {\"gridcolor\": \"white\", \"gridwidth\": 2, \"title\": {\"text\": \"MMR\"}}, \"yaxis\": {\"gridcolor\": \"white\", \"gridwidth\": 2, \"title\": {\"text\": \"Incidence\"}}},\n",
       "                        {\"responsive\": true}\n",
       "                    ).then(function(){\n",
       "                            \n",
       "var gd = document.getElementById('57289a12-1aa1-46fe-82d0-f948bf28cb75');\n",
       "var x = new MutationObserver(function (mutations, observer) {{\n",
       "        var display = window.getComputedStyle(gd).display;\n",
       "        if (!display || display === 'none') {{\n",
       "            console.log([gd, 'removed!']);\n",
       "            Plotly.purge(gd);\n",
       "            observer.disconnect();\n",
       "        }}\n",
       "}});\n",
       "\n",
       "// Listen for the removal of the full notebook cells\n",
       "var notebookContainer = gd.closest('#notebook-container');\n",
       "if (notebookContainer) {{\n",
       "    x.observe(notebookContainer, {childList: true});\n",
       "}}\n",
       "\n",
       "// Listen for the clearing of the current output cell\n",
       "var outputEl = gd.closest('.output');\n",
       "if (outputEl) {{\n",
       "    x.observe(outputEl, {childList: true});\n",
       "}}\n",
       "\n",
       "                        })\n",
       "                };\n",
       "                });\n",
       "            </script>\n",
       "        </div>"
      ]
     },
     "metadata": {},
     "output_type": "display_data"
    }
   ],
   "source": [
    "# plot it\n",
    "#import plotly.graph_objects as go\n",
    "# ref: https://stackoverflow.com/questions/54550795/how-to-display-multiple-images-with-a-loop-with-python-dash\n",
    "\n",
    "def generate_fig(mor_inc,covid_date,pop_low):\n",
    "    \n",
    "    if mor_inc == \"Mortality\":\n",
    "        df = df_mortality\n",
    "    elif mor_inc == \"Incidence\":\n",
    "        df = df_incidence\n",
    "    elif mor_inc == \"Case-Fatality Ratio\":\n",
    "        df = df_cfr\n",
    "\n",
    "    df = df[df['County Population'] > pop_low]\n",
    "    df = df[(df[\"VR\"].notnull()) & (df[covid_date].notnull())]\n",
    "    \n",
    "    fig = go.Figure(data=[go.Scatter(\n",
    "        x=df[\"VR\"], y=df[covid_date],\n",
    "        text=\"(MMR,\"+mor_inc+\")<br>\"+df[\"County\"]+\",\"+df[\"State\"],\n",
    "        mode='markers'\n",
    "    )])\n",
    "\n",
    "    fig.update_layout(\n",
    "        title= mor_inc + 'vs. MMR (' + covid_date + ', pop >' + str(pop_low) + ')',\n",
    "        xaxis=dict(\n",
    "            title='MMR',\n",
    "            gridcolor='white',\n",
    "            gridwidth=2,\n",
    "        ),\n",
    "        yaxis=dict(\n",
    "            title=mor_inc,\n",
    "            gridcolor='white',\n",
    "            gridwidth=2,\n",
    "        ),\n",
    "        paper_bgcolor='rgb(243, 243, 243)',\n",
    "        plot_bgcolor='rgb(243, 243, 243)',\n",
    "    )\n",
    "    \n",
    "    return fig\n",
    "\n",
    "generate_fig(\"Incidence\",\"7/9/20\",200000).show()"
   ]
  },
  {
   "cell_type": "code",
   "execution_count": 48,
   "metadata": {},
   "outputs": [],
   "source": [
    "# export images\n",
    "# ref: https://stackoverflow.com/questions/59868987/plotly-saving-multiple-plots-into-a-single-html-python\n",
    "\n",
    "with open('covid_mmr_' + t.strftime('%m%d%y%H%M')+'.html', 'a') as f:\n",
    "    f.write(fig1.to_html(full_html=False, include_plotlyjs='cdn'))\n",
    "    f.write(generate_fig(\"Mortality\",\"7/9/20\",200000).to_html(full_html=False, include_plotlyjs='cdn'))\n",
    "    f.write(generate_fig(\"Mortality\",\"6/9/20\",200000).to_html(full_html=False, include_plotlyjs='cdn'))\n",
    "    f.write(generate_fig(\"Incidence\",\"7/9/20\",200000).to_html(full_html=False, include_plotlyjs='cdn'))\n",
    "    f.write(generate_fig(\"Incidence\",\"6/9/20\",200000).to_html(full_html=False, include_plotlyjs='cdn'))"
   ]
  },
  {
   "cell_type": "markdown",
   "metadata": {},
   "source": [
    "### Case-Fatality Ratio vs. MMR"
   ]
  },
  {
   "cell_type": "code",
   "execution_count": 36,
   "metadata": {},
   "outputs": [
    {
     "name": "stdout",
     "output_type": "stream",
     "text": [
      "2015\n",
      "3155\n",
      "2015\n"
     ]
    },
    {
     "data": {
      "text/html": [
       "<div>\n",
       "<style scoped>\n",
       "    .dataframe tbody tr th:only-of-type {\n",
       "        vertical-align: middle;\n",
       "    }\n",
       "\n",
       "    .dataframe tbody tr th {\n",
       "        vertical-align: top;\n",
       "    }\n",
       "\n",
       "    .dataframe thead th {\n",
       "        text-align: right;\n",
       "    }\n",
       "</style>\n",
       "<table border=\"1\" class=\"dataframe\">\n",
       "  <thead>\n",
       "    <tr style=\"text-align: right;\">\n",
       "      <th></th>\n",
       "      <th>FIPS</th>\n",
       "      <th>deaths</th>\n",
       "      <th>cases</th>\n",
       "      <th>7/9/20</th>\n",
       "    </tr>\n",
       "  </thead>\n",
       "  <tbody>\n",
       "    <tr>\n",
       "      <td>0</td>\n",
       "      <td>66.0</td>\n",
       "      <td>5</td>\n",
       "      <td>309.0</td>\n",
       "      <td>0.016181</td>\n",
       "    </tr>\n",
       "    <tr>\n",
       "      <td>1</td>\n",
       "      <td>69.0</td>\n",
       "      <td>2</td>\n",
       "      <td>31.0</td>\n",
       "      <td>0.064516</td>\n",
       "    </tr>\n",
       "    <tr>\n",
       "      <td>2</td>\n",
       "      <td>78.0</td>\n",
       "      <td>6</td>\n",
       "      <td>144.0</td>\n",
       "      <td>0.041667</td>\n",
       "    </tr>\n",
       "  </tbody>\n",
       "</table>\n",
       "</div>"
      ],
      "text/plain": [
       "   FIPS  deaths  cases    7/9/20\n",
       "0  66.0       5  309.0  0.016181\n",
       "1  69.0       2   31.0  0.064516\n",
       "2  78.0       6  144.0  0.041667"
      ]
     },
     "execution_count": 36,
     "metadata": {},
     "output_type": "execute_result"
    }
   ],
   "source": [
    "# select a date\n",
    "selected_date = '7/9/20'\n",
    "\n",
    "in_table = r'time_series_covid19_deaths_US.csv'\n",
    "deaths_df = pd.read_csv(in_table)\n",
    "d_df = deaths_df[['FIPS',selected_date]]\n",
    "d_df = d_df.rename(columns={selected_date: 'deaths'})\n",
    "d_df = d_df.loc[d_df['FIPS'].notnull()]\n",
    "d_df = d_df[d_df['deaths'] != 0]\n",
    "print(len(d_df))\n",
    "\n",
    "in_table = r'time_series_covid19_confirmed_US.csv'\n",
    "cases_df = pd.read_csv(in_table)\n",
    "c_df = cases_df[['FIPS',selected_date]]\n",
    "c_df = c_df.rename(columns={selected_date: 'cases'})\n",
    "c_df = c_df.loc[c_df['FIPS'].notnull()]\n",
    "c_df = c_df[c_df['cases'] != 0] # keep the denominator non-zero\n",
    "print(len(c_df))\n",
    "\n",
    "# calculate case-fatality ratio\n",
    "cf_df = pd.merge(d_df, c_df, how='left', on='FIPS')\n",
    "cf_df[selected_date] = cf_df['deaths'] / cf_df['cases']\n",
    "print(len(cf_df))\n",
    "cf_df.head(3)"
   ]
  },
  {
   "cell_type": "code",
   "execution_count": 37,
   "metadata": {},
   "outputs": [
    {
     "name": "stdout",
     "output_type": "stream",
     "text": [
      "1983\n"
     ]
    },
    {
     "data": {
      "text/html": [
       "<div>\n",
       "<style scoped>\n",
       "    .dataframe tbody tr th:only-of-type {\n",
       "        vertical-align: middle;\n",
       "    }\n",
       "\n",
       "    .dataframe tbody tr th {\n",
       "        vertical-align: top;\n",
       "    }\n",
       "\n",
       "    .dataframe thead th {\n",
       "        text-align: right;\n",
       "    }\n",
       "</style>\n",
       "<table border=\"1\" class=\"dataframe\">\n",
       "  <thead>\n",
       "    <tr style=\"text-align: right;\">\n",
       "      <th></th>\n",
       "      <th>FIPS</th>\n",
       "      <th>deaths</th>\n",
       "      <th>cases</th>\n",
       "      <th>7/9/20</th>\n",
       "      <th>County</th>\n",
       "      <th>State</th>\n",
       "      <th>VR</th>\n",
       "      <th>County Population</th>\n",
       "    </tr>\n",
       "  </thead>\n",
       "  <tbody>\n",
       "    <tr>\n",
       "      <td>3</td>\n",
       "      <td>1001.0</td>\n",
       "      <td>13</td>\n",
       "      <td>653.0</td>\n",
       "      <td>0.019908</td>\n",
       "      <td>Autauga</td>\n",
       "      <td>AL</td>\n",
       "      <td>0.9536</td>\n",
       "      <td>55504.0</td>\n",
       "    </tr>\n",
       "    <tr>\n",
       "      <td>4</td>\n",
       "      <td>1003.0</td>\n",
       "      <td>10</td>\n",
       "      <td>1114.0</td>\n",
       "      <td>0.008977</td>\n",
       "      <td>Baldwin</td>\n",
       "      <td>AL</td>\n",
       "      <td>0.9700</td>\n",
       "      <td>212628.0</td>\n",
       "    </tr>\n",
       "    <tr>\n",
       "      <td>5</td>\n",
       "      <td>1005.0</td>\n",
       "      <td>2</td>\n",
       "      <td>367.0</td>\n",
       "      <td>0.005450</td>\n",
       "      <td>Barbour</td>\n",
       "      <td>AL</td>\n",
       "      <td>0.9283</td>\n",
       "      <td>25270.0</td>\n",
       "    </tr>\n",
       "  </tbody>\n",
       "</table>\n",
       "</div>"
      ],
      "text/plain": [
       "     FIPS  deaths   cases    7/9/20   County State      VR  County Population\n",
       "3  1001.0      13   653.0  0.019908  Autauga    AL  0.9536            55504.0\n",
       "4  1003.0      10  1114.0  0.008977  Baldwin    AL  0.9700           212628.0\n",
       "5  1005.0       2   367.0  0.005450  Barbour    AL  0.9283            25270.0"
      ]
     },
     "execution_count": 37,
     "metadata": {},
     "output_type": "execute_result"
    }
   ],
   "source": [
    "# add MMR\n",
    "df_cfr = pd.merge(cf_df, mmr_cnty_df, how='left', on='FIPS')\n",
    "df_cfr = df_cfr.loc[df_cfr['VR'].notnull()]\n",
    "print(len(df_cfr))\n",
    "df_cfr.head(3)\n",
    "#len(mortality_mmr_df.loc[mortality_mmr_df['VR'].isnull()])"
   ]
  },
  {
   "cell_type": "code",
   "execution_count": 50,
   "metadata": {},
   "outputs": [
    {
     "data": {
      "application/vnd.plotly.v1+json": {
       "config": {
        "plotlyServerURL": "https://plot.ly"
       },
       "data": [
        {
         "mode": "markers",
         "text": [
          "(MMR,Case-Fatality Ratio)<br>Baldwin,AL",
          "(MMR,Case-Fatality Ratio)<br>Calhoun,AL",
          "(MMR,Case-Fatality Ratio)<br>Etowah,AL",
          "(MMR,Case-Fatality Ratio)<br>Houston,AL",
          "(MMR,Case-Fatality Ratio)<br>Jefferson,AL",
          "(MMR,Case-Fatality Ratio)<br>Lee,AL",
          "(MMR,Case-Fatality Ratio)<br>Madison,AL",
          "(MMR,Case-Fatality Ratio)<br>Mobile,AL",
          "(MMR,Case-Fatality Ratio)<br>Montgomery,AL",
          "(MMR,Case-Fatality Ratio)<br>Morgan,AL",
          "(MMR,Case-Fatality Ratio)<br>Shelby,AL",
          "(MMR,Case-Fatality Ratio)<br>Tuscaloosa,AL",
          "(MMR,Case-Fatality Ratio)<br>Cochise,AZ",
          "(MMR,Case-Fatality Ratio)<br>Coconino,AZ",
          "(MMR,Case-Fatality Ratio)<br>Maricopa,AZ",
          "(MMR,Case-Fatality Ratio)<br>Mohave,AZ",
          "(MMR,Case-Fatality Ratio)<br>Navajo,AZ",
          "(MMR,Case-Fatality Ratio)<br>Pima,AZ",
          "(MMR,Case-Fatality Ratio)<br>Pinal,AZ",
          "(MMR,Case-Fatality Ratio)<br>Yavapai,AZ",
          "(MMR,Case-Fatality Ratio)<br>Yuma,AZ",
          "(MMR,Case-Fatality Ratio)<br>Benton,AR",
          "(MMR,Case-Fatality Ratio)<br>Craighead,AR",
          "(MMR,Case-Fatality Ratio)<br>Faulkner,AR",
          "(MMR,Case-Fatality Ratio)<br>Pulaski,AR",
          "(MMR,Case-Fatality Ratio)<br>Saline,AR",
          "(MMR,Case-Fatality Ratio)<br>Sebastian,AR",
          "(MMR,Case-Fatality Ratio)<br>Washington,AR",
          "(MMR,Case-Fatality Ratio)<br>Alameda,CA",
          "(MMR,Case-Fatality Ratio)<br>Butte,CA",
          "(MMR,Case-Fatality Ratio)<br>Contra Costa,CA",
          "(MMR,Case-Fatality Ratio)<br>Fresno,CA",
          "(MMR,Case-Fatality Ratio)<br>Humboldt,CA",
          "(MMR,Case-Fatality Ratio)<br>Imperial,CA",
          "(MMR,Case-Fatality Ratio)<br>Kern,CA",
          "(MMR,Case-Fatality Ratio)<br>Kings,CA",
          "(MMR,Case-Fatality Ratio)<br>Los Angeles,CA",
          "(MMR,Case-Fatality Ratio)<br>Madera,CA",
          "(MMR,Case-Fatality Ratio)<br>Marin,CA",
          "(MMR,Case-Fatality Ratio)<br>Merced,CA",
          "(MMR,Case-Fatality Ratio)<br>Monterey,CA",
          "(MMR,Case-Fatality Ratio)<br>Napa,CA",
          "(MMR,Case-Fatality Ratio)<br>Orange,CA",
          "(MMR,Case-Fatality Ratio)<br>Placer,CA",
          "(MMR,Case-Fatality Ratio)<br>Riverside,CA",
          "(MMR,Case-Fatality Ratio)<br>Sacramento,CA",
          "(MMR,Case-Fatality Ratio)<br>San Bernardino,CA",
          "(MMR,Case-Fatality Ratio)<br>San Diego,CA",
          "(MMR,Case-Fatality Ratio)<br>San Francisco,CA",
          "(MMR,Case-Fatality Ratio)<br>San Joaquin,CA",
          "(MMR,Case-Fatality Ratio)<br>San Luis Obispo,CA",
          "(MMR,Case-Fatality Ratio)<br>San Mateo,CA",
          "(MMR,Case-Fatality Ratio)<br>Santa Barbara,CA",
          "(MMR,Case-Fatality Ratio)<br>Santa Clara,CA",
          "(MMR,Case-Fatality Ratio)<br>Santa Cruz,CA",
          "(MMR,Case-Fatality Ratio)<br>Shasta,CA",
          "(MMR,Case-Fatality Ratio)<br>Solano,CA",
          "(MMR,Case-Fatality Ratio)<br>Sonoma,CA",
          "(MMR,Case-Fatality Ratio)<br>Stanislaus,CA",
          "(MMR,Case-Fatality Ratio)<br>Tulare,CA",
          "(MMR,Case-Fatality Ratio)<br>Ventura,CA",
          "(MMR,Case-Fatality Ratio)<br>Yolo,CA",
          "(MMR,Case-Fatality Ratio)<br>Adams,CO",
          "(MMR,Case-Fatality Ratio)<br>Arapahoe,CO",
          "(MMR,Case-Fatality Ratio)<br>Boulder,CO",
          "(MMR,Case-Fatality Ratio)<br>Denver,CO",
          "(MMR,Case-Fatality Ratio)<br>Douglas,CO",
          "(MMR,Case-Fatality Ratio)<br>El Paso,CO",
          "(MMR,Case-Fatality Ratio)<br>Jefferson,CO",
          "(MMR,Case-Fatality Ratio)<br>Larimer,CO",
          "(MMR,Case-Fatality Ratio)<br>Pueblo,CO",
          "(MMR,Case-Fatality Ratio)<br>Weld,CO",
          "(MMR,Case-Fatality Ratio)<br>Fairfield,CT",
          "(MMR,Case-Fatality Ratio)<br>Hartford,CT",
          "(MMR,Case-Fatality Ratio)<br>Litchfield,CT",
          "(MMR,Case-Fatality Ratio)<br>Middlesex,CT",
          "(MMR,Case-Fatality Ratio)<br>New Haven,CT",
          "(MMR,Case-Fatality Ratio)<br>New London,CT",
          "(MMR,Case-Fatality Ratio)<br>Tolland,CT",
          "(MMR,Case-Fatality Ratio)<br>Windham,CT",
          "(MMR,Case-Fatality Ratio)<br>Kent,DE",
          "(MMR,Case-Fatality Ratio)<br>New Castle,DE",
          "(MMR,Case-Fatality Ratio)<br>Sussex,DE",
          "(MMR,Case-Fatality Ratio)<br>Alachua,FL",
          "(MMR,Case-Fatality Ratio)<br>Bay,FL",
          "(MMR,Case-Fatality Ratio)<br>Brevard,FL",
          "(MMR,Case-Fatality Ratio)<br>Broward,FL",
          "(MMR,Case-Fatality Ratio)<br>Charlotte,FL",
          "(MMR,Case-Fatality Ratio)<br>Citrus,FL",
          "(MMR,Case-Fatality Ratio)<br>Clay,FL",
          "(MMR,Case-Fatality Ratio)<br>Collier,FL",
          "(MMR,Case-Fatality Ratio)<br>Duval,FL",
          "(MMR,Case-Fatality Ratio)<br>Escambia,FL",
          "(MMR,Case-Fatality Ratio)<br>Flagler,FL",
          "(MMR,Case-Fatality Ratio)<br>Hernando,FL",
          "(MMR,Case-Fatality Ratio)<br>Highlands,FL",
          "(MMR,Case-Fatality Ratio)<br>Hillsborough,FL",
          "(MMR,Case-Fatality Ratio)<br>Indian River,FL",
          "(MMR,Case-Fatality Ratio)<br>Lake,FL",
          "(MMR,Case-Fatality Ratio)<br>Lee,FL",
          "(MMR,Case-Fatality Ratio)<br>Leon,FL",
          "(MMR,Case-Fatality Ratio)<br>Manatee,FL",
          "(MMR,Case-Fatality Ratio)<br>Marion,FL",
          "(MMR,Case-Fatality Ratio)<br>Martin,FL",
          "(MMR,Case-Fatality Ratio)<br>Miami-Dade,FL",
          "(MMR,Case-Fatality Ratio)<br>Okaloosa,FL",
          "(MMR,Case-Fatality Ratio)<br>Orange,FL",
          "(MMR,Case-Fatality Ratio)<br>Osceola,FL",
          "(MMR,Case-Fatality Ratio)<br>Palm Beach,FL",
          "(MMR,Case-Fatality Ratio)<br>Pasco,FL",
          "(MMR,Case-Fatality Ratio)<br>Pinellas,FL",
          "(MMR,Case-Fatality Ratio)<br>Polk,FL",
          "(MMR,Case-Fatality Ratio)<br>St Johns,FL",
          "(MMR,Case-Fatality Ratio)<br>St Lucie,FL",
          "(MMR,Case-Fatality Ratio)<br>Santa Rosa,FL",
          "(MMR,Case-Fatality Ratio)<br>Sarasota,FL",
          "(MMR,Case-Fatality Ratio)<br>Seminole,FL",
          "(MMR,Case-Fatality Ratio)<br>Sumter,FL",
          "(MMR,Case-Fatality Ratio)<br>Volusia,FL",
          "(MMR,Case-Fatality Ratio)<br>Bartow,GA",
          "(MMR,Case-Fatality Ratio)<br>Bibb,GA",
          "(MMR,Case-Fatality Ratio)<br>Carroll,GA",
          "(MMR,Case-Fatality Ratio)<br>Chatham,GA",
          "(MMR,Case-Fatality Ratio)<br>Cherokee,GA",
          "(MMR,Case-Fatality Ratio)<br>Clarke,GA",
          "(MMR,Case-Fatality Ratio)<br>Clayton,GA",
          "(MMR,Case-Fatality Ratio)<br>Cobb,GA",
          "(MMR,Case-Fatality Ratio)<br>Columbia,GA",
          "(MMR,Case-Fatality Ratio)<br>Coweta,GA",
          "(MMR,Case-Fatality Ratio)<br>DeKalb,GA",
          "(MMR,Case-Fatality Ratio)<br>Douglas,GA",
          "(MMR,Case-Fatality Ratio)<br>Fayette,GA",
          "(MMR,Case-Fatality Ratio)<br>Forsyth,GA",
          "(MMR,Case-Fatality Ratio)<br>Fulton,GA",
          "(MMR,Case-Fatality Ratio)<br>Gwinnett,GA",
          "(MMR,Case-Fatality Ratio)<br>Hall,GA",
          "(MMR,Case-Fatality Ratio)<br>Henry,GA",
          "(MMR,Case-Fatality Ratio)<br>Houston,GA",
          "(MMR,Case-Fatality Ratio)<br>Lowndes,GA",
          "(MMR,Case-Fatality Ratio)<br>Muscogee,GA",
          "(MMR,Case-Fatality Ratio)<br>Newton,GA",
          "(MMR,Case-Fatality Ratio)<br>Paulding,GA",
          "(MMR,Case-Fatality Ratio)<br>Richmond,GA",
          "(MMR,Case-Fatality Ratio)<br>Whitfield,GA",
          "(MMR,Case-Fatality Ratio)<br>Honolulu,HI",
          "(MMR,Case-Fatality Ratio)<br>Maui,HI",
          "(MMR,Case-Fatality Ratio)<br>Ada,ID",
          "(MMR,Case-Fatality Ratio)<br>Bonneville,ID",
          "(MMR,Case-Fatality Ratio)<br>Canyon,ID",
          "(MMR,Case-Fatality Ratio)<br>Kootenai,ID",
          "(MMR,Case-Fatality Ratio)<br>Champaign,IL",
          "(MMR,Case-Fatality Ratio)<br>Cook,IL",
          "(MMR,Case-Fatality Ratio)<br>DeKalb,IL",
          "(MMR,Case-Fatality Ratio)<br>DuPage,IL",
          "(MMR,Case-Fatality Ratio)<br>Kane,IL",
          "(MMR,Case-Fatality Ratio)<br>Kankakee,IL",
          "(MMR,Case-Fatality Ratio)<br>Kendall,IL",
          "(MMR,Case-Fatality Ratio)<br>Lake,IL",
          "(MMR,Case-Fatality Ratio)<br>LaSalle,IL",
          "(MMR,Case-Fatality Ratio)<br>McHenry,IL",
          "(MMR,Case-Fatality Ratio)<br>McLean,IL",
          "(MMR,Case-Fatality Ratio)<br>Macon,IL",
          "(MMR,Case-Fatality Ratio)<br>Madison,IL",
          "(MMR,Case-Fatality Ratio)<br>Peoria,IL",
          "(MMR,Case-Fatality Ratio)<br>Rock Island,IL",
          "(MMR,Case-Fatality Ratio)<br>St Clair,IL",
          "(MMR,Case-Fatality Ratio)<br>Sangamon,IL",
          "(MMR,Case-Fatality Ratio)<br>Tazewell,IL",
          "(MMR,Case-Fatality Ratio)<br>Will,IL",
          "(MMR,Case-Fatality Ratio)<br>Winnebago,IL",
          "(MMR,Case-Fatality Ratio)<br>Allen,IN",
          "(MMR,Case-Fatality Ratio)<br>Clark,IN",
          "(MMR,Case-Fatality Ratio)<br>Delaware,IN",
          "(MMR,Case-Fatality Ratio)<br>Elkhart,IN",
          "(MMR,Case-Fatality Ratio)<br>Hamilton,IN",
          "(MMR,Case-Fatality Ratio)<br>Hendricks,IN",
          "(MMR,Case-Fatality Ratio)<br>Johnson,IN",
          "(MMR,Case-Fatality Ratio)<br>Lake,IN",
          "(MMR,Case-Fatality Ratio)<br>La Porte,IN",
          "(MMR,Case-Fatality Ratio)<br>Madison,IN",
          "(MMR,Case-Fatality Ratio)<br>Marion,IN",
          "(MMR,Case-Fatality Ratio)<br>Monroe,IN",
          "(MMR,Case-Fatality Ratio)<br>Porter,IN",
          "(MMR,Case-Fatality Ratio)<br>St Joseph,IN",
          "(MMR,Case-Fatality Ratio)<br>Tippecanoe,IN",
          "(MMR,Case-Fatality Ratio)<br>Vanderburgh,IN",
          "(MMR,Case-Fatality Ratio)<br>Vigo,IN",
          "(MMR,Case-Fatality Ratio)<br>Black Hawk,IA",
          "(MMR,Case-Fatality Ratio)<br>Johnson,IA",
          "(MMR,Case-Fatality Ratio)<br>Linn,IA",
          "(MMR,Case-Fatality Ratio)<br>Polk,IA",
          "(MMR,Case-Fatality Ratio)<br>Scott,IA",
          "(MMR,Case-Fatality Ratio)<br>Woodbury,IA",
          "(MMR,Case-Fatality Ratio)<br>Johnson,KS",
          "(MMR,Case-Fatality Ratio)<br>Sedgwick,KS",
          "(MMR,Case-Fatality Ratio)<br>Shawnee,KS",
          "(MMR,Case-Fatality Ratio)<br>Wyandotte,KS",
          "(MMR,Case-Fatality Ratio)<br>Boone,KY",
          "(MMR,Case-Fatality Ratio)<br>Daviess,KY",
          "(MMR,Case-Fatality Ratio)<br>Fayette,KY",
          "(MMR,Case-Fatality Ratio)<br>Hardin,KY",
          "(MMR,Case-Fatality Ratio)<br>Jefferson,KY",
          "(MMR,Case-Fatality Ratio)<br>Kenton,KY",
          "(MMR,Case-Fatality Ratio)<br>Warren,KY",
          "(MMR,Case-Fatality Ratio)<br>Ascension,LA",
          "(MMR,Case-Fatality Ratio)<br>Bossier,LA",
          "(MMR,Case-Fatality Ratio)<br>Caddo,LA",
          "(MMR,Case-Fatality Ratio)<br>Calcasieu,LA",
          "(MMR,Case-Fatality Ratio)<br>East Baton Rouge,LA",
          "(MMR,Case-Fatality Ratio)<br>Jefferson,LA",
          "(MMR,Case-Fatality Ratio)<br>Lafayette,LA",
          "(MMR,Case-Fatality Ratio)<br>Livingston,LA",
          "(MMR,Case-Fatality Ratio)<br>Orleans,LA",
          "(MMR,Case-Fatality Ratio)<br>Ouachita,LA",
          "(MMR,Case-Fatality Ratio)<br>Rapides,LA",
          "(MMR,Case-Fatality Ratio)<br>St Tammany,LA",
          "(MMR,Case-Fatality Ratio)<br>Tangipahoa,LA",
          "(MMR,Case-Fatality Ratio)<br>Terrebonne,LA",
          "(MMR,Case-Fatality Ratio)<br>Androscoggin,ME",
          "(MMR,Case-Fatality Ratio)<br>Cumberland,ME",
          "(MMR,Case-Fatality Ratio)<br>Kennebec,ME",
          "(MMR,Case-Fatality Ratio)<br>Penobscot,ME",
          "(MMR,Case-Fatality Ratio)<br>York,ME",
          "(MMR,Case-Fatality Ratio)<br>Anne Arundel,MD",
          "(MMR,Case-Fatality Ratio)<br>Baltimore,MD",
          "(MMR,Case-Fatality Ratio)<br>Carroll,MD",
          "(MMR,Case-Fatality Ratio)<br>Cecil,MD",
          "(MMR,Case-Fatality Ratio)<br>Charles,MD",
          "(MMR,Case-Fatality Ratio)<br>Frederick,MD",
          "(MMR,Case-Fatality Ratio)<br>Harford,MD",
          "(MMR,Case-Fatality Ratio)<br>Howard,MD",
          "(MMR,Case-Fatality Ratio)<br>Montgomery,MD",
          "(MMR,Case-Fatality Ratio)<br>Prince Georges,MD",
          "(MMR,Case-Fatality Ratio)<br>St Marys,MD",
          "(MMR,Case-Fatality Ratio)<br>Washington,MD",
          "(MMR,Case-Fatality Ratio)<br>Wicomico,MD",
          "(MMR,Case-Fatality Ratio)<br>Baltimore City,MD",
          "(MMR,Case-Fatality Ratio)<br>Barnstable,MA",
          "(MMR,Case-Fatality Ratio)<br>Berkshire,MA",
          "(MMR,Case-Fatality Ratio)<br>Bristol,MA",
          "(MMR,Case-Fatality Ratio)<br>Essex,MA",
          "(MMR,Case-Fatality Ratio)<br>Hampden,MA",
          "(MMR,Case-Fatality Ratio)<br>Hampshire,MA",
          "(MMR,Case-Fatality Ratio)<br>Middlesex,MA",
          "(MMR,Case-Fatality Ratio)<br>Norfolk,MA",
          "(MMR,Case-Fatality Ratio)<br>Plymouth,MA",
          "(MMR,Case-Fatality Ratio)<br>Suffolk,MA",
          "(MMR,Case-Fatality Ratio)<br>Worcester,MA",
          "(MMR,Case-Fatality Ratio)<br>Allegan,MI",
          "(MMR,Case-Fatality Ratio)<br>Bay,MI",
          "(MMR,Case-Fatality Ratio)<br>Berrien,MI",
          "(MMR,Case-Fatality Ratio)<br>Calhoun,MI",
          "(MMR,Case-Fatality Ratio)<br>Eaton,MI",
          "(MMR,Case-Fatality Ratio)<br>Genesee,MI",
          "(MMR,Case-Fatality Ratio)<br>Ingham,MI",
          "(MMR,Case-Fatality Ratio)<br>Jackson,MI",
          "(MMR,Case-Fatality Ratio)<br>Kalamazoo,MI",
          "(MMR,Case-Fatality Ratio)<br>Kent,MI",
          "(MMR,Case-Fatality Ratio)<br>Livingston,MI",
          "(MMR,Case-Fatality Ratio)<br>Macomb,MI",
          "(MMR,Case-Fatality Ratio)<br>Monroe,MI",
          "(MMR,Case-Fatality Ratio)<br>Muskegon,MI",
          "(MMR,Case-Fatality Ratio)<br>Oakland,MI",
          "(MMR,Case-Fatality Ratio)<br>Ottawa,MI",
          "(MMR,Case-Fatality Ratio)<br>Saginaw,MI",
          "(MMR,Case-Fatality Ratio)<br>St Clair,MI",
          "(MMR,Case-Fatality Ratio)<br>Washtenaw,MI",
          "(MMR,Case-Fatality Ratio)<br>Wayne,MI",
          "(MMR,Case-Fatality Ratio)<br>Anoka,MN",
          "(MMR,Case-Fatality Ratio)<br>Carver,MN",
          "(MMR,Case-Fatality Ratio)<br>Dakota,MN",
          "(MMR,Case-Fatality Ratio)<br>Hennepin,MN",
          "(MMR,Case-Fatality Ratio)<br>Olmsted,MN",
          "(MMR,Case-Fatality Ratio)<br>Ramsey,MN",
          "(MMR,Case-Fatality Ratio)<br>St Louis,MN",
          "(MMR,Case-Fatality Ratio)<br>Scott,MN",
          "(MMR,Case-Fatality Ratio)<br>Stearns,MN",
          "(MMR,Case-Fatality Ratio)<br>Washington,MN",
          "(MMR,Case-Fatality Ratio)<br>Wright,MN",
          "(MMR,Case-Fatality Ratio)<br>DeSoto,MS",
          "(MMR,Case-Fatality Ratio)<br>Harrison,MS",
          "(MMR,Case-Fatality Ratio)<br>Hinds,MS",
          "(MMR,Case-Fatality Ratio)<br>Jackson,MS",
          "(MMR,Case-Fatality Ratio)<br>Madison,MS",
          "(MMR,Case-Fatality Ratio)<br>Rankin,MS",
          "(MMR,Case-Fatality Ratio)<br>Boone,MO",
          "(MMR,Case-Fatality Ratio)<br>Cass,MO",
          "(MMR,Case-Fatality Ratio)<br>Clay,MO",
          "(MMR,Case-Fatality Ratio)<br>Franklin,MO",
          "(MMR,Case-Fatality Ratio)<br>Greene,MO",
          "(MMR,Case-Fatality Ratio)<br>Jackson,MO",
          "(MMR,Case-Fatality Ratio)<br>Jasper,MO",
          "(MMR,Case-Fatality Ratio)<br>Jefferson,MO",
          "(MMR,Case-Fatality Ratio)<br>Platte,MO",
          "(MMR,Case-Fatality Ratio)<br>St Charles,MO",
          "(MMR,Case-Fatality Ratio)<br>St Louis County,MO",
          "(MMR,Case-Fatality Ratio)<br>St Louis City,MO",
          "(MMR,Case-Fatality Ratio)<br>Gallatin,MT",
          "(MMR,Case-Fatality Ratio)<br>Missoula,MT",
          "(MMR,Case-Fatality Ratio)<br>Yellowstone,MT",
          "(MMR,Case-Fatality Ratio)<br>Douglas,NE",
          "(MMR,Case-Fatality Ratio)<br>Lancaster,NE",
          "(MMR,Case-Fatality Ratio)<br>Sarpy,NE",
          "(MMR,Case-Fatality Ratio)<br>Clark,NV",
          "(MMR,Case-Fatality Ratio)<br>Washoe,NV",
          "(MMR,Case-Fatality Ratio)<br>Hillsborough,NH",
          "(MMR,Case-Fatality Ratio)<br>Merrimack,NH",
          "(MMR,Case-Fatality Ratio)<br>Rockingham,NH",
          "(MMR,Case-Fatality Ratio)<br>Strafford,NH",
          "(MMR,Case-Fatality Ratio)<br>Atlantic,NJ",
          "(MMR,Case-Fatality Ratio)<br>Bergen,NJ",
          "(MMR,Case-Fatality Ratio)<br>Burlington,NJ",
          "(MMR,Case-Fatality Ratio)<br>Camden,NJ",
          "(MMR,Case-Fatality Ratio)<br>Cumberland,NJ",
          "(MMR,Case-Fatality Ratio)<br>Essex,NJ",
          "(MMR,Case-Fatality Ratio)<br>Gloucester,NJ",
          "(MMR,Case-Fatality Ratio)<br>Hudson,NJ",
          "(MMR,Case-Fatality Ratio)<br>Hunterdon,NJ",
          "(MMR,Case-Fatality Ratio)<br>Mercer,NJ",
          "(MMR,Case-Fatality Ratio)<br>Middlesex,NJ",
          "(MMR,Case-Fatality Ratio)<br>Monmouth,NJ",
          "(MMR,Case-Fatality Ratio)<br>Morris,NJ",
          "(MMR,Case-Fatality Ratio)<br>Ocean,NJ",
          "(MMR,Case-Fatality Ratio)<br>Passaic,NJ",
          "(MMR,Case-Fatality Ratio)<br>Somerset,NJ",
          "(MMR,Case-Fatality Ratio)<br>Sussex,NJ",
          "(MMR,Case-Fatality Ratio)<br>Union,NJ",
          "(MMR,Case-Fatality Ratio)<br>Warren,NJ",
          "(MMR,Case-Fatality Ratio)<br>Bernalillo,NM",
          "(MMR,Case-Fatality Ratio)<br>Dona Ana,NM",
          "(MMR,Case-Fatality Ratio)<br>Sandoval,NM",
          "(MMR,Case-Fatality Ratio)<br>San Juan,NM",
          "(MMR,Case-Fatality Ratio)<br>Santa Fe,NM",
          "(MMR,Case-Fatality Ratio)<br>Albany,NY",
          "(MMR,Case-Fatality Ratio)<br>Broome,NY",
          "(MMR,Case-Fatality Ratio)<br>Chautauqua,NY",
          "(MMR,Case-Fatality Ratio)<br>Dutchess,NY",
          "(MMR,Case-Fatality Ratio)<br>Erie,NY",
          "(MMR,Case-Fatality Ratio)<br>Monroe,NY",
          "(MMR,Case-Fatality Ratio)<br>Nassau,NY",
          "(MMR,Case-Fatality Ratio)<br>NYC,NY",
          "(MMR,Case-Fatality Ratio)<br>Niagara,NY",
          "(MMR,Case-Fatality Ratio)<br>Oneida,NY",
          "(MMR,Case-Fatality Ratio)<br>Onondaga,NY",
          "(MMR,Case-Fatality Ratio)<br>Ontario,NY",
          "(MMR,Case-Fatality Ratio)<br>Orange,NY",
          "(MMR,Case-Fatality Ratio)<br>Oswego,NY",
          "(MMR,Case-Fatality Ratio)<br>Rensselaer,NY",
          "(MMR,Case-Fatality Ratio)<br>Rockland,NY",
          "(MMR,Case-Fatality Ratio)<br>St Lawrence,NY",
          "(MMR,Case-Fatality Ratio)<br>Saratoga,NY",
          "(MMR,Case-Fatality Ratio)<br>Schenectady,NY",
          "(MMR,Case-Fatality Ratio)<br>Suffolk,NY",
          "(MMR,Case-Fatality Ratio)<br>Ulster,NY",
          "(MMR,Case-Fatality Ratio)<br>Westchester,NY",
          "(MMR,Case-Fatality Ratio)<br>Alamance,NC",
          "(MMR,Case-Fatality Ratio)<br>Brunswick,NC",
          "(MMR,Case-Fatality Ratio)<br>Buncombe,NC",
          "(MMR,Case-Fatality Ratio)<br>Cabarrus,NC",
          "(MMR,Case-Fatality Ratio)<br>Catawba,NC",
          "(MMR,Case-Fatality Ratio)<br>Craven,NC",
          "(MMR,Case-Fatality Ratio)<br>Cumberland,NC",
          "(MMR,Case-Fatality Ratio)<br>Davidson,NC",
          "(MMR,Case-Fatality Ratio)<br>Durham,NC",
          "(MMR,Case-Fatality Ratio)<br>Forsyth,NC",
          "(MMR,Case-Fatality Ratio)<br>Gaston,NC",
          "(MMR,Case-Fatality Ratio)<br>Guilford,NC",
          "(MMR,Case-Fatality Ratio)<br>Harnett,NC",
          "(MMR,Case-Fatality Ratio)<br>Henderson,NC",
          "(MMR,Case-Fatality Ratio)<br>Iredell,NC",
          "(MMR,Case-Fatality Ratio)<br>Johnston,NC",
          "(MMR,Case-Fatality Ratio)<br>Mecklenburg,NC",
          "(MMR,Case-Fatality Ratio)<br>New Hanover,NC",
          "(MMR,Case-Fatality Ratio)<br>Onslow,NC",
          "(MMR,Case-Fatality Ratio)<br>Orange,NC",
          "(MMR,Case-Fatality Ratio)<br>Pitt,NC",
          "(MMR,Case-Fatality Ratio)<br>Randolph,NC",
          "(MMR,Case-Fatality Ratio)<br>Robeson,NC",
          "(MMR,Case-Fatality Ratio)<br>Rowan,NC",
          "(MMR,Case-Fatality Ratio)<br>Union,NC",
          "(MMR,Case-Fatality Ratio)<br>Wake,NC",
          "(MMR,Case-Fatality Ratio)<br>Wayne,NC",
          "(MMR,Case-Fatality Ratio)<br>Cass,ND",
          "(MMR,Case-Fatality Ratio)<br>Allen,OH",
          "(MMR,Case-Fatality Ratio)<br>Butler,OH",
          "(MMR,Case-Fatality Ratio)<br>Clark,OH",
          "(MMR,Case-Fatality Ratio)<br>Clermont,OH",
          "(MMR,Case-Fatality Ratio)<br>Columbiana,OH",
          "(MMR,Case-Fatality Ratio)<br>Cuyahoga,OH",
          "(MMR,Case-Fatality Ratio)<br>Delaware,OH",
          "(MMR,Case-Fatality Ratio)<br>Fairfield,OH",
          "(MMR,Case-Fatality Ratio)<br>Franklin,OH",
          "(MMR,Case-Fatality Ratio)<br>Greene,OH",
          "(MMR,Case-Fatality Ratio)<br>Hamilton,OH",
          "(MMR,Case-Fatality Ratio)<br>Lake,OH",
          "(MMR,Case-Fatality Ratio)<br>Licking,OH",
          "(MMR,Case-Fatality Ratio)<br>Lorain,OH",
          "(MMR,Case-Fatality Ratio)<br>Lucas,OH",
          "(MMR,Case-Fatality Ratio)<br>Mahoning,OH",
          "(MMR,Case-Fatality Ratio)<br>Medina,OH",
          "(MMR,Case-Fatality Ratio)<br>Miami,OH",
          "(MMR,Case-Fatality Ratio)<br>Montgomery,OH",
          "(MMR,Case-Fatality Ratio)<br>Portage,OH",
          "(MMR,Case-Fatality Ratio)<br>Richland,OH",
          "(MMR,Case-Fatality Ratio)<br>Stark,OH",
          "(MMR,Case-Fatality Ratio)<br>Summit,OH",
          "(MMR,Case-Fatality Ratio)<br>Trumbull,OH",
          "(MMR,Case-Fatality Ratio)<br>Warren,OH",
          "(MMR,Case-Fatality Ratio)<br>Wayne,OH",
          "(MMR,Case-Fatality Ratio)<br>Wood,OH",
          "(MMR,Case-Fatality Ratio)<br>Canadian,OK",
          "(MMR,Case-Fatality Ratio)<br>Cleveland,OK",
          "(MMR,Case-Fatality Ratio)<br>Comanche,OK",
          "(MMR,Case-Fatality Ratio)<br>Oklahoma,OK",
          "(MMR,Case-Fatality Ratio)<br>Tulsa,OK",
          "(MMR,Case-Fatality Ratio)<br>Clackamas,OR",
          "(MMR,Case-Fatality Ratio)<br>Lane,OR",
          "(MMR,Case-Fatality Ratio)<br>Linn,OR",
          "(MMR,Case-Fatality Ratio)<br>Marion,OR",
          "(MMR,Case-Fatality Ratio)<br>Multnomah,OR",
          "(MMR,Case-Fatality Ratio)<br>Washington,OR",
          "(MMR,Case-Fatality Ratio)<br>Yamhill,OR",
          "(MMR,Case-Fatality Ratio)<br>Adams,PA",
          "(MMR,Case-Fatality Ratio)<br>Allegheny,PA",
          "(MMR,Case-Fatality Ratio)<br>Beaver,PA",
          "(MMR,Case-Fatality Ratio)<br>Berks,PA",
          "(MMR,Case-Fatality Ratio)<br>Blair,PA",
          "(MMR,Case-Fatality Ratio)<br>Bucks,PA",
          "(MMR,Case-Fatality Ratio)<br>Butler,PA",
          "(MMR,Case-Fatality Ratio)<br>Cambria,PA",
          "(MMR,Case-Fatality Ratio)<br>Centre,PA",
          "(MMR,Case-Fatality Ratio)<br>Chester,PA",
          "(MMR,Case-Fatality Ratio)<br>Cumberland,PA",
          "(MMR,Case-Fatality Ratio)<br>Dauphin,PA",
          "(MMR,Case-Fatality Ratio)<br>Delaware,PA",
          "(MMR,Case-Fatality Ratio)<br>Erie,PA",
          "(MMR,Case-Fatality Ratio)<br>Fayette,PA",
          "(MMR,Case-Fatality Ratio)<br>Franklin,PA",
          "(MMR,Case-Fatality Ratio)<br>Lackawanna,PA",
          "(MMR,Case-Fatality Ratio)<br>Lancaster,PA",
          "(MMR,Case-Fatality Ratio)<br>Lebanon,PA",
          "(MMR,Case-Fatality Ratio)<br>Lehigh,PA",
          "(MMR,Case-Fatality Ratio)<br>Luzerne,PA",
          "(MMR,Case-Fatality Ratio)<br>Lycoming,PA",
          "(MMR,Case-Fatality Ratio)<br>Mercer,PA",
          "(MMR,Case-Fatality Ratio)<br>Monroe,PA",
          "(MMR,Case-Fatality Ratio)<br>Montgomery,PA",
          "(MMR,Case-Fatality Ratio)<br>Northampton,PA",
          "(MMR,Case-Fatality Ratio)<br>Philadelphia,PA",
          "(MMR,Case-Fatality Ratio)<br>Schuylkill,PA",
          "(MMR,Case-Fatality Ratio)<br>Washington,PA",
          "(MMR,Case-Fatality Ratio)<br>Westmoreland,PA",
          "(MMR,Case-Fatality Ratio)<br>York,PA",
          "(MMR,Case-Fatality Ratio)<br>Aiken,SC",
          "(MMR,Case-Fatality Ratio)<br>Anderson,SC",
          "(MMR,Case-Fatality Ratio)<br>Beaufort,SC",
          "(MMR,Case-Fatality Ratio)<br>Berkeley,SC",
          "(MMR,Case-Fatality Ratio)<br>Charleston,SC",
          "(MMR,Case-Fatality Ratio)<br>Dorchester,SC",
          "(MMR,Case-Fatality Ratio)<br>Florence,SC",
          "(MMR,Case-Fatality Ratio)<br>Greenville,SC",
          "(MMR,Case-Fatality Ratio)<br>Horry,SC",
          "(MMR,Case-Fatality Ratio)<br>Lexington,SC",
          "(MMR,Case-Fatality Ratio)<br>Pickens,SC",
          "(MMR,Case-Fatality Ratio)<br>Richland,SC",
          "(MMR,Case-Fatality Ratio)<br>Spartanburg,SC",
          "(MMR,Case-Fatality Ratio)<br>Sumter,SC",
          "(MMR,Case-Fatality Ratio)<br>York,SC",
          "(MMR,Case-Fatality Ratio)<br>Minnehaha,SD",
          "(MMR,Case-Fatality Ratio)<br>Pennington,SD",
          "(MMR,Case-Fatality Ratio)<br>Blount,TN",
          "(MMR,Case-Fatality Ratio)<br>Bradley,TN",
          "(MMR,Case-Fatality Ratio)<br>Davidson,TN",
          "(MMR,Case-Fatality Ratio)<br>Hamilton,TN",
          "(MMR,Case-Fatality Ratio)<br>Knox,TN",
          "(MMR,Case-Fatality Ratio)<br>Montgomery,TN",
          "(MMR,Case-Fatality Ratio)<br>Rutherford,TN",
          "(MMR,Case-Fatality Ratio)<br>Shelby,TN",
          "(MMR,Case-Fatality Ratio)<br>Sullivan,TN",
          "(MMR,Case-Fatality Ratio)<br>Sumner,TN",
          "(MMR,Case-Fatality Ratio)<br>Williamson,TN",
          "(MMR,Case-Fatality Ratio)<br>Wilson,TN",
          "(MMR,Case-Fatality Ratio)<br>Bell,TX",
          "(MMR,Case-Fatality Ratio)<br>Bexar,TX",
          "(MMR,Case-Fatality Ratio)<br>Brazoria,TX",
          "(MMR,Case-Fatality Ratio)<br>Brazos,TX",
          "(MMR,Case-Fatality Ratio)<br>Cameron,TX",
          "(MMR,Case-Fatality Ratio)<br>Collin,TX",
          "(MMR,Case-Fatality Ratio)<br>Comal,TX",
          "(MMR,Case-Fatality Ratio)<br>Dallas,TX",
          "(MMR,Case-Fatality Ratio)<br>Denton,TX",
          "(MMR,Case-Fatality Ratio)<br>Ector,TX",
          "(MMR,Case-Fatality Ratio)<br>Ellis,TX",
          "(MMR,Case-Fatality Ratio)<br>El Paso,TX",
          "(MMR,Case-Fatality Ratio)<br>Fort Bend,TX",
          "(MMR,Case-Fatality Ratio)<br>Galveston,TX",
          "(MMR,Case-Fatality Ratio)<br>Grayson,TX",
          "(MMR,Case-Fatality Ratio)<br>Gregg,TX",
          "(MMR,Case-Fatality Ratio)<br>Guadalupe,TX",
          "(MMR,Case-Fatality Ratio)<br>Harris,TX",
          "(MMR,Case-Fatality Ratio)<br>Hays,TX",
          "(MMR,Case-Fatality Ratio)<br>Hidalgo,TX",
          "(MMR,Case-Fatality Ratio)<br>Jefferson,TX",
          "(MMR,Case-Fatality Ratio)<br>Johnson,TX",
          "(MMR,Case-Fatality Ratio)<br>Kaufman,TX",
          "(MMR,Case-Fatality Ratio)<br>Lubbock,TX",
          "(MMR,Case-Fatality Ratio)<br>McLennan,TX",
          "(MMR,Case-Fatality Ratio)<br>Midland,TX",
          "(MMR,Case-Fatality Ratio)<br>Montgomery,TX",
          "(MMR,Case-Fatality Ratio)<br>Nueces,TX",
          "(MMR,Case-Fatality Ratio)<br>Parker,TX",
          "(MMR,Case-Fatality Ratio)<br>Potter,TX",
          "(MMR,Case-Fatality Ratio)<br>Smith,TX",
          "(MMR,Case-Fatality Ratio)<br>Tarrant,TX",
          "(MMR,Case-Fatality Ratio)<br>Taylor,TX",
          "(MMR,Case-Fatality Ratio)<br>Tom Green,TX",
          "(MMR,Case-Fatality Ratio)<br>Travis,TX",
          "(MMR,Case-Fatality Ratio)<br>Webb,TX",
          "(MMR,Case-Fatality Ratio)<br>Wichita,TX",
          "(MMR,Case-Fatality Ratio)<br>Williamson,TX",
          "(MMR,Case-Fatality Ratio)<br>Davis,UT",
          "(MMR,Case-Fatality Ratio)<br>Salt Lake,UT",
          "(MMR,Case-Fatality Ratio)<br>Utah,UT",
          "(MMR,Case-Fatality Ratio)<br>Chittenden,VT",
          "(MMR,Case-Fatality Ratio)<br>Albemarle,VA",
          "(MMR,Case-Fatality Ratio)<br>Arlington,VA",
          "(MMR,Case-Fatality Ratio)<br>Chesterfield,VA",
          "(MMR,Case-Fatality Ratio)<br>Fairfax County,VA",
          "(MMR,Case-Fatality Ratio)<br>Hanover,VA",
          "(MMR,Case-Fatality Ratio)<br>Henrico,VA",
          "(MMR,Case-Fatality Ratio)<br>Loudoun,VA",
          "(MMR,Case-Fatality Ratio)<br>Prince William,VA",
          "(MMR,Case-Fatality Ratio)<br>Spotsylvania,VA",
          "(MMR,Case-Fatality Ratio)<br>Stafford,VA",
          "(MMR,Case-Fatality Ratio)<br>Alexandria,VA",
          "(MMR,Case-Fatality Ratio)<br>Chesapeake,VA",
          "(MMR,Case-Fatality Ratio)<br>Hampton,VA",
          "(MMR,Case-Fatality Ratio)<br>Newport News,VA",
          "(MMR,Case-Fatality Ratio)<br>Norfolk,VA",
          "(MMR,Case-Fatality Ratio)<br>Richmond City,VA",
          "(MMR,Case-Fatality Ratio)<br>Virginia Beach,VA",
          "(MMR,Case-Fatality Ratio)<br>Benton,WA",
          "(MMR,Case-Fatality Ratio)<br>Clark,WA",
          "(MMR,Case-Fatality Ratio)<br>King,WA",
          "(MMR,Case-Fatality Ratio)<br>Kitsap,WA",
          "(MMR,Case-Fatality Ratio)<br>Pierce,WA",
          "(MMR,Case-Fatality Ratio)<br>Skagit,WA",
          "(MMR,Case-Fatality Ratio)<br>Snohomish,WA",
          "(MMR,Case-Fatality Ratio)<br>Spokane,WA",
          "(MMR,Case-Fatality Ratio)<br>Thurston,WA",
          "(MMR,Case-Fatality Ratio)<br>Whatcom,WA",
          "(MMR,Case-Fatality Ratio)<br>Yakima,WA",
          "(MMR,Case-Fatality Ratio)<br>Berkeley,WV",
          "(MMR,Case-Fatality Ratio)<br>Kanawha,WV",
          "(MMR,Case-Fatality Ratio)<br>Monongalia,WV",
          "(MMR,Case-Fatality Ratio)<br>Brown,WI",
          "(MMR,Case-Fatality Ratio)<br>Dane,WI",
          "(MMR,Case-Fatality Ratio)<br>Eau Claire,WI",
          "(MMR,Case-Fatality Ratio)<br>Fond du Lac,WI",
          "(MMR,Case-Fatality Ratio)<br>Kenosha,WI",
          "(MMR,Case-Fatality Ratio)<br>Marathon,WI",
          "(MMR,Case-Fatality Ratio)<br>Milwaukee,WI",
          "(MMR,Case-Fatality Ratio)<br>Outagamie,WI",
          "(MMR,Case-Fatality Ratio)<br>Racine,WI",
          "(MMR,Case-Fatality Ratio)<br>Rock,WI",
          "(MMR,Case-Fatality Ratio)<br>Sheboygan,WI",
          "(MMR,Case-Fatality Ratio)<br>Walworth,WI",
          "(MMR,Case-Fatality Ratio)<br>Washington,WI",
          "(MMR,Case-Fatality Ratio)<br>Waukesha,WI",
          "(MMR,Case-Fatality Ratio)<br>Winnebago,WI"
         ],
         "type": "scatter",
         "x": [
          0.97,
          0.964,
          0.9412,
          0.9229,
          0.937,
          0.9172,
          0.9486,
          0.8947,
          0.8643,
          0.9378,
          0.9644,
          0.9224,
          0.955,
          0.91,
          0.927,
          0.884,
          0.884,
          0.959,
          0.922,
          0.833,
          0.973,
          0.942,
          0.942,
          0.942,
          0.942,
          0.942,
          0.942,
          0.942,
          0.966,
          0.942,
          0.964,
          0.966,
          0.882,
          0.973,
          0.911,
          0.975,
          0.945,
          0.955,
          0.943,
          0.975,
          0.975,
          0.945,
          0.957,
          0.917,
          0.963,
          0.934,
          0.951,
          0.925,
          0.957,
          0.967,
          0.947,
          0.966,
          0.967,
          0.973,
          0.909,
          0.878,
          0.975,
          0.913,
          0.959,
          0.981,
          0.961,
          0.956,
          0.974122696,
          0.953626295,
          0.901632047,
          0.939261108,
          0.947053857,
          0.928410324,
          0.95257722,
          0.940003681,
          0.957650696,
          0.953247933,
          0.956,
          0.96,
          0.959,
          0.974,
          0.969,
          0.962,
          0.962,
          0.936,
          0.978,
          0.978,
          0.978,
          0.973673552,
          0.978779841,
          0.972616137,
          0.963475911,
          0.959787557,
          0.968871595,
          0.973517906,
          0.957244075,
          0.969316717,
          0.962343096,
          0.966949953,
          0.968085106,
          0.984391259,
          0.975863069,
          0.960332694,
          0.972579051,
          0.964398734,
          0.968636032,
          0.97130762,
          0.972761597,
          0.953874539,
          0.948372298,
          0.97134123,
          0.948399739,
          0.969346049,
          0.958587876,
          0.964556962,
          0.9655483,
          0.971347019,
          0.970240522,
          0.947436561,
          0.966343786,
          0.967217708,
          0.97348378,
          0.985163205,
          0.946076608,
          0.957,
          0.93,
          0.883,
          0.953,
          0.895,
          0.973,
          0.962,
          0.931,
          0.946,
          0.883,
          0.915,
          0.931,
          0.883,
          0.946,
          0.935,
          0.932,
          0.946,
          0.883,
          0.93,
          0.975,
          0.936,
          0.932,
          0.957,
          0.946,
          0.895,
          0.915,
          0.915,
          0.920710937,
          0.93585,
          0.908147541,
          0.836625,
          0.985941343,
          0.979524882,
          0.98006987,
          0.979451049,
          0.980589532,
          0.973710553,
          0.979405927,
          0.984031837,
          0.98255497,
          0.979576651,
          0.983157895,
          0.990600023,
          0.987267211,
          0.981224735,
          0.97980931,
          0.972926578,
          0.982721871,
          0.978183033,
          0.983017761,
          0.976995462,
          0.58,
          0.67,
          0.72,
          0.63,
          0.66,
          0.6,
          0.74,
          0.58,
          0.6,
          0.76,
          0.67,
          0.83,
          0.67,
          0.59,
          0.74,
          0.77,
          0.67,
          0.964073743,
          0.935874858,
          0.937536294,
          0.971392374,
          0.961731008,
          0.972978495,
          0.88,
          0.9,
          0.84,
          0.89,
          0.966,
          0.917,
          0.956,
          0.868,
          0.907,
          0.929,
          0.922,
          0.9782,
          0.9653,
          0.9406,
          0.9313,
          0.9214,
          0.9132,
          0.9598,
          0.9613,
          0.9198,
          0.9094,
          0.9517,
          0.9178,
          0.9704,
          0.9542,
          0.939732143,
          0.935879467,
          0.940789474,
          0.948032665,
          0.94028169,
          0.993,
          0.995,
          0.995,
          0.997,
          0.996,
          0.98,
          0.994,
          0.994,
          0.971,
          0.992,
          1,
          1,
          0.993,
          0.992,
          0.937,
          0.904,
          0.972,
          0.963,
          0.939,
          0.962,
          0.973,
          0.976,
          0.952,
          0.86,
          0.964,
          0.953457447,
          0.941346154,
          0.945617978,
          0.95147929,
          0.948148148,
          0.923370187,
          0.930110658,
          0.949848024,
          0.93676815,
          0.954602119,
          0.885028104,
          0.919247558,
          0.925502991,
          0.953662842,
          0.912431812,
          0.956317616,
          0.951037344,
          0.906685237,
          0.927277501,
          0.925784309,
          0.932,
          0.9459,
          0.9299,
          0.914,
          0.9617,
          0.9137,
          0.9198,
          0.9291,
          0.9161,
          0.9491,
          0.9376,
          0.992,
          0.992,
          0.992,
          0.992,
          0.992,
          0.992,
          0.9708,
          0.9384,
          0.9527,
          0.9391,
          0.9484,
          0.9515,
          0.9738,
          0.9682,
          0.9668,
          0.9638,
          0.9576,
          0.8114,
          0.914,
          0.937,
          0.961,
          0.969,
          0.969,
          0.969,
          0.951,
          0.951,
          0.918,
          0.918,
          0.918,
          0.918,
          0.978,
          0.959,
          0.979,
          0.97,
          0.99,
          0.961,
          0.98,
          0.961,
          0.957,
          0.947,
          0.974,
          0.96,
          0.974,
          0.958,
          0.967,
          0.945,
          0.973,
          0.961,
          0.943,
          0.94,
          0.885,
          0.937,
          0.95,
          0.93,
          0.99,
          0.99,
          0.97,
          0.98,
          0.99,
          0.99,
          0.99,
          0.99,
          0.99,
          0.99,
          0.99,
          0.99,
          0.95,
          0.99,
          0.99,
          0.96,
          0.97,
          0.99,
          0.99,
          0.99,
          0.97,
          0.99,
          0.988,
          0.982,
          0.973,
          0.993,
          0.992,
          0.93,
          0.949,
          0.98,
          0.95,
          0.994,
          0.974,
          0.945,
          0.936,
          0.949,
          0.971,
          0.982,
          0.942,
          0.973,
          0.943,
          0.961,
          0.978,
          0.993,
          0.954,
          0.981,
          0.986,
          0.957,
          0.924,
          0.95528109,
          0.916,
          0.916,
          0.916,
          0.916,
          0.916,
          0.916,
          0.916,
          0.916,
          0.916,
          0.916,
          0.916,
          0.916,
          0.916,
          0.916,
          0.916,
          0.916,
          0.916,
          0.916,
          0.916,
          0.916,
          0.916,
          0.916,
          0.916,
          0.916,
          0.916,
          0.916,
          0.916,
          0.909,
          0.934,
          0.925,
          0.901,
          0.915,
          0.949,
          0.955,
          0.968,
          0.965,
          0.95,
          0.973,
          0.952,
          0.972,
          0.979,
          0.954,
          0.979,
          0.978,
          0.975,
          0.967,
          0.984,
          0.953,
          0.97,
          0.977,
          0.951,
          0.983,
          0.978,
          0.978,
          0.97,
          0.985,
          0.922,
          0.961,
          0.98,
          0.98,
          0.978,
          0.957,
          0.968,
          0.977,
          0.981,
          0.962,
          0.986,
          0.981,
          0.962,
          0.978,
          0.9704,
          0.9877,
          0.9813,
          0.9829,
          0.978,
          0.9822,
          0.9918,
          0.9811,
          0.9643,
          0.9818,
          0.9835,
          0.9725,
          0.9793,
          0.9688,
          0.9862,
          0.969,
          0.974,
          0.945117605,
          0.936897458,
          0.942787662,
          0.93326541,
          0.947379679,
          0.944559229,
          0.953217709,
          0.924990253,
          0.956241956,
          0.968114603,
          0.943951868,
          0.960068454,
          0.970139567,
          0.976191106,
          0.981338155,
          0.960194175,
          0.990407674,
          0.958482682,
          0.972067039,
          0.968322871,
          0.955108682,
          0.974245819,
          0.964539485,
          0.982961644,
          0.96052011,
          0.949122562,
          0.970578185,
          0.97382199,
          0.979352126,
          0.974768052,
          0.962013295,
          0.990638863,
          0.973920893,
          0.966079582,
          0.977332171,
          0.962708243,
          0.975715955,
          0.980513796,
          0.974343302,
          0.985621942,
          0.93573869,
          0.96787086,
          0.974720456,
          0.955869534,
          0.983322233,
          0.97716659,
          0.95545259,
          0.996803977,
          0.987628337,
          0.955840541,
          0.875,
          0.909,
          0.866,
          0.94,
          0.928,
          0.976,
          0.904,
          0.877,
          0.967,
          0.96,
          0.954,
          0.958,
          0.921,
          0.941,
          0.952,
          0.898,
          0.929,
          0.93,
          0.903,
          0.924,
          0.946,
          0.706,
          0.59,
          0.71,
          0.584,
          0.621,
          0.616,
          0.694,
          0.605,
          0.636,
          0.641,
          0.76,
          0.988,
          0.988,
          0.988,
          0.84,
          0.81,
          0.82,
          0.86,
          0.76,
          0.87,
          0.82,
          0.88,
          0.84,
          0.77,
          0.88,
          0.81,
          0.87,
          0.83,
          0.87
         ],
         "y": [
          0.008976660682226212,
          0.011467889908256881,
          0.015873015873015872,
          0.010869565217391304,
          0.026865671641791045,
          0.024765729585006693,
          0.004195070791819612,
          0.031009506564056134,
          0.025120995621110854,
          0.004098360655737705,
          0.015904572564612324,
          0.018867924528301886,
          0.022099447513812154,
          0.04148845166809239,
          0.013831750153762045,
          0.06018808777429467,
          0.03228915662650603,
          0.028887863405629904,
          0.01590380139643134,
          0.010607521697203472,
          0.015698189644258766,
          0.00672782874617737,
          0.013618677042801557,
          0.0042796005706134095,
          0.023221525985993367,
          0.007142857142857143,
          0.009929078014184398,
          0.008122534230679972,
          0.01971108410962603,
          0.012539184952978056,
          0.020197383520771172,
          0.011406844106463879,
          0.024844720496894408,
          0.01659263130389339,
          0.014885432346546245,
          0.013660245183887917,
          0.02952188940092166,
          0.009334889148191364,
          0.009296560272699102,
          0.006692693809258227,
          0.007255655142979087,
          0.008583690987124463,
          0.018682901891527628,
          0.011077542799597181,
          0.022842204508442616,
          0.015815085158150853,
          0.017457218330079245,
          0.022551896532985546,
          0.012062726176115802,
          0.011046990931574609,
          0.004561003420752566,
          0.029310800105624504,
          0.00749741468459152,
          0.029235646354350123,
          0.005928853754940711,
          0.03409090909090909,
          0.013602015113350126,
          0.009216589861751152,
          0.011457378551787351,
          0.02686512978762026,
          0.01294893720987051,
          0.034912718204488775,
          0.03400174367916303,
          0.0633393829401089,
          0.04845222072678331,
          0.05045092144817671,
          0.04823747680890538,
          0.039229671897289584,
          0.0732375085557837,
          0.03452243958573072,
          0.07194244604316546,
          0.04698672114402452,
          0.08172450550752103,
          0.11672004045171078,
          0.09072847682119205,
          0.1401799100449775,
          0.08625789431609242,
          0.07733131159969674,
          0.06896551724137931,
          0.022222222222222223,
          0.046239554317548746,
          0.04425879843583363,
          0.03514376996805112,
          0.006413682522715126,
          0.005319148936170213,
          0.008710217755443886,
          0.01701059676519799,
          0.07669322709163347,
          0.02771855010660981,
          0.02711323763955343,
          0.015241169087322934,
          0.00671019223793979,
          0.015606242496998799,
          0.01152073732718894,
          0.00847457627118644,
          0.02536997885835095,
          0.0109204368174727,
          0.01722488038277512,
          0.01192113709307657,
          0.021103117505995205,
          0.0039081582804103565,
          0.03234880450070324,
          0.010327022375215147,
          0.014145383104125737,
          0.019513589821482817,
          0.009852216748768473,
          0.00442449503045848,
          0.00894402769763416,
          0.0309819897084048,
          0.008108108108108109,
          0.02249134948096886,
          0.02046406703190461,
          0.0055147058823529415,
          0.023761578735400725,
          0.00968054211035818,
          0.04113533525298231,
          0.005517603783499738,
          0.03278688524590164,
          0.020717377860235003,
          0.048894062863795114,
          0.026214833759590793,
          0.042283298097251586,
          0.017949929145016533,
          0.0283775447254781,
          0.0178359096313912,
          0.031395348837209305,
          0.038938608886795414,
          0.01692524682651622,
          0.0194884287454324,
          0.023420770877944325,
          0.02938840349483717,
          0.03991596638655462,
          0.014191106906338695,
          0.0332776966409347,
          0.016802688430148822,
          0.017403314917127072,
          0.020484171322160148,
          0.03329506314580941,
          0.008032128514056224,
          0.022559474979491387,
          0.014778325123152709,
          0.02056555269922879,
          0.04074585635359116,
          0.009316770186335404,
          0.015439429928741092,
          0.046153846153846156,
          0.006674082313681869,
          0.006097560975609756,
          0.006006006006006006,
          0.0017889087656529517,
          0.016831683168316833,
          0.049742034998138396,
          0.03322259136212625,
          0.05083140391496527,
          0.03525279136871158,
          0.04836309523809524,
          0.0224609375,
          0.041965601965601965,
          0.07112970711297072,
          0.04528985507246377,
          0.04983388704318937,
          0.09090909090909091,
          0.0639269406392694,
          0.047619047619047616,
          0.02710027100271003,
          0.06766917293233082,
          0.06693711967545639,
          0.04878048780487805,
          0.04522471910112359,
          0.032134902958956414,
          0.0463899546564353,
          0.06557377049180328,
          0.11304347826086956,
          0.016608391608391608,
          0.0620012277470841,
          0.06949270326615706,
          0.0903522205206738,
          0.046280682031103616,
          0.04522613065326633,
          0.09580838323353294,
          0.05841517101252963,
          0.08888888888888889,
          0.04871794871794872,
          0.034074074074074076,
          0.012113055181695828,
          0.009538950715421303,
          0.03333333333333333,
          0.024614100959532748,
          0.005780346820809248,
          0.061894108873974646,
          0.026037195994277538,
          0.01079913606911447,
          0.013101767215112737,
          0.03494113178883403,
          0.015625,
          0.014161220043572984,
          0.03118279569892473,
          0.03367496339677892,
          0.016563146997929608,
          0.01728110599078341,
          0.026200873362445413,
          0.04641638225255973,
          0.043173862310385065,
          0.00830860534124629,
          0.04054054054054054,
          0.03058623619371283,
          0.059926017262638714,
          0.022524132999642475,
          0.04267161410018553,
          0.04637708649468892,
          0.015183723048891588,
          0.02976190476190476,
          0.06459731543624161,
          0.029484029484029485,
          0.040641711229946524,
          0.06292984869325997,
          0.02468427095292767,
          0.04452296819787986,
          0.00796812749003984,
          0.03524945770065076,
          0.06802721088435375,
          0.02459016393442623,
          0.019748653500897665,
          0.038953811908736785,
          0.05802047781569966,
          0.0957983193277311,
          0.05642023346303502,
          0.06001348617666891,
          0.04674717569146864,
          0.052244897959183675,
          0.033442384587422755,
          0.048635747919757465,
          0.035978618421052634,
          0.07578008915304606,
          0.04131054131054131,
          0.0369702434625789,
          0.04389944819129368,
          0.09578544061302682,
          0.07389162561576355,
          0.07072270508393856,
          0.06917394224311618,
          0.09679746105020196,
          0.11782477341389729,
          0.07815837029735502,
          0.10123614663256607,
          0.07679161444684972,
          0.05021812413246084,
          0.07581657792259397,
          0.019553072625698324,
          0.0746987951807229,
          0.06204756980351603,
          0.06565656565656566,
          0.020114942528735632,
          0.10104529616724739,
          0.02626970227670753,
          0.059813084112149535,
          0.059726962457337884,
          0.02493273542600897,
          0.04612850082372323,
          0.1200260078023407,
          0.03201219512195122,
          0.060158910329171394,
          0.08784433055733504,
          0.04318936877076412,
          0.09110947832476121,
          0.08848080133555926,
          0.0578691184424013,
          0.11577570566642757,
          0.04768041237113402,
          0.0023094688221709007,
          0.03724247226624406,
          0.0613196549312194,
          0.014214046822742474,
          0.045400710619818395,
          0.07881773399014778,
          0.0049813200498132005,
          0.007761437908496732,
          0.03361344537815126,
          0.009900990099009901,
          0.009900990099009901,
          0.013461538461538462,
          0.017797552836484983,
          0.023383768913342505,
          0.02604920405209841,
          0.014492753623188406,
          0.003968253968253968,
          0.042105263157894736,
          0.02411873840445269,
          0.07258064516129033,
          0.019656019656019656,
          0.028187919463087248,
          0.009574468085106383,
          0.04081632653061224,
          0.04195804195804196,
          0.06097560975609756,
          0.07939483197215157,
          0.056207755247242974,
          0.0029940119760479044,
          0.008130081300813009,
          0.015915119363395226,
          0.012479094300784768,
          0.006532663316582915,
          0.006158583525789068,
          0.022694210066918824,
          0.025841346153846152,
          0.07587835842928846,
          0.045023696682464455,
          0.061129568106312294,
          0.04377104377104377,
          0.07594086021505377,
          0.10216984472206768,
          0.08389766741911212,
          0.07105263157894737,
          0.04914248021108179,
          0.1088334742180896,
          0.07156099369670003,
          0.07758575405788727,
          0.11425959780621572,
          0.07675466838377334,
          0.0802855120339783,
          0.0886778358766407,
          0.11902680652680653,
          0.10150414407039804,
          0.07152941176470588,
          0.1098546042003231,
          0.15901639344262294,
          0.08146033288786296,
          0.1324345757335448,
          0.033380681818181816,
          0.008422664624808576,
          0.03740648379052369,
          0.06354642313546423,
          0.009933774834437087,
          0.0554283096655978,
          0.07792207792207792,
          0.046052631578947366,
          0.03572267920094007,
          0.08381427072402937,
          0.06701030927835051,
          0.051892609809316,
          0.10661218424962852,
          0.06844106463878327,
          0.05471803461753211,
          0.06163934426229508,
          0.11379310344827587,
          0.04477335800185014,
          0.014218009478672985,
          0.051194539249146756,
          0.04881970328144413,
          0.00881057268722467,
          0.02905982905982906,
          0.04363207547169811,
          0.04757580826304093,
          0.046461372231226365,
          0.040701475144245804,
          0.027266028002947678,
          0.009628610729023384,
          0.03861003861003861,
          0.02269601100412655,
          0.012808783165599268,
          0.018779342723004695,
          0.027516778523489934,
          0.01276595744680851,
          0.015665185877951834,
          0.01049645390070922,
          0.009696186166774402,
          0.036001190121987506,
          0.04032258064516129,
          0.06219512195121951,
          0.01015228426395939,
          0.018094731240021287,
          0.011485062150178091,
          0.005105762217359592,
          0.007518796992481203,
          0.04708520179372197,
          0.010273972602739725,
          0.023071377072819033,
          0.02925531914893617,
          0.030855539971949508,
          0.015216068167985392,
          0.008502386634844868,
          0.015447991761071062,
          0.029142381348875937,
          0.12130177514792899,
          0.027309703660662404,
          0.012755102040816327,
          0.016055045871559634,
          0.045317220543806644,
          0.04496360648039446,
          0.023255813953488372,
          0.02768729641693811,
          0.03947131810825391,
          0.03,
          0.032207629768605375,
          0.039927404718693285,
          0.022388059701492536,
          0.06337371854613234,
          0.10633088492479888,
          0.12679045092838195,
          0.058394160583941604,
          0.06378600823045268,
          0.015330705212439772,
          0.12368972746331237,
          0.013927576601671309,
          0.09735269000853972,
          0.09211106214191274,
          0.07297830374753451,
          0.027233115468409588,
          0.14168937329700274,
          0.11062906724511931,
          0.0069767441860465115,
          0.033112582781456956,
          0.014767932489451477,
          0.017167381974248927,
          0.015341998721500107,
          0.02954048140043764,
          0.01107011070110701,
          0.05952380952380952,
          0.030407343660355707,
          0.026726057906458798,
          0.011627906976744186,
          0.05263157894736842,
          0.03551912568306011,
          0.04419509961071674,
          0.0992462311557789,
          0.07660856466537551,
          0.010752688172043012,
          0.09511910711311011,
          0.03282828282828283,
          0.02654867256637168,
          0.03404255319148936,
          0.08473711077080143,
          0.07158351409978309,
          0.06586559857587895,
          0.08916342151201827,
          0.017167381974248927,
          0.024539877300613498,
          0.046511627906976744,
          0.11949685534591195,
          0.08002547229887497,
          0.03347578347578348,
          0.07208237986270023,
          0.06008727760993622,
          0.08547008547008547,
          0.037267080745341616,
          0.07623626373626374,
          0.09395359469653675,
          0.07856532877882152,
          0.05997502570882915,
          0.06143790849673202,
          0.01639344262295082,
          0.04252998909487459,
          0.03325554259043174,
          0.019130434782608695,
          0.01762114537444934,
          0.013348810214741729,
          0.012578616352201259,
          0.00761307657859382,
          0.005405405405405406,
          0.03753351206434316,
          0.015675927363029644,
          0.012487992315081652,
          0.020918939110945087,
          0.005597014925373134,
          0.02080536912751678,
          0.026876737720111215,
          0.020689655172413793,
          0.007121661721068249,
          0.0158474348643567,
          0.02922077922077922,
          0.010714285714285714,
          0.0044994375703037125,
          0.010996892182644035,
          0.011981865284974092,
          0.006118286879673691,
          0.010638297872340425,
          0.011425135297654841,
          0.01666407101697555,
          0.011235955056179775,
          0.03107658157602664,
          0.009428032683846637,
          0.015468607825295723,
          0.007019438444924406,
          0.009333107076192093,
          0.007628734901462174,
          0.01257396449704142,
          0.021873074553296366,
          0.01342451874366768,
          0.01818181818181818,
          0.014360528309344225,
          0.010329424902289224,
          0.011764705882352941,
          0.014044943820224719,
          0.0172927847346452,
          0.013596193065941536,
          0.009875567845151097,
          0.010071942446043165,
          0.01906158357771261,
          0.0032292787944025836,
          0.010337748668067843,
          0.0032267527134056907,
          0.016771202617943824,
          0.011128284389489953,
          0.005115089514066497,
          0.005393743257820928,
          0.01795109873104302,
          0.006132282084975909,
          0.018627450980392157,
          0.013908205841446454,
          0.007034220532319392,
          0.0019723865877712033,
          0.012892561983471074,
          0.006013745704467354,
          0.015698393077873917,
          0.011254019292604502,
          0.003896103896103896,
          0.012081148848871666,
          0.016643550624133148,
          0.005474452554744526,
          0.014100082941664363,
          0.0036496350364963502,
          0.009086911915579657,
          0.00541299117882919,
          0.060653188180404355,
          0.01953125,
          0.051421893260615505,
          0.019626769626769628,
          0.03479417530103612,
          0.06753812636165578,
          0.06201834862385321,
          0.02292197267886085,
          0.020163913100039028,
          0.029245283018867925,
          0.005780346820809248,
          0.023563455973542785,
          0.019695613249776187,
          0.009433962264150943,
          0.015174506828528073,
          0.010861132660977503,
          0.014144877839691384,
          0.019392372333548805,
          0.04122766834631241,
          0.030876494023904383,
          0.055346352570277604,
          0.007434944237918215,
          0.03706176961602671,
          0.028021015761821366,
          0.046609059963341186,
          0.023218142548596114,
          0.025806451612903226,
          0.05805515239477504,
          0.022623284189120487,
          0.019342359767891684,
          0.052083333333333336,
          0.011933174224343675,
          0.013768812039705411,
          0.012443438914027148,
          0.0031847133757961785,
          0.01694915254237288,
          0.026410564225690276,
          0.004166666666666667,
          0.03052906797908336,
          0.01507537688442211,
          0.02833478639930253,
          0.024439918533604887,
          0.01509433962264151,
          0.024896265560165973,
          0.0368763557483731,
          0.025557011795543906,
          0.01740294511378849
         ]
        }
       ],
       "layout": {
        "paper_bgcolor": "rgb(243, 243, 243)",
        "plot_bgcolor": "rgb(243, 243, 243)",
        "template": {
         "data": {
          "bar": [
           {
            "error_x": {
             "color": "#2a3f5f"
            },
            "error_y": {
             "color": "#2a3f5f"
            },
            "marker": {
             "line": {
              "color": "#E5ECF6",
              "width": 0.5
             }
            },
            "type": "bar"
           }
          ],
          "barpolar": [
           {
            "marker": {
             "line": {
              "color": "#E5ECF6",
              "width": 0.5
             }
            },
            "type": "barpolar"
           }
          ],
          "carpet": [
           {
            "aaxis": {
             "endlinecolor": "#2a3f5f",
             "gridcolor": "white",
             "linecolor": "white",
             "minorgridcolor": "white",
             "startlinecolor": "#2a3f5f"
            },
            "baxis": {
             "endlinecolor": "#2a3f5f",
             "gridcolor": "white",
             "linecolor": "white",
             "minorgridcolor": "white",
             "startlinecolor": "#2a3f5f"
            },
            "type": "carpet"
           }
          ],
          "choropleth": [
           {
            "colorbar": {
             "outlinewidth": 0,
             "ticks": ""
            },
            "type": "choropleth"
           }
          ],
          "contour": [
           {
            "colorbar": {
             "outlinewidth": 0,
             "ticks": ""
            },
            "colorscale": [
             [
              0,
              "#0d0887"
             ],
             [
              0.1111111111111111,
              "#46039f"
             ],
             [
              0.2222222222222222,
              "#7201a8"
             ],
             [
              0.3333333333333333,
              "#9c179e"
             ],
             [
              0.4444444444444444,
              "#bd3786"
             ],
             [
              0.5555555555555556,
              "#d8576b"
             ],
             [
              0.6666666666666666,
              "#ed7953"
             ],
             [
              0.7777777777777778,
              "#fb9f3a"
             ],
             [
              0.8888888888888888,
              "#fdca26"
             ],
             [
              1,
              "#f0f921"
             ]
            ],
            "type": "contour"
           }
          ],
          "contourcarpet": [
           {
            "colorbar": {
             "outlinewidth": 0,
             "ticks": ""
            },
            "type": "contourcarpet"
           }
          ],
          "heatmap": [
           {
            "colorbar": {
             "outlinewidth": 0,
             "ticks": ""
            },
            "colorscale": [
             [
              0,
              "#0d0887"
             ],
             [
              0.1111111111111111,
              "#46039f"
             ],
             [
              0.2222222222222222,
              "#7201a8"
             ],
             [
              0.3333333333333333,
              "#9c179e"
             ],
             [
              0.4444444444444444,
              "#bd3786"
             ],
             [
              0.5555555555555556,
              "#d8576b"
             ],
             [
              0.6666666666666666,
              "#ed7953"
             ],
             [
              0.7777777777777778,
              "#fb9f3a"
             ],
             [
              0.8888888888888888,
              "#fdca26"
             ],
             [
              1,
              "#f0f921"
             ]
            ],
            "type": "heatmap"
           }
          ],
          "heatmapgl": [
           {
            "colorbar": {
             "outlinewidth": 0,
             "ticks": ""
            },
            "colorscale": [
             [
              0,
              "#0d0887"
             ],
             [
              0.1111111111111111,
              "#46039f"
             ],
             [
              0.2222222222222222,
              "#7201a8"
             ],
             [
              0.3333333333333333,
              "#9c179e"
             ],
             [
              0.4444444444444444,
              "#bd3786"
             ],
             [
              0.5555555555555556,
              "#d8576b"
             ],
             [
              0.6666666666666666,
              "#ed7953"
             ],
             [
              0.7777777777777778,
              "#fb9f3a"
             ],
             [
              0.8888888888888888,
              "#fdca26"
             ],
             [
              1,
              "#f0f921"
             ]
            ],
            "type": "heatmapgl"
           }
          ],
          "histogram": [
           {
            "marker": {
             "colorbar": {
              "outlinewidth": 0,
              "ticks": ""
             }
            },
            "type": "histogram"
           }
          ],
          "histogram2d": [
           {
            "colorbar": {
             "outlinewidth": 0,
             "ticks": ""
            },
            "colorscale": [
             [
              0,
              "#0d0887"
             ],
             [
              0.1111111111111111,
              "#46039f"
             ],
             [
              0.2222222222222222,
              "#7201a8"
             ],
             [
              0.3333333333333333,
              "#9c179e"
             ],
             [
              0.4444444444444444,
              "#bd3786"
             ],
             [
              0.5555555555555556,
              "#d8576b"
             ],
             [
              0.6666666666666666,
              "#ed7953"
             ],
             [
              0.7777777777777778,
              "#fb9f3a"
             ],
             [
              0.8888888888888888,
              "#fdca26"
             ],
             [
              1,
              "#f0f921"
             ]
            ],
            "type": "histogram2d"
           }
          ],
          "histogram2dcontour": [
           {
            "colorbar": {
             "outlinewidth": 0,
             "ticks": ""
            },
            "colorscale": [
             [
              0,
              "#0d0887"
             ],
             [
              0.1111111111111111,
              "#46039f"
             ],
             [
              0.2222222222222222,
              "#7201a8"
             ],
             [
              0.3333333333333333,
              "#9c179e"
             ],
             [
              0.4444444444444444,
              "#bd3786"
             ],
             [
              0.5555555555555556,
              "#d8576b"
             ],
             [
              0.6666666666666666,
              "#ed7953"
             ],
             [
              0.7777777777777778,
              "#fb9f3a"
             ],
             [
              0.8888888888888888,
              "#fdca26"
             ],
             [
              1,
              "#f0f921"
             ]
            ],
            "type": "histogram2dcontour"
           }
          ],
          "mesh3d": [
           {
            "colorbar": {
             "outlinewidth": 0,
             "ticks": ""
            },
            "type": "mesh3d"
           }
          ],
          "parcoords": [
           {
            "line": {
             "colorbar": {
              "outlinewidth": 0,
              "ticks": ""
             }
            },
            "type": "parcoords"
           }
          ],
          "pie": [
           {
            "automargin": true,
            "type": "pie"
           }
          ],
          "scatter": [
           {
            "marker": {
             "colorbar": {
              "outlinewidth": 0,
              "ticks": ""
             }
            },
            "type": "scatter"
           }
          ],
          "scatter3d": [
           {
            "line": {
             "colorbar": {
              "outlinewidth": 0,
              "ticks": ""
             }
            },
            "marker": {
             "colorbar": {
              "outlinewidth": 0,
              "ticks": ""
             }
            },
            "type": "scatter3d"
           }
          ],
          "scattercarpet": [
           {
            "marker": {
             "colorbar": {
              "outlinewidth": 0,
              "ticks": ""
             }
            },
            "type": "scattercarpet"
           }
          ],
          "scattergeo": [
           {
            "marker": {
             "colorbar": {
              "outlinewidth": 0,
              "ticks": ""
             }
            },
            "type": "scattergeo"
           }
          ],
          "scattergl": [
           {
            "marker": {
             "colorbar": {
              "outlinewidth": 0,
              "ticks": ""
             }
            },
            "type": "scattergl"
           }
          ],
          "scattermapbox": [
           {
            "marker": {
             "colorbar": {
              "outlinewidth": 0,
              "ticks": ""
             }
            },
            "type": "scattermapbox"
           }
          ],
          "scatterpolar": [
           {
            "marker": {
             "colorbar": {
              "outlinewidth": 0,
              "ticks": ""
             }
            },
            "type": "scatterpolar"
           }
          ],
          "scatterpolargl": [
           {
            "marker": {
             "colorbar": {
              "outlinewidth": 0,
              "ticks": ""
             }
            },
            "type": "scatterpolargl"
           }
          ],
          "scatterternary": [
           {
            "marker": {
             "colorbar": {
              "outlinewidth": 0,
              "ticks": ""
             }
            },
            "type": "scatterternary"
           }
          ],
          "surface": [
           {
            "colorbar": {
             "outlinewidth": 0,
             "ticks": ""
            },
            "colorscale": [
             [
              0,
              "#0d0887"
             ],
             [
              0.1111111111111111,
              "#46039f"
             ],
             [
              0.2222222222222222,
              "#7201a8"
             ],
             [
              0.3333333333333333,
              "#9c179e"
             ],
             [
              0.4444444444444444,
              "#bd3786"
             ],
             [
              0.5555555555555556,
              "#d8576b"
             ],
             [
              0.6666666666666666,
              "#ed7953"
             ],
             [
              0.7777777777777778,
              "#fb9f3a"
             ],
             [
              0.8888888888888888,
              "#fdca26"
             ],
             [
              1,
              "#f0f921"
             ]
            ],
            "type": "surface"
           }
          ],
          "table": [
           {
            "cells": {
             "fill": {
              "color": "#EBF0F8"
             },
             "line": {
              "color": "white"
             }
            },
            "header": {
             "fill": {
              "color": "#C8D4E3"
             },
             "line": {
              "color": "white"
             }
            },
            "type": "table"
           }
          ]
         },
         "layout": {
          "annotationdefaults": {
           "arrowcolor": "#2a3f5f",
           "arrowhead": 0,
           "arrowwidth": 1
          },
          "coloraxis": {
           "colorbar": {
            "outlinewidth": 0,
            "ticks": ""
           }
          },
          "colorscale": {
           "diverging": [
            [
             0,
             "#8e0152"
            ],
            [
             0.1,
             "#c51b7d"
            ],
            [
             0.2,
             "#de77ae"
            ],
            [
             0.3,
             "#f1b6da"
            ],
            [
             0.4,
             "#fde0ef"
            ],
            [
             0.5,
             "#f7f7f7"
            ],
            [
             0.6,
             "#e6f5d0"
            ],
            [
             0.7,
             "#b8e186"
            ],
            [
             0.8,
             "#7fbc41"
            ],
            [
             0.9,
             "#4d9221"
            ],
            [
             1,
             "#276419"
            ]
           ],
           "sequential": [
            [
             0,
             "#0d0887"
            ],
            [
             0.1111111111111111,
             "#46039f"
            ],
            [
             0.2222222222222222,
             "#7201a8"
            ],
            [
             0.3333333333333333,
             "#9c179e"
            ],
            [
             0.4444444444444444,
             "#bd3786"
            ],
            [
             0.5555555555555556,
             "#d8576b"
            ],
            [
             0.6666666666666666,
             "#ed7953"
            ],
            [
             0.7777777777777778,
             "#fb9f3a"
            ],
            [
             0.8888888888888888,
             "#fdca26"
            ],
            [
             1,
             "#f0f921"
            ]
           ],
           "sequentialminus": [
            [
             0,
             "#0d0887"
            ],
            [
             0.1111111111111111,
             "#46039f"
            ],
            [
             0.2222222222222222,
             "#7201a8"
            ],
            [
             0.3333333333333333,
             "#9c179e"
            ],
            [
             0.4444444444444444,
             "#bd3786"
            ],
            [
             0.5555555555555556,
             "#d8576b"
            ],
            [
             0.6666666666666666,
             "#ed7953"
            ],
            [
             0.7777777777777778,
             "#fb9f3a"
            ],
            [
             0.8888888888888888,
             "#fdca26"
            ],
            [
             1,
             "#f0f921"
            ]
           ]
          },
          "colorway": [
           "#636efa",
           "#EF553B",
           "#00cc96",
           "#ab63fa",
           "#FFA15A",
           "#19d3f3",
           "#FF6692",
           "#B6E880",
           "#FF97FF",
           "#FECB52"
          ],
          "font": {
           "color": "#2a3f5f"
          },
          "geo": {
           "bgcolor": "white",
           "lakecolor": "white",
           "landcolor": "#E5ECF6",
           "showlakes": true,
           "showland": true,
           "subunitcolor": "white"
          },
          "hoverlabel": {
           "align": "left"
          },
          "hovermode": "closest",
          "mapbox": {
           "style": "light"
          },
          "paper_bgcolor": "white",
          "plot_bgcolor": "#E5ECF6",
          "polar": {
           "angularaxis": {
            "gridcolor": "white",
            "linecolor": "white",
            "ticks": ""
           },
           "bgcolor": "#E5ECF6",
           "radialaxis": {
            "gridcolor": "white",
            "linecolor": "white",
            "ticks": ""
           }
          },
          "scene": {
           "xaxis": {
            "backgroundcolor": "#E5ECF6",
            "gridcolor": "white",
            "gridwidth": 2,
            "linecolor": "white",
            "showbackground": true,
            "ticks": "",
            "zerolinecolor": "white"
           },
           "yaxis": {
            "backgroundcolor": "#E5ECF6",
            "gridcolor": "white",
            "gridwidth": 2,
            "linecolor": "white",
            "showbackground": true,
            "ticks": "",
            "zerolinecolor": "white"
           },
           "zaxis": {
            "backgroundcolor": "#E5ECF6",
            "gridcolor": "white",
            "gridwidth": 2,
            "linecolor": "white",
            "showbackground": true,
            "ticks": "",
            "zerolinecolor": "white"
           }
          },
          "shapedefaults": {
           "line": {
            "color": "#2a3f5f"
           }
          },
          "ternary": {
           "aaxis": {
            "gridcolor": "white",
            "linecolor": "white",
            "ticks": ""
           },
           "baxis": {
            "gridcolor": "white",
            "linecolor": "white",
            "ticks": ""
           },
           "bgcolor": "#E5ECF6",
           "caxis": {
            "gridcolor": "white",
            "linecolor": "white",
            "ticks": ""
           }
          },
          "title": {
           "x": 0.05
          },
          "xaxis": {
           "automargin": true,
           "gridcolor": "white",
           "linecolor": "white",
           "ticks": "",
           "title": {
            "standoff": 15
           },
           "zerolinecolor": "white",
           "zerolinewidth": 2
          },
          "yaxis": {
           "automargin": true,
           "gridcolor": "white",
           "linecolor": "white",
           "ticks": "",
           "title": {
            "standoff": 15
           },
           "zerolinecolor": "white",
           "zerolinewidth": 2
          }
         }
        },
        "title": {
         "text": "Case-Fatality Ratiovs. MMR (7/9/20, pop >100000)"
        },
        "xaxis": {
         "gridcolor": "white",
         "gridwidth": 2,
         "title": {
          "text": "MMR"
         }
        },
        "yaxis": {
         "gridcolor": "white",
         "gridwidth": 2,
         "title": {
          "text": "Case-Fatality Ratio"
         }
        }
       }
      },
      "text/html": [
       "<div>\n",
       "        \n",
       "        \n",
       "            <div id=\"16b8710e-2371-4ae0-8403-be6c9fe208c7\" class=\"plotly-graph-div\" style=\"height:525px; width:100%;\"></div>\n",
       "            <script type=\"text/javascript\">\n",
       "                require([\"plotly\"], function(Plotly) {\n",
       "                    window.PLOTLYENV=window.PLOTLYENV || {};\n",
       "                    \n",
       "                if (document.getElementById(\"16b8710e-2371-4ae0-8403-be6c9fe208c7\")) {\n",
       "                    Plotly.newPlot(\n",
       "                        '16b8710e-2371-4ae0-8403-be6c9fe208c7',\n",
       "                        [{\"mode\": \"markers\", \"text\": [\"(MMR,Case-Fatality Ratio)<br>Baldwin,AL\", \"(MMR,Case-Fatality Ratio)<br>Calhoun,AL\", \"(MMR,Case-Fatality Ratio)<br>Etowah,AL\", \"(MMR,Case-Fatality Ratio)<br>Houston,AL\", \"(MMR,Case-Fatality Ratio)<br>Jefferson,AL\", \"(MMR,Case-Fatality Ratio)<br>Lee,AL\", \"(MMR,Case-Fatality Ratio)<br>Madison,AL\", \"(MMR,Case-Fatality Ratio)<br>Mobile,AL\", \"(MMR,Case-Fatality Ratio)<br>Montgomery,AL\", \"(MMR,Case-Fatality Ratio)<br>Morgan,AL\", \"(MMR,Case-Fatality Ratio)<br>Shelby,AL\", \"(MMR,Case-Fatality Ratio)<br>Tuscaloosa,AL\", \"(MMR,Case-Fatality Ratio)<br>Cochise,AZ\", \"(MMR,Case-Fatality Ratio)<br>Coconino,AZ\", \"(MMR,Case-Fatality Ratio)<br>Maricopa,AZ\", \"(MMR,Case-Fatality Ratio)<br>Mohave,AZ\", \"(MMR,Case-Fatality Ratio)<br>Navajo,AZ\", \"(MMR,Case-Fatality Ratio)<br>Pima,AZ\", \"(MMR,Case-Fatality Ratio)<br>Pinal,AZ\", \"(MMR,Case-Fatality Ratio)<br>Yavapai,AZ\", \"(MMR,Case-Fatality Ratio)<br>Yuma,AZ\", \"(MMR,Case-Fatality Ratio)<br>Benton,AR\", \"(MMR,Case-Fatality Ratio)<br>Craighead,AR\", \"(MMR,Case-Fatality Ratio)<br>Faulkner,AR\", \"(MMR,Case-Fatality Ratio)<br>Pulaski,AR\", \"(MMR,Case-Fatality Ratio)<br>Saline,AR\", \"(MMR,Case-Fatality Ratio)<br>Sebastian,AR\", \"(MMR,Case-Fatality Ratio)<br>Washington,AR\", \"(MMR,Case-Fatality Ratio)<br>Alameda,CA\", \"(MMR,Case-Fatality Ratio)<br>Butte,CA\", \"(MMR,Case-Fatality Ratio)<br>Contra Costa,CA\", \"(MMR,Case-Fatality Ratio)<br>Fresno,CA\", \"(MMR,Case-Fatality Ratio)<br>Humboldt,CA\", \"(MMR,Case-Fatality Ratio)<br>Imperial,CA\", \"(MMR,Case-Fatality Ratio)<br>Kern,CA\", \"(MMR,Case-Fatality Ratio)<br>Kings,CA\", \"(MMR,Case-Fatality Ratio)<br>Los Angeles,CA\", \"(MMR,Case-Fatality Ratio)<br>Madera,CA\", \"(MMR,Case-Fatality Ratio)<br>Marin,CA\", \"(MMR,Case-Fatality Ratio)<br>Merced,CA\", \"(MMR,Case-Fatality Ratio)<br>Monterey,CA\", \"(MMR,Case-Fatality Ratio)<br>Napa,CA\", \"(MMR,Case-Fatality Ratio)<br>Orange,CA\", \"(MMR,Case-Fatality Ratio)<br>Placer,CA\", \"(MMR,Case-Fatality Ratio)<br>Riverside,CA\", \"(MMR,Case-Fatality Ratio)<br>Sacramento,CA\", \"(MMR,Case-Fatality Ratio)<br>San Bernardino,CA\", \"(MMR,Case-Fatality Ratio)<br>San Diego,CA\", \"(MMR,Case-Fatality Ratio)<br>San Francisco,CA\", \"(MMR,Case-Fatality Ratio)<br>San Joaquin,CA\", \"(MMR,Case-Fatality Ratio)<br>San Luis Obispo,CA\", \"(MMR,Case-Fatality Ratio)<br>San Mateo,CA\", \"(MMR,Case-Fatality Ratio)<br>Santa Barbara,CA\", \"(MMR,Case-Fatality Ratio)<br>Santa Clara,CA\", \"(MMR,Case-Fatality Ratio)<br>Santa Cruz,CA\", \"(MMR,Case-Fatality Ratio)<br>Shasta,CA\", \"(MMR,Case-Fatality Ratio)<br>Solano,CA\", \"(MMR,Case-Fatality Ratio)<br>Sonoma,CA\", \"(MMR,Case-Fatality Ratio)<br>Stanislaus,CA\", \"(MMR,Case-Fatality Ratio)<br>Tulare,CA\", \"(MMR,Case-Fatality Ratio)<br>Ventura,CA\", \"(MMR,Case-Fatality Ratio)<br>Yolo,CA\", \"(MMR,Case-Fatality Ratio)<br>Adams,CO\", \"(MMR,Case-Fatality Ratio)<br>Arapahoe,CO\", \"(MMR,Case-Fatality Ratio)<br>Boulder,CO\", \"(MMR,Case-Fatality Ratio)<br>Denver,CO\", \"(MMR,Case-Fatality Ratio)<br>Douglas,CO\", \"(MMR,Case-Fatality Ratio)<br>El Paso,CO\", \"(MMR,Case-Fatality Ratio)<br>Jefferson,CO\", \"(MMR,Case-Fatality Ratio)<br>Larimer,CO\", \"(MMR,Case-Fatality Ratio)<br>Pueblo,CO\", \"(MMR,Case-Fatality Ratio)<br>Weld,CO\", \"(MMR,Case-Fatality Ratio)<br>Fairfield,CT\", \"(MMR,Case-Fatality Ratio)<br>Hartford,CT\", \"(MMR,Case-Fatality Ratio)<br>Litchfield,CT\", \"(MMR,Case-Fatality Ratio)<br>Middlesex,CT\", \"(MMR,Case-Fatality Ratio)<br>New Haven,CT\", \"(MMR,Case-Fatality Ratio)<br>New London,CT\", \"(MMR,Case-Fatality Ratio)<br>Tolland,CT\", \"(MMR,Case-Fatality Ratio)<br>Windham,CT\", \"(MMR,Case-Fatality Ratio)<br>Kent,DE\", \"(MMR,Case-Fatality Ratio)<br>New Castle,DE\", \"(MMR,Case-Fatality Ratio)<br>Sussex,DE\", \"(MMR,Case-Fatality Ratio)<br>Alachua,FL\", \"(MMR,Case-Fatality Ratio)<br>Bay,FL\", \"(MMR,Case-Fatality Ratio)<br>Brevard,FL\", \"(MMR,Case-Fatality Ratio)<br>Broward,FL\", \"(MMR,Case-Fatality Ratio)<br>Charlotte,FL\", \"(MMR,Case-Fatality Ratio)<br>Citrus,FL\", \"(MMR,Case-Fatality Ratio)<br>Clay,FL\", \"(MMR,Case-Fatality Ratio)<br>Collier,FL\", \"(MMR,Case-Fatality Ratio)<br>Duval,FL\", \"(MMR,Case-Fatality Ratio)<br>Escambia,FL\", \"(MMR,Case-Fatality Ratio)<br>Flagler,FL\", \"(MMR,Case-Fatality Ratio)<br>Hernando,FL\", \"(MMR,Case-Fatality Ratio)<br>Highlands,FL\", \"(MMR,Case-Fatality Ratio)<br>Hillsborough,FL\", \"(MMR,Case-Fatality Ratio)<br>Indian River,FL\", \"(MMR,Case-Fatality Ratio)<br>Lake,FL\", \"(MMR,Case-Fatality Ratio)<br>Lee,FL\", \"(MMR,Case-Fatality Ratio)<br>Leon,FL\", \"(MMR,Case-Fatality Ratio)<br>Manatee,FL\", \"(MMR,Case-Fatality Ratio)<br>Marion,FL\", \"(MMR,Case-Fatality Ratio)<br>Martin,FL\", \"(MMR,Case-Fatality Ratio)<br>Miami-Dade,FL\", \"(MMR,Case-Fatality Ratio)<br>Okaloosa,FL\", \"(MMR,Case-Fatality Ratio)<br>Orange,FL\", \"(MMR,Case-Fatality Ratio)<br>Osceola,FL\", \"(MMR,Case-Fatality Ratio)<br>Palm Beach,FL\", \"(MMR,Case-Fatality Ratio)<br>Pasco,FL\", \"(MMR,Case-Fatality Ratio)<br>Pinellas,FL\", \"(MMR,Case-Fatality Ratio)<br>Polk,FL\", \"(MMR,Case-Fatality Ratio)<br>St Johns,FL\", \"(MMR,Case-Fatality Ratio)<br>St Lucie,FL\", \"(MMR,Case-Fatality Ratio)<br>Santa Rosa,FL\", \"(MMR,Case-Fatality Ratio)<br>Sarasota,FL\", \"(MMR,Case-Fatality Ratio)<br>Seminole,FL\", \"(MMR,Case-Fatality Ratio)<br>Sumter,FL\", \"(MMR,Case-Fatality Ratio)<br>Volusia,FL\", \"(MMR,Case-Fatality Ratio)<br>Bartow,GA\", \"(MMR,Case-Fatality Ratio)<br>Bibb,GA\", \"(MMR,Case-Fatality Ratio)<br>Carroll,GA\", \"(MMR,Case-Fatality Ratio)<br>Chatham,GA\", \"(MMR,Case-Fatality Ratio)<br>Cherokee,GA\", \"(MMR,Case-Fatality Ratio)<br>Clarke,GA\", \"(MMR,Case-Fatality Ratio)<br>Clayton,GA\", \"(MMR,Case-Fatality Ratio)<br>Cobb,GA\", \"(MMR,Case-Fatality Ratio)<br>Columbia,GA\", \"(MMR,Case-Fatality Ratio)<br>Coweta,GA\", \"(MMR,Case-Fatality Ratio)<br>DeKalb,GA\", \"(MMR,Case-Fatality Ratio)<br>Douglas,GA\", \"(MMR,Case-Fatality Ratio)<br>Fayette,GA\", \"(MMR,Case-Fatality Ratio)<br>Forsyth,GA\", \"(MMR,Case-Fatality Ratio)<br>Fulton,GA\", \"(MMR,Case-Fatality Ratio)<br>Gwinnett,GA\", \"(MMR,Case-Fatality Ratio)<br>Hall,GA\", \"(MMR,Case-Fatality Ratio)<br>Henry,GA\", \"(MMR,Case-Fatality Ratio)<br>Houston,GA\", \"(MMR,Case-Fatality Ratio)<br>Lowndes,GA\", \"(MMR,Case-Fatality Ratio)<br>Muscogee,GA\", \"(MMR,Case-Fatality Ratio)<br>Newton,GA\", \"(MMR,Case-Fatality Ratio)<br>Paulding,GA\", \"(MMR,Case-Fatality Ratio)<br>Richmond,GA\", \"(MMR,Case-Fatality Ratio)<br>Whitfield,GA\", \"(MMR,Case-Fatality Ratio)<br>Honolulu,HI\", \"(MMR,Case-Fatality Ratio)<br>Maui,HI\", \"(MMR,Case-Fatality Ratio)<br>Ada,ID\", \"(MMR,Case-Fatality Ratio)<br>Bonneville,ID\", \"(MMR,Case-Fatality Ratio)<br>Canyon,ID\", \"(MMR,Case-Fatality Ratio)<br>Kootenai,ID\", \"(MMR,Case-Fatality Ratio)<br>Champaign,IL\", \"(MMR,Case-Fatality Ratio)<br>Cook,IL\", \"(MMR,Case-Fatality Ratio)<br>DeKalb,IL\", \"(MMR,Case-Fatality Ratio)<br>DuPage,IL\", \"(MMR,Case-Fatality Ratio)<br>Kane,IL\", \"(MMR,Case-Fatality Ratio)<br>Kankakee,IL\", \"(MMR,Case-Fatality Ratio)<br>Kendall,IL\", \"(MMR,Case-Fatality Ratio)<br>Lake,IL\", \"(MMR,Case-Fatality Ratio)<br>LaSalle,IL\", \"(MMR,Case-Fatality Ratio)<br>McHenry,IL\", \"(MMR,Case-Fatality Ratio)<br>McLean,IL\", \"(MMR,Case-Fatality Ratio)<br>Macon,IL\", \"(MMR,Case-Fatality Ratio)<br>Madison,IL\", \"(MMR,Case-Fatality Ratio)<br>Peoria,IL\", \"(MMR,Case-Fatality Ratio)<br>Rock Island,IL\", \"(MMR,Case-Fatality Ratio)<br>St Clair,IL\", \"(MMR,Case-Fatality Ratio)<br>Sangamon,IL\", \"(MMR,Case-Fatality Ratio)<br>Tazewell,IL\", \"(MMR,Case-Fatality Ratio)<br>Will,IL\", \"(MMR,Case-Fatality Ratio)<br>Winnebago,IL\", \"(MMR,Case-Fatality Ratio)<br>Allen,IN\", \"(MMR,Case-Fatality Ratio)<br>Clark,IN\", \"(MMR,Case-Fatality Ratio)<br>Delaware,IN\", \"(MMR,Case-Fatality Ratio)<br>Elkhart,IN\", \"(MMR,Case-Fatality Ratio)<br>Hamilton,IN\", \"(MMR,Case-Fatality Ratio)<br>Hendricks,IN\", \"(MMR,Case-Fatality Ratio)<br>Johnson,IN\", \"(MMR,Case-Fatality Ratio)<br>Lake,IN\", \"(MMR,Case-Fatality Ratio)<br>La Porte,IN\", \"(MMR,Case-Fatality Ratio)<br>Madison,IN\", \"(MMR,Case-Fatality Ratio)<br>Marion,IN\", \"(MMR,Case-Fatality Ratio)<br>Monroe,IN\", \"(MMR,Case-Fatality Ratio)<br>Porter,IN\", \"(MMR,Case-Fatality Ratio)<br>St Joseph,IN\", \"(MMR,Case-Fatality Ratio)<br>Tippecanoe,IN\", \"(MMR,Case-Fatality Ratio)<br>Vanderburgh,IN\", \"(MMR,Case-Fatality Ratio)<br>Vigo,IN\", \"(MMR,Case-Fatality Ratio)<br>Black Hawk,IA\", \"(MMR,Case-Fatality Ratio)<br>Johnson,IA\", \"(MMR,Case-Fatality Ratio)<br>Linn,IA\", \"(MMR,Case-Fatality Ratio)<br>Polk,IA\", \"(MMR,Case-Fatality Ratio)<br>Scott,IA\", \"(MMR,Case-Fatality Ratio)<br>Woodbury,IA\", \"(MMR,Case-Fatality Ratio)<br>Johnson,KS\", \"(MMR,Case-Fatality Ratio)<br>Sedgwick,KS\", \"(MMR,Case-Fatality Ratio)<br>Shawnee,KS\", \"(MMR,Case-Fatality Ratio)<br>Wyandotte,KS\", \"(MMR,Case-Fatality Ratio)<br>Boone,KY\", \"(MMR,Case-Fatality Ratio)<br>Daviess,KY\", \"(MMR,Case-Fatality Ratio)<br>Fayette,KY\", \"(MMR,Case-Fatality Ratio)<br>Hardin,KY\", \"(MMR,Case-Fatality Ratio)<br>Jefferson,KY\", \"(MMR,Case-Fatality Ratio)<br>Kenton,KY\", \"(MMR,Case-Fatality Ratio)<br>Warren,KY\", \"(MMR,Case-Fatality Ratio)<br>Ascension,LA\", \"(MMR,Case-Fatality Ratio)<br>Bossier,LA\", \"(MMR,Case-Fatality Ratio)<br>Caddo,LA\", \"(MMR,Case-Fatality Ratio)<br>Calcasieu,LA\", \"(MMR,Case-Fatality Ratio)<br>East Baton Rouge,LA\", \"(MMR,Case-Fatality Ratio)<br>Jefferson,LA\", \"(MMR,Case-Fatality Ratio)<br>Lafayette,LA\", \"(MMR,Case-Fatality Ratio)<br>Livingston,LA\", \"(MMR,Case-Fatality Ratio)<br>Orleans,LA\", \"(MMR,Case-Fatality Ratio)<br>Ouachita,LA\", \"(MMR,Case-Fatality Ratio)<br>Rapides,LA\", \"(MMR,Case-Fatality Ratio)<br>St Tammany,LA\", \"(MMR,Case-Fatality Ratio)<br>Tangipahoa,LA\", \"(MMR,Case-Fatality Ratio)<br>Terrebonne,LA\", \"(MMR,Case-Fatality Ratio)<br>Androscoggin,ME\", \"(MMR,Case-Fatality Ratio)<br>Cumberland,ME\", \"(MMR,Case-Fatality Ratio)<br>Kennebec,ME\", \"(MMR,Case-Fatality Ratio)<br>Penobscot,ME\", \"(MMR,Case-Fatality Ratio)<br>York,ME\", \"(MMR,Case-Fatality Ratio)<br>Anne Arundel,MD\", \"(MMR,Case-Fatality Ratio)<br>Baltimore,MD\", \"(MMR,Case-Fatality Ratio)<br>Carroll,MD\", \"(MMR,Case-Fatality Ratio)<br>Cecil,MD\", \"(MMR,Case-Fatality Ratio)<br>Charles,MD\", \"(MMR,Case-Fatality Ratio)<br>Frederick,MD\", \"(MMR,Case-Fatality Ratio)<br>Harford,MD\", \"(MMR,Case-Fatality Ratio)<br>Howard,MD\", \"(MMR,Case-Fatality Ratio)<br>Montgomery,MD\", \"(MMR,Case-Fatality Ratio)<br>Prince Georges,MD\", \"(MMR,Case-Fatality Ratio)<br>St Marys,MD\", \"(MMR,Case-Fatality Ratio)<br>Washington,MD\", \"(MMR,Case-Fatality Ratio)<br>Wicomico,MD\", \"(MMR,Case-Fatality Ratio)<br>Baltimore City,MD\", \"(MMR,Case-Fatality Ratio)<br>Barnstable,MA\", \"(MMR,Case-Fatality Ratio)<br>Berkshire,MA\", \"(MMR,Case-Fatality Ratio)<br>Bristol,MA\", \"(MMR,Case-Fatality Ratio)<br>Essex,MA\", \"(MMR,Case-Fatality Ratio)<br>Hampden,MA\", \"(MMR,Case-Fatality Ratio)<br>Hampshire,MA\", \"(MMR,Case-Fatality Ratio)<br>Middlesex,MA\", \"(MMR,Case-Fatality Ratio)<br>Norfolk,MA\", \"(MMR,Case-Fatality Ratio)<br>Plymouth,MA\", \"(MMR,Case-Fatality Ratio)<br>Suffolk,MA\", \"(MMR,Case-Fatality Ratio)<br>Worcester,MA\", \"(MMR,Case-Fatality Ratio)<br>Allegan,MI\", \"(MMR,Case-Fatality Ratio)<br>Bay,MI\", \"(MMR,Case-Fatality Ratio)<br>Berrien,MI\", \"(MMR,Case-Fatality Ratio)<br>Calhoun,MI\", \"(MMR,Case-Fatality Ratio)<br>Eaton,MI\", \"(MMR,Case-Fatality Ratio)<br>Genesee,MI\", \"(MMR,Case-Fatality Ratio)<br>Ingham,MI\", \"(MMR,Case-Fatality Ratio)<br>Jackson,MI\", \"(MMR,Case-Fatality Ratio)<br>Kalamazoo,MI\", \"(MMR,Case-Fatality Ratio)<br>Kent,MI\", \"(MMR,Case-Fatality Ratio)<br>Livingston,MI\", \"(MMR,Case-Fatality Ratio)<br>Macomb,MI\", \"(MMR,Case-Fatality Ratio)<br>Monroe,MI\", \"(MMR,Case-Fatality Ratio)<br>Muskegon,MI\", \"(MMR,Case-Fatality Ratio)<br>Oakland,MI\", \"(MMR,Case-Fatality Ratio)<br>Ottawa,MI\", \"(MMR,Case-Fatality Ratio)<br>Saginaw,MI\", \"(MMR,Case-Fatality Ratio)<br>St Clair,MI\", \"(MMR,Case-Fatality Ratio)<br>Washtenaw,MI\", \"(MMR,Case-Fatality Ratio)<br>Wayne,MI\", \"(MMR,Case-Fatality Ratio)<br>Anoka,MN\", \"(MMR,Case-Fatality Ratio)<br>Carver,MN\", \"(MMR,Case-Fatality Ratio)<br>Dakota,MN\", \"(MMR,Case-Fatality Ratio)<br>Hennepin,MN\", \"(MMR,Case-Fatality Ratio)<br>Olmsted,MN\", \"(MMR,Case-Fatality Ratio)<br>Ramsey,MN\", \"(MMR,Case-Fatality Ratio)<br>St Louis,MN\", \"(MMR,Case-Fatality Ratio)<br>Scott,MN\", \"(MMR,Case-Fatality Ratio)<br>Stearns,MN\", \"(MMR,Case-Fatality Ratio)<br>Washington,MN\", \"(MMR,Case-Fatality Ratio)<br>Wright,MN\", \"(MMR,Case-Fatality Ratio)<br>DeSoto,MS\", \"(MMR,Case-Fatality Ratio)<br>Harrison,MS\", \"(MMR,Case-Fatality Ratio)<br>Hinds,MS\", \"(MMR,Case-Fatality Ratio)<br>Jackson,MS\", \"(MMR,Case-Fatality Ratio)<br>Madison,MS\", \"(MMR,Case-Fatality Ratio)<br>Rankin,MS\", \"(MMR,Case-Fatality Ratio)<br>Boone,MO\", \"(MMR,Case-Fatality Ratio)<br>Cass,MO\", \"(MMR,Case-Fatality Ratio)<br>Clay,MO\", \"(MMR,Case-Fatality Ratio)<br>Franklin,MO\", \"(MMR,Case-Fatality Ratio)<br>Greene,MO\", \"(MMR,Case-Fatality Ratio)<br>Jackson,MO\", \"(MMR,Case-Fatality Ratio)<br>Jasper,MO\", \"(MMR,Case-Fatality Ratio)<br>Jefferson,MO\", \"(MMR,Case-Fatality Ratio)<br>Platte,MO\", \"(MMR,Case-Fatality Ratio)<br>St Charles,MO\", \"(MMR,Case-Fatality Ratio)<br>St Louis County,MO\", \"(MMR,Case-Fatality Ratio)<br>St Louis City,MO\", \"(MMR,Case-Fatality Ratio)<br>Gallatin,MT\", \"(MMR,Case-Fatality Ratio)<br>Missoula,MT\", \"(MMR,Case-Fatality Ratio)<br>Yellowstone,MT\", \"(MMR,Case-Fatality Ratio)<br>Douglas,NE\", \"(MMR,Case-Fatality Ratio)<br>Lancaster,NE\", \"(MMR,Case-Fatality Ratio)<br>Sarpy,NE\", \"(MMR,Case-Fatality Ratio)<br>Clark,NV\", \"(MMR,Case-Fatality Ratio)<br>Washoe,NV\", \"(MMR,Case-Fatality Ratio)<br>Hillsborough,NH\", \"(MMR,Case-Fatality Ratio)<br>Merrimack,NH\", \"(MMR,Case-Fatality Ratio)<br>Rockingham,NH\", \"(MMR,Case-Fatality Ratio)<br>Strafford,NH\", \"(MMR,Case-Fatality Ratio)<br>Atlantic,NJ\", \"(MMR,Case-Fatality Ratio)<br>Bergen,NJ\", \"(MMR,Case-Fatality Ratio)<br>Burlington,NJ\", \"(MMR,Case-Fatality Ratio)<br>Camden,NJ\", \"(MMR,Case-Fatality Ratio)<br>Cumberland,NJ\", \"(MMR,Case-Fatality Ratio)<br>Essex,NJ\", \"(MMR,Case-Fatality Ratio)<br>Gloucester,NJ\", \"(MMR,Case-Fatality Ratio)<br>Hudson,NJ\", \"(MMR,Case-Fatality Ratio)<br>Hunterdon,NJ\", \"(MMR,Case-Fatality Ratio)<br>Mercer,NJ\", \"(MMR,Case-Fatality Ratio)<br>Middlesex,NJ\", \"(MMR,Case-Fatality Ratio)<br>Monmouth,NJ\", \"(MMR,Case-Fatality Ratio)<br>Morris,NJ\", \"(MMR,Case-Fatality Ratio)<br>Ocean,NJ\", \"(MMR,Case-Fatality Ratio)<br>Passaic,NJ\", \"(MMR,Case-Fatality Ratio)<br>Somerset,NJ\", \"(MMR,Case-Fatality Ratio)<br>Sussex,NJ\", \"(MMR,Case-Fatality Ratio)<br>Union,NJ\", \"(MMR,Case-Fatality Ratio)<br>Warren,NJ\", \"(MMR,Case-Fatality Ratio)<br>Bernalillo,NM\", \"(MMR,Case-Fatality Ratio)<br>Dona Ana,NM\", \"(MMR,Case-Fatality Ratio)<br>Sandoval,NM\", \"(MMR,Case-Fatality Ratio)<br>San Juan,NM\", \"(MMR,Case-Fatality Ratio)<br>Santa Fe,NM\", \"(MMR,Case-Fatality Ratio)<br>Albany,NY\", \"(MMR,Case-Fatality Ratio)<br>Broome,NY\", \"(MMR,Case-Fatality Ratio)<br>Chautauqua,NY\", \"(MMR,Case-Fatality Ratio)<br>Dutchess,NY\", \"(MMR,Case-Fatality Ratio)<br>Erie,NY\", \"(MMR,Case-Fatality Ratio)<br>Monroe,NY\", \"(MMR,Case-Fatality Ratio)<br>Nassau,NY\", \"(MMR,Case-Fatality Ratio)<br>NYC,NY\", \"(MMR,Case-Fatality Ratio)<br>Niagara,NY\", \"(MMR,Case-Fatality Ratio)<br>Oneida,NY\", \"(MMR,Case-Fatality Ratio)<br>Onondaga,NY\", \"(MMR,Case-Fatality Ratio)<br>Ontario,NY\", \"(MMR,Case-Fatality Ratio)<br>Orange,NY\", \"(MMR,Case-Fatality Ratio)<br>Oswego,NY\", \"(MMR,Case-Fatality Ratio)<br>Rensselaer,NY\", \"(MMR,Case-Fatality Ratio)<br>Rockland,NY\", \"(MMR,Case-Fatality Ratio)<br>St Lawrence,NY\", \"(MMR,Case-Fatality Ratio)<br>Saratoga,NY\", \"(MMR,Case-Fatality Ratio)<br>Schenectady,NY\", \"(MMR,Case-Fatality Ratio)<br>Suffolk,NY\", \"(MMR,Case-Fatality Ratio)<br>Ulster,NY\", \"(MMR,Case-Fatality Ratio)<br>Westchester,NY\", \"(MMR,Case-Fatality Ratio)<br>Alamance,NC\", \"(MMR,Case-Fatality Ratio)<br>Brunswick,NC\", \"(MMR,Case-Fatality Ratio)<br>Buncombe,NC\", \"(MMR,Case-Fatality Ratio)<br>Cabarrus,NC\", \"(MMR,Case-Fatality Ratio)<br>Catawba,NC\", \"(MMR,Case-Fatality Ratio)<br>Craven,NC\", \"(MMR,Case-Fatality Ratio)<br>Cumberland,NC\", \"(MMR,Case-Fatality Ratio)<br>Davidson,NC\", \"(MMR,Case-Fatality Ratio)<br>Durham,NC\", \"(MMR,Case-Fatality Ratio)<br>Forsyth,NC\", \"(MMR,Case-Fatality Ratio)<br>Gaston,NC\", \"(MMR,Case-Fatality Ratio)<br>Guilford,NC\", \"(MMR,Case-Fatality Ratio)<br>Harnett,NC\", \"(MMR,Case-Fatality Ratio)<br>Henderson,NC\", \"(MMR,Case-Fatality Ratio)<br>Iredell,NC\", \"(MMR,Case-Fatality Ratio)<br>Johnston,NC\", \"(MMR,Case-Fatality Ratio)<br>Mecklenburg,NC\", \"(MMR,Case-Fatality Ratio)<br>New Hanover,NC\", \"(MMR,Case-Fatality Ratio)<br>Onslow,NC\", \"(MMR,Case-Fatality Ratio)<br>Orange,NC\", \"(MMR,Case-Fatality Ratio)<br>Pitt,NC\", \"(MMR,Case-Fatality Ratio)<br>Randolph,NC\", \"(MMR,Case-Fatality Ratio)<br>Robeson,NC\", \"(MMR,Case-Fatality Ratio)<br>Rowan,NC\", \"(MMR,Case-Fatality Ratio)<br>Union,NC\", \"(MMR,Case-Fatality Ratio)<br>Wake,NC\", \"(MMR,Case-Fatality Ratio)<br>Wayne,NC\", \"(MMR,Case-Fatality Ratio)<br>Cass,ND\", \"(MMR,Case-Fatality Ratio)<br>Allen,OH\", \"(MMR,Case-Fatality Ratio)<br>Butler,OH\", \"(MMR,Case-Fatality Ratio)<br>Clark,OH\", \"(MMR,Case-Fatality Ratio)<br>Clermont,OH\", \"(MMR,Case-Fatality Ratio)<br>Columbiana,OH\", \"(MMR,Case-Fatality Ratio)<br>Cuyahoga,OH\", \"(MMR,Case-Fatality Ratio)<br>Delaware,OH\", \"(MMR,Case-Fatality Ratio)<br>Fairfield,OH\", \"(MMR,Case-Fatality Ratio)<br>Franklin,OH\", \"(MMR,Case-Fatality Ratio)<br>Greene,OH\", \"(MMR,Case-Fatality Ratio)<br>Hamilton,OH\", \"(MMR,Case-Fatality Ratio)<br>Lake,OH\", \"(MMR,Case-Fatality Ratio)<br>Licking,OH\", \"(MMR,Case-Fatality Ratio)<br>Lorain,OH\", \"(MMR,Case-Fatality Ratio)<br>Lucas,OH\", \"(MMR,Case-Fatality Ratio)<br>Mahoning,OH\", \"(MMR,Case-Fatality Ratio)<br>Medina,OH\", \"(MMR,Case-Fatality Ratio)<br>Miami,OH\", \"(MMR,Case-Fatality Ratio)<br>Montgomery,OH\", \"(MMR,Case-Fatality Ratio)<br>Portage,OH\", \"(MMR,Case-Fatality Ratio)<br>Richland,OH\", \"(MMR,Case-Fatality Ratio)<br>Stark,OH\", \"(MMR,Case-Fatality Ratio)<br>Summit,OH\", \"(MMR,Case-Fatality Ratio)<br>Trumbull,OH\", \"(MMR,Case-Fatality Ratio)<br>Warren,OH\", \"(MMR,Case-Fatality Ratio)<br>Wayne,OH\", \"(MMR,Case-Fatality Ratio)<br>Wood,OH\", \"(MMR,Case-Fatality Ratio)<br>Canadian,OK\", \"(MMR,Case-Fatality Ratio)<br>Cleveland,OK\", \"(MMR,Case-Fatality Ratio)<br>Comanche,OK\", \"(MMR,Case-Fatality Ratio)<br>Oklahoma,OK\", \"(MMR,Case-Fatality Ratio)<br>Tulsa,OK\", \"(MMR,Case-Fatality Ratio)<br>Clackamas,OR\", \"(MMR,Case-Fatality Ratio)<br>Lane,OR\", \"(MMR,Case-Fatality Ratio)<br>Linn,OR\", \"(MMR,Case-Fatality Ratio)<br>Marion,OR\", \"(MMR,Case-Fatality Ratio)<br>Multnomah,OR\", \"(MMR,Case-Fatality Ratio)<br>Washington,OR\", \"(MMR,Case-Fatality Ratio)<br>Yamhill,OR\", \"(MMR,Case-Fatality Ratio)<br>Adams,PA\", \"(MMR,Case-Fatality Ratio)<br>Allegheny,PA\", \"(MMR,Case-Fatality Ratio)<br>Beaver,PA\", \"(MMR,Case-Fatality Ratio)<br>Berks,PA\", \"(MMR,Case-Fatality Ratio)<br>Blair,PA\", \"(MMR,Case-Fatality Ratio)<br>Bucks,PA\", \"(MMR,Case-Fatality Ratio)<br>Butler,PA\", \"(MMR,Case-Fatality Ratio)<br>Cambria,PA\", \"(MMR,Case-Fatality Ratio)<br>Centre,PA\", \"(MMR,Case-Fatality Ratio)<br>Chester,PA\", \"(MMR,Case-Fatality Ratio)<br>Cumberland,PA\", \"(MMR,Case-Fatality Ratio)<br>Dauphin,PA\", \"(MMR,Case-Fatality Ratio)<br>Delaware,PA\", \"(MMR,Case-Fatality Ratio)<br>Erie,PA\", \"(MMR,Case-Fatality Ratio)<br>Fayette,PA\", \"(MMR,Case-Fatality Ratio)<br>Franklin,PA\", \"(MMR,Case-Fatality Ratio)<br>Lackawanna,PA\", \"(MMR,Case-Fatality Ratio)<br>Lancaster,PA\", \"(MMR,Case-Fatality Ratio)<br>Lebanon,PA\", \"(MMR,Case-Fatality Ratio)<br>Lehigh,PA\", \"(MMR,Case-Fatality Ratio)<br>Luzerne,PA\", \"(MMR,Case-Fatality Ratio)<br>Lycoming,PA\", \"(MMR,Case-Fatality Ratio)<br>Mercer,PA\", \"(MMR,Case-Fatality Ratio)<br>Monroe,PA\", \"(MMR,Case-Fatality Ratio)<br>Montgomery,PA\", \"(MMR,Case-Fatality Ratio)<br>Northampton,PA\", \"(MMR,Case-Fatality Ratio)<br>Philadelphia,PA\", \"(MMR,Case-Fatality Ratio)<br>Schuylkill,PA\", \"(MMR,Case-Fatality Ratio)<br>Washington,PA\", \"(MMR,Case-Fatality Ratio)<br>Westmoreland,PA\", \"(MMR,Case-Fatality Ratio)<br>York,PA\", \"(MMR,Case-Fatality Ratio)<br>Aiken,SC\", \"(MMR,Case-Fatality Ratio)<br>Anderson,SC\", \"(MMR,Case-Fatality Ratio)<br>Beaufort,SC\", \"(MMR,Case-Fatality Ratio)<br>Berkeley,SC\", \"(MMR,Case-Fatality Ratio)<br>Charleston,SC\", \"(MMR,Case-Fatality Ratio)<br>Dorchester,SC\", \"(MMR,Case-Fatality Ratio)<br>Florence,SC\", \"(MMR,Case-Fatality Ratio)<br>Greenville,SC\", \"(MMR,Case-Fatality Ratio)<br>Horry,SC\", \"(MMR,Case-Fatality Ratio)<br>Lexington,SC\", \"(MMR,Case-Fatality Ratio)<br>Pickens,SC\", \"(MMR,Case-Fatality Ratio)<br>Richland,SC\", \"(MMR,Case-Fatality Ratio)<br>Spartanburg,SC\", \"(MMR,Case-Fatality Ratio)<br>Sumter,SC\", \"(MMR,Case-Fatality Ratio)<br>York,SC\", \"(MMR,Case-Fatality Ratio)<br>Minnehaha,SD\", \"(MMR,Case-Fatality Ratio)<br>Pennington,SD\", \"(MMR,Case-Fatality Ratio)<br>Blount,TN\", \"(MMR,Case-Fatality Ratio)<br>Bradley,TN\", \"(MMR,Case-Fatality Ratio)<br>Davidson,TN\", \"(MMR,Case-Fatality Ratio)<br>Hamilton,TN\", \"(MMR,Case-Fatality Ratio)<br>Knox,TN\", \"(MMR,Case-Fatality Ratio)<br>Montgomery,TN\", \"(MMR,Case-Fatality Ratio)<br>Rutherford,TN\", \"(MMR,Case-Fatality Ratio)<br>Shelby,TN\", \"(MMR,Case-Fatality Ratio)<br>Sullivan,TN\", \"(MMR,Case-Fatality Ratio)<br>Sumner,TN\", \"(MMR,Case-Fatality Ratio)<br>Williamson,TN\", \"(MMR,Case-Fatality Ratio)<br>Wilson,TN\", \"(MMR,Case-Fatality Ratio)<br>Bell,TX\", \"(MMR,Case-Fatality Ratio)<br>Bexar,TX\", \"(MMR,Case-Fatality Ratio)<br>Brazoria,TX\", \"(MMR,Case-Fatality Ratio)<br>Brazos,TX\", \"(MMR,Case-Fatality Ratio)<br>Cameron,TX\", \"(MMR,Case-Fatality Ratio)<br>Collin,TX\", \"(MMR,Case-Fatality Ratio)<br>Comal,TX\", \"(MMR,Case-Fatality Ratio)<br>Dallas,TX\", \"(MMR,Case-Fatality Ratio)<br>Denton,TX\", \"(MMR,Case-Fatality Ratio)<br>Ector,TX\", \"(MMR,Case-Fatality Ratio)<br>Ellis,TX\", \"(MMR,Case-Fatality Ratio)<br>El Paso,TX\", \"(MMR,Case-Fatality Ratio)<br>Fort Bend,TX\", \"(MMR,Case-Fatality Ratio)<br>Galveston,TX\", \"(MMR,Case-Fatality Ratio)<br>Grayson,TX\", \"(MMR,Case-Fatality Ratio)<br>Gregg,TX\", \"(MMR,Case-Fatality Ratio)<br>Guadalupe,TX\", \"(MMR,Case-Fatality Ratio)<br>Harris,TX\", \"(MMR,Case-Fatality Ratio)<br>Hays,TX\", \"(MMR,Case-Fatality Ratio)<br>Hidalgo,TX\", \"(MMR,Case-Fatality Ratio)<br>Jefferson,TX\", \"(MMR,Case-Fatality Ratio)<br>Johnson,TX\", \"(MMR,Case-Fatality Ratio)<br>Kaufman,TX\", \"(MMR,Case-Fatality Ratio)<br>Lubbock,TX\", \"(MMR,Case-Fatality Ratio)<br>McLennan,TX\", \"(MMR,Case-Fatality Ratio)<br>Midland,TX\", \"(MMR,Case-Fatality Ratio)<br>Montgomery,TX\", \"(MMR,Case-Fatality Ratio)<br>Nueces,TX\", \"(MMR,Case-Fatality Ratio)<br>Parker,TX\", \"(MMR,Case-Fatality Ratio)<br>Potter,TX\", \"(MMR,Case-Fatality Ratio)<br>Smith,TX\", \"(MMR,Case-Fatality Ratio)<br>Tarrant,TX\", \"(MMR,Case-Fatality Ratio)<br>Taylor,TX\", \"(MMR,Case-Fatality Ratio)<br>Tom Green,TX\", \"(MMR,Case-Fatality Ratio)<br>Travis,TX\", \"(MMR,Case-Fatality Ratio)<br>Webb,TX\", \"(MMR,Case-Fatality Ratio)<br>Wichita,TX\", \"(MMR,Case-Fatality Ratio)<br>Williamson,TX\", \"(MMR,Case-Fatality Ratio)<br>Davis,UT\", \"(MMR,Case-Fatality Ratio)<br>Salt Lake,UT\", \"(MMR,Case-Fatality Ratio)<br>Utah,UT\", \"(MMR,Case-Fatality Ratio)<br>Chittenden,VT\", \"(MMR,Case-Fatality Ratio)<br>Albemarle,VA\", \"(MMR,Case-Fatality Ratio)<br>Arlington,VA\", \"(MMR,Case-Fatality Ratio)<br>Chesterfield,VA\", \"(MMR,Case-Fatality Ratio)<br>Fairfax County,VA\", \"(MMR,Case-Fatality Ratio)<br>Hanover,VA\", \"(MMR,Case-Fatality Ratio)<br>Henrico,VA\", \"(MMR,Case-Fatality Ratio)<br>Loudoun,VA\", \"(MMR,Case-Fatality Ratio)<br>Prince William,VA\", \"(MMR,Case-Fatality Ratio)<br>Spotsylvania,VA\", \"(MMR,Case-Fatality Ratio)<br>Stafford,VA\", \"(MMR,Case-Fatality Ratio)<br>Alexandria,VA\", \"(MMR,Case-Fatality Ratio)<br>Chesapeake,VA\", \"(MMR,Case-Fatality Ratio)<br>Hampton,VA\", \"(MMR,Case-Fatality Ratio)<br>Newport News,VA\", \"(MMR,Case-Fatality Ratio)<br>Norfolk,VA\", \"(MMR,Case-Fatality Ratio)<br>Richmond City,VA\", \"(MMR,Case-Fatality Ratio)<br>Virginia Beach,VA\", \"(MMR,Case-Fatality Ratio)<br>Benton,WA\", \"(MMR,Case-Fatality Ratio)<br>Clark,WA\", \"(MMR,Case-Fatality Ratio)<br>King,WA\", \"(MMR,Case-Fatality Ratio)<br>Kitsap,WA\", \"(MMR,Case-Fatality Ratio)<br>Pierce,WA\", \"(MMR,Case-Fatality Ratio)<br>Skagit,WA\", \"(MMR,Case-Fatality Ratio)<br>Snohomish,WA\", \"(MMR,Case-Fatality Ratio)<br>Spokane,WA\", \"(MMR,Case-Fatality Ratio)<br>Thurston,WA\", \"(MMR,Case-Fatality Ratio)<br>Whatcom,WA\", \"(MMR,Case-Fatality Ratio)<br>Yakima,WA\", \"(MMR,Case-Fatality Ratio)<br>Berkeley,WV\", \"(MMR,Case-Fatality Ratio)<br>Kanawha,WV\", \"(MMR,Case-Fatality Ratio)<br>Monongalia,WV\", \"(MMR,Case-Fatality Ratio)<br>Brown,WI\", \"(MMR,Case-Fatality Ratio)<br>Dane,WI\", \"(MMR,Case-Fatality Ratio)<br>Eau Claire,WI\", \"(MMR,Case-Fatality Ratio)<br>Fond du Lac,WI\", \"(MMR,Case-Fatality Ratio)<br>Kenosha,WI\", \"(MMR,Case-Fatality Ratio)<br>Marathon,WI\", \"(MMR,Case-Fatality Ratio)<br>Milwaukee,WI\", \"(MMR,Case-Fatality Ratio)<br>Outagamie,WI\", \"(MMR,Case-Fatality Ratio)<br>Racine,WI\", \"(MMR,Case-Fatality Ratio)<br>Rock,WI\", \"(MMR,Case-Fatality Ratio)<br>Sheboygan,WI\", \"(MMR,Case-Fatality Ratio)<br>Walworth,WI\", \"(MMR,Case-Fatality Ratio)<br>Washington,WI\", \"(MMR,Case-Fatality Ratio)<br>Waukesha,WI\", \"(MMR,Case-Fatality Ratio)<br>Winnebago,WI\"], \"type\": \"scatter\", \"x\": [0.97, 0.964, 0.9412, 0.9229, 0.937, 0.9172, 0.9486, 0.8947, 0.8643, 0.9378, 0.9644, 0.9224, 0.955, 0.91, 0.927, 0.884, 0.884, 0.959, 0.922, 0.833, 0.973, 0.942, 0.942, 0.942, 0.942, 0.942, 0.942, 0.942, 0.966, 0.942, 0.964, 0.966, 0.882, 0.973, 0.911, 0.975, 0.945, 0.955, 0.943, 0.975, 0.975, 0.945, 0.957, 0.917, 0.963, 0.934, 0.951, 0.925, 0.957, 0.967, 0.947, 0.966, 0.967, 0.973, 0.909, 0.878, 0.975, 0.913, 0.959, 0.981, 0.961, 0.956, 0.974122696, 0.953626295, 0.901632047, 0.939261108, 0.947053857, 0.928410324, 0.95257722, 0.940003681, 0.957650696, 0.953247933, 0.956, 0.96, 0.959, 0.974, 0.969, 0.962, 0.962, 0.936, 0.978, 0.978, 0.978, 0.973673552, 0.978779841, 0.972616137, 0.963475911, 0.959787557, 0.968871595, 0.973517906, 0.957244075, 0.969316717, 0.962343096, 0.966949953, 0.968085106, 0.984391259, 0.975863069, 0.960332694, 0.972579051, 0.964398734, 0.968636032, 0.97130762, 0.972761597, 0.953874539, 0.948372298, 0.97134123, 0.948399739, 0.969346049, 0.958587876, 0.964556962, 0.9655483, 0.971347019, 0.970240522, 0.947436561, 0.966343786, 0.967217708, 0.97348378, 0.985163205, 0.946076608, 0.957, 0.93, 0.883, 0.953, 0.895, 0.973, 0.962, 0.931, 0.946, 0.883, 0.915, 0.931, 0.883, 0.946, 0.935, 0.932, 0.946, 0.883, 0.93, 0.975, 0.936, 0.932, 0.957, 0.946, 0.895, 0.915, 0.915, 0.920710937, 0.93585, 0.908147541, 0.836625, 0.985941343, 0.979524882, 0.98006987, 0.979451049, 0.980589532, 0.973710553, 0.979405927, 0.984031837, 0.98255497, 0.979576651, 0.983157895, 0.990600023, 0.987267211, 0.981224735, 0.97980931, 0.972926578, 0.982721871, 0.978183033, 0.983017761, 0.976995462, 0.58, 0.67, 0.72, 0.63, 0.66, 0.6, 0.74, 0.58, 0.6, 0.76, 0.67, 0.83, 0.67, 0.59, 0.74, 0.77, 0.67, 0.964073743, 0.935874858, 0.937536294, 0.971392374, 0.961731008, 0.972978495, 0.88, 0.9, 0.84, 0.89, 0.966, 0.917, 0.956, 0.868, 0.907, 0.929, 0.922, 0.9782, 0.9653, 0.9406, 0.9313, 0.9214, 0.9132, 0.9598, 0.9613, 0.9198, 0.9094, 0.9517, 0.9178, 0.9704, 0.9542, 0.939732143, 0.935879467, 0.940789474, 0.948032665, 0.94028169, 0.993, 0.995, 0.995, 0.997, 0.996, 0.98, 0.994, 0.994, 0.971, 0.992, 1.0, 1.0, 0.993, 0.992, 0.937, 0.904, 0.972, 0.963, 0.939, 0.962, 0.973, 0.976, 0.952, 0.86, 0.964, 0.953457447, 0.941346154, 0.945617978, 0.95147929, 0.948148148, 0.923370187, 0.930110658, 0.949848024, 0.93676815, 0.954602119, 0.885028104, 0.919247558, 0.925502991, 0.953662842, 0.912431812, 0.956317616, 0.951037344, 0.906685237, 0.927277501, 0.925784309, 0.932, 0.9459, 0.9299, 0.914, 0.9617, 0.9137, 0.9198, 0.9291, 0.9161, 0.9491, 0.9376, 0.992, 0.992, 0.992, 0.992, 0.992, 0.992, 0.9708, 0.9384, 0.9527, 0.9391, 0.9484, 0.9515, 0.9738, 0.9682, 0.9668, 0.9638, 0.9576, 0.8114, 0.914, 0.937, 0.961, 0.969, 0.969, 0.969, 0.951, 0.951, 0.918, 0.918, 0.918, 0.918, 0.978, 0.959, 0.979, 0.97, 0.99, 0.961, 0.98, 0.961, 0.957, 0.947, 0.974, 0.96, 0.974, 0.958, 0.967, 0.945, 0.973, 0.961, 0.943, 0.94, 0.885, 0.937, 0.95, 0.93, 0.99, 0.99, 0.97, 0.98, 0.99, 0.99, 0.99, 0.99, 0.99, 0.99, 0.99, 0.99, 0.95, 0.99, 0.99, 0.96, 0.97, 0.99, 0.99, 0.99, 0.97, 0.99, 0.988, 0.982, 0.973, 0.993, 0.992, 0.93, 0.949, 0.98, 0.95, 0.994, 0.974, 0.945, 0.936, 0.949, 0.971, 0.982, 0.942, 0.973, 0.943, 0.961, 0.978, 0.993, 0.954, 0.981, 0.986, 0.957, 0.924, 0.95528109, 0.916, 0.916, 0.916, 0.916, 0.916, 0.916, 0.916, 0.916, 0.916, 0.916, 0.916, 0.916, 0.916, 0.916, 0.916, 0.916, 0.916, 0.916, 0.916, 0.916, 0.916, 0.916, 0.916, 0.916, 0.916, 0.916, 0.916, 0.909, 0.934, 0.925, 0.901, 0.915, 0.949, 0.955, 0.968, 0.965, 0.95, 0.973, 0.952, 0.972, 0.979, 0.954, 0.979, 0.978, 0.975, 0.967, 0.984, 0.953, 0.97, 0.977, 0.951, 0.983, 0.978, 0.978, 0.97, 0.985, 0.922, 0.961, 0.98, 0.98, 0.978, 0.957, 0.968, 0.977, 0.981, 0.962, 0.986, 0.981, 0.962, 0.978, 0.9704, 0.9877, 0.9813, 0.9829, 0.978, 0.9822, 0.9918, 0.9811, 0.9643, 0.9818, 0.9835, 0.9725, 0.9793, 0.9688, 0.9862, 0.969, 0.974, 0.945117605, 0.936897458, 0.942787662, 0.93326541, 0.947379679, 0.944559229, 0.953217709, 0.924990253, 0.956241956, 0.968114603, 0.943951868, 0.960068454, 0.970139567, 0.976191106, 0.981338155, 0.960194175, 0.990407674, 0.958482682, 0.972067039, 0.968322871, 0.955108682, 0.974245819, 0.964539485, 0.982961644, 0.96052011, 0.949122562, 0.970578185, 0.97382199, 0.979352126, 0.974768052, 0.962013295, 0.990638863, 0.973920893, 0.966079582, 0.977332171, 0.962708243, 0.975715955, 0.980513796, 0.974343302, 0.985621942, 0.93573869, 0.96787086, 0.974720456, 0.955869534, 0.983322233, 0.97716659, 0.95545259, 0.996803977, 0.987628337, 0.955840541, 0.875, 0.909, 0.866, 0.94, 0.928, 0.976, 0.904, 0.877, 0.967, 0.96, 0.954, 0.958, 0.921, 0.941, 0.952, 0.898, 0.929, 0.93, 0.903, 0.924, 0.946, 0.706, 0.59, 0.71, 0.584, 0.621, 0.616, 0.694, 0.605, 0.636, 0.641, 0.76, 0.988, 0.988, 0.988, 0.84, 0.81, 0.82, 0.86, 0.76, 0.87, 0.82, 0.88, 0.84, 0.77, 0.88, 0.81, 0.87, 0.83, 0.87], \"y\": [0.008976660682226212, 0.011467889908256881, 0.015873015873015872, 0.010869565217391304, 0.026865671641791045, 0.024765729585006693, 0.004195070791819612, 0.031009506564056134, 0.025120995621110854, 0.004098360655737705, 0.015904572564612324, 0.018867924528301886, 0.022099447513812154, 0.04148845166809239, 0.013831750153762045, 0.06018808777429467, 0.03228915662650603, 0.028887863405629904, 0.01590380139643134, 0.010607521697203472, 0.015698189644258766, 0.00672782874617737, 0.013618677042801557, 0.0042796005706134095, 0.023221525985993367, 0.007142857142857143, 0.009929078014184398, 0.008122534230679972, 0.01971108410962603, 0.012539184952978056, 0.020197383520771172, 0.011406844106463879, 0.024844720496894408, 0.01659263130389339, 0.014885432346546245, 0.013660245183887917, 0.02952188940092166, 0.009334889148191364, 0.009296560272699102, 0.006692693809258227, 0.007255655142979087, 0.008583690987124463, 0.018682901891527628, 0.011077542799597181, 0.022842204508442616, 0.015815085158150853, 0.017457218330079245, 0.022551896532985546, 0.012062726176115802, 0.011046990931574609, 0.004561003420752566, 0.029310800105624504, 0.00749741468459152, 0.029235646354350123, 0.005928853754940711, 0.03409090909090909, 0.013602015113350126, 0.009216589861751152, 0.011457378551787351, 0.02686512978762026, 0.01294893720987051, 0.034912718204488775, 0.03400174367916303, 0.0633393829401089, 0.04845222072678331, 0.05045092144817671, 0.04823747680890538, 0.039229671897289584, 0.0732375085557837, 0.03452243958573072, 0.07194244604316546, 0.04698672114402452, 0.08172450550752103, 0.11672004045171078, 0.09072847682119205, 0.1401799100449775, 0.08625789431609242, 0.07733131159969674, 0.06896551724137931, 0.022222222222222223, 0.046239554317548746, 0.04425879843583363, 0.03514376996805112, 0.006413682522715126, 0.005319148936170213, 0.008710217755443886, 0.01701059676519799, 0.07669322709163347, 0.02771855010660981, 0.02711323763955343, 0.015241169087322934, 0.00671019223793979, 0.015606242496998799, 0.01152073732718894, 0.00847457627118644, 0.02536997885835095, 0.0109204368174727, 0.01722488038277512, 0.01192113709307657, 0.021103117505995205, 0.0039081582804103565, 0.03234880450070324, 0.010327022375215147, 0.014145383104125737, 0.019513589821482817, 0.009852216748768473, 0.00442449503045848, 0.00894402769763416, 0.0309819897084048, 0.008108108108108109, 0.02249134948096886, 0.02046406703190461, 0.0055147058823529415, 0.023761578735400725, 0.00968054211035818, 0.04113533525298231, 0.005517603783499738, 0.03278688524590164, 0.020717377860235003, 0.048894062863795114, 0.026214833759590793, 0.042283298097251586, 0.017949929145016533, 0.0283775447254781, 0.0178359096313912, 0.031395348837209305, 0.038938608886795414, 0.01692524682651622, 0.0194884287454324, 0.023420770877944325, 0.02938840349483717, 0.03991596638655462, 0.014191106906338695, 0.0332776966409347, 0.016802688430148822, 0.017403314917127072, 0.020484171322160148, 0.03329506314580941, 0.008032128514056224, 0.022559474979491387, 0.014778325123152709, 0.02056555269922879, 0.04074585635359116, 0.009316770186335404, 0.015439429928741092, 0.046153846153846156, 0.006674082313681869, 0.006097560975609756, 0.006006006006006006, 0.0017889087656529517, 0.016831683168316833, 0.049742034998138396, 0.03322259136212625, 0.05083140391496527, 0.03525279136871158, 0.04836309523809524, 0.0224609375, 0.041965601965601965, 0.07112970711297072, 0.04528985507246377, 0.04983388704318937, 0.09090909090909091, 0.0639269406392694, 0.047619047619047616, 0.02710027100271003, 0.06766917293233082, 0.06693711967545639, 0.04878048780487805, 0.04522471910112359, 0.032134902958956414, 0.0463899546564353, 0.06557377049180328, 0.11304347826086956, 0.016608391608391608, 0.0620012277470841, 0.06949270326615706, 0.0903522205206738, 0.046280682031103616, 0.04522613065326633, 0.09580838323353294, 0.05841517101252963, 0.08888888888888889, 0.04871794871794872, 0.034074074074074076, 0.012113055181695828, 0.009538950715421303, 0.03333333333333333, 0.024614100959532748, 0.005780346820809248, 0.061894108873974646, 0.026037195994277538, 0.01079913606911447, 0.013101767215112737, 0.03494113178883403, 0.015625, 0.014161220043572984, 0.03118279569892473, 0.03367496339677892, 0.016563146997929608, 0.01728110599078341, 0.026200873362445413, 0.04641638225255973, 0.043173862310385065, 0.00830860534124629, 0.04054054054054054, 0.03058623619371283, 0.059926017262638714, 0.022524132999642475, 0.04267161410018553, 0.04637708649468892, 0.015183723048891588, 0.02976190476190476, 0.06459731543624161, 0.029484029484029485, 0.040641711229946524, 0.06292984869325997, 0.02468427095292767, 0.04452296819787986, 0.00796812749003984, 0.03524945770065076, 0.06802721088435375, 0.02459016393442623, 0.019748653500897665, 0.038953811908736785, 0.05802047781569966, 0.0957983193277311, 0.05642023346303502, 0.06001348617666891, 0.04674717569146864, 0.052244897959183675, 0.033442384587422755, 0.048635747919757465, 0.035978618421052634, 0.07578008915304606, 0.04131054131054131, 0.0369702434625789, 0.04389944819129368, 0.09578544061302682, 0.07389162561576355, 0.07072270508393856, 0.06917394224311618, 0.09679746105020196, 0.11782477341389729, 0.07815837029735502, 0.10123614663256607, 0.07679161444684972, 0.05021812413246084, 0.07581657792259397, 0.019553072625698324, 0.0746987951807229, 0.06204756980351603, 0.06565656565656566, 0.020114942528735632, 0.10104529616724739, 0.02626970227670753, 0.059813084112149535, 0.059726962457337884, 0.02493273542600897, 0.04612850082372323, 0.1200260078023407, 0.03201219512195122, 0.060158910329171394, 0.08784433055733504, 0.04318936877076412, 0.09110947832476121, 0.08848080133555926, 0.0578691184424013, 0.11577570566642757, 0.04768041237113402, 0.0023094688221709007, 0.03724247226624406, 0.0613196549312194, 0.014214046822742474, 0.045400710619818395, 0.07881773399014778, 0.0049813200498132005, 0.007761437908496732, 0.03361344537815126, 0.009900990099009901, 0.009900990099009901, 0.013461538461538462, 0.017797552836484983, 0.023383768913342505, 0.02604920405209841, 0.014492753623188406, 0.003968253968253968, 0.042105263157894736, 0.02411873840445269, 0.07258064516129033, 0.019656019656019656, 0.028187919463087248, 0.009574468085106383, 0.04081632653061224, 0.04195804195804196, 0.06097560975609756, 0.07939483197215157, 0.056207755247242974, 0.0029940119760479044, 0.008130081300813009, 0.015915119363395226, 0.012479094300784768, 0.006532663316582915, 0.006158583525789068, 0.022694210066918824, 0.025841346153846152, 0.07587835842928846, 0.045023696682464455, 0.061129568106312294, 0.04377104377104377, 0.07594086021505377, 0.10216984472206768, 0.08389766741911212, 0.07105263157894737, 0.04914248021108179, 0.1088334742180896, 0.07156099369670003, 0.07758575405788727, 0.11425959780621572, 0.07675466838377334, 0.0802855120339783, 0.0886778358766407, 0.11902680652680653, 0.10150414407039804, 0.07152941176470588, 0.1098546042003231, 0.15901639344262294, 0.08146033288786296, 0.1324345757335448, 0.033380681818181816, 0.008422664624808576, 0.03740648379052369, 0.06354642313546423, 0.009933774834437087, 0.0554283096655978, 0.07792207792207792, 0.046052631578947366, 0.03572267920094007, 0.08381427072402937, 0.06701030927835051, 0.051892609809316, 0.10661218424962852, 0.06844106463878327, 0.05471803461753211, 0.06163934426229508, 0.11379310344827587, 0.04477335800185014, 0.014218009478672985, 0.051194539249146756, 0.04881970328144413, 0.00881057268722467, 0.02905982905982906, 0.04363207547169811, 0.04757580826304093, 0.046461372231226365, 0.040701475144245804, 0.027266028002947678, 0.009628610729023384, 0.03861003861003861, 0.02269601100412655, 0.012808783165599268, 0.018779342723004695, 0.027516778523489934, 0.01276595744680851, 0.015665185877951834, 0.01049645390070922, 0.009696186166774402, 0.036001190121987506, 0.04032258064516129, 0.06219512195121951, 0.01015228426395939, 0.018094731240021287, 0.011485062150178091, 0.005105762217359592, 0.007518796992481203, 0.04708520179372197, 0.010273972602739725, 0.023071377072819033, 0.02925531914893617, 0.030855539971949508, 0.015216068167985392, 0.008502386634844868, 0.015447991761071062, 0.029142381348875937, 0.12130177514792899, 0.027309703660662404, 0.012755102040816327, 0.016055045871559634, 0.045317220543806644, 0.04496360648039446, 0.023255813953488372, 0.02768729641693811, 0.03947131810825391, 0.03, 0.032207629768605375, 0.039927404718693285, 0.022388059701492536, 0.06337371854613234, 0.10633088492479888, 0.12679045092838195, 0.058394160583941604, 0.06378600823045268, 0.015330705212439772, 0.12368972746331237, 0.013927576601671309, 0.09735269000853972, 0.09211106214191274, 0.07297830374753451, 0.027233115468409588, 0.14168937329700274, 0.11062906724511931, 0.0069767441860465115, 0.033112582781456956, 0.014767932489451477, 0.017167381974248927, 0.015341998721500107, 0.02954048140043764, 0.01107011070110701, 0.05952380952380952, 0.030407343660355707, 0.026726057906458798, 0.011627906976744186, 0.05263157894736842, 0.03551912568306011, 0.04419509961071674, 0.0992462311557789, 0.07660856466537551, 0.010752688172043012, 0.09511910711311011, 0.03282828282828283, 0.02654867256637168, 0.03404255319148936, 0.08473711077080143, 0.07158351409978309, 0.06586559857587895, 0.08916342151201827, 0.017167381974248927, 0.024539877300613498, 0.046511627906976744, 0.11949685534591195, 0.08002547229887497, 0.03347578347578348, 0.07208237986270023, 0.06008727760993622, 0.08547008547008547, 0.037267080745341616, 0.07623626373626374, 0.09395359469653675, 0.07856532877882152, 0.05997502570882915, 0.06143790849673202, 0.01639344262295082, 0.04252998909487459, 0.03325554259043174, 0.019130434782608695, 0.01762114537444934, 0.013348810214741729, 0.012578616352201259, 0.00761307657859382, 0.005405405405405406, 0.03753351206434316, 0.015675927363029644, 0.012487992315081652, 0.020918939110945087, 0.005597014925373134, 0.02080536912751678, 0.026876737720111215, 0.020689655172413793, 0.007121661721068249, 0.0158474348643567, 0.02922077922077922, 0.010714285714285714, 0.0044994375703037125, 0.010996892182644035, 0.011981865284974092, 0.006118286879673691, 0.010638297872340425, 0.011425135297654841, 0.01666407101697555, 0.011235955056179775, 0.03107658157602664, 0.009428032683846637, 0.015468607825295723, 0.007019438444924406, 0.009333107076192093, 0.007628734901462174, 0.01257396449704142, 0.021873074553296366, 0.01342451874366768, 0.01818181818181818, 0.014360528309344225, 0.010329424902289224, 0.011764705882352941, 0.014044943820224719, 0.0172927847346452, 0.013596193065941536, 0.009875567845151097, 0.010071942446043165, 0.01906158357771261, 0.0032292787944025836, 0.010337748668067843, 0.0032267527134056907, 0.016771202617943824, 0.011128284389489953, 0.005115089514066497, 0.005393743257820928, 0.01795109873104302, 0.006132282084975909, 0.018627450980392157, 0.013908205841446454, 0.007034220532319392, 0.0019723865877712033, 0.012892561983471074, 0.006013745704467354, 0.015698393077873917, 0.011254019292604502, 0.003896103896103896, 0.012081148848871666, 0.016643550624133148, 0.005474452554744526, 0.014100082941664363, 0.0036496350364963502, 0.009086911915579657, 0.00541299117882919, 0.060653188180404355, 0.01953125, 0.051421893260615505, 0.019626769626769628, 0.03479417530103612, 0.06753812636165578, 0.06201834862385321, 0.02292197267886085, 0.020163913100039028, 0.029245283018867925, 0.005780346820809248, 0.023563455973542785, 0.019695613249776187, 0.009433962264150943, 0.015174506828528073, 0.010861132660977503, 0.014144877839691384, 0.019392372333548805, 0.04122766834631241, 0.030876494023904383, 0.055346352570277604, 0.007434944237918215, 0.03706176961602671, 0.028021015761821366, 0.046609059963341186, 0.023218142548596114, 0.025806451612903226, 0.05805515239477504, 0.022623284189120487, 0.019342359767891684, 0.052083333333333336, 0.011933174224343675, 0.013768812039705411, 0.012443438914027148, 0.0031847133757961785, 0.01694915254237288, 0.026410564225690276, 0.004166666666666667, 0.03052906797908336, 0.01507537688442211, 0.02833478639930253, 0.024439918533604887, 0.01509433962264151, 0.024896265560165973, 0.0368763557483731, 0.025557011795543906, 0.01740294511378849]}],\n",
       "                        {\"paper_bgcolor\": \"rgb(243, 243, 243)\", \"plot_bgcolor\": \"rgb(243, 243, 243)\", \"template\": {\"data\": {\"bar\": [{\"error_x\": {\"color\": \"#2a3f5f\"}, \"error_y\": {\"color\": \"#2a3f5f\"}, \"marker\": {\"line\": {\"color\": \"#E5ECF6\", \"width\": 0.5}}, \"type\": \"bar\"}], \"barpolar\": [{\"marker\": {\"line\": {\"color\": \"#E5ECF6\", \"width\": 0.5}}, \"type\": \"barpolar\"}], \"carpet\": [{\"aaxis\": {\"endlinecolor\": \"#2a3f5f\", \"gridcolor\": \"white\", \"linecolor\": \"white\", \"minorgridcolor\": \"white\", \"startlinecolor\": \"#2a3f5f\"}, \"baxis\": {\"endlinecolor\": \"#2a3f5f\", \"gridcolor\": \"white\", \"linecolor\": \"white\", \"minorgridcolor\": \"white\", \"startlinecolor\": \"#2a3f5f\"}, \"type\": \"carpet\"}], \"choropleth\": [{\"colorbar\": {\"outlinewidth\": 0, \"ticks\": \"\"}, \"type\": \"choropleth\"}], \"contour\": [{\"colorbar\": {\"outlinewidth\": 0, \"ticks\": \"\"}, \"colorscale\": [[0.0, \"#0d0887\"], [0.1111111111111111, \"#46039f\"], [0.2222222222222222, \"#7201a8\"], [0.3333333333333333, \"#9c179e\"], [0.4444444444444444, \"#bd3786\"], [0.5555555555555556, \"#d8576b\"], [0.6666666666666666, \"#ed7953\"], [0.7777777777777778, \"#fb9f3a\"], [0.8888888888888888, \"#fdca26\"], [1.0, \"#f0f921\"]], \"type\": \"contour\"}], \"contourcarpet\": [{\"colorbar\": {\"outlinewidth\": 0, \"ticks\": \"\"}, \"type\": \"contourcarpet\"}], \"heatmap\": [{\"colorbar\": {\"outlinewidth\": 0, \"ticks\": \"\"}, \"colorscale\": [[0.0, \"#0d0887\"], [0.1111111111111111, \"#46039f\"], [0.2222222222222222, \"#7201a8\"], [0.3333333333333333, \"#9c179e\"], [0.4444444444444444, \"#bd3786\"], [0.5555555555555556, \"#d8576b\"], [0.6666666666666666, \"#ed7953\"], [0.7777777777777778, \"#fb9f3a\"], [0.8888888888888888, \"#fdca26\"], [1.0, \"#f0f921\"]], \"type\": \"heatmap\"}], \"heatmapgl\": [{\"colorbar\": {\"outlinewidth\": 0, \"ticks\": \"\"}, \"colorscale\": [[0.0, \"#0d0887\"], [0.1111111111111111, \"#46039f\"], [0.2222222222222222, \"#7201a8\"], [0.3333333333333333, \"#9c179e\"], [0.4444444444444444, \"#bd3786\"], [0.5555555555555556, \"#d8576b\"], [0.6666666666666666, \"#ed7953\"], [0.7777777777777778, \"#fb9f3a\"], [0.8888888888888888, \"#fdca26\"], [1.0, \"#f0f921\"]], \"type\": \"heatmapgl\"}], \"histogram\": [{\"marker\": {\"colorbar\": {\"outlinewidth\": 0, \"ticks\": \"\"}}, \"type\": \"histogram\"}], \"histogram2d\": [{\"colorbar\": {\"outlinewidth\": 0, \"ticks\": \"\"}, \"colorscale\": [[0.0, \"#0d0887\"], [0.1111111111111111, \"#46039f\"], [0.2222222222222222, \"#7201a8\"], [0.3333333333333333, \"#9c179e\"], [0.4444444444444444, \"#bd3786\"], [0.5555555555555556, \"#d8576b\"], [0.6666666666666666, \"#ed7953\"], [0.7777777777777778, \"#fb9f3a\"], [0.8888888888888888, \"#fdca26\"], [1.0, \"#f0f921\"]], \"type\": \"histogram2d\"}], \"histogram2dcontour\": [{\"colorbar\": {\"outlinewidth\": 0, \"ticks\": \"\"}, \"colorscale\": [[0.0, \"#0d0887\"], [0.1111111111111111, \"#46039f\"], [0.2222222222222222, \"#7201a8\"], [0.3333333333333333, \"#9c179e\"], [0.4444444444444444, \"#bd3786\"], [0.5555555555555556, \"#d8576b\"], [0.6666666666666666, \"#ed7953\"], [0.7777777777777778, \"#fb9f3a\"], [0.8888888888888888, \"#fdca26\"], [1.0, \"#f0f921\"]], \"type\": \"histogram2dcontour\"}], \"mesh3d\": [{\"colorbar\": {\"outlinewidth\": 0, \"ticks\": \"\"}, \"type\": \"mesh3d\"}], \"parcoords\": [{\"line\": {\"colorbar\": {\"outlinewidth\": 0, \"ticks\": \"\"}}, \"type\": \"parcoords\"}], \"pie\": [{\"automargin\": true, \"type\": \"pie\"}], \"scatter\": [{\"marker\": {\"colorbar\": {\"outlinewidth\": 0, \"ticks\": \"\"}}, \"type\": \"scatter\"}], \"scatter3d\": [{\"line\": {\"colorbar\": {\"outlinewidth\": 0, \"ticks\": \"\"}}, \"marker\": {\"colorbar\": {\"outlinewidth\": 0, \"ticks\": \"\"}}, \"type\": \"scatter3d\"}], \"scattercarpet\": [{\"marker\": {\"colorbar\": {\"outlinewidth\": 0, \"ticks\": \"\"}}, \"type\": \"scattercarpet\"}], \"scattergeo\": [{\"marker\": {\"colorbar\": {\"outlinewidth\": 0, \"ticks\": \"\"}}, \"type\": \"scattergeo\"}], \"scattergl\": [{\"marker\": {\"colorbar\": {\"outlinewidth\": 0, \"ticks\": \"\"}}, \"type\": \"scattergl\"}], \"scattermapbox\": [{\"marker\": {\"colorbar\": {\"outlinewidth\": 0, \"ticks\": \"\"}}, \"type\": \"scattermapbox\"}], \"scatterpolar\": [{\"marker\": {\"colorbar\": {\"outlinewidth\": 0, \"ticks\": \"\"}}, \"type\": \"scatterpolar\"}], \"scatterpolargl\": [{\"marker\": {\"colorbar\": {\"outlinewidth\": 0, \"ticks\": \"\"}}, \"type\": \"scatterpolargl\"}], \"scatterternary\": [{\"marker\": {\"colorbar\": {\"outlinewidth\": 0, \"ticks\": \"\"}}, \"type\": \"scatterternary\"}], \"surface\": [{\"colorbar\": {\"outlinewidth\": 0, \"ticks\": \"\"}, \"colorscale\": [[0.0, \"#0d0887\"], [0.1111111111111111, \"#46039f\"], [0.2222222222222222, \"#7201a8\"], [0.3333333333333333, \"#9c179e\"], [0.4444444444444444, \"#bd3786\"], [0.5555555555555556, \"#d8576b\"], [0.6666666666666666, \"#ed7953\"], [0.7777777777777778, \"#fb9f3a\"], [0.8888888888888888, \"#fdca26\"], [1.0, \"#f0f921\"]], \"type\": \"surface\"}], \"table\": [{\"cells\": {\"fill\": {\"color\": \"#EBF0F8\"}, \"line\": {\"color\": \"white\"}}, \"header\": {\"fill\": {\"color\": \"#C8D4E3\"}, \"line\": {\"color\": \"white\"}}, \"type\": \"table\"}]}, \"layout\": {\"annotationdefaults\": {\"arrowcolor\": \"#2a3f5f\", \"arrowhead\": 0, \"arrowwidth\": 1}, \"coloraxis\": {\"colorbar\": {\"outlinewidth\": 0, \"ticks\": \"\"}}, \"colorscale\": {\"diverging\": [[0, \"#8e0152\"], [0.1, \"#c51b7d\"], [0.2, \"#de77ae\"], [0.3, \"#f1b6da\"], [0.4, \"#fde0ef\"], [0.5, \"#f7f7f7\"], [0.6, \"#e6f5d0\"], [0.7, \"#b8e186\"], [0.8, \"#7fbc41\"], [0.9, \"#4d9221\"], [1, \"#276419\"]], \"sequential\": [[0.0, \"#0d0887\"], [0.1111111111111111, \"#46039f\"], [0.2222222222222222, \"#7201a8\"], [0.3333333333333333, \"#9c179e\"], [0.4444444444444444, \"#bd3786\"], [0.5555555555555556, \"#d8576b\"], [0.6666666666666666, \"#ed7953\"], [0.7777777777777778, \"#fb9f3a\"], [0.8888888888888888, \"#fdca26\"], [1.0, \"#f0f921\"]], \"sequentialminus\": [[0.0, \"#0d0887\"], [0.1111111111111111, \"#46039f\"], [0.2222222222222222, \"#7201a8\"], [0.3333333333333333, \"#9c179e\"], [0.4444444444444444, \"#bd3786\"], [0.5555555555555556, \"#d8576b\"], [0.6666666666666666, \"#ed7953\"], [0.7777777777777778, \"#fb9f3a\"], [0.8888888888888888, \"#fdca26\"], [1.0, \"#f0f921\"]]}, \"colorway\": [\"#636efa\", \"#EF553B\", \"#00cc96\", \"#ab63fa\", \"#FFA15A\", \"#19d3f3\", \"#FF6692\", \"#B6E880\", \"#FF97FF\", \"#FECB52\"], \"font\": {\"color\": \"#2a3f5f\"}, \"geo\": {\"bgcolor\": \"white\", \"lakecolor\": \"white\", \"landcolor\": \"#E5ECF6\", \"showlakes\": true, \"showland\": true, \"subunitcolor\": \"white\"}, \"hoverlabel\": {\"align\": \"left\"}, \"hovermode\": \"closest\", \"mapbox\": {\"style\": \"light\"}, \"paper_bgcolor\": \"white\", \"plot_bgcolor\": \"#E5ECF6\", \"polar\": {\"angularaxis\": {\"gridcolor\": \"white\", \"linecolor\": \"white\", \"ticks\": \"\"}, \"bgcolor\": \"#E5ECF6\", \"radialaxis\": {\"gridcolor\": \"white\", \"linecolor\": \"white\", \"ticks\": \"\"}}, \"scene\": {\"xaxis\": {\"backgroundcolor\": \"#E5ECF6\", \"gridcolor\": \"white\", \"gridwidth\": 2, \"linecolor\": \"white\", \"showbackground\": true, \"ticks\": \"\", \"zerolinecolor\": \"white\"}, \"yaxis\": {\"backgroundcolor\": \"#E5ECF6\", \"gridcolor\": \"white\", \"gridwidth\": 2, \"linecolor\": \"white\", \"showbackground\": true, \"ticks\": \"\", \"zerolinecolor\": \"white\"}, \"zaxis\": {\"backgroundcolor\": \"#E5ECF6\", \"gridcolor\": \"white\", \"gridwidth\": 2, \"linecolor\": \"white\", \"showbackground\": true, \"ticks\": \"\", \"zerolinecolor\": \"white\"}}, \"shapedefaults\": {\"line\": {\"color\": \"#2a3f5f\"}}, \"ternary\": {\"aaxis\": {\"gridcolor\": \"white\", \"linecolor\": \"white\", \"ticks\": \"\"}, \"baxis\": {\"gridcolor\": \"white\", \"linecolor\": \"white\", \"ticks\": \"\"}, \"bgcolor\": \"#E5ECF6\", \"caxis\": {\"gridcolor\": \"white\", \"linecolor\": \"white\", \"ticks\": \"\"}}, \"title\": {\"x\": 0.05}, \"xaxis\": {\"automargin\": true, \"gridcolor\": \"white\", \"linecolor\": \"white\", \"ticks\": \"\", \"title\": {\"standoff\": 15}, \"zerolinecolor\": \"white\", \"zerolinewidth\": 2}, \"yaxis\": {\"automargin\": true, \"gridcolor\": \"white\", \"linecolor\": \"white\", \"ticks\": \"\", \"title\": {\"standoff\": 15}, \"zerolinecolor\": \"white\", \"zerolinewidth\": 2}}}, \"title\": {\"text\": \"Case-Fatality Ratiovs. MMR (7/9/20, pop >100000)\"}, \"xaxis\": {\"gridcolor\": \"white\", \"gridwidth\": 2, \"title\": {\"text\": \"MMR\"}}, \"yaxis\": {\"gridcolor\": \"white\", \"gridwidth\": 2, \"title\": {\"text\": \"Case-Fatality Ratio\"}}},\n",
       "                        {\"responsive\": true}\n",
       "                    ).then(function(){\n",
       "                            \n",
       "var gd = document.getElementById('16b8710e-2371-4ae0-8403-be6c9fe208c7');\n",
       "var x = new MutationObserver(function (mutations, observer) {{\n",
       "        var display = window.getComputedStyle(gd).display;\n",
       "        if (!display || display === 'none') {{\n",
       "            console.log([gd, 'removed!']);\n",
       "            Plotly.purge(gd);\n",
       "            observer.disconnect();\n",
       "        }}\n",
       "}});\n",
       "\n",
       "// Listen for the removal of the full notebook cells\n",
       "var notebookContainer = gd.closest('#notebook-container');\n",
       "if (notebookContainer) {{\n",
       "    x.observe(notebookContainer, {childList: true});\n",
       "}}\n",
       "\n",
       "// Listen for the clearing of the current output cell\n",
       "var outputEl = gd.closest('.output');\n",
       "if (outputEl) {{\n",
       "    x.observe(outputEl, {childList: true});\n",
       "}}\n",
       "\n",
       "                        })\n",
       "                };\n",
       "                });\n",
       "            </script>\n",
       "        </div>"
      ]
     },
     "metadata": {},
     "output_type": "display_data"
    }
   ],
   "source": [
    "generate_fig(\"Case-Fatality Ratio\",selected_date,100000).show()    "
   ]
  },
  {
   "cell_type": "code",
   "execution_count": 49,
   "metadata": {},
   "outputs": [],
   "source": [
    "with open('covid_mmr_' + t.strftime('%m%d%y%H%M')+'.html', 'a') as f:\n",
    "    f.write(generate_fig(\"Case-Fatality Ratio\",selected_date,200000).to_html(full_html=False, include_plotlyjs='cdn'))"
   ]
  },
  {
   "cell_type": "code",
   "execution_count": null,
   "metadata": {},
   "outputs": [],
   "source": []
  },
  {
   "cell_type": "markdown",
   "metadata": {},
   "source": [
    "### State level comparison"
   ]
  },
  {
   "cell_type": "code",
   "execution_count": 40,
   "metadata": {},
   "outputs": [
    {
     "name": "stdout",
     "output_type": "stream",
     "text": [
      "51\n"
     ]
    },
    {
     "data": {
      "text/html": [
       "<div>\n",
       "<style scoped>\n",
       "    .dataframe tbody tr th:only-of-type {\n",
       "        vertical-align: middle;\n",
       "    }\n",
       "\n",
       "    .dataframe tbody tr th {\n",
       "        vertical-align: top;\n",
       "    }\n",
       "\n",
       "    .dataframe thead th {\n",
       "        text-align: right;\n",
       "    }\n",
       "</style>\n",
       "<table border=\"1\" class=\"dataframe\">\n",
       "  <thead>\n",
       "    <tr style=\"text-align: right;\">\n",
       "      <th></th>\n",
       "      <th>Province_State</th>\n",
       "      <th>Country_Region</th>\n",
       "      <th>Last_Update</th>\n",
       "      <th>Lat</th>\n",
       "      <th>Long_</th>\n",
       "      <th>Confirmed</th>\n",
       "      <th>Deaths</th>\n",
       "      <th>Recovered</th>\n",
       "      <th>Active</th>\n",
       "      <th>FIPS</th>\n",
       "      <th>...</th>\n",
       "      <th>People_Hospitalized</th>\n",
       "      <th>Mortality_Rate</th>\n",
       "      <th>UID</th>\n",
       "      <th>ISO3</th>\n",
       "      <th>Testing_Rate</th>\n",
       "      <th>Hospitalization_Rate</th>\n",
       "      <th>State</th>\n",
       "      <th>Abbr</th>\n",
       "      <th>VR</th>\n",
       "      <th>UVR</th>\n",
       "    </tr>\n",
       "  </thead>\n",
       "  <tbody>\n",
       "    <tr>\n",
       "      <td>0</td>\n",
       "      <td>Alabama</td>\n",
       "      <td>US</td>\n",
       "      <td>7/21/2020 4:38</td>\n",
       "      <td>32.3182</td>\n",
       "      <td>-86.9023</td>\n",
       "      <td>68891</td>\n",
       "      <td>1291</td>\n",
       "      <td>29736.0</td>\n",
       "      <td>37864</td>\n",
       "      <td>1</td>\n",
       "      <td>...</td>\n",
       "      <td>8368.0</td>\n",
       "      <td>1.873975</td>\n",
       "      <td>84000001</td>\n",
       "      <td>USA</td>\n",
       "      <td>12110.25079</td>\n",
       "      <td>12.146725</td>\n",
       "      <td>Alabama</td>\n",
       "      <td>AL</td>\n",
       "      <td>0.906</td>\n",
       "      <td>0.094</td>\n",
       "    </tr>\n",
       "    <tr>\n",
       "      <td>1</td>\n",
       "      <td>Alaska</td>\n",
       "      <td>US</td>\n",
       "      <td>7/21/2020 4:38</td>\n",
       "      <td>61.3707</td>\n",
       "      <td>-152.4044</td>\n",
       "      <td>1950</td>\n",
       "      <td>18</td>\n",
       "      <td>712.0</td>\n",
       "      <td>1220</td>\n",
       "      <td>2</td>\n",
       "      <td>...</td>\n",
       "      <td>NaN</td>\n",
       "      <td>0.923077</td>\n",
       "      <td>84000002</td>\n",
       "      <td>USA</td>\n",
       "      <td>24002.07779</td>\n",
       "      <td>NaN</td>\n",
       "      <td>Alaska</td>\n",
       "      <td>AK</td>\n",
       "      <td>NaN</td>\n",
       "      <td>NaN</td>\n",
       "    </tr>\n",
       "    <tr>\n",
       "      <td>2</td>\n",
       "      <td>Arizona</td>\n",
       "      <td>US</td>\n",
       "      <td>7/21/2020 4:38</td>\n",
       "      <td>33.7298</td>\n",
       "      <td>-111.4312</td>\n",
       "      <td>145183</td>\n",
       "      <td>2784</td>\n",
       "      <td>18518.0</td>\n",
       "      <td>123881</td>\n",
       "      <td>4</td>\n",
       "      <td>...</td>\n",
       "      <td>6698.0</td>\n",
       "      <td>1.917580</td>\n",
       "      <td>84000004</td>\n",
       "      <td>USA</td>\n",
       "      <td>10901.96253</td>\n",
       "      <td>4.613488</td>\n",
       "      <td>Arizona</td>\n",
       "      <td>AZ</td>\n",
       "      <td>0.929</td>\n",
       "      <td>0.071</td>\n",
       "    </tr>\n",
       "  </tbody>\n",
       "</table>\n",
       "<p>3 rows × 22 columns</p>\n",
       "</div>"
      ],
      "text/plain": [
       "  Province_State Country_Region     Last_Update      Lat     Long_  Confirmed  \\\n",
       "0        Alabama             US  7/21/2020 4:38  32.3182  -86.9023      68891   \n",
       "1         Alaska             US  7/21/2020 4:38  61.3707 -152.4044       1950   \n",
       "2        Arizona             US  7/21/2020 4:38  33.7298 -111.4312     145183   \n",
       "\n",
       "   Deaths  Recovered  Active  FIPS  ...  People_Hospitalized  Mortality_Rate  \\\n",
       "0    1291    29736.0   37864     1  ...               8368.0        1.873975   \n",
       "1      18      712.0    1220     2  ...                  NaN        0.923077   \n",
       "2    2784    18518.0  123881     4  ...               6698.0        1.917580   \n",
       "\n",
       "        UID  ISO3  Testing_Rate Hospitalization_Rate    State  Abbr     VR  \\\n",
       "0  84000001   USA   12110.25079            12.146725  Alabama    AL  0.906   \n",
       "1  84000002   USA   24002.07779                  NaN   Alaska    AK    NaN   \n",
       "2  84000004   USA   10901.96253             4.613488  Arizona    AZ  0.929   \n",
       "\n",
       "     UVR  \n",
       "0  0.094  \n",
       "1    NaN  \n",
       "2  0.071  \n",
       "\n",
       "[3 rows x 22 columns]"
      ]
     },
     "execution_count": 40,
     "metadata": {},
     "output_type": "execute_result"
    }
   ],
   "source": [
    "# data: cases at the county level\n",
    "in_table = r'07-20-2020.csv' #r'time_series_covid19_confirmed_US.csv'\n",
    "state_df = pd.read_csv(in_table)\n",
    "print(len(state_df))\n",
    "state_df.head(3)"
   ]
  },
  {
   "cell_type": "code",
   "execution_count": 41,
   "metadata": {},
   "outputs": [
    {
     "data": {
      "application/vnd.plotly.v1+json": {
       "config": {
        "plotlyServerURL": "https://plot.ly"
       },
       "data": [
        {
         "hoverlabel": {
          "namelength": 0
         },
         "hovertemplate": "Incident_Rate=%{x}<br>VR=%{y}<br>State=%{text}",
         "legendgroup": "",
         "marker": {
          "color": "#636efa",
          "symbol": "circle"
         },
         "mode": "markers+text",
         "name": "",
         "showlegend": false,
         "text": [
          "Alabama",
          "Alaska",
          "Arizona",
          "Arkansas",
          "California",
          "Colorado",
          "Connecticut",
          "Delaware",
          "District of Columbia",
          "Florida",
          "Georgia",
          "Hawaii",
          "Idaho",
          "Illinois",
          "Indiana",
          "Iowa",
          "Kansas",
          "Kentucky",
          "Louisiana",
          "Maine",
          "Maryland",
          "Massachusetts",
          "Michigan",
          "Minnesota",
          "Mississippi",
          "Missouri",
          "Montana",
          "Nebraska",
          "Nevada",
          "New Hampshire",
          "New Jersey",
          "New Mexico",
          "New York",
          "North Carolina",
          "North Dakota",
          "Ohio",
          "Oklahoma",
          "Oregon ",
          "Pennsylvania",
          "Rhode Island",
          "South Carolina",
          "South Dakota",
          "Tennessee",
          "Texas",
          "Utah",
          "Vermont",
          "Virginia",
          "Washington",
          "West Virginia",
          "Wisconsin",
          "Wyoming"
         ],
         "textposition": "top center",
         "type": "scatter",
         "x": [
          1405.025509,
          266.55913169999997,
          1994.623503,
          1124.228081,
          1006.954228,
          704.112847,
          1347.8578300000001,
          1399.1069699999998,
          1606.661859,
          1677.9887010000002,
          1371.161345,
          98.38459974,
          854.3617608,
          1293.594662,
          849.7346863,
          1246.977088,
          777.6710646,
          524.0759563,
          2041.2175719999998,
          276.0725243,
          1301.507854,
          1650.909691,
          825.0343426,
          835.2849973,
          1474.690951,
          555.6399195,
          245.1397765,
          1181.084859,
          1191.920149,
          459.58295549999997,
          1992.335224,
          821.0016172,
          2093.83773,
          965.2001262,
          672.6486821000001,
          651.6156077,
          642.8149208,
          352.0134138,
          794.7046353999999,
          1690.075432,
          1387.628056,
          897.8600794,
          1167.842553,
          1185.627021,
          1076.9323869999998,
          217.95256009999997,
          918.2218445,
          626.9687571000001,
          283.6820863,
          738.8319042999999,
          377.877493
         ],
         "xaxis": "x",
         "y": [
          0.9059999999999999,
          null,
          0.929,
          0.9420000000000001,
          0.965,
          0.8740000000000001,
          0.9590000000000001,
          0.978,
          null,
          0.938,
          0.9359999999999999,
          0.915,
          0.895,
          0.9470000000000001,
          0.912,
          0.9329999999999999,
          0.9079999999999999,
          0.934,
          0.955,
          0.938,
          0.9740000000000001,
          0.9690000000000001,
          0.946,
          0.9259999999999999,
          0.992,
          0.948,
          0.9329999999999999,
          0.9690000000000001,
          0.951,
          0.9179999999999999,
          0.95,
          0.961,
          0.972,
          0.932,
          0.9359999999999999,
          0.9159999999999999,
          0.922,
          0.93,
          0.9640000000000001,
          0.9740000000000001,
          0.9420000000000001,
          0.9620000000000001,
          0.965,
          0.9690000000000001,
          0.9279999999999999,
          0.93,
          0.95,
          0.9079999999999999,
          0.988,
          0.9259999999999999,
          0.951
         ],
         "yaxis": "y"
        }
       ],
       "layout": {
        "legend": {
         "tracegroupgap": 0
        },
        "margin": {
         "t": 60
        },
        "paper_bgcolor": "rgb(243, 243, 243)",
        "plot_bgcolor": "rgb(243, 243, 243)",
        "template": {
         "data": {
          "bar": [
           {
            "error_x": {
             "color": "#2a3f5f"
            },
            "error_y": {
             "color": "#2a3f5f"
            },
            "marker": {
             "line": {
              "color": "#E5ECF6",
              "width": 0.5
             }
            },
            "type": "bar"
           }
          ],
          "barpolar": [
           {
            "marker": {
             "line": {
              "color": "#E5ECF6",
              "width": 0.5
             }
            },
            "type": "barpolar"
           }
          ],
          "carpet": [
           {
            "aaxis": {
             "endlinecolor": "#2a3f5f",
             "gridcolor": "white",
             "linecolor": "white",
             "minorgridcolor": "white",
             "startlinecolor": "#2a3f5f"
            },
            "baxis": {
             "endlinecolor": "#2a3f5f",
             "gridcolor": "white",
             "linecolor": "white",
             "minorgridcolor": "white",
             "startlinecolor": "#2a3f5f"
            },
            "type": "carpet"
           }
          ],
          "choropleth": [
           {
            "colorbar": {
             "outlinewidth": 0,
             "ticks": ""
            },
            "type": "choropleth"
           }
          ],
          "contour": [
           {
            "colorbar": {
             "outlinewidth": 0,
             "ticks": ""
            },
            "colorscale": [
             [
              0,
              "#0d0887"
             ],
             [
              0.1111111111111111,
              "#46039f"
             ],
             [
              0.2222222222222222,
              "#7201a8"
             ],
             [
              0.3333333333333333,
              "#9c179e"
             ],
             [
              0.4444444444444444,
              "#bd3786"
             ],
             [
              0.5555555555555556,
              "#d8576b"
             ],
             [
              0.6666666666666666,
              "#ed7953"
             ],
             [
              0.7777777777777778,
              "#fb9f3a"
             ],
             [
              0.8888888888888888,
              "#fdca26"
             ],
             [
              1,
              "#f0f921"
             ]
            ],
            "type": "contour"
           }
          ],
          "contourcarpet": [
           {
            "colorbar": {
             "outlinewidth": 0,
             "ticks": ""
            },
            "type": "contourcarpet"
           }
          ],
          "heatmap": [
           {
            "colorbar": {
             "outlinewidth": 0,
             "ticks": ""
            },
            "colorscale": [
             [
              0,
              "#0d0887"
             ],
             [
              0.1111111111111111,
              "#46039f"
             ],
             [
              0.2222222222222222,
              "#7201a8"
             ],
             [
              0.3333333333333333,
              "#9c179e"
             ],
             [
              0.4444444444444444,
              "#bd3786"
             ],
             [
              0.5555555555555556,
              "#d8576b"
             ],
             [
              0.6666666666666666,
              "#ed7953"
             ],
             [
              0.7777777777777778,
              "#fb9f3a"
             ],
             [
              0.8888888888888888,
              "#fdca26"
             ],
             [
              1,
              "#f0f921"
             ]
            ],
            "type": "heatmap"
           }
          ],
          "heatmapgl": [
           {
            "colorbar": {
             "outlinewidth": 0,
             "ticks": ""
            },
            "colorscale": [
             [
              0,
              "#0d0887"
             ],
             [
              0.1111111111111111,
              "#46039f"
             ],
             [
              0.2222222222222222,
              "#7201a8"
             ],
             [
              0.3333333333333333,
              "#9c179e"
             ],
             [
              0.4444444444444444,
              "#bd3786"
             ],
             [
              0.5555555555555556,
              "#d8576b"
             ],
             [
              0.6666666666666666,
              "#ed7953"
             ],
             [
              0.7777777777777778,
              "#fb9f3a"
             ],
             [
              0.8888888888888888,
              "#fdca26"
             ],
             [
              1,
              "#f0f921"
             ]
            ],
            "type": "heatmapgl"
           }
          ],
          "histogram": [
           {
            "marker": {
             "colorbar": {
              "outlinewidth": 0,
              "ticks": ""
             }
            },
            "type": "histogram"
           }
          ],
          "histogram2d": [
           {
            "colorbar": {
             "outlinewidth": 0,
             "ticks": ""
            },
            "colorscale": [
             [
              0,
              "#0d0887"
             ],
             [
              0.1111111111111111,
              "#46039f"
             ],
             [
              0.2222222222222222,
              "#7201a8"
             ],
             [
              0.3333333333333333,
              "#9c179e"
             ],
             [
              0.4444444444444444,
              "#bd3786"
             ],
             [
              0.5555555555555556,
              "#d8576b"
             ],
             [
              0.6666666666666666,
              "#ed7953"
             ],
             [
              0.7777777777777778,
              "#fb9f3a"
             ],
             [
              0.8888888888888888,
              "#fdca26"
             ],
             [
              1,
              "#f0f921"
             ]
            ],
            "type": "histogram2d"
           }
          ],
          "histogram2dcontour": [
           {
            "colorbar": {
             "outlinewidth": 0,
             "ticks": ""
            },
            "colorscale": [
             [
              0,
              "#0d0887"
             ],
             [
              0.1111111111111111,
              "#46039f"
             ],
             [
              0.2222222222222222,
              "#7201a8"
             ],
             [
              0.3333333333333333,
              "#9c179e"
             ],
             [
              0.4444444444444444,
              "#bd3786"
             ],
             [
              0.5555555555555556,
              "#d8576b"
             ],
             [
              0.6666666666666666,
              "#ed7953"
             ],
             [
              0.7777777777777778,
              "#fb9f3a"
             ],
             [
              0.8888888888888888,
              "#fdca26"
             ],
             [
              1,
              "#f0f921"
             ]
            ],
            "type": "histogram2dcontour"
           }
          ],
          "mesh3d": [
           {
            "colorbar": {
             "outlinewidth": 0,
             "ticks": ""
            },
            "type": "mesh3d"
           }
          ],
          "parcoords": [
           {
            "line": {
             "colorbar": {
              "outlinewidth": 0,
              "ticks": ""
             }
            },
            "type": "parcoords"
           }
          ],
          "pie": [
           {
            "automargin": true,
            "type": "pie"
           }
          ],
          "scatter": [
           {
            "marker": {
             "colorbar": {
              "outlinewidth": 0,
              "ticks": ""
             }
            },
            "type": "scatter"
           }
          ],
          "scatter3d": [
           {
            "line": {
             "colorbar": {
              "outlinewidth": 0,
              "ticks": ""
             }
            },
            "marker": {
             "colorbar": {
              "outlinewidth": 0,
              "ticks": ""
             }
            },
            "type": "scatter3d"
           }
          ],
          "scattercarpet": [
           {
            "marker": {
             "colorbar": {
              "outlinewidth": 0,
              "ticks": ""
             }
            },
            "type": "scattercarpet"
           }
          ],
          "scattergeo": [
           {
            "marker": {
             "colorbar": {
              "outlinewidth": 0,
              "ticks": ""
             }
            },
            "type": "scattergeo"
           }
          ],
          "scattergl": [
           {
            "marker": {
             "colorbar": {
              "outlinewidth": 0,
              "ticks": ""
             }
            },
            "type": "scattergl"
           }
          ],
          "scattermapbox": [
           {
            "marker": {
             "colorbar": {
              "outlinewidth": 0,
              "ticks": ""
             }
            },
            "type": "scattermapbox"
           }
          ],
          "scatterpolar": [
           {
            "marker": {
             "colorbar": {
              "outlinewidth": 0,
              "ticks": ""
             }
            },
            "type": "scatterpolar"
           }
          ],
          "scatterpolargl": [
           {
            "marker": {
             "colorbar": {
              "outlinewidth": 0,
              "ticks": ""
             }
            },
            "type": "scatterpolargl"
           }
          ],
          "scatterternary": [
           {
            "marker": {
             "colorbar": {
              "outlinewidth": 0,
              "ticks": ""
             }
            },
            "type": "scatterternary"
           }
          ],
          "surface": [
           {
            "colorbar": {
             "outlinewidth": 0,
             "ticks": ""
            },
            "colorscale": [
             [
              0,
              "#0d0887"
             ],
             [
              0.1111111111111111,
              "#46039f"
             ],
             [
              0.2222222222222222,
              "#7201a8"
             ],
             [
              0.3333333333333333,
              "#9c179e"
             ],
             [
              0.4444444444444444,
              "#bd3786"
             ],
             [
              0.5555555555555556,
              "#d8576b"
             ],
             [
              0.6666666666666666,
              "#ed7953"
             ],
             [
              0.7777777777777778,
              "#fb9f3a"
             ],
             [
              0.8888888888888888,
              "#fdca26"
             ],
             [
              1,
              "#f0f921"
             ]
            ],
            "type": "surface"
           }
          ],
          "table": [
           {
            "cells": {
             "fill": {
              "color": "#EBF0F8"
             },
             "line": {
              "color": "white"
             }
            },
            "header": {
             "fill": {
              "color": "#C8D4E3"
             },
             "line": {
              "color": "white"
             }
            },
            "type": "table"
           }
          ]
         },
         "layout": {
          "annotationdefaults": {
           "arrowcolor": "#2a3f5f",
           "arrowhead": 0,
           "arrowwidth": 1
          },
          "coloraxis": {
           "colorbar": {
            "outlinewidth": 0,
            "ticks": ""
           }
          },
          "colorscale": {
           "diverging": [
            [
             0,
             "#8e0152"
            ],
            [
             0.1,
             "#c51b7d"
            ],
            [
             0.2,
             "#de77ae"
            ],
            [
             0.3,
             "#f1b6da"
            ],
            [
             0.4,
             "#fde0ef"
            ],
            [
             0.5,
             "#f7f7f7"
            ],
            [
             0.6,
             "#e6f5d0"
            ],
            [
             0.7,
             "#b8e186"
            ],
            [
             0.8,
             "#7fbc41"
            ],
            [
             0.9,
             "#4d9221"
            ],
            [
             1,
             "#276419"
            ]
           ],
           "sequential": [
            [
             0,
             "#0d0887"
            ],
            [
             0.1111111111111111,
             "#46039f"
            ],
            [
             0.2222222222222222,
             "#7201a8"
            ],
            [
             0.3333333333333333,
             "#9c179e"
            ],
            [
             0.4444444444444444,
             "#bd3786"
            ],
            [
             0.5555555555555556,
             "#d8576b"
            ],
            [
             0.6666666666666666,
             "#ed7953"
            ],
            [
             0.7777777777777778,
             "#fb9f3a"
            ],
            [
             0.8888888888888888,
             "#fdca26"
            ],
            [
             1,
             "#f0f921"
            ]
           ],
           "sequentialminus": [
            [
             0,
             "#0d0887"
            ],
            [
             0.1111111111111111,
             "#46039f"
            ],
            [
             0.2222222222222222,
             "#7201a8"
            ],
            [
             0.3333333333333333,
             "#9c179e"
            ],
            [
             0.4444444444444444,
             "#bd3786"
            ],
            [
             0.5555555555555556,
             "#d8576b"
            ],
            [
             0.6666666666666666,
             "#ed7953"
            ],
            [
             0.7777777777777778,
             "#fb9f3a"
            ],
            [
             0.8888888888888888,
             "#fdca26"
            ],
            [
             1,
             "#f0f921"
            ]
           ]
          },
          "colorway": [
           "#636efa",
           "#EF553B",
           "#00cc96",
           "#ab63fa",
           "#FFA15A",
           "#19d3f3",
           "#FF6692",
           "#B6E880",
           "#FF97FF",
           "#FECB52"
          ],
          "font": {
           "color": "#2a3f5f"
          },
          "geo": {
           "bgcolor": "white",
           "lakecolor": "white",
           "landcolor": "#E5ECF6",
           "showlakes": true,
           "showland": true,
           "subunitcolor": "white"
          },
          "hoverlabel": {
           "align": "left"
          },
          "hovermode": "closest",
          "mapbox": {
           "style": "light"
          },
          "paper_bgcolor": "white",
          "plot_bgcolor": "#E5ECF6",
          "polar": {
           "angularaxis": {
            "gridcolor": "white",
            "linecolor": "white",
            "ticks": ""
           },
           "bgcolor": "#E5ECF6",
           "radialaxis": {
            "gridcolor": "white",
            "linecolor": "white",
            "ticks": ""
           }
          },
          "scene": {
           "xaxis": {
            "backgroundcolor": "#E5ECF6",
            "gridcolor": "white",
            "gridwidth": 2,
            "linecolor": "white",
            "showbackground": true,
            "ticks": "",
            "zerolinecolor": "white"
           },
           "yaxis": {
            "backgroundcolor": "#E5ECF6",
            "gridcolor": "white",
            "gridwidth": 2,
            "linecolor": "white",
            "showbackground": true,
            "ticks": "",
            "zerolinecolor": "white"
           },
           "zaxis": {
            "backgroundcolor": "#E5ECF6",
            "gridcolor": "white",
            "gridwidth": 2,
            "linecolor": "white",
            "showbackground": true,
            "ticks": "",
            "zerolinecolor": "white"
           }
          },
          "shapedefaults": {
           "line": {
            "color": "#2a3f5f"
           }
          },
          "ternary": {
           "aaxis": {
            "gridcolor": "white",
            "linecolor": "white",
            "ticks": ""
           },
           "baxis": {
            "gridcolor": "white",
            "linecolor": "white",
            "ticks": ""
           },
           "bgcolor": "#E5ECF6",
           "caxis": {
            "gridcolor": "white",
            "linecolor": "white",
            "ticks": ""
           }
          },
          "title": {
           "x": 0.05
          },
          "xaxis": {
           "automargin": true,
           "gridcolor": "white",
           "linecolor": "white",
           "ticks": "",
           "title": {
            "standoff": 15
           },
           "zerolinecolor": "white",
           "zerolinewidth": 2
          },
          "yaxis": {
           "automargin": true,
           "gridcolor": "white",
           "linecolor": "white",
           "ticks": "",
           "title": {
            "standoff": 15
           },
           "zerolinecolor": "white",
           "zerolinewidth": 2
          }
         }
        },
        "title": {
         "text": "Incidence Rate vs. MMR (State Level)"
        },
        "xaxis": {
         "anchor": "y",
         "domain": [
          0,
          1
         ],
         "gridcolor": "white",
         "gridwidth": 2,
         "title": {
          "text": "Incidence Rate (State)"
         }
        },
        "yaxis": {
         "anchor": "x",
         "domain": [
          0,
          1
         ],
         "gridcolor": "white",
         "gridwidth": 2,
         "title": {
          "text": "MMR"
         }
        }
       }
      },
      "text/html": [
       "<div>\n",
       "        \n",
       "        \n",
       "            <div id=\"23f6f020-8aaf-488a-8bd6-40a4ce517817\" class=\"plotly-graph-div\" style=\"height:525px; width:100%;\"></div>\n",
       "            <script type=\"text/javascript\">\n",
       "                require([\"plotly\"], function(Plotly) {\n",
       "                    window.PLOTLYENV=window.PLOTLYENV || {};\n",
       "                    \n",
       "                if (document.getElementById(\"23f6f020-8aaf-488a-8bd6-40a4ce517817\")) {\n",
       "                    Plotly.newPlot(\n",
       "                        '23f6f020-8aaf-488a-8bd6-40a4ce517817',\n",
       "                        [{\"hoverlabel\": {\"namelength\": 0}, \"hovertemplate\": \"Incident_Rate=%{x}<br>VR=%{y}<br>State=%{text}\", \"legendgroup\": \"\", \"marker\": {\"color\": \"#636efa\", \"symbol\": \"circle\"}, \"mode\": \"markers+text\", \"name\": \"\", \"showlegend\": false, \"text\": [\"Alabama\", \"Alaska\", \"Arizona\", \"Arkansas\", \"California\", \"Colorado\", \"Connecticut\", \"Delaware\", \"District of Columbia\", \"Florida\", \"Georgia\", \"Hawaii\", \"Idaho\", \"Illinois\", \"Indiana\", \"Iowa\", \"Kansas\", \"Kentucky\", \"Louisiana\", \"Maine\", \"Maryland\", \"Massachusetts\", \"Michigan\", \"Minnesota\", \"Mississippi\", \"Missouri\", \"Montana\", \"Nebraska\", \"Nevada\", \"New Hampshire\", \"New Jersey\", \"New Mexico\", \"New York\", \"North Carolina\", \"North Dakota\", \"Ohio\", \"Oklahoma\", \"Oregon \", \"Pennsylvania\", \"Rhode Island\", \"South Carolina\", \"South Dakota\", \"Tennessee\", \"Texas\", \"Utah\", \"Vermont\", \"Virginia\", \"Washington\", \"West Virginia\", \"Wisconsin\", \"Wyoming\"], \"textposition\": \"top center\", \"type\": \"scatter\", \"x\": [1405.025509, 266.55913169999997, 1994.623503, 1124.228081, 1006.954228, 704.112847, 1347.8578300000001, 1399.1069699999998, 1606.661859, 1677.9887010000002, 1371.161345, 98.38459974, 854.3617608, 1293.594662, 849.7346863, 1246.977088, 777.6710646, 524.0759563, 2041.2175719999998, 276.0725243, 1301.507854, 1650.909691, 825.0343426, 835.2849973, 1474.690951, 555.6399195, 245.1397765, 1181.084859, 1191.920149, 459.58295549999997, 1992.335224, 821.0016172, 2093.83773, 965.2001262, 672.6486821000001, 651.6156077, 642.8149208, 352.0134138, 794.7046353999999, 1690.075432, 1387.628056, 897.8600794, 1167.842553, 1185.627021, 1076.9323869999998, 217.95256009999997, 918.2218445, 626.9687571000001, 283.6820863, 738.8319042999999, 377.877493], \"xaxis\": \"x\", \"y\": [0.9059999999999999, null, 0.929, 0.9420000000000001, 0.965, 0.8740000000000001, 0.9590000000000001, 0.978, null, 0.938, 0.9359999999999999, 0.915, 0.895, 0.9470000000000001, 0.912, 0.9329999999999999, 0.9079999999999999, 0.934, 0.955, 0.938, 0.9740000000000001, 0.9690000000000001, 0.946, 0.9259999999999999, 0.992, 0.948, 0.9329999999999999, 0.9690000000000001, 0.951, 0.9179999999999999, 0.95, 0.961, 0.972, 0.932, 0.9359999999999999, 0.9159999999999999, 0.922, 0.93, 0.9640000000000001, 0.9740000000000001, 0.9420000000000001, 0.9620000000000001, 0.965, 0.9690000000000001, 0.9279999999999999, 0.93, 0.95, 0.9079999999999999, 0.988, 0.9259999999999999, 0.951], \"yaxis\": \"y\"}],\n",
       "                        {\"legend\": {\"tracegroupgap\": 0}, \"margin\": {\"t\": 60}, \"paper_bgcolor\": \"rgb(243, 243, 243)\", \"plot_bgcolor\": \"rgb(243, 243, 243)\", \"template\": {\"data\": {\"bar\": [{\"error_x\": {\"color\": \"#2a3f5f\"}, \"error_y\": {\"color\": \"#2a3f5f\"}, \"marker\": {\"line\": {\"color\": \"#E5ECF6\", \"width\": 0.5}}, \"type\": \"bar\"}], \"barpolar\": [{\"marker\": {\"line\": {\"color\": \"#E5ECF6\", \"width\": 0.5}}, \"type\": \"barpolar\"}], \"carpet\": [{\"aaxis\": {\"endlinecolor\": \"#2a3f5f\", \"gridcolor\": \"white\", \"linecolor\": \"white\", \"minorgridcolor\": \"white\", \"startlinecolor\": \"#2a3f5f\"}, \"baxis\": {\"endlinecolor\": \"#2a3f5f\", \"gridcolor\": \"white\", \"linecolor\": \"white\", \"minorgridcolor\": \"white\", \"startlinecolor\": \"#2a3f5f\"}, \"type\": \"carpet\"}], \"choropleth\": [{\"colorbar\": {\"outlinewidth\": 0, \"ticks\": \"\"}, \"type\": \"choropleth\"}], \"contour\": [{\"colorbar\": {\"outlinewidth\": 0, \"ticks\": \"\"}, \"colorscale\": [[0.0, \"#0d0887\"], [0.1111111111111111, \"#46039f\"], [0.2222222222222222, \"#7201a8\"], [0.3333333333333333, \"#9c179e\"], [0.4444444444444444, \"#bd3786\"], [0.5555555555555556, \"#d8576b\"], [0.6666666666666666, \"#ed7953\"], [0.7777777777777778, \"#fb9f3a\"], [0.8888888888888888, \"#fdca26\"], [1.0, \"#f0f921\"]], \"type\": \"contour\"}], \"contourcarpet\": [{\"colorbar\": {\"outlinewidth\": 0, \"ticks\": \"\"}, \"type\": \"contourcarpet\"}], \"heatmap\": [{\"colorbar\": {\"outlinewidth\": 0, \"ticks\": \"\"}, \"colorscale\": [[0.0, \"#0d0887\"], [0.1111111111111111, \"#46039f\"], [0.2222222222222222, \"#7201a8\"], [0.3333333333333333, \"#9c179e\"], [0.4444444444444444, \"#bd3786\"], [0.5555555555555556, \"#d8576b\"], [0.6666666666666666, \"#ed7953\"], [0.7777777777777778, \"#fb9f3a\"], [0.8888888888888888, \"#fdca26\"], [1.0, \"#f0f921\"]], \"type\": \"heatmap\"}], \"heatmapgl\": [{\"colorbar\": {\"outlinewidth\": 0, \"ticks\": \"\"}, \"colorscale\": [[0.0, \"#0d0887\"], [0.1111111111111111, \"#46039f\"], [0.2222222222222222, \"#7201a8\"], [0.3333333333333333, \"#9c179e\"], [0.4444444444444444, \"#bd3786\"], [0.5555555555555556, \"#d8576b\"], [0.6666666666666666, \"#ed7953\"], [0.7777777777777778, \"#fb9f3a\"], [0.8888888888888888, \"#fdca26\"], [1.0, \"#f0f921\"]], \"type\": \"heatmapgl\"}], \"histogram\": [{\"marker\": {\"colorbar\": {\"outlinewidth\": 0, \"ticks\": \"\"}}, \"type\": \"histogram\"}], \"histogram2d\": [{\"colorbar\": {\"outlinewidth\": 0, \"ticks\": \"\"}, \"colorscale\": [[0.0, \"#0d0887\"], [0.1111111111111111, \"#46039f\"], [0.2222222222222222, \"#7201a8\"], [0.3333333333333333, \"#9c179e\"], [0.4444444444444444, \"#bd3786\"], [0.5555555555555556, \"#d8576b\"], [0.6666666666666666, \"#ed7953\"], [0.7777777777777778, \"#fb9f3a\"], [0.8888888888888888, \"#fdca26\"], [1.0, \"#f0f921\"]], \"type\": \"histogram2d\"}], \"histogram2dcontour\": [{\"colorbar\": {\"outlinewidth\": 0, \"ticks\": \"\"}, \"colorscale\": [[0.0, \"#0d0887\"], [0.1111111111111111, \"#46039f\"], [0.2222222222222222, \"#7201a8\"], [0.3333333333333333, \"#9c179e\"], [0.4444444444444444, \"#bd3786\"], [0.5555555555555556, \"#d8576b\"], [0.6666666666666666, \"#ed7953\"], [0.7777777777777778, \"#fb9f3a\"], [0.8888888888888888, \"#fdca26\"], [1.0, \"#f0f921\"]], \"type\": \"histogram2dcontour\"}], \"mesh3d\": [{\"colorbar\": {\"outlinewidth\": 0, \"ticks\": \"\"}, \"type\": \"mesh3d\"}], \"parcoords\": [{\"line\": {\"colorbar\": {\"outlinewidth\": 0, \"ticks\": \"\"}}, \"type\": \"parcoords\"}], \"pie\": [{\"automargin\": true, \"type\": \"pie\"}], \"scatter\": [{\"marker\": {\"colorbar\": {\"outlinewidth\": 0, \"ticks\": \"\"}}, \"type\": \"scatter\"}], \"scatter3d\": [{\"line\": {\"colorbar\": {\"outlinewidth\": 0, \"ticks\": \"\"}}, \"marker\": {\"colorbar\": {\"outlinewidth\": 0, \"ticks\": \"\"}}, \"type\": \"scatter3d\"}], \"scattercarpet\": [{\"marker\": {\"colorbar\": {\"outlinewidth\": 0, \"ticks\": \"\"}}, \"type\": \"scattercarpet\"}], \"scattergeo\": [{\"marker\": {\"colorbar\": {\"outlinewidth\": 0, \"ticks\": \"\"}}, \"type\": \"scattergeo\"}], \"scattergl\": [{\"marker\": {\"colorbar\": {\"outlinewidth\": 0, \"ticks\": \"\"}}, \"type\": \"scattergl\"}], \"scattermapbox\": [{\"marker\": {\"colorbar\": {\"outlinewidth\": 0, \"ticks\": \"\"}}, \"type\": \"scattermapbox\"}], \"scatterpolar\": [{\"marker\": {\"colorbar\": {\"outlinewidth\": 0, \"ticks\": \"\"}}, \"type\": \"scatterpolar\"}], \"scatterpolargl\": [{\"marker\": {\"colorbar\": {\"outlinewidth\": 0, \"ticks\": \"\"}}, \"type\": \"scatterpolargl\"}], \"scatterternary\": [{\"marker\": {\"colorbar\": {\"outlinewidth\": 0, \"ticks\": \"\"}}, \"type\": \"scatterternary\"}], \"surface\": [{\"colorbar\": {\"outlinewidth\": 0, \"ticks\": \"\"}, \"colorscale\": [[0.0, \"#0d0887\"], [0.1111111111111111, \"#46039f\"], [0.2222222222222222, \"#7201a8\"], [0.3333333333333333, \"#9c179e\"], [0.4444444444444444, \"#bd3786\"], [0.5555555555555556, \"#d8576b\"], [0.6666666666666666, \"#ed7953\"], [0.7777777777777778, \"#fb9f3a\"], [0.8888888888888888, \"#fdca26\"], [1.0, \"#f0f921\"]], \"type\": \"surface\"}], \"table\": [{\"cells\": {\"fill\": {\"color\": \"#EBF0F8\"}, \"line\": {\"color\": \"white\"}}, \"header\": {\"fill\": {\"color\": \"#C8D4E3\"}, \"line\": {\"color\": \"white\"}}, \"type\": \"table\"}]}, \"layout\": {\"annotationdefaults\": {\"arrowcolor\": \"#2a3f5f\", \"arrowhead\": 0, \"arrowwidth\": 1}, \"coloraxis\": {\"colorbar\": {\"outlinewidth\": 0, \"ticks\": \"\"}}, \"colorscale\": {\"diverging\": [[0, \"#8e0152\"], [0.1, \"#c51b7d\"], [0.2, \"#de77ae\"], [0.3, \"#f1b6da\"], [0.4, \"#fde0ef\"], [0.5, \"#f7f7f7\"], [0.6, \"#e6f5d0\"], [0.7, \"#b8e186\"], [0.8, \"#7fbc41\"], [0.9, \"#4d9221\"], [1, \"#276419\"]], \"sequential\": [[0.0, \"#0d0887\"], [0.1111111111111111, \"#46039f\"], [0.2222222222222222, \"#7201a8\"], [0.3333333333333333, \"#9c179e\"], [0.4444444444444444, \"#bd3786\"], [0.5555555555555556, \"#d8576b\"], [0.6666666666666666, \"#ed7953\"], [0.7777777777777778, \"#fb9f3a\"], [0.8888888888888888, \"#fdca26\"], [1.0, \"#f0f921\"]], \"sequentialminus\": [[0.0, \"#0d0887\"], [0.1111111111111111, \"#46039f\"], [0.2222222222222222, \"#7201a8\"], [0.3333333333333333, \"#9c179e\"], [0.4444444444444444, \"#bd3786\"], [0.5555555555555556, \"#d8576b\"], [0.6666666666666666, \"#ed7953\"], [0.7777777777777778, \"#fb9f3a\"], [0.8888888888888888, \"#fdca26\"], [1.0, \"#f0f921\"]]}, \"colorway\": [\"#636efa\", \"#EF553B\", \"#00cc96\", \"#ab63fa\", \"#FFA15A\", \"#19d3f3\", \"#FF6692\", \"#B6E880\", \"#FF97FF\", \"#FECB52\"], \"font\": {\"color\": \"#2a3f5f\"}, \"geo\": {\"bgcolor\": \"white\", \"lakecolor\": \"white\", \"landcolor\": \"#E5ECF6\", \"showlakes\": true, \"showland\": true, \"subunitcolor\": \"white\"}, \"hoverlabel\": {\"align\": \"left\"}, \"hovermode\": \"closest\", \"mapbox\": {\"style\": \"light\"}, \"paper_bgcolor\": \"white\", \"plot_bgcolor\": \"#E5ECF6\", \"polar\": {\"angularaxis\": {\"gridcolor\": \"white\", \"linecolor\": \"white\", \"ticks\": \"\"}, \"bgcolor\": \"#E5ECF6\", \"radialaxis\": {\"gridcolor\": \"white\", \"linecolor\": \"white\", \"ticks\": \"\"}}, \"scene\": {\"xaxis\": {\"backgroundcolor\": \"#E5ECF6\", \"gridcolor\": \"white\", \"gridwidth\": 2, \"linecolor\": \"white\", \"showbackground\": true, \"ticks\": \"\", \"zerolinecolor\": \"white\"}, \"yaxis\": {\"backgroundcolor\": \"#E5ECF6\", \"gridcolor\": \"white\", \"gridwidth\": 2, \"linecolor\": \"white\", \"showbackground\": true, \"ticks\": \"\", \"zerolinecolor\": \"white\"}, \"zaxis\": {\"backgroundcolor\": \"#E5ECF6\", \"gridcolor\": \"white\", \"gridwidth\": 2, \"linecolor\": \"white\", \"showbackground\": true, \"ticks\": \"\", \"zerolinecolor\": \"white\"}}, \"shapedefaults\": {\"line\": {\"color\": \"#2a3f5f\"}}, \"ternary\": {\"aaxis\": {\"gridcolor\": \"white\", \"linecolor\": \"white\", \"ticks\": \"\"}, \"baxis\": {\"gridcolor\": \"white\", \"linecolor\": \"white\", \"ticks\": \"\"}, \"bgcolor\": \"#E5ECF6\", \"caxis\": {\"gridcolor\": \"white\", \"linecolor\": \"white\", \"ticks\": \"\"}}, \"title\": {\"x\": 0.05}, \"xaxis\": {\"automargin\": true, \"gridcolor\": \"white\", \"linecolor\": \"white\", \"ticks\": \"\", \"title\": {\"standoff\": 15}, \"zerolinecolor\": \"white\", \"zerolinewidth\": 2}, \"yaxis\": {\"automargin\": true, \"gridcolor\": \"white\", \"linecolor\": \"white\", \"ticks\": \"\", \"title\": {\"standoff\": 15}, \"zerolinecolor\": \"white\", \"zerolinewidth\": 2}}}, \"title\": {\"text\": \"Incidence Rate vs. MMR (State Level)\"}, \"xaxis\": {\"anchor\": \"y\", \"domain\": [0.0, 1.0], \"gridcolor\": \"white\", \"gridwidth\": 2, \"title\": {\"text\": \"Incidence Rate (State)\"}}, \"yaxis\": {\"anchor\": \"x\", \"domain\": [0.0, 1.0], \"gridcolor\": \"white\", \"gridwidth\": 2, \"title\": {\"text\": \"MMR\"}}},\n",
       "                        {\"responsive\": true}\n",
       "                    ).then(function(){\n",
       "                            \n",
       "var gd = document.getElementById('23f6f020-8aaf-488a-8bd6-40a4ce517817');\n",
       "var x = new MutationObserver(function (mutations, observer) {{\n",
       "        var display = window.getComputedStyle(gd).display;\n",
       "        if (!display || display === 'none') {{\n",
       "            console.log([gd, 'removed!']);\n",
       "            Plotly.purge(gd);\n",
       "            observer.disconnect();\n",
       "        }}\n",
       "}});\n",
       "\n",
       "// Listen for the removal of the full notebook cells\n",
       "var notebookContainer = gd.closest('#notebook-container');\n",
       "if (notebookContainer) {{\n",
       "    x.observe(notebookContainer, {childList: true});\n",
       "}}\n",
       "\n",
       "// Listen for the clearing of the current output cell\n",
       "var outputEl = gd.closest('.output');\n",
       "if (outputEl) {{\n",
       "    x.observe(outputEl, {childList: true});\n",
       "}}\n",
       "\n",
       "                        })\n",
       "                };\n",
       "                });\n",
       "            </script>\n",
       "        </div>"
      ]
     },
     "metadata": {},
     "output_type": "display_data"
    }
   ],
   "source": [
    "x_field_name = \"Incident_Rate\"\n",
    "df = state_df\n",
    "fig1 = px.scatter(df, x=x_field_name, y=\"VR\", text=\"State\")\n",
    "fig1.update_traces(textposition='top center')\n",
    "fig1.update_layout(\n",
    "        title= 'Incidence Rate vs. MMR (State Level)',\n",
    "        xaxis=dict(\n",
    "            title='Incidence Rate (State)',\n",
    "            gridcolor='white',\n",
    "            gridwidth=2,\n",
    "        ),\n",
    "        yaxis=dict(\n",
    "            title='MMR',\n",
    "            gridcolor='white',\n",
    "            gridwidth=2,\n",
    "        ),\n",
    "        paper_bgcolor='rgb(243, 243, 243)',\n",
    "        plot_bgcolor='rgb(243, 243, 243)',\n",
    "    )\n",
    "fig1.show()"
   ]
  },
  {
   "cell_type": "code",
   "execution_count": 37,
   "metadata": {},
   "outputs": [
    {
     "data": {
      "application/vnd.plotly.v1+json": {
       "config": {
        "plotlyServerURL": "https://plot.ly"
       },
       "data": [
        {
         "hoverlabel": {
          "namelength": 0
         },
         "hovertemplate": "People_Tested=%{x}<br>VR=%{y}<br>State=%{text}",
         "legendgroup": "",
         "marker": {
          "color": "#636efa",
          "symbol": "circle"
         },
         "mode": "markers+text",
         "name": "",
         "showlegend": false,
         "text": [
          "Alabama",
          "Alaska",
          "Arizona",
          "Arkansas",
          "California",
          "Colorado",
          "Connecticut",
          "Delaware",
          "District of Columbia",
          "Florida",
          "Georgia",
          "Hawaii",
          "Idaho",
          "Illinois",
          "Indiana",
          "Iowa",
          "Kansas",
          "Kentucky",
          "Louisiana",
          "Maine",
          "Maryland",
          "Massachusetts",
          "Michigan",
          "Minnesota",
          "Mississippi",
          "Missouri",
          "Montana",
          "Nebraska",
          "Nevada",
          "New Hampshire",
          "New Jersey",
          "New Mexico",
          "New York",
          "North Carolina",
          "North Dakota",
          "Ohio",
          "Oklahoma",
          "Oregon ",
          "Pennsylvania",
          "Rhode Island",
          "South Carolina",
          "South Dakota",
          "Tennessee",
          "Texas",
          "Utah",
          "Vermont",
          "Virginia",
          "Washington",
          "West Virginia",
          "Wisconsin",
          "Wyoming"
         ],
         "textposition": "top center",
         "type": "scatter",
         "x": [
          593788,
          175586,
          793523,
          432816,
          6414321,
          442169,
          657293,
          152995,
          151740,
          3052106,
          1273781,
          105956,
          147888,
          2280284,
          635660,
          418544,
          261531,
          494154,
          1102924,
          139222,
          749279,
          1051281,
          1506789,
          867410,
          389975,
          571912,
          139042,
          234896,
          395421,
          143378,
          1802874,
          469215,
          5164812,
          1423888,
          135978,
          1181912,
          476108,
          340044,
          1039913,
          183625,
          588316,
          98654,
          1215167,
          2984554,
          469404,
          83868,
          920461,
          809339,
          234980,
          783866,
          44114
         ],
         "xaxis": "x",
         "y": [
          0.9059999999999999,
          null,
          0.929,
          0.9420000000000001,
          0.965,
          0.8740000000000001,
          0.9590000000000001,
          0.978,
          null,
          0.938,
          0.9359999999999999,
          0.915,
          0.895,
          0.9470000000000001,
          0.912,
          0.9329999999999999,
          0.9079999999999999,
          0.934,
          0.955,
          0.938,
          0.9740000000000001,
          0.9690000000000001,
          0.946,
          0.9259999999999999,
          0.992,
          0.948,
          0.9329999999999999,
          0.9690000000000001,
          0.951,
          0.9179999999999999,
          0.95,
          0.961,
          0.972,
          0.932,
          0.9359999999999999,
          0.9159999999999999,
          0.922,
          0.93,
          0.9640000000000001,
          0.9740000000000001,
          0.9420000000000001,
          0.9620000000000001,
          0.965,
          0.9690000000000001,
          0.9279999999999999,
          0.93,
          0.95,
          0.9079999999999999,
          0.988,
          0.9259999999999999,
          0.951
         ],
         "yaxis": "y"
        }
       ],
       "layout": {
        "legend": {
         "tracegroupgap": 0
        },
        "margin": {
         "t": 60
        },
        "paper_bgcolor": "rgb(243, 243, 243)",
        "plot_bgcolor": "rgb(243, 243, 243)",
        "template": {
         "data": {
          "bar": [
           {
            "error_x": {
             "color": "#2a3f5f"
            },
            "error_y": {
             "color": "#2a3f5f"
            },
            "marker": {
             "line": {
              "color": "#E5ECF6",
              "width": 0.5
             }
            },
            "type": "bar"
           }
          ],
          "barpolar": [
           {
            "marker": {
             "line": {
              "color": "#E5ECF6",
              "width": 0.5
             }
            },
            "type": "barpolar"
           }
          ],
          "carpet": [
           {
            "aaxis": {
             "endlinecolor": "#2a3f5f",
             "gridcolor": "white",
             "linecolor": "white",
             "minorgridcolor": "white",
             "startlinecolor": "#2a3f5f"
            },
            "baxis": {
             "endlinecolor": "#2a3f5f",
             "gridcolor": "white",
             "linecolor": "white",
             "minorgridcolor": "white",
             "startlinecolor": "#2a3f5f"
            },
            "type": "carpet"
           }
          ],
          "choropleth": [
           {
            "colorbar": {
             "outlinewidth": 0,
             "ticks": ""
            },
            "type": "choropleth"
           }
          ],
          "contour": [
           {
            "colorbar": {
             "outlinewidth": 0,
             "ticks": ""
            },
            "colorscale": [
             [
              0,
              "#0d0887"
             ],
             [
              0.1111111111111111,
              "#46039f"
             ],
             [
              0.2222222222222222,
              "#7201a8"
             ],
             [
              0.3333333333333333,
              "#9c179e"
             ],
             [
              0.4444444444444444,
              "#bd3786"
             ],
             [
              0.5555555555555556,
              "#d8576b"
             ],
             [
              0.6666666666666666,
              "#ed7953"
             ],
             [
              0.7777777777777778,
              "#fb9f3a"
             ],
             [
              0.8888888888888888,
              "#fdca26"
             ],
             [
              1,
              "#f0f921"
             ]
            ],
            "type": "contour"
           }
          ],
          "contourcarpet": [
           {
            "colorbar": {
             "outlinewidth": 0,
             "ticks": ""
            },
            "type": "contourcarpet"
           }
          ],
          "heatmap": [
           {
            "colorbar": {
             "outlinewidth": 0,
             "ticks": ""
            },
            "colorscale": [
             [
              0,
              "#0d0887"
             ],
             [
              0.1111111111111111,
              "#46039f"
             ],
             [
              0.2222222222222222,
              "#7201a8"
             ],
             [
              0.3333333333333333,
              "#9c179e"
             ],
             [
              0.4444444444444444,
              "#bd3786"
             ],
             [
              0.5555555555555556,
              "#d8576b"
             ],
             [
              0.6666666666666666,
              "#ed7953"
             ],
             [
              0.7777777777777778,
              "#fb9f3a"
             ],
             [
              0.8888888888888888,
              "#fdca26"
             ],
             [
              1,
              "#f0f921"
             ]
            ],
            "type": "heatmap"
           }
          ],
          "heatmapgl": [
           {
            "colorbar": {
             "outlinewidth": 0,
             "ticks": ""
            },
            "colorscale": [
             [
              0,
              "#0d0887"
             ],
             [
              0.1111111111111111,
              "#46039f"
             ],
             [
              0.2222222222222222,
              "#7201a8"
             ],
             [
              0.3333333333333333,
              "#9c179e"
             ],
             [
              0.4444444444444444,
              "#bd3786"
             ],
             [
              0.5555555555555556,
              "#d8576b"
             ],
             [
              0.6666666666666666,
              "#ed7953"
             ],
             [
              0.7777777777777778,
              "#fb9f3a"
             ],
             [
              0.8888888888888888,
              "#fdca26"
             ],
             [
              1,
              "#f0f921"
             ]
            ],
            "type": "heatmapgl"
           }
          ],
          "histogram": [
           {
            "marker": {
             "colorbar": {
              "outlinewidth": 0,
              "ticks": ""
             }
            },
            "type": "histogram"
           }
          ],
          "histogram2d": [
           {
            "colorbar": {
             "outlinewidth": 0,
             "ticks": ""
            },
            "colorscale": [
             [
              0,
              "#0d0887"
             ],
             [
              0.1111111111111111,
              "#46039f"
             ],
             [
              0.2222222222222222,
              "#7201a8"
             ],
             [
              0.3333333333333333,
              "#9c179e"
             ],
             [
              0.4444444444444444,
              "#bd3786"
             ],
             [
              0.5555555555555556,
              "#d8576b"
             ],
             [
              0.6666666666666666,
              "#ed7953"
             ],
             [
              0.7777777777777778,
              "#fb9f3a"
             ],
             [
              0.8888888888888888,
              "#fdca26"
             ],
             [
              1,
              "#f0f921"
             ]
            ],
            "type": "histogram2d"
           }
          ],
          "histogram2dcontour": [
           {
            "colorbar": {
             "outlinewidth": 0,
             "ticks": ""
            },
            "colorscale": [
             [
              0,
              "#0d0887"
             ],
             [
              0.1111111111111111,
              "#46039f"
             ],
             [
              0.2222222222222222,
              "#7201a8"
             ],
             [
              0.3333333333333333,
              "#9c179e"
             ],
             [
              0.4444444444444444,
              "#bd3786"
             ],
             [
              0.5555555555555556,
              "#d8576b"
             ],
             [
              0.6666666666666666,
              "#ed7953"
             ],
             [
              0.7777777777777778,
              "#fb9f3a"
             ],
             [
              0.8888888888888888,
              "#fdca26"
             ],
             [
              1,
              "#f0f921"
             ]
            ],
            "type": "histogram2dcontour"
           }
          ],
          "mesh3d": [
           {
            "colorbar": {
             "outlinewidth": 0,
             "ticks": ""
            },
            "type": "mesh3d"
           }
          ],
          "parcoords": [
           {
            "line": {
             "colorbar": {
              "outlinewidth": 0,
              "ticks": ""
             }
            },
            "type": "parcoords"
           }
          ],
          "pie": [
           {
            "automargin": true,
            "type": "pie"
           }
          ],
          "scatter": [
           {
            "marker": {
             "colorbar": {
              "outlinewidth": 0,
              "ticks": ""
             }
            },
            "type": "scatter"
           }
          ],
          "scatter3d": [
           {
            "line": {
             "colorbar": {
              "outlinewidth": 0,
              "ticks": ""
             }
            },
            "marker": {
             "colorbar": {
              "outlinewidth": 0,
              "ticks": ""
             }
            },
            "type": "scatter3d"
           }
          ],
          "scattercarpet": [
           {
            "marker": {
             "colorbar": {
              "outlinewidth": 0,
              "ticks": ""
             }
            },
            "type": "scattercarpet"
           }
          ],
          "scattergeo": [
           {
            "marker": {
             "colorbar": {
              "outlinewidth": 0,
              "ticks": ""
             }
            },
            "type": "scattergeo"
           }
          ],
          "scattergl": [
           {
            "marker": {
             "colorbar": {
              "outlinewidth": 0,
              "ticks": ""
             }
            },
            "type": "scattergl"
           }
          ],
          "scattermapbox": [
           {
            "marker": {
             "colorbar": {
              "outlinewidth": 0,
              "ticks": ""
             }
            },
            "type": "scattermapbox"
           }
          ],
          "scatterpolar": [
           {
            "marker": {
             "colorbar": {
              "outlinewidth": 0,
              "ticks": ""
             }
            },
            "type": "scatterpolar"
           }
          ],
          "scatterpolargl": [
           {
            "marker": {
             "colorbar": {
              "outlinewidth": 0,
              "ticks": ""
             }
            },
            "type": "scatterpolargl"
           }
          ],
          "scatterternary": [
           {
            "marker": {
             "colorbar": {
              "outlinewidth": 0,
              "ticks": ""
             }
            },
            "type": "scatterternary"
           }
          ],
          "surface": [
           {
            "colorbar": {
             "outlinewidth": 0,
             "ticks": ""
            },
            "colorscale": [
             [
              0,
              "#0d0887"
             ],
             [
              0.1111111111111111,
              "#46039f"
             ],
             [
              0.2222222222222222,
              "#7201a8"
             ],
             [
              0.3333333333333333,
              "#9c179e"
             ],
             [
              0.4444444444444444,
              "#bd3786"
             ],
             [
              0.5555555555555556,
              "#d8576b"
             ],
             [
              0.6666666666666666,
              "#ed7953"
             ],
             [
              0.7777777777777778,
              "#fb9f3a"
             ],
             [
              0.8888888888888888,
              "#fdca26"
             ],
             [
              1,
              "#f0f921"
             ]
            ],
            "type": "surface"
           }
          ],
          "table": [
           {
            "cells": {
             "fill": {
              "color": "#EBF0F8"
             },
             "line": {
              "color": "white"
             }
            },
            "header": {
             "fill": {
              "color": "#C8D4E3"
             },
             "line": {
              "color": "white"
             }
            },
            "type": "table"
           }
          ]
         },
         "layout": {
          "annotationdefaults": {
           "arrowcolor": "#2a3f5f",
           "arrowhead": 0,
           "arrowwidth": 1
          },
          "coloraxis": {
           "colorbar": {
            "outlinewidth": 0,
            "ticks": ""
           }
          },
          "colorscale": {
           "diverging": [
            [
             0,
             "#8e0152"
            ],
            [
             0.1,
             "#c51b7d"
            ],
            [
             0.2,
             "#de77ae"
            ],
            [
             0.3,
             "#f1b6da"
            ],
            [
             0.4,
             "#fde0ef"
            ],
            [
             0.5,
             "#f7f7f7"
            ],
            [
             0.6,
             "#e6f5d0"
            ],
            [
             0.7,
             "#b8e186"
            ],
            [
             0.8,
             "#7fbc41"
            ],
            [
             0.9,
             "#4d9221"
            ],
            [
             1,
             "#276419"
            ]
           ],
           "sequential": [
            [
             0,
             "#0d0887"
            ],
            [
             0.1111111111111111,
             "#46039f"
            ],
            [
             0.2222222222222222,
             "#7201a8"
            ],
            [
             0.3333333333333333,
             "#9c179e"
            ],
            [
             0.4444444444444444,
             "#bd3786"
            ],
            [
             0.5555555555555556,
             "#d8576b"
            ],
            [
             0.6666666666666666,
             "#ed7953"
            ],
            [
             0.7777777777777778,
             "#fb9f3a"
            ],
            [
             0.8888888888888888,
             "#fdca26"
            ],
            [
             1,
             "#f0f921"
            ]
           ],
           "sequentialminus": [
            [
             0,
             "#0d0887"
            ],
            [
             0.1111111111111111,
             "#46039f"
            ],
            [
             0.2222222222222222,
             "#7201a8"
            ],
            [
             0.3333333333333333,
             "#9c179e"
            ],
            [
             0.4444444444444444,
             "#bd3786"
            ],
            [
             0.5555555555555556,
             "#d8576b"
            ],
            [
             0.6666666666666666,
             "#ed7953"
            ],
            [
             0.7777777777777778,
             "#fb9f3a"
            ],
            [
             0.8888888888888888,
             "#fdca26"
            ],
            [
             1,
             "#f0f921"
            ]
           ]
          },
          "colorway": [
           "#636efa",
           "#EF553B",
           "#00cc96",
           "#ab63fa",
           "#FFA15A",
           "#19d3f3",
           "#FF6692",
           "#B6E880",
           "#FF97FF",
           "#FECB52"
          ],
          "font": {
           "color": "#2a3f5f"
          },
          "geo": {
           "bgcolor": "white",
           "lakecolor": "white",
           "landcolor": "#E5ECF6",
           "showlakes": true,
           "showland": true,
           "subunitcolor": "white"
          },
          "hoverlabel": {
           "align": "left"
          },
          "hovermode": "closest",
          "mapbox": {
           "style": "light"
          },
          "paper_bgcolor": "white",
          "plot_bgcolor": "#E5ECF6",
          "polar": {
           "angularaxis": {
            "gridcolor": "white",
            "linecolor": "white",
            "ticks": ""
           },
           "bgcolor": "#E5ECF6",
           "radialaxis": {
            "gridcolor": "white",
            "linecolor": "white",
            "ticks": ""
           }
          },
          "scene": {
           "xaxis": {
            "backgroundcolor": "#E5ECF6",
            "gridcolor": "white",
            "gridwidth": 2,
            "linecolor": "white",
            "showbackground": true,
            "ticks": "",
            "zerolinecolor": "white"
           },
           "yaxis": {
            "backgroundcolor": "#E5ECF6",
            "gridcolor": "white",
            "gridwidth": 2,
            "linecolor": "white",
            "showbackground": true,
            "ticks": "",
            "zerolinecolor": "white"
           },
           "zaxis": {
            "backgroundcolor": "#E5ECF6",
            "gridcolor": "white",
            "gridwidth": 2,
            "linecolor": "white",
            "showbackground": true,
            "ticks": "",
            "zerolinecolor": "white"
           }
          },
          "shapedefaults": {
           "line": {
            "color": "#2a3f5f"
           }
          },
          "ternary": {
           "aaxis": {
            "gridcolor": "white",
            "linecolor": "white",
            "ticks": ""
           },
           "baxis": {
            "gridcolor": "white",
            "linecolor": "white",
            "ticks": ""
           },
           "bgcolor": "#E5ECF6",
           "caxis": {
            "gridcolor": "white",
            "linecolor": "white",
            "ticks": ""
           }
          },
          "title": {
           "x": 0.05
          },
          "xaxis": {
           "automargin": true,
           "gridcolor": "white",
           "linecolor": "white",
           "ticks": "",
           "title": {
            "standoff": 15
           },
           "zerolinecolor": "white",
           "zerolinewidth": 2
          },
          "yaxis": {
           "automargin": true,
           "gridcolor": "white",
           "linecolor": "white",
           "ticks": "",
           "title": {
            "standoff": 15
           },
           "zerolinecolor": "white",
           "zerolinewidth": 2
          }
         }
        },
        "title": {
         "text": "People_Tested vs. MMR (State Level)"
        },
        "xaxis": {
         "anchor": "y",
         "domain": [
          0,
          1
         ],
         "gridcolor": "white",
         "gridwidth": 2,
         "title": {
          "text": "People_Tested (State)"
         }
        },
        "yaxis": {
         "anchor": "x",
         "domain": [
          0,
          1
         ],
         "gridcolor": "white",
         "gridwidth": 2,
         "title": {
          "text": "MMR"
         }
        }
       }
      },
      "text/html": [
       "<div>\n",
       "        \n",
       "        \n",
       "            <div id=\"2ba96a80-b222-4590-8266-f0fb4517eb1e\" class=\"plotly-graph-div\" style=\"height:525px; width:100%;\"></div>\n",
       "            <script type=\"text/javascript\">\n",
       "                require([\"plotly\"], function(Plotly) {\n",
       "                    window.PLOTLYENV=window.PLOTLYENV || {};\n",
       "                    \n",
       "                if (document.getElementById(\"2ba96a80-b222-4590-8266-f0fb4517eb1e\")) {\n",
       "                    Plotly.newPlot(\n",
       "                        '2ba96a80-b222-4590-8266-f0fb4517eb1e',\n",
       "                        [{\"hoverlabel\": {\"namelength\": 0}, \"hovertemplate\": \"People_Tested=%{x}<br>VR=%{y}<br>State=%{text}\", \"legendgroup\": \"\", \"marker\": {\"color\": \"#636efa\", \"symbol\": \"circle\"}, \"mode\": \"markers+text\", \"name\": \"\", \"showlegend\": false, \"text\": [\"Alabama\", \"Alaska\", \"Arizona\", \"Arkansas\", \"California\", \"Colorado\", \"Connecticut\", \"Delaware\", \"District of Columbia\", \"Florida\", \"Georgia\", \"Hawaii\", \"Idaho\", \"Illinois\", \"Indiana\", \"Iowa\", \"Kansas\", \"Kentucky\", \"Louisiana\", \"Maine\", \"Maryland\", \"Massachusetts\", \"Michigan\", \"Minnesota\", \"Mississippi\", \"Missouri\", \"Montana\", \"Nebraska\", \"Nevada\", \"New Hampshire\", \"New Jersey\", \"New Mexico\", \"New York\", \"North Carolina\", \"North Dakota\", \"Ohio\", \"Oklahoma\", \"Oregon \", \"Pennsylvania\", \"Rhode Island\", \"South Carolina\", \"South Dakota\", \"Tennessee\", \"Texas\", \"Utah\", \"Vermont\", \"Virginia\", \"Washington\", \"West Virginia\", \"Wisconsin\", \"Wyoming\"], \"textposition\": \"top center\", \"type\": \"scatter\", \"x\": [593788, 175586, 793523, 432816, 6414321, 442169, 657293, 152995, 151740, 3052106, 1273781, 105956, 147888, 2280284, 635660, 418544, 261531, 494154, 1102924, 139222, 749279, 1051281, 1506789, 867410, 389975, 571912, 139042, 234896, 395421, 143378, 1802874, 469215, 5164812, 1423888, 135978, 1181912, 476108, 340044, 1039913, 183625, 588316, 98654, 1215167, 2984554, 469404, 83868, 920461, 809339, 234980, 783866, 44114], \"xaxis\": \"x\", \"y\": [0.9059999999999999, null, 0.929, 0.9420000000000001, 0.965, 0.8740000000000001, 0.9590000000000001, 0.978, null, 0.938, 0.9359999999999999, 0.915, 0.895, 0.9470000000000001, 0.912, 0.9329999999999999, 0.9079999999999999, 0.934, 0.955, 0.938, 0.9740000000000001, 0.9690000000000001, 0.946, 0.9259999999999999, 0.992, 0.948, 0.9329999999999999, 0.9690000000000001, 0.951, 0.9179999999999999, 0.95, 0.961, 0.972, 0.932, 0.9359999999999999, 0.9159999999999999, 0.922, 0.93, 0.9640000000000001, 0.9740000000000001, 0.9420000000000001, 0.9620000000000001, 0.965, 0.9690000000000001, 0.9279999999999999, 0.93, 0.95, 0.9079999999999999, 0.988, 0.9259999999999999, 0.951], \"yaxis\": \"y\"}],\n",
       "                        {\"legend\": {\"tracegroupgap\": 0}, \"margin\": {\"t\": 60}, \"paper_bgcolor\": \"rgb(243, 243, 243)\", \"plot_bgcolor\": \"rgb(243, 243, 243)\", \"template\": {\"data\": {\"bar\": [{\"error_x\": {\"color\": \"#2a3f5f\"}, \"error_y\": {\"color\": \"#2a3f5f\"}, \"marker\": {\"line\": {\"color\": \"#E5ECF6\", \"width\": 0.5}}, \"type\": \"bar\"}], \"barpolar\": [{\"marker\": {\"line\": {\"color\": \"#E5ECF6\", \"width\": 0.5}}, \"type\": \"barpolar\"}], \"carpet\": [{\"aaxis\": {\"endlinecolor\": \"#2a3f5f\", \"gridcolor\": \"white\", \"linecolor\": \"white\", \"minorgridcolor\": \"white\", \"startlinecolor\": \"#2a3f5f\"}, \"baxis\": {\"endlinecolor\": \"#2a3f5f\", \"gridcolor\": \"white\", \"linecolor\": \"white\", \"minorgridcolor\": \"white\", \"startlinecolor\": \"#2a3f5f\"}, \"type\": \"carpet\"}], \"choropleth\": [{\"colorbar\": {\"outlinewidth\": 0, \"ticks\": \"\"}, \"type\": \"choropleth\"}], \"contour\": [{\"colorbar\": {\"outlinewidth\": 0, \"ticks\": \"\"}, \"colorscale\": [[0.0, \"#0d0887\"], [0.1111111111111111, \"#46039f\"], [0.2222222222222222, \"#7201a8\"], [0.3333333333333333, \"#9c179e\"], [0.4444444444444444, \"#bd3786\"], [0.5555555555555556, \"#d8576b\"], [0.6666666666666666, \"#ed7953\"], [0.7777777777777778, \"#fb9f3a\"], [0.8888888888888888, \"#fdca26\"], [1.0, \"#f0f921\"]], \"type\": \"contour\"}], \"contourcarpet\": [{\"colorbar\": {\"outlinewidth\": 0, \"ticks\": \"\"}, \"type\": \"contourcarpet\"}], \"heatmap\": [{\"colorbar\": {\"outlinewidth\": 0, \"ticks\": \"\"}, \"colorscale\": [[0.0, \"#0d0887\"], [0.1111111111111111, \"#46039f\"], [0.2222222222222222, \"#7201a8\"], [0.3333333333333333, \"#9c179e\"], [0.4444444444444444, \"#bd3786\"], [0.5555555555555556, \"#d8576b\"], [0.6666666666666666, \"#ed7953\"], [0.7777777777777778, \"#fb9f3a\"], [0.8888888888888888, \"#fdca26\"], [1.0, \"#f0f921\"]], \"type\": \"heatmap\"}], \"heatmapgl\": [{\"colorbar\": {\"outlinewidth\": 0, \"ticks\": \"\"}, \"colorscale\": [[0.0, \"#0d0887\"], [0.1111111111111111, \"#46039f\"], [0.2222222222222222, \"#7201a8\"], [0.3333333333333333, \"#9c179e\"], [0.4444444444444444, \"#bd3786\"], [0.5555555555555556, \"#d8576b\"], [0.6666666666666666, \"#ed7953\"], [0.7777777777777778, \"#fb9f3a\"], [0.8888888888888888, \"#fdca26\"], [1.0, \"#f0f921\"]], \"type\": \"heatmapgl\"}], \"histogram\": [{\"marker\": {\"colorbar\": {\"outlinewidth\": 0, \"ticks\": \"\"}}, \"type\": \"histogram\"}], \"histogram2d\": [{\"colorbar\": {\"outlinewidth\": 0, \"ticks\": \"\"}, \"colorscale\": [[0.0, \"#0d0887\"], [0.1111111111111111, \"#46039f\"], [0.2222222222222222, \"#7201a8\"], [0.3333333333333333, \"#9c179e\"], [0.4444444444444444, \"#bd3786\"], [0.5555555555555556, \"#d8576b\"], [0.6666666666666666, \"#ed7953\"], [0.7777777777777778, \"#fb9f3a\"], [0.8888888888888888, \"#fdca26\"], [1.0, \"#f0f921\"]], \"type\": \"histogram2d\"}], \"histogram2dcontour\": [{\"colorbar\": {\"outlinewidth\": 0, \"ticks\": \"\"}, \"colorscale\": [[0.0, \"#0d0887\"], [0.1111111111111111, \"#46039f\"], [0.2222222222222222, \"#7201a8\"], [0.3333333333333333, \"#9c179e\"], [0.4444444444444444, \"#bd3786\"], [0.5555555555555556, \"#d8576b\"], [0.6666666666666666, \"#ed7953\"], [0.7777777777777778, \"#fb9f3a\"], [0.8888888888888888, \"#fdca26\"], [1.0, \"#f0f921\"]], \"type\": \"histogram2dcontour\"}], \"mesh3d\": [{\"colorbar\": {\"outlinewidth\": 0, \"ticks\": \"\"}, \"type\": \"mesh3d\"}], \"parcoords\": [{\"line\": {\"colorbar\": {\"outlinewidth\": 0, \"ticks\": \"\"}}, \"type\": \"parcoords\"}], \"pie\": [{\"automargin\": true, \"type\": \"pie\"}], \"scatter\": [{\"marker\": {\"colorbar\": {\"outlinewidth\": 0, \"ticks\": \"\"}}, \"type\": \"scatter\"}], \"scatter3d\": [{\"line\": {\"colorbar\": {\"outlinewidth\": 0, \"ticks\": \"\"}}, \"marker\": {\"colorbar\": {\"outlinewidth\": 0, \"ticks\": \"\"}}, \"type\": \"scatter3d\"}], \"scattercarpet\": [{\"marker\": {\"colorbar\": {\"outlinewidth\": 0, \"ticks\": \"\"}}, \"type\": \"scattercarpet\"}], \"scattergeo\": [{\"marker\": {\"colorbar\": {\"outlinewidth\": 0, \"ticks\": \"\"}}, \"type\": \"scattergeo\"}], \"scattergl\": [{\"marker\": {\"colorbar\": {\"outlinewidth\": 0, \"ticks\": \"\"}}, \"type\": \"scattergl\"}], \"scattermapbox\": [{\"marker\": {\"colorbar\": {\"outlinewidth\": 0, \"ticks\": \"\"}}, \"type\": \"scattermapbox\"}], \"scatterpolar\": [{\"marker\": {\"colorbar\": {\"outlinewidth\": 0, \"ticks\": \"\"}}, \"type\": \"scatterpolar\"}], \"scatterpolargl\": [{\"marker\": {\"colorbar\": {\"outlinewidth\": 0, \"ticks\": \"\"}}, \"type\": \"scatterpolargl\"}], \"scatterternary\": [{\"marker\": {\"colorbar\": {\"outlinewidth\": 0, \"ticks\": \"\"}}, \"type\": \"scatterternary\"}], \"surface\": [{\"colorbar\": {\"outlinewidth\": 0, \"ticks\": \"\"}, \"colorscale\": [[0.0, \"#0d0887\"], [0.1111111111111111, \"#46039f\"], [0.2222222222222222, \"#7201a8\"], [0.3333333333333333, \"#9c179e\"], [0.4444444444444444, \"#bd3786\"], [0.5555555555555556, \"#d8576b\"], [0.6666666666666666, \"#ed7953\"], [0.7777777777777778, \"#fb9f3a\"], [0.8888888888888888, \"#fdca26\"], [1.0, \"#f0f921\"]], \"type\": \"surface\"}], \"table\": [{\"cells\": {\"fill\": {\"color\": \"#EBF0F8\"}, \"line\": {\"color\": \"white\"}}, \"header\": {\"fill\": {\"color\": \"#C8D4E3\"}, \"line\": {\"color\": \"white\"}}, \"type\": \"table\"}]}, \"layout\": {\"annotationdefaults\": {\"arrowcolor\": \"#2a3f5f\", \"arrowhead\": 0, \"arrowwidth\": 1}, \"coloraxis\": {\"colorbar\": {\"outlinewidth\": 0, \"ticks\": \"\"}}, \"colorscale\": {\"diverging\": [[0, \"#8e0152\"], [0.1, \"#c51b7d\"], [0.2, \"#de77ae\"], [0.3, \"#f1b6da\"], [0.4, \"#fde0ef\"], [0.5, \"#f7f7f7\"], [0.6, \"#e6f5d0\"], [0.7, \"#b8e186\"], [0.8, \"#7fbc41\"], [0.9, \"#4d9221\"], [1, \"#276419\"]], \"sequential\": [[0.0, \"#0d0887\"], [0.1111111111111111, \"#46039f\"], [0.2222222222222222, \"#7201a8\"], [0.3333333333333333, \"#9c179e\"], [0.4444444444444444, \"#bd3786\"], [0.5555555555555556, \"#d8576b\"], [0.6666666666666666, \"#ed7953\"], [0.7777777777777778, \"#fb9f3a\"], [0.8888888888888888, \"#fdca26\"], [1.0, \"#f0f921\"]], \"sequentialminus\": [[0.0, \"#0d0887\"], [0.1111111111111111, \"#46039f\"], [0.2222222222222222, \"#7201a8\"], [0.3333333333333333, \"#9c179e\"], [0.4444444444444444, \"#bd3786\"], [0.5555555555555556, \"#d8576b\"], [0.6666666666666666, \"#ed7953\"], [0.7777777777777778, \"#fb9f3a\"], [0.8888888888888888, \"#fdca26\"], [1.0, \"#f0f921\"]]}, \"colorway\": [\"#636efa\", \"#EF553B\", \"#00cc96\", \"#ab63fa\", \"#FFA15A\", \"#19d3f3\", \"#FF6692\", \"#B6E880\", \"#FF97FF\", \"#FECB52\"], \"font\": {\"color\": \"#2a3f5f\"}, \"geo\": {\"bgcolor\": \"white\", \"lakecolor\": \"white\", \"landcolor\": \"#E5ECF6\", \"showlakes\": true, \"showland\": true, \"subunitcolor\": \"white\"}, \"hoverlabel\": {\"align\": \"left\"}, \"hovermode\": \"closest\", \"mapbox\": {\"style\": \"light\"}, \"paper_bgcolor\": \"white\", \"plot_bgcolor\": \"#E5ECF6\", \"polar\": {\"angularaxis\": {\"gridcolor\": \"white\", \"linecolor\": \"white\", \"ticks\": \"\"}, \"bgcolor\": \"#E5ECF6\", \"radialaxis\": {\"gridcolor\": \"white\", \"linecolor\": \"white\", \"ticks\": \"\"}}, \"scene\": {\"xaxis\": {\"backgroundcolor\": \"#E5ECF6\", \"gridcolor\": \"white\", \"gridwidth\": 2, \"linecolor\": \"white\", \"showbackground\": true, \"ticks\": \"\", \"zerolinecolor\": \"white\"}, \"yaxis\": {\"backgroundcolor\": \"#E5ECF6\", \"gridcolor\": \"white\", \"gridwidth\": 2, \"linecolor\": \"white\", \"showbackground\": true, \"ticks\": \"\", \"zerolinecolor\": \"white\"}, \"zaxis\": {\"backgroundcolor\": \"#E5ECF6\", \"gridcolor\": \"white\", \"gridwidth\": 2, \"linecolor\": \"white\", \"showbackground\": true, \"ticks\": \"\", \"zerolinecolor\": \"white\"}}, \"shapedefaults\": {\"line\": {\"color\": \"#2a3f5f\"}}, \"ternary\": {\"aaxis\": {\"gridcolor\": \"white\", \"linecolor\": \"white\", \"ticks\": \"\"}, \"baxis\": {\"gridcolor\": \"white\", \"linecolor\": \"white\", \"ticks\": \"\"}, \"bgcolor\": \"#E5ECF6\", \"caxis\": {\"gridcolor\": \"white\", \"linecolor\": \"white\", \"ticks\": \"\"}}, \"title\": {\"x\": 0.05}, \"xaxis\": {\"automargin\": true, \"gridcolor\": \"white\", \"linecolor\": \"white\", \"ticks\": \"\", \"title\": {\"standoff\": 15}, \"zerolinecolor\": \"white\", \"zerolinewidth\": 2}, \"yaxis\": {\"automargin\": true, \"gridcolor\": \"white\", \"linecolor\": \"white\", \"ticks\": \"\", \"title\": {\"standoff\": 15}, \"zerolinecolor\": \"white\", \"zerolinewidth\": 2}}}, \"title\": {\"text\": \"People_Tested vs. MMR (State Level)\"}, \"xaxis\": {\"anchor\": \"y\", \"domain\": [0.0, 1.0], \"gridcolor\": \"white\", \"gridwidth\": 2, \"title\": {\"text\": \"People_Tested (State)\"}}, \"yaxis\": {\"anchor\": \"x\", \"domain\": [0.0, 1.0], \"gridcolor\": \"white\", \"gridwidth\": 2, \"title\": {\"text\": \"MMR\"}}},\n",
       "                        {\"responsive\": true}\n",
       "                    ).then(function(){\n",
       "                            \n",
       "var gd = document.getElementById('2ba96a80-b222-4590-8266-f0fb4517eb1e');\n",
       "var x = new MutationObserver(function (mutations, observer) {{\n",
       "        var display = window.getComputedStyle(gd).display;\n",
       "        if (!display || display === 'none') {{\n",
       "            console.log([gd, 'removed!']);\n",
       "            Plotly.purge(gd);\n",
       "            observer.disconnect();\n",
       "        }}\n",
       "}});\n",
       "\n",
       "// Listen for the removal of the full notebook cells\n",
       "var notebookContainer = gd.closest('#notebook-container');\n",
       "if (notebookContainer) {{\n",
       "    x.observe(notebookContainer, {childList: true});\n",
       "}}\n",
       "\n",
       "// Listen for the clearing of the current output cell\n",
       "var outputEl = gd.closest('.output');\n",
       "if (outputEl) {{\n",
       "    x.observe(outputEl, {childList: true});\n",
       "}}\n",
       "\n",
       "                        })\n",
       "                };\n",
       "                });\n",
       "            </script>\n",
       "        </div>"
      ]
     },
     "metadata": {},
     "output_type": "display_data"
    }
   ],
   "source": [
    "# plot it\n",
    "#import plotly.express as px\n",
    "\n",
    "def var_plot(x_field_name):\n",
    "    \n",
    "x_field_name = \"People_Tested\"\n",
    "df = state_df\n",
    "fig1 = px.scatter(df, x=x_field_name, y=\"VR\", text=\"State\")\n",
    "fig1.update_traces(textposition='top center')\n",
    "fig1.update_layout(\n",
    "        title= x_field_name + ' vs. MMR (State Level)',\n",
    "        xaxis=dict(\n",
    "            title=x_field_name + ' (State)',\n",
    "            gridcolor='white',\n",
    "            gridwidth=2,\n",
    "        ),\n",
    "        yaxis=daict(\n",
    "            title='MMR',\n",
    "            gridcolor='white',\n",
    "            gridwidth=2,\n",
    "        ),\n",
    "        paper_bgcolor='rgb(243, 243, 243)',\n",
    "        plot_bgcolor='rgb(243, 243, 243)',\n",
    "    )\n",
    "fig1.show()"
   ]
  },
  {
   "cell_type": "code",
   "execution_count": null,
   "metadata": {},
   "outputs": [],
   "source": []
  }
 ],
 "metadata": {
  "kernelspec": {
   "display_name": "Python 3",
   "language": "python",
   "name": "python3"
  },
  "language_info": {
   "codemirror_mode": {
    "name": "ipython",
    "version": 3
   },
   "file_extension": ".py",
   "mimetype": "text/x-python",
   "name": "python",
   "nbconvert_exporter": "python",
   "pygments_lexer": "ipython3",
   "version": "3.7.4"
  }
 },
 "nbformat": 4,
 "nbformat_minor": 2
}
